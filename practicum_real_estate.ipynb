{
 "cells": [
  {
   "cell_type": "markdown",
   "metadata": {},
   "source": [
    "# Исследование объявлений о продаже квартир"
   ]
  },
  {
   "cell_type": "markdown",
   "metadata": {},
   "source": [
    "**Описание проекта**\n",
    "    \n",
    "- В нашем распоряжении данные сервиса Яндекс Недвижимость — архив объявлений за несколько лет о продаже квартир в Санкт-Петербурге и соседних населённых пунктах.\n",
    "- Наша задача — выполнить предобработку данных и изучить их, чтобы найти интересные особенности и зависимости, которые существуют на рынке недвижимости.\n",
    "- О каждой квартире в базе содержится два типа данных: добавленные пользователем и картографические. Например, к первому типу относятся площадь квартиры, её этаж и количество балконов, ко второму — расстояния до центра города, аэропорта и ближайшего парка."
   ]
  },
  {
   "cell_type": "markdown",
   "metadata": {},
   "source": [
    "**Задачи проекта**\n",
    "    \n",
    "- Изучить параметры объектов.\n",
    "- Изучить, как быстро продавались квартиры.\n",
    "- Определить какие факторы больше всего влияют на общую стоимость объекта.\n",
    "- Посчитайть среднюю цену одного квадратного метра в 10 населённых пунктах с наибольшим числом объявлений. Выделите населённые пункты с самой высокой и низкой стоимостью квадратного метра.\n",
    "- Выделить квартиры в зависимости от населенного пункта и вычислить среднюю цену каждого километра до центра города. Описать, как стоимость объектов зависит от расстояния до центра города."
   ]
  },
  {
   "cell_type": "markdown",
   "metadata": {},
   "source": [
    "## Открываем файл с данными и изучаем общую информацию"
   ]
  },
  {
   "cell_type": "code",
   "execution_count": 1,
   "metadata": {},
   "outputs": [],
   "source": [
    "# загружаем необходимые библиотеки\n",
    "\n",
    "import pandas as pd\n",
    "import numpy as np\n",
    "import seaborn as sns\n",
    "import matplotlib.pyplot as plt\n",
    "import warnings\n",
    "warnings.filterwarnings(\"ignore\")"
   ]
  },
  {
   "cell_type": "code",
   "execution_count": 2,
   "metadata": {},
   "outputs": [
    {
     "data": {
      "text/html": [
       "<div>\n",
       "<style scoped>\n",
       "    .dataframe tbody tr th:only-of-type {\n",
       "        vertical-align: middle;\n",
       "    }\n",
       "\n",
       "    .dataframe tbody tr th {\n",
       "        vertical-align: top;\n",
       "    }\n",
       "\n",
       "    .dataframe thead th {\n",
       "        text-align: right;\n",
       "    }\n",
       "</style>\n",
       "<table border=\"1\" class=\"dataframe\">\n",
       "  <thead>\n",
       "    <tr style=\"text-align: right;\">\n",
       "      <th></th>\n",
       "      <th>total_images</th>\n",
       "      <th>last_price</th>\n",
       "      <th>total_area</th>\n",
       "      <th>first_day_exposition</th>\n",
       "      <th>rooms</th>\n",
       "      <th>ceiling_height</th>\n",
       "      <th>floors_total</th>\n",
       "      <th>living_area</th>\n",
       "      <th>floor</th>\n",
       "      <th>is_apartment</th>\n",
       "      <th>studio</th>\n",
       "      <th>open_plan</th>\n",
       "      <th>kitchen_area</th>\n",
       "      <th>balcony</th>\n",
       "      <th>locality_name</th>\n",
       "      <th>airports_nearest</th>\n",
       "      <th>cityCenters_nearest</th>\n",
       "      <th>parks_around3000</th>\n",
       "      <th>parks_nearest</th>\n",
       "      <th>ponds_around3000</th>\n",
       "      <th>ponds_nearest</th>\n",
       "      <th>days_exposition</th>\n",
       "    </tr>\n",
       "  </thead>\n",
       "  <tbody>\n",
       "    <tr>\n",
       "      <th>0</th>\n",
       "      <td>20</td>\n",
       "      <td>13000000.0</td>\n",
       "      <td>108.00</td>\n",
       "      <td>2019-03-07T00:00:00</td>\n",
       "      <td>3</td>\n",
       "      <td>2.70</td>\n",
       "      <td>16.0</td>\n",
       "      <td>51.00</td>\n",
       "      <td>8</td>\n",
       "      <td>NaN</td>\n",
       "      <td>False</td>\n",
       "      <td>False</td>\n",
       "      <td>25.00</td>\n",
       "      <td>NaN</td>\n",
       "      <td>Санкт-Петербург</td>\n",
       "      <td>18863.0</td>\n",
       "      <td>16028.0</td>\n",
       "      <td>1.0</td>\n",
       "      <td>482.0</td>\n",
       "      <td>2.0</td>\n",
       "      <td>755.0</td>\n",
       "      <td>NaN</td>\n",
       "    </tr>\n",
       "    <tr>\n",
       "      <th>1</th>\n",
       "      <td>7</td>\n",
       "      <td>3350000.0</td>\n",
       "      <td>40.40</td>\n",
       "      <td>2018-12-04T00:00:00</td>\n",
       "      <td>1</td>\n",
       "      <td>NaN</td>\n",
       "      <td>11.0</td>\n",
       "      <td>18.60</td>\n",
       "      <td>1</td>\n",
       "      <td>NaN</td>\n",
       "      <td>False</td>\n",
       "      <td>False</td>\n",
       "      <td>11.00</td>\n",
       "      <td>2.0</td>\n",
       "      <td>посёлок Шушары</td>\n",
       "      <td>12817.0</td>\n",
       "      <td>18603.0</td>\n",
       "      <td>0.0</td>\n",
       "      <td>NaN</td>\n",
       "      <td>0.0</td>\n",
       "      <td>NaN</td>\n",
       "      <td>81.0</td>\n",
       "    </tr>\n",
       "    <tr>\n",
       "      <th>2</th>\n",
       "      <td>10</td>\n",
       "      <td>5196000.0</td>\n",
       "      <td>56.00</td>\n",
       "      <td>2015-08-20T00:00:00</td>\n",
       "      <td>2</td>\n",
       "      <td>NaN</td>\n",
       "      <td>5.0</td>\n",
       "      <td>34.30</td>\n",
       "      <td>4</td>\n",
       "      <td>NaN</td>\n",
       "      <td>False</td>\n",
       "      <td>False</td>\n",
       "      <td>8.30</td>\n",
       "      <td>0.0</td>\n",
       "      <td>Санкт-Петербург</td>\n",
       "      <td>21741.0</td>\n",
       "      <td>13933.0</td>\n",
       "      <td>1.0</td>\n",
       "      <td>90.0</td>\n",
       "      <td>2.0</td>\n",
       "      <td>574.0</td>\n",
       "      <td>558.0</td>\n",
       "    </tr>\n",
       "    <tr>\n",
       "      <th>3</th>\n",
       "      <td>0</td>\n",
       "      <td>64900000.0</td>\n",
       "      <td>159.00</td>\n",
       "      <td>2015-07-24T00:00:00</td>\n",
       "      <td>3</td>\n",
       "      <td>NaN</td>\n",
       "      <td>14.0</td>\n",
       "      <td>NaN</td>\n",
       "      <td>9</td>\n",
       "      <td>NaN</td>\n",
       "      <td>False</td>\n",
       "      <td>False</td>\n",
       "      <td>NaN</td>\n",
       "      <td>0.0</td>\n",
       "      <td>Санкт-Петербург</td>\n",
       "      <td>28098.0</td>\n",
       "      <td>6800.0</td>\n",
       "      <td>2.0</td>\n",
       "      <td>84.0</td>\n",
       "      <td>3.0</td>\n",
       "      <td>234.0</td>\n",
       "      <td>424.0</td>\n",
       "    </tr>\n",
       "    <tr>\n",
       "      <th>4</th>\n",
       "      <td>2</td>\n",
       "      <td>10000000.0</td>\n",
       "      <td>100.00</td>\n",
       "      <td>2018-06-19T00:00:00</td>\n",
       "      <td>2</td>\n",
       "      <td>3.03</td>\n",
       "      <td>14.0</td>\n",
       "      <td>32.00</td>\n",
       "      <td>13</td>\n",
       "      <td>NaN</td>\n",
       "      <td>False</td>\n",
       "      <td>False</td>\n",
       "      <td>41.00</td>\n",
       "      <td>NaN</td>\n",
       "      <td>Санкт-Петербург</td>\n",
       "      <td>31856.0</td>\n",
       "      <td>8098.0</td>\n",
       "      <td>2.0</td>\n",
       "      <td>112.0</td>\n",
       "      <td>1.0</td>\n",
       "      <td>48.0</td>\n",
       "      <td>121.0</td>\n",
       "    </tr>\n",
       "    <tr>\n",
       "      <th>5</th>\n",
       "      <td>10</td>\n",
       "      <td>2890000.0</td>\n",
       "      <td>30.40</td>\n",
       "      <td>2018-09-10T00:00:00</td>\n",
       "      <td>1</td>\n",
       "      <td>NaN</td>\n",
       "      <td>12.0</td>\n",
       "      <td>14.40</td>\n",
       "      <td>5</td>\n",
       "      <td>NaN</td>\n",
       "      <td>False</td>\n",
       "      <td>False</td>\n",
       "      <td>9.10</td>\n",
       "      <td>NaN</td>\n",
       "      <td>городской посёлок Янино-1</td>\n",
       "      <td>NaN</td>\n",
       "      <td>NaN</td>\n",
       "      <td>NaN</td>\n",
       "      <td>NaN</td>\n",
       "      <td>NaN</td>\n",
       "      <td>NaN</td>\n",
       "      <td>55.0</td>\n",
       "    </tr>\n",
       "    <tr>\n",
       "      <th>6</th>\n",
       "      <td>6</td>\n",
       "      <td>3700000.0</td>\n",
       "      <td>37.30</td>\n",
       "      <td>2017-11-02T00:00:00</td>\n",
       "      <td>1</td>\n",
       "      <td>NaN</td>\n",
       "      <td>26.0</td>\n",
       "      <td>10.60</td>\n",
       "      <td>6</td>\n",
       "      <td>NaN</td>\n",
       "      <td>False</td>\n",
       "      <td>False</td>\n",
       "      <td>14.40</td>\n",
       "      <td>1.0</td>\n",
       "      <td>посёлок Парголово</td>\n",
       "      <td>52996.0</td>\n",
       "      <td>19143.0</td>\n",
       "      <td>0.0</td>\n",
       "      <td>NaN</td>\n",
       "      <td>0.0</td>\n",
       "      <td>NaN</td>\n",
       "      <td>155.0</td>\n",
       "    </tr>\n",
       "    <tr>\n",
       "      <th>7</th>\n",
       "      <td>5</td>\n",
       "      <td>7915000.0</td>\n",
       "      <td>71.60</td>\n",
       "      <td>2019-04-18T00:00:00</td>\n",
       "      <td>2</td>\n",
       "      <td>NaN</td>\n",
       "      <td>24.0</td>\n",
       "      <td>NaN</td>\n",
       "      <td>22</td>\n",
       "      <td>NaN</td>\n",
       "      <td>False</td>\n",
       "      <td>False</td>\n",
       "      <td>18.90</td>\n",
       "      <td>2.0</td>\n",
       "      <td>Санкт-Петербург</td>\n",
       "      <td>23982.0</td>\n",
       "      <td>11634.0</td>\n",
       "      <td>0.0</td>\n",
       "      <td>NaN</td>\n",
       "      <td>0.0</td>\n",
       "      <td>NaN</td>\n",
       "      <td>NaN</td>\n",
       "    </tr>\n",
       "    <tr>\n",
       "      <th>8</th>\n",
       "      <td>20</td>\n",
       "      <td>2900000.0</td>\n",
       "      <td>33.16</td>\n",
       "      <td>2018-05-23T00:00:00</td>\n",
       "      <td>1</td>\n",
       "      <td>NaN</td>\n",
       "      <td>27.0</td>\n",
       "      <td>15.43</td>\n",
       "      <td>26</td>\n",
       "      <td>NaN</td>\n",
       "      <td>False</td>\n",
       "      <td>False</td>\n",
       "      <td>8.81</td>\n",
       "      <td>NaN</td>\n",
       "      <td>посёлок Мурино</td>\n",
       "      <td>NaN</td>\n",
       "      <td>NaN</td>\n",
       "      <td>NaN</td>\n",
       "      <td>NaN</td>\n",
       "      <td>NaN</td>\n",
       "      <td>NaN</td>\n",
       "      <td>189.0</td>\n",
       "    </tr>\n",
       "    <tr>\n",
       "      <th>9</th>\n",
       "      <td>18</td>\n",
       "      <td>5400000.0</td>\n",
       "      <td>61.00</td>\n",
       "      <td>2017-02-26T00:00:00</td>\n",
       "      <td>3</td>\n",
       "      <td>2.50</td>\n",
       "      <td>9.0</td>\n",
       "      <td>43.60</td>\n",
       "      <td>7</td>\n",
       "      <td>NaN</td>\n",
       "      <td>False</td>\n",
       "      <td>False</td>\n",
       "      <td>6.50</td>\n",
       "      <td>2.0</td>\n",
       "      <td>Санкт-Петербург</td>\n",
       "      <td>50898.0</td>\n",
       "      <td>15008.0</td>\n",
       "      <td>0.0</td>\n",
       "      <td>NaN</td>\n",
       "      <td>0.0</td>\n",
       "      <td>NaN</td>\n",
       "      <td>289.0</td>\n",
       "    </tr>\n",
       "  </tbody>\n",
       "</table>\n",
       "</div>"
      ],
      "text/plain": [
       "   total_images  last_price  total_area first_day_exposition  rooms  \\\n",
       "0            20  13000000.0      108.00  2019-03-07T00:00:00      3   \n",
       "1             7   3350000.0       40.40  2018-12-04T00:00:00      1   \n",
       "2            10   5196000.0       56.00  2015-08-20T00:00:00      2   \n",
       "3             0  64900000.0      159.00  2015-07-24T00:00:00      3   \n",
       "4             2  10000000.0      100.00  2018-06-19T00:00:00      2   \n",
       "5            10   2890000.0       30.40  2018-09-10T00:00:00      1   \n",
       "6             6   3700000.0       37.30  2017-11-02T00:00:00      1   \n",
       "7             5   7915000.0       71.60  2019-04-18T00:00:00      2   \n",
       "8            20   2900000.0       33.16  2018-05-23T00:00:00      1   \n",
       "9            18   5400000.0       61.00  2017-02-26T00:00:00      3   \n",
       "\n",
       "   ceiling_height  floors_total  living_area  floor is_apartment  studio  \\\n",
       "0            2.70          16.0        51.00      8          NaN   False   \n",
       "1             NaN          11.0        18.60      1          NaN   False   \n",
       "2             NaN           5.0        34.30      4          NaN   False   \n",
       "3             NaN          14.0          NaN      9          NaN   False   \n",
       "4            3.03          14.0        32.00     13          NaN   False   \n",
       "5             NaN          12.0        14.40      5          NaN   False   \n",
       "6             NaN          26.0        10.60      6          NaN   False   \n",
       "7             NaN          24.0          NaN     22          NaN   False   \n",
       "8             NaN          27.0        15.43     26          NaN   False   \n",
       "9            2.50           9.0        43.60      7          NaN   False   \n",
       "\n",
       "   open_plan  kitchen_area  balcony              locality_name  \\\n",
       "0      False         25.00      NaN            Санкт-Петербург   \n",
       "1      False         11.00      2.0             посёлок Шушары   \n",
       "2      False          8.30      0.0            Санкт-Петербург   \n",
       "3      False           NaN      0.0            Санкт-Петербург   \n",
       "4      False         41.00      NaN            Санкт-Петербург   \n",
       "5      False          9.10      NaN  городской посёлок Янино-1   \n",
       "6      False         14.40      1.0          посёлок Парголово   \n",
       "7      False         18.90      2.0            Санкт-Петербург   \n",
       "8      False          8.81      NaN             посёлок Мурино   \n",
       "9      False          6.50      2.0            Санкт-Петербург   \n",
       "\n",
       "   airports_nearest  cityCenters_nearest  parks_around3000  parks_nearest  \\\n",
       "0           18863.0              16028.0               1.0          482.0   \n",
       "1           12817.0              18603.0               0.0            NaN   \n",
       "2           21741.0              13933.0               1.0           90.0   \n",
       "3           28098.0               6800.0               2.0           84.0   \n",
       "4           31856.0               8098.0               2.0          112.0   \n",
       "5               NaN                  NaN               NaN            NaN   \n",
       "6           52996.0              19143.0               0.0            NaN   \n",
       "7           23982.0              11634.0               0.0            NaN   \n",
       "8               NaN                  NaN               NaN            NaN   \n",
       "9           50898.0              15008.0               0.0            NaN   \n",
       "\n",
       "   ponds_around3000  ponds_nearest  days_exposition  \n",
       "0               2.0          755.0              NaN  \n",
       "1               0.0            NaN             81.0  \n",
       "2               2.0          574.0            558.0  \n",
       "3               3.0          234.0            424.0  \n",
       "4               1.0           48.0            121.0  \n",
       "5               NaN            NaN             55.0  \n",
       "6               0.0            NaN            155.0  \n",
       "7               0.0            NaN              NaN  \n",
       "8               NaN            NaN            189.0  \n",
       "9               0.0            NaN            289.0  "
      ]
     },
     "execution_count": 2,
     "metadata": {},
     "output_type": "execute_result"
    }
   ],
   "source": [
    "# загрузим файл и выведем первые 10 строк\n",
    "\n",
    "df = pd.read_csv('/datasets/real_estate_data.csv', sep='\\t')\n",
    "pd.set_option('display.max_columns', None)\n",
    "warnings.filterwarnings(\"ignore\")\n",
    "df.head(10)"
   ]
  },
  {
   "cell_type": "markdown",
   "metadata": {},
   "source": [
    "### Загрузил библиотеки в отдельной ячейке, применил метод для отображение всех колонок"
   ]
  },
  {
   "cell_type": "code",
   "execution_count": 3,
   "metadata": {},
   "outputs": [
    {
     "name": "stdout",
     "output_type": "stream",
     "text": [
      "<class 'pandas.core.frame.DataFrame'>\n",
      "RangeIndex: 23699 entries, 0 to 23698\n",
      "Data columns (total 22 columns):\n",
      " #   Column                Non-Null Count  Dtype  \n",
      "---  ------                --------------  -----  \n",
      " 0   total_images          23699 non-null  int64  \n",
      " 1   last_price            23699 non-null  float64\n",
      " 2   total_area            23699 non-null  float64\n",
      " 3   first_day_exposition  23699 non-null  object \n",
      " 4   rooms                 23699 non-null  int64  \n",
      " 5   ceiling_height        14504 non-null  float64\n",
      " 6   floors_total          23613 non-null  float64\n",
      " 7   living_area           21796 non-null  float64\n",
      " 8   floor                 23699 non-null  int64  \n",
      " 9   is_apartment          2775 non-null   object \n",
      " 10  studio                23699 non-null  bool   \n",
      " 11  open_plan             23699 non-null  bool   \n",
      " 12  kitchen_area          21421 non-null  float64\n",
      " 13  balcony               12180 non-null  float64\n",
      " 14  locality_name         23650 non-null  object \n",
      " 15  airports_nearest      18157 non-null  float64\n",
      " 16  cityCenters_nearest   18180 non-null  float64\n",
      " 17  parks_around3000      18181 non-null  float64\n",
      " 18  parks_nearest         8079 non-null   float64\n",
      " 19  ponds_around3000      18181 non-null  float64\n",
      " 20  ponds_nearest         9110 non-null   float64\n",
      " 21  days_exposition       20518 non-null  float64\n",
      "dtypes: bool(2), float64(14), int64(3), object(3)\n",
      "memory usage: 3.7+ MB\n"
     ]
    }
   ],
   "source": [
    "df.info()"
   ]
  },
  {
   "cell_type": "code",
   "execution_count": 4,
   "metadata": {},
   "outputs": [
    {
     "data": {
      "text/plain": [
       "(23699, 22)"
      ]
     },
     "execution_count": 4,
     "metadata": {},
     "output_type": "execute_result"
    }
   ],
   "source": [
    "df.shape # считаем общее количество строк и столбцов"
   ]
  },
  {
   "cell_type": "markdown",
   "metadata": {},
   "source": [
    "**В дата сете указаны объкты недвижимости со следующими параметрами, всего колонок 22:**\n",
    "- airports_nearest — расстояние до ближайшего аэропорта в метрах (м)\n",
    "- balcony — число балконов\n",
    "- ceiling_height — высота потолков (м)\n",
    "- cityCenters_nearest — расстояние до центра города (м)\n",
    "- days_exposition — сколько дней было размещено объявление (от публикации до снятия)\n",
    "- first_day_exposition — дата публикации\n",
    "- floor — этаж\n",
    "- floors_total — всего этажей в доме\n",
    "- is_apartment — апартаменты (булев тип)\n",
    "- kitchen_area — площадь кухни в квадратных метрах (м²)\n",
    "- last_price — цена на момент снятия с публикации\n",
    "- living_area — жилая площадь в квадратных метрах (м²)\n",
    "- locality_name — название населённого пункта\n",
    "- open_plan — свободная планировка (булев тип)\n",
    "- parks_around3000 — число парков в радиусе 3 км\n",
    "- parks_nearest — расстояние до ближайшего парка (м)\n",
    "- ponds_around3000 — число водоёмов в радиусе 3 км\n",
    "- ponds_nearest — расстояние до ближайшего водоёма (м)\n",
    "- rooms — число комнат\n",
    "- studio — квартира-студия (булев тип)\n",
    "- total_area — общая площадь квартиры в квадратных метрах (м²)\n",
    "- total_images — число фотографий квартиры в объявлении\n",
    "\n",
    "**Всего записей об обьектах недвижимости: 23699**"
   ]
  },
  {
   "cell_type": "markdown",
   "metadata": {},
   "source": [
    "Приведем названия колонок к единому стандарту, перепишем названия в \"змеином регистре\""
   ]
  },
  {
   "cell_type": "code",
   "execution_count": 5,
   "metadata": {},
   "outputs": [],
   "source": [
    "df = df.rename(columns={'cityCenters_nearest': 'city_centers_nearest', 'parks_around3000': 'parks_around_3000', 'ponds_around3000': 'ponds_around_3000'})"
   ]
  },
  {
   "cell_type": "code",
   "execution_count": 6,
   "metadata": {},
   "outputs": [
    {
     "data": {
      "text/plain": [
       "Index(['total_images', 'last_price', 'total_area', 'first_day_exposition',\n",
       "       'rooms', 'ceiling_height', 'floors_total', 'living_area', 'floor',\n",
       "       'is_apartment', 'studio', 'open_plan', 'kitchen_area', 'balcony',\n",
       "       'locality_name', 'airports_nearest', 'city_centers_nearest',\n",
       "       'parks_around_3000', 'parks_nearest', 'ponds_around_3000',\n",
       "       'ponds_nearest', 'days_exposition'],\n",
       "      dtype='object')"
      ]
     },
     "execution_count": 6,
     "metadata": {},
     "output_type": "execute_result"
    }
   ],
   "source": [
    "df.columns # проверям название колонок"
   ]
  },
  {
   "cell_type": "markdown",
   "metadata": {},
   "source": [
    "Воспользуемся методом описательной статистики"
   ]
  },
  {
   "cell_type": "code",
   "execution_count": 7,
   "metadata": {
    "scrolled": true
   },
   "outputs": [
    {
     "data": {
      "text/html": [
       "<div>\n",
       "<style scoped>\n",
       "    .dataframe tbody tr th:only-of-type {\n",
       "        vertical-align: middle;\n",
       "    }\n",
       "\n",
       "    .dataframe tbody tr th {\n",
       "        vertical-align: top;\n",
       "    }\n",
       "\n",
       "    .dataframe thead th {\n",
       "        text-align: right;\n",
       "    }\n",
       "</style>\n",
       "<table border=\"1\" class=\"dataframe\">\n",
       "  <thead>\n",
       "    <tr style=\"text-align: right;\">\n",
       "      <th></th>\n",
       "      <th>total_images</th>\n",
       "      <th>last_price</th>\n",
       "      <th>total_area</th>\n",
       "      <th>rooms</th>\n",
       "      <th>ceiling_height</th>\n",
       "      <th>floors_total</th>\n",
       "      <th>living_area</th>\n",
       "      <th>floor</th>\n",
       "      <th>kitchen_area</th>\n",
       "      <th>balcony</th>\n",
       "      <th>airports_nearest</th>\n",
       "      <th>city_centers_nearest</th>\n",
       "      <th>parks_around_3000</th>\n",
       "      <th>parks_nearest</th>\n",
       "      <th>ponds_around_3000</th>\n",
       "      <th>ponds_nearest</th>\n",
       "      <th>days_exposition</th>\n",
       "    </tr>\n",
       "  </thead>\n",
       "  <tbody>\n",
       "    <tr>\n",
       "      <th>count</th>\n",
       "      <td>23699.000000</td>\n",
       "      <td>2.369900e+04</td>\n",
       "      <td>23699.000000</td>\n",
       "      <td>23699.000000</td>\n",
       "      <td>14504.000000</td>\n",
       "      <td>23613.000000</td>\n",
       "      <td>21796.000000</td>\n",
       "      <td>23699.000000</td>\n",
       "      <td>21421.000000</td>\n",
       "      <td>12180.000000</td>\n",
       "      <td>18157.000000</td>\n",
       "      <td>18180.000000</td>\n",
       "      <td>18181.000000</td>\n",
       "      <td>8079.000000</td>\n",
       "      <td>18181.000000</td>\n",
       "      <td>9110.000000</td>\n",
       "      <td>20518.000000</td>\n",
       "    </tr>\n",
       "    <tr>\n",
       "      <th>mean</th>\n",
       "      <td>9.858475</td>\n",
       "      <td>6.541549e+06</td>\n",
       "      <td>60.348651</td>\n",
       "      <td>2.070636</td>\n",
       "      <td>2.771499</td>\n",
       "      <td>10.673824</td>\n",
       "      <td>34.457852</td>\n",
       "      <td>5.892358</td>\n",
       "      <td>10.569807</td>\n",
       "      <td>1.150082</td>\n",
       "      <td>28793.672193</td>\n",
       "      <td>14191.277833</td>\n",
       "      <td>0.611408</td>\n",
       "      <td>490.804555</td>\n",
       "      <td>0.770255</td>\n",
       "      <td>517.980900</td>\n",
       "      <td>180.888634</td>\n",
       "    </tr>\n",
       "    <tr>\n",
       "      <th>std</th>\n",
       "      <td>5.682529</td>\n",
       "      <td>1.088701e+07</td>\n",
       "      <td>35.654083</td>\n",
       "      <td>1.078405</td>\n",
       "      <td>1.261056</td>\n",
       "      <td>6.597173</td>\n",
       "      <td>22.030445</td>\n",
       "      <td>4.885249</td>\n",
       "      <td>5.905438</td>\n",
       "      <td>1.071300</td>\n",
       "      <td>12630.880622</td>\n",
       "      <td>8608.386210</td>\n",
       "      <td>0.802074</td>\n",
       "      <td>342.317995</td>\n",
       "      <td>0.938346</td>\n",
       "      <td>277.720643</td>\n",
       "      <td>219.727988</td>\n",
       "    </tr>\n",
       "    <tr>\n",
       "      <th>min</th>\n",
       "      <td>0.000000</td>\n",
       "      <td>1.219000e+04</td>\n",
       "      <td>12.000000</td>\n",
       "      <td>0.000000</td>\n",
       "      <td>1.000000</td>\n",
       "      <td>1.000000</td>\n",
       "      <td>2.000000</td>\n",
       "      <td>1.000000</td>\n",
       "      <td>1.300000</td>\n",
       "      <td>0.000000</td>\n",
       "      <td>0.000000</td>\n",
       "      <td>181.000000</td>\n",
       "      <td>0.000000</td>\n",
       "      <td>1.000000</td>\n",
       "      <td>0.000000</td>\n",
       "      <td>13.000000</td>\n",
       "      <td>1.000000</td>\n",
       "    </tr>\n",
       "    <tr>\n",
       "      <th>25%</th>\n",
       "      <td>6.000000</td>\n",
       "      <td>3.400000e+06</td>\n",
       "      <td>40.000000</td>\n",
       "      <td>1.000000</td>\n",
       "      <td>2.520000</td>\n",
       "      <td>5.000000</td>\n",
       "      <td>18.600000</td>\n",
       "      <td>2.000000</td>\n",
       "      <td>7.000000</td>\n",
       "      <td>0.000000</td>\n",
       "      <td>18585.000000</td>\n",
       "      <td>9238.000000</td>\n",
       "      <td>0.000000</td>\n",
       "      <td>288.000000</td>\n",
       "      <td>0.000000</td>\n",
       "      <td>294.000000</td>\n",
       "      <td>45.000000</td>\n",
       "    </tr>\n",
       "    <tr>\n",
       "      <th>50%</th>\n",
       "      <td>9.000000</td>\n",
       "      <td>4.650000e+06</td>\n",
       "      <td>52.000000</td>\n",
       "      <td>2.000000</td>\n",
       "      <td>2.650000</td>\n",
       "      <td>9.000000</td>\n",
       "      <td>30.000000</td>\n",
       "      <td>4.000000</td>\n",
       "      <td>9.100000</td>\n",
       "      <td>1.000000</td>\n",
       "      <td>26726.000000</td>\n",
       "      <td>13098.500000</td>\n",
       "      <td>0.000000</td>\n",
       "      <td>455.000000</td>\n",
       "      <td>1.000000</td>\n",
       "      <td>502.000000</td>\n",
       "      <td>95.000000</td>\n",
       "    </tr>\n",
       "    <tr>\n",
       "      <th>75%</th>\n",
       "      <td>14.000000</td>\n",
       "      <td>6.800000e+06</td>\n",
       "      <td>69.900000</td>\n",
       "      <td>3.000000</td>\n",
       "      <td>2.800000</td>\n",
       "      <td>16.000000</td>\n",
       "      <td>42.300000</td>\n",
       "      <td>8.000000</td>\n",
       "      <td>12.000000</td>\n",
       "      <td>2.000000</td>\n",
       "      <td>37273.000000</td>\n",
       "      <td>16293.000000</td>\n",
       "      <td>1.000000</td>\n",
       "      <td>612.000000</td>\n",
       "      <td>1.000000</td>\n",
       "      <td>729.000000</td>\n",
       "      <td>232.000000</td>\n",
       "    </tr>\n",
       "    <tr>\n",
       "      <th>max</th>\n",
       "      <td>50.000000</td>\n",
       "      <td>7.630000e+08</td>\n",
       "      <td>900.000000</td>\n",
       "      <td>19.000000</td>\n",
       "      <td>100.000000</td>\n",
       "      <td>60.000000</td>\n",
       "      <td>409.700000</td>\n",
       "      <td>33.000000</td>\n",
       "      <td>112.000000</td>\n",
       "      <td>5.000000</td>\n",
       "      <td>84869.000000</td>\n",
       "      <td>65968.000000</td>\n",
       "      <td>3.000000</td>\n",
       "      <td>3190.000000</td>\n",
       "      <td>3.000000</td>\n",
       "      <td>1344.000000</td>\n",
       "      <td>1580.000000</td>\n",
       "    </tr>\n",
       "  </tbody>\n",
       "</table>\n",
       "</div>"
      ],
      "text/plain": [
       "       total_images    last_price    total_area         rooms  ceiling_height  \\\n",
       "count  23699.000000  2.369900e+04  23699.000000  23699.000000    14504.000000   \n",
       "mean       9.858475  6.541549e+06     60.348651      2.070636        2.771499   \n",
       "std        5.682529  1.088701e+07     35.654083      1.078405        1.261056   \n",
       "min        0.000000  1.219000e+04     12.000000      0.000000        1.000000   \n",
       "25%        6.000000  3.400000e+06     40.000000      1.000000        2.520000   \n",
       "50%        9.000000  4.650000e+06     52.000000      2.000000        2.650000   \n",
       "75%       14.000000  6.800000e+06     69.900000      3.000000        2.800000   \n",
       "max       50.000000  7.630000e+08    900.000000     19.000000      100.000000   \n",
       "\n",
       "       floors_total   living_area         floor  kitchen_area       balcony  \\\n",
       "count  23613.000000  21796.000000  23699.000000  21421.000000  12180.000000   \n",
       "mean      10.673824     34.457852      5.892358     10.569807      1.150082   \n",
       "std        6.597173     22.030445      4.885249      5.905438      1.071300   \n",
       "min        1.000000      2.000000      1.000000      1.300000      0.000000   \n",
       "25%        5.000000     18.600000      2.000000      7.000000      0.000000   \n",
       "50%        9.000000     30.000000      4.000000      9.100000      1.000000   \n",
       "75%       16.000000     42.300000      8.000000     12.000000      2.000000   \n",
       "max       60.000000    409.700000     33.000000    112.000000      5.000000   \n",
       "\n",
       "       airports_nearest  city_centers_nearest  parks_around_3000  \\\n",
       "count      18157.000000          18180.000000       18181.000000   \n",
       "mean       28793.672193          14191.277833           0.611408   \n",
       "std        12630.880622           8608.386210           0.802074   \n",
       "min            0.000000            181.000000           0.000000   \n",
       "25%        18585.000000           9238.000000           0.000000   \n",
       "50%        26726.000000          13098.500000           0.000000   \n",
       "75%        37273.000000          16293.000000           1.000000   \n",
       "max        84869.000000          65968.000000           3.000000   \n",
       "\n",
       "       parks_nearest  ponds_around_3000  ponds_nearest  days_exposition  \n",
       "count    8079.000000       18181.000000    9110.000000     20518.000000  \n",
       "mean      490.804555           0.770255     517.980900       180.888634  \n",
       "std       342.317995           0.938346     277.720643       219.727988  \n",
       "min         1.000000           0.000000      13.000000         1.000000  \n",
       "25%       288.000000           0.000000     294.000000        45.000000  \n",
       "50%       455.000000           1.000000     502.000000        95.000000  \n",
       "75%       612.000000           1.000000     729.000000       232.000000  \n",
       "max      3190.000000           3.000000    1344.000000      1580.000000  "
      ]
     },
     "execution_count": 7,
     "metadata": {},
     "output_type": "execute_result"
    }
   ],
   "source": [
    "df.describe()"
   ]
  },
  {
   "cell_type": "markdown",
   "metadata": {},
   "source": [
    "- Обратим внимание на данные в столбце ceiling_height, максимальное значение высоты потолка равно 100 м, это не сильно влияет на соотношение медианы и среднего арифметического, в дальнейшем определим характер данной аномалии.\n",
    "- В колонке с информацие о сроке размещения обьявления сильный перекос по показателю mean (6 месяцев), что означает наличие множественных обьявлений длительным сроком размещения или обусловлены высокой ценой, либо которые не актуализируются. Медианное значение составляет 3 месяца, в дальнейшем рассмотрим наличие зависимости между сроком обьявления и стоимости обьекта недвижимости."
   ]
  },
  {
   "cell_type": "markdown",
   "metadata": {},
   "source": [
    "Построим гистограмму для всех числовых столбцов и посмотрим как распределены данные"
   ]
  },
  {
   "cell_type": "code",
   "execution_count": 8,
   "metadata": {
    "scrolled": true
   },
   "outputs": [
    {
     "data": {
      "image/png": "[encoded data removed]",
      "text/plain": [
       "<Figure size 1440x864 with 12 Axes>"
      ]
     },
     "metadata": {
      "needs_background": "light"
     },
     "output_type": "display_data"
    }
   ],
   "source": [
    "df[['last_price', 'total_area', 'living_area', 'kitchen_area', 'rooms', 'balcony', 'ceiling_height', 'floor', 'floors_total',\n",
    "    'days_exposition']].hist(bins=100, figsize=(20,12), grid=False);"
   ]
  },
  {
   "cell_type": "markdown",
   "metadata": {},
   "source": [
    "Предоставленные данные нормально распределены, нет сильно выделяющихся баров в гистограммах. Далее рассмотрим данные более детально, а пока подготовим датасет для дальнейшей работы."
   ]
  },
  {
   "cell_type": "markdown",
   "metadata": {},
   "source": [
    "## Предобработка данных"
   ]
  },
  {
   "cell_type": "markdown",
   "metadata": {},
   "source": [
    "### Обработаем пропуски в таблице данных о недвижимости."
   ]
  },
  {
   "cell_type": "code",
   "execution_count": 9,
   "metadata": {},
   "outputs": [
    {
     "data": {
      "text/plain": [
       "0"
      ]
     },
     "execution_count": 9,
     "metadata": {},
     "output_type": "execute_result"
    }
   ],
   "source": [
    "# посчитаем количество дубликатов\n",
    "\n",
    "df.duplicated().sum()"
   ]
  },
  {
   "cell_type": "markdown",
   "metadata": {},
   "source": [
    "Дубликаты отсутствуют."
   ]
  },
  {
   "cell_type": "code",
   "execution_count": 10,
   "metadata": {},
   "outputs": [
    {
     "data": {
      "text/plain": [
       "is_apartment            20924\n",
       "parks_nearest           15620\n",
       "ponds_nearest           14589\n",
       "balcony                 11519\n",
       "ceiling_height           9195\n",
       "airports_nearest         5542\n",
       "city_centers_nearest     5519\n",
       "ponds_around_3000        5518\n",
       "parks_around_3000        5518\n",
       "days_exposition          3181\n",
       "kitchen_area             2278\n",
       "living_area              1903\n",
       "floors_total               86\n",
       "locality_name              49\n",
       "total_images                0\n",
       "last_price                  0\n",
       "studio                      0\n",
       "floor                       0\n",
       "rooms                       0\n",
       "first_day_exposition        0\n",
       "total_area                  0\n",
       "open_plan                   0\n",
       "dtype: int64"
      ]
     },
     "execution_count": 10,
     "metadata": {},
     "output_type": "execute_result"
    }
   ],
   "source": [
    "# посчитаем количество пропусков в данных для каждого столбца\n",
    "\n",
    "df.isna().sum().sort_values(ascending=False)"
   ]
  },
  {
   "cell_type": "code",
   "execution_count": 11,
   "metadata": {},
   "outputs": [
    {
     "data": {
      "text/plain": [
       "is_apartment            0.882906\n",
       "parks_nearest           0.659100\n",
       "ponds_nearest           0.615596\n",
       "balcony                 0.486054\n",
       "ceiling_height          0.387991\n",
       "airports_nearest        0.233850\n",
       "city_centers_nearest    0.232879\n",
       "ponds_around_3000       0.232837\n",
       "parks_around_3000       0.232837\n",
       "days_exposition         0.134225\n",
       "kitchen_area            0.096122\n",
       "living_area             0.080299\n",
       "floors_total            0.003629\n",
       "locality_name           0.002068\n",
       "total_images            0.000000\n",
       "last_price              0.000000\n",
       "studio                  0.000000\n",
       "floor                   0.000000\n",
       "rooms                   0.000000\n",
       "first_day_exposition    0.000000\n",
       "total_area              0.000000\n",
       "open_plan               0.000000\n",
       "dtype: float64"
      ]
     },
     "execution_count": 11,
     "metadata": {},
     "output_type": "execute_result"
    }
   ],
   "source": [
    "# представим данные в виде долей.\n",
    "\n",
    "df.isna().mean().sort_values(ascending=False)"
   ]
  },
  {
   "cell_type": "markdown",
   "metadata": {},
   "source": [
    "Из таблицы видно, что наибольшее количество пропусков в столбце is_apartment. Доля апартаментов в общем пуле обьектов недвижимости составляет около 0,02%, что не соответсвтует статистике, ведь на конец 2019 года доля апартаментов в Санкт-Петербурге составляла <a href=\"https://www.novostroy-spb.ru/novosti/apartamenty_zanyali_desyatuyu_chast#:~:text=К%20концу%202019%20года%20доля,скорее%20всего%2C%20он%20будет%20увеличиваться\" title='Портал'>10%</a>. В дальнейшем не удастся выявиться взаимосвязь типа неджимимости и стоимости, но и такой задачи в исследовании нет, столбец можно удалить. В дальнейшем поэтапно разберем каждую категорию пропусков и определим методы заменты пропусков."
   ]
  },
  {
   "cell_type": "code",
   "execution_count": 12,
   "metadata": {},
   "outputs": [],
   "source": [
    "# удаляем лишние столбцы\n",
    "\n",
    "df = df.drop(columns=['total_images', 'is_apartment'])"
   ]
  },
  {
   "cell_type": "markdown",
   "metadata": {},
   "source": [
    "Обработаем пропущенные значения высоты потолков. Сначала определим медианное значение и средне значение и дальше сопоставим данные со специальными стандартами устанавливающие минимальную высоту потолков в 2,5 метра."
   ]
  },
  {
   "cell_type": "code",
   "execution_count": 13,
   "metadata": {},
   "outputs": [
    {
     "data": {
      "text/plain": [
       "2.77149889685604"
      ]
     },
     "execution_count": 13,
     "metadata": {},
     "output_type": "execute_result"
    }
   ],
   "source": [
    "df['ceiling_height'].mean()"
   ]
  },
  {
   "cell_type": "code",
   "execution_count": 14,
   "metadata": {},
   "outputs": [
    {
     "data": {
      "text/plain": [
       "2.65"
      ]
     },
     "execution_count": 14,
     "metadata": {},
     "output_type": "execute_result"
    }
   ],
   "source": [
    "df['ceiling_height'].median()"
   ]
  },
  {
   "cell_type": "markdown",
   "metadata": {},
   "source": [
    "Ближе значению соответсвующему специальному стандарту получилось значение медианы, заменим ей пропущенные значения."
   ]
  },
  {
   "cell_type": "code",
   "execution_count": 15,
   "metadata": {},
   "outputs": [],
   "source": [
    "df['ceiling_height'] = df['ceiling_height'].fillna(df['ceiling_height'].median())"
   ]
  },
  {
   "cell_type": "markdown",
   "metadata": {},
   "source": [
    "Применим метод замены пропущенных значений нулями к столбцам balcony и floors_total, поскольку пропуски носят не случайный характер т.к. при отсутствии балкона поле скорее всего не заполнялось, а доля пропусков в количестве этаже настолько мала, замена пропусков не повлияет на выборку."
   ]
  },
  {
   "cell_type": "code",
   "execution_count": 16,
   "metadata": {},
   "outputs": [],
   "source": [
    "df['balcony'] = df['balcony'].fillna(0)"
   ]
  },
  {
   "cell_type": "code",
   "execution_count": 17,
   "metadata": {},
   "outputs": [],
   "source": [
    "df['floors_total'] = df['floors_total'].fillna(0)"
   ]
  },
  {
   "cell_type": "code",
   "execution_count": 18,
   "metadata": {},
   "outputs": [],
   "source": [
    "# пропуски в названиях населенных пунков заполним словом Неизвестно.\n",
    "\n",
    "df['locality_name'] = df['locality_name'].fillna('Неизвестно')"
   ]
  },
  {
   "cell_type": "markdown",
   "metadata": {},
   "source": [
    "Пропуски в размерах жилой площади и кухни заменим медианой по количеству комнат."
   ]
  },
  {
   "cell_type": "code",
   "execution_count": 19,
   "metadata": {},
   "outputs": [],
   "source": [
    "for i in df['rooms'].unique():\n",
    "    df.loc[(df['rooms'] == i) & (df['living_area'].isna()), 'living_area'] = \\\n",
    "    df.loc[(df['rooms'] == i), 'living_area'].mean()"
   ]
  },
  {
   "cell_type": "code",
   "execution_count": 20,
   "metadata": {},
   "outputs": [],
   "source": [
    "for i in df['rooms'].unique():\n",
    "    df.loc[(df['rooms'] == i) & (df['kitchen_area'].isna()), 'kitchen_area'] = \\\n",
    "    df.loc[(df['rooms'] == i), 'kitchen_area'].mean()"
   ]
  },
  {
   "cell_type": "markdown",
   "metadata": {},
   "source": [
    "Доля пропусков следующих столбцов существенная, удалив строки мы лишимся важной статистической информации. Поэтому заменим пропуски на нули."
   ]
  },
  {
   "cell_type": "code",
   "execution_count": 21,
   "metadata": {},
   "outputs": [],
   "source": [
    "df.fillna(value={'parks_around_3000': 0, 'ponds_around_3000': 0, 'city_centers_nearest': 0, 'airports_nearest': 0,\n",
    "    'ponds_nearest': 0, 'parks_nearest': 0, 'days_exposition': 0}, inplace=True)"
   ]
  },
  {
   "cell_type": "code",
   "execution_count": 22,
   "metadata": {},
   "outputs": [
    {
     "data": {
      "text/plain": [
       "kitchen_area            197\n",
       "total_area                0\n",
       "ponds_nearest             0\n",
       "ponds_around_3000         0\n",
       "parks_nearest             0\n",
       "parks_around_3000         0\n",
       "city_centers_nearest      0\n",
       "airports_nearest          0\n",
       "locality_name             0\n",
       "balcony                   0\n",
       "last_price                0\n",
       "open_plan                 0\n",
       "studio                    0\n",
       "floor                     0\n",
       "living_area               0\n",
       "floors_total              0\n",
       "ceiling_height            0\n",
       "rooms                     0\n",
       "first_day_exposition      0\n",
       "days_exposition           0\n",
       "dtype: int64"
      ]
     },
     "execution_count": 22,
     "metadata": {},
     "output_type": "execute_result"
    }
   ],
   "source": [
    "df.isna().sum().sort_values(ascending=False)"
   ]
  },
  {
   "cell_type": "markdown",
   "metadata": {},
   "source": [
    "### Изменим тип данных, где это необходимо."
   ]
  },
  {
   "cell_type": "code",
   "execution_count": 23,
   "metadata": {},
   "outputs": [
    {
     "name": "stdout",
     "output_type": "stream",
     "text": [
      "<class 'pandas.core.frame.DataFrame'>\n",
      "RangeIndex: 23699 entries, 0 to 23698\n",
      "Data columns (total 20 columns):\n",
      " #   Column                Non-Null Count  Dtype  \n",
      "---  ------                --------------  -----  \n",
      " 0   last_price            23699 non-null  float64\n",
      " 1   total_area            23699 non-null  float64\n",
      " 2   first_day_exposition  23699 non-null  object \n",
      " 3   rooms                 23699 non-null  int64  \n",
      " 4   ceiling_height        23699 non-null  float64\n",
      " 5   floors_total          23699 non-null  float64\n",
      " 6   living_area           23699 non-null  float64\n",
      " 7   floor                 23699 non-null  int64  \n",
      " 8   studio                23699 non-null  bool   \n",
      " 9   open_plan             23699 non-null  bool   \n",
      " 10  kitchen_area          23502 non-null  float64\n",
      " 11  balcony               23699 non-null  float64\n",
      " 12  locality_name         23699 non-null  object \n",
      " 13  airports_nearest      23699 non-null  float64\n",
      " 14  city_centers_nearest  23699 non-null  float64\n",
      " 15  parks_around_3000     23699 non-null  float64\n",
      " 16  parks_nearest         23699 non-null  float64\n",
      " 17  ponds_around_3000     23699 non-null  float64\n",
      " 18  ponds_nearest         23699 non-null  float64\n",
      " 19  days_exposition       23699 non-null  float64\n",
      "dtypes: bool(2), float64(14), int64(2), object(2)\n",
      "memory usage: 3.3+ MB\n"
     ]
    }
   ],
   "source": [
    "df.info()"
   ]
  },
  {
   "cell_type": "code",
   "execution_count": 24,
   "metadata": {},
   "outputs": [],
   "source": [
    "# поменяем значения first_day_exposition на формат даты\n",
    "\n",
    "df['first_day_exposition'] = pd.to_datetime(df['first_day_exposition'], format='%Y-%m-%dT%H:%M:%S')\n",
    "\n",
    "# приведет остальные значения к целочисленным значениям, где не требуются значения после запятой\n",
    "\n",
    "column_list = ['floors_total', 'balcony','last_price', 'airports_nearest', 'city_centers_nearest',\n",
    "    'parks_around_3000', 'parks_nearest', 'ponds_around_3000', 'ponds_nearest', 'days_exposition']\n",
    "for column in column_list:\n",
    "    df[column] = df[df[column].notna()][column].astype('int64')"
   ]
  },
  {
   "cell_type": "code",
   "execution_count": 25,
   "metadata": {
    "scrolled": true
   },
   "outputs": [
    {
     "name": "stdout",
     "output_type": "stream",
     "text": [
      "<class 'pandas.core.frame.DataFrame'>\n",
      "RangeIndex: 23699 entries, 0 to 23698\n",
      "Data columns (total 20 columns):\n",
      " #   Column                Non-Null Count  Dtype         \n",
      "---  ------                --------------  -----         \n",
      " 0   last_price            23699 non-null  int64         \n",
      " 1   total_area            23699 non-null  float64       \n",
      " 2   first_day_exposition  23699 non-null  datetime64[ns]\n",
      " 3   rooms                 23699 non-null  int64         \n",
      " 4   ceiling_height        23699 non-null  float64       \n",
      " 5   floors_total          23699 non-null  int64         \n",
      " 6   living_area           23699 non-null  float64       \n",
      " 7   floor                 23699 non-null  int64         \n",
      " 8   studio                23699 non-null  bool          \n",
      " 9   open_plan             23699 non-null  bool          \n",
      " 10  kitchen_area          23502 non-null  float64       \n",
      " 11  balcony               23699 non-null  int64         \n",
      " 12  locality_name         23699 non-null  object        \n",
      " 13  airports_nearest      23699 non-null  int64         \n",
      " 14  city_centers_nearest  23699 non-null  int64         \n",
      " 15  parks_around_3000     23699 non-null  int64         \n",
      " 16  parks_nearest         23699 non-null  int64         \n",
      " 17  ponds_around_3000     23699 non-null  int64         \n",
      " 18  ponds_nearest         23699 non-null  int64         \n",
      " 19  days_exposition       23699 non-null  int64         \n",
      "dtypes: bool(2), datetime64[ns](1), float64(4), int64(12), object(1)\n",
      "memory usage: 3.3+ MB\n"
     ]
    }
   ],
   "source": [
    "df.info()"
   ]
  },
  {
   "cell_type": "markdown",
   "metadata": {},
   "source": [
    "### Изучим столбец с названиями населенных пунктов и устраним неявные дубликаты."
   ]
  },
  {
   "cell_type": "code",
   "execution_count": 26,
   "metadata": {
    "scrolled": false
   },
   "outputs": [
    {
     "data": {
      "text/plain": [
       "array(['Бокситогорск', 'Волосово', 'Волхов', 'Всеволожск', 'Выборг',\n",
       "       'Высоцк', 'Гатчина', 'Зеленогорск', 'Ивангород', 'Каменногорск',\n",
       "       'Кингисепп', 'Кириши', 'Кировск', 'Колпино', 'Коммунар',\n",
       "       'Красное Село', 'Кронштадт', 'Кудрово', 'Лодейное Поле',\n",
       "       'Ломоносов', 'Луга', 'Любань', 'Мурино', 'Неизвестно',\n",
       "       'Никольское', 'Новая Ладога', 'Отрадное', 'Павловск', 'Петергоф',\n",
       "       'Пикалёво', 'Подпорожье', 'Приморск', 'Приозерск', 'Пушкин',\n",
       "       'Санкт-Петербург', 'Светогорск', 'Сертолово', 'Сестрорецк',\n",
       "       'Сланцы', 'Сосновый Бор', 'Сясьстрой', 'Тихвин', 'Тосно',\n",
       "       'Шлиссельбург', 'городской поселок Большая Ижора',\n",
       "       'городской поселок Янино-1', 'городской посёлок Будогощь',\n",
       "       'городской посёлок Виллози', 'городской посёлок Лесогорский',\n",
       "       'городской посёлок Мга', 'городской посёлок Назия',\n",
       "       'городской посёлок Новоселье', 'городской посёлок Павлово',\n",
       "       'городской посёлок Рощино', 'городской посёлок Свирьстрой',\n",
       "       'городской посёлок Советский', 'городской посёлок Фёдоровское',\n",
       "       'городской посёлок Янино-1', 'деревня Агалатово', 'деревня Аро',\n",
       "       'деревня Батово', 'деревня Бегуницы', 'деревня Белогорка',\n",
       "       'деревня Большая Вруда', 'деревня Большая Пустомержа',\n",
       "       'деревня Большие Колпаны', 'деревня Большое Рейзино',\n",
       "       'деревня Большой Сабск', 'деревня Бор', 'деревня Борисова Грива',\n",
       "       'деревня Ваганово', 'деревня Вартемяги', 'деревня Вахнова Кара',\n",
       "       'деревня Выскатка', 'деревня Гарболово', 'деревня Глинка',\n",
       "       'деревня Горбунки', 'деревня Гостилицы', 'деревня Заклинье',\n",
       "       'деревня Заневка', 'деревня Зимитицы', 'деревня Извара',\n",
       "       'деревня Иссад', 'деревня Калитино', 'деревня Кальтино',\n",
       "       'деревня Камышовка', 'деревня Каськово', 'деревня Келози',\n",
       "       'деревня Кипень', 'деревня Кисельня', 'деревня Колтуши',\n",
       "       'деревня Коркино', 'деревня Котлы', 'деревня Кривко',\n",
       "       'деревня Кудрово', 'деревня Кузьмолово', 'деревня Курковицы',\n",
       "       'деревня Куровицы', 'деревня Куттузи', 'деревня Лаврики',\n",
       "       'деревня Лаголово', 'деревня Лампово', 'деревня Лесколово',\n",
       "       'деревня Лопухинка', 'деревня Лупполово',\n",
       "       'деревня Малая Романовка', 'деревня Малое Верево',\n",
       "       'деревня Малое Карлино', 'деревня Малые Колпаны',\n",
       "       'деревня Мануйлово', 'деревня Меньково', 'деревня Мины',\n",
       "       'деревня Мистолово', 'деревня Ненимяки', 'деревня Нижние Осельки',\n",
       "       'деревня Нижняя', 'деревня Низино', 'деревня Новое Девяткино',\n",
       "       'деревня Новолисино', 'деревня Нурма', 'деревня Оржицы',\n",
       "       'деревня Парицы', 'деревня Пельгора', 'деревня Пеники',\n",
       "       'деревня Пижма', 'деревня Пикколово', 'деревня Пудомяги',\n",
       "       'деревня Пустынка', 'деревня Пчева', 'деревня Рабитицы',\n",
       "       'деревня Разбегаево', 'деревня Раздолье', 'деревня Разметелево',\n",
       "       'деревня Рапполово', 'деревня Реброво', 'деревня Русско',\n",
       "       'деревня Сижно', 'деревня Снегирёвка', 'деревня Старая',\n",
       "       'деревня Старая Пустошь', 'деревня Старое Хинколово',\n",
       "       'деревня Старополье', 'деревня Старосиверская',\n",
       "       'деревня Старые Бегуницы', 'деревня Суоранда',\n",
       "       'деревня Сяськелево', 'деревня Тарасово', 'деревня Терпилицы',\n",
       "       'деревня Тихковицы', 'деревня Тойворово', 'деревня Торосово',\n",
       "       'деревня Торошковичи', 'деревня Трубников Бор',\n",
       "       'деревня Фалилеево', 'деревня Фёдоровское', 'деревня Хапо-Ое',\n",
       "       'деревня Хязельки', 'деревня Чудской Бор', 'деревня Шпаньково',\n",
       "       'деревня Щеглово', 'деревня Юкки', 'деревня Ялгино',\n",
       "       'деревня Яльгелево', 'деревня Ям-Тесово',\n",
       "       'коттеджный поселок Кивеннапа Север', 'коттеджный поселок Счастье',\n",
       "       'коттеджный посёлок Лесное', 'поселок Аннино', 'поселок Барышево',\n",
       "       'поселок Бугры', 'поселок Возрождение', 'поселок Войсковицы',\n",
       "       'поселок Володарское', 'поселок Гаврилово', 'поселок Гарболово',\n",
       "       'поселок Гладкое', 'поселок Глажево', 'поселок Глебычево',\n",
       "       'поселок Гончарово', 'поселок Громово', 'поселок Дружноселье',\n",
       "       'поселок Елизаветино', 'поселок Жилгородок', 'поселок Жилпосёлок',\n",
       "       'поселок Житково', 'поселок Заводской', 'поселок Запорожское',\n",
       "       'поселок Зимитицы', 'поселок Ильичёво', 'поселок Калитино',\n",
       "       'поселок Каложицы', 'поселок Кингисеппский', 'поселок Кирпичное',\n",
       "       'поселок Кобралово', 'поселок Кобринское', 'поселок Коммунары',\n",
       "       'поселок Коробицыно', 'поселок Котельский',\n",
       "       'поселок Красная Долина', 'поселок Красносельское',\n",
       "       'поселок Лесное', 'поселок Лисий Нос', 'поселок Лукаши',\n",
       "       'поселок Любань', 'поселок Мельниково', 'поселок Мичуринское',\n",
       "       'поселок Молодцово', 'поселок Мурино', 'поселок Новый Свет',\n",
       "       'поселок Новый Учхоз', 'поселок Оредеж',\n",
       "       'поселок Пансионат Зелёный Бор', 'поселок Первомайское',\n",
       "       'поселок Перово', 'поселок Петровское', 'поселок Победа',\n",
       "       'поселок Поляны', 'поселок Почап', 'поселок Починок',\n",
       "       'поселок Пушное', 'поселок Пчевжа', 'поселок Рабитицы',\n",
       "       'поселок Романовка', 'поселок Ромашки', 'поселок Рябово',\n",
       "       'поселок Севастьяново', 'поселок Селезнёво', 'поселок Сельцо',\n",
       "       'поселок Семиозерье', 'поселок Семрино', 'поселок Серебрянский',\n",
       "       'поселок Совхозный', 'поселок Старая Малукса',\n",
       "       'поселок Стеклянный', 'поселок Сумино', 'поселок Суходолье',\n",
       "       'поселок Тельмана', 'поселок Терволово', 'поселок Торковичи',\n",
       "       'поселок Тёсово-4', 'поселок Углово', 'поселок Усть-Луга',\n",
       "       'поселок Ушаки', 'поселок Цвелодубово', 'поселок Цвылёво',\n",
       "       'поселок городского типа Большая Ижора',\n",
       "       'поселок городского типа Вырица',\n",
       "       'поселок городского типа Дружная Горка',\n",
       "       'поселок городского типа Дубровка',\n",
       "       'поселок городского типа Ефимовский',\n",
       "       'поселок городского типа Кондратьево',\n",
       "       'поселок городского типа Красный Бор',\n",
       "       'поселок городского типа Кузьмоловский',\n",
       "       'поселок городского типа Лебяжье',\n",
       "       'поселок городского типа Лесогорский',\n",
       "       'поселок городского типа Назия',\n",
       "       'поселок городского типа Никольский',\n",
       "       'поселок городского типа Приладожский',\n",
       "       'поселок городского типа Рахья', 'поселок городского типа Рощино',\n",
       "       'поселок городского типа Рябово',\n",
       "       'поселок городского типа Синявино',\n",
       "       'поселок городского типа Советский',\n",
       "       'поселок городского типа Токсово',\n",
       "       'поселок городского типа Форносово',\n",
       "       'поселок городского типа имени Свердлова',\n",
       "       'поселок станции Вещево', 'поселок станции Корнево',\n",
       "       'поселок станции Лужайка', 'поселок станции Приветнинское',\n",
       "       'посёлок Александровская', 'посёлок Алексеевка', 'посёлок Аннино',\n",
       "       'посёлок Белоостров', 'посёлок Бугры', 'посёлок Возрождение',\n",
       "       'посёлок Войскорово', 'посёлок Высокоключевой',\n",
       "       'посёлок Гаврилово', 'посёлок Дзержинского', 'посёлок Жилгородок',\n",
       "       'посёлок Ильичёво', 'посёлок Кикерино', 'посёлок Кобралово',\n",
       "       'посёлок Коробицыно', 'посёлок Левашово', 'посёлок Ленинское',\n",
       "       'посёлок Лисий Нос', 'посёлок Мельниково', 'посёлок Металлострой',\n",
       "       'посёлок Мичуринское', 'посёлок Молодёжное', 'посёлок Мурино',\n",
       "       'посёлок Мыза-Ивановка', 'посёлок Новогорелово',\n",
       "       'посёлок Новый Свет', 'посёлок Пансионат Зелёный Бор',\n",
       "       'посёлок Парголово', 'посёлок Перово', 'посёлок Песочный',\n",
       "       'посёлок Петро-Славянка', 'посёлок Петровское',\n",
       "       'посёлок Платформа 69-й километр', 'посёлок Плодовое',\n",
       "       'посёлок Плоское', 'посёлок Победа', 'посёлок Поляны',\n",
       "       'посёлок Понтонный', 'посёлок Пригородный', 'посёлок Пудость',\n",
       "       'посёлок Репино', 'посёлок Ропша', 'посёлок Сапёрное',\n",
       "       'посёлок Сапёрный', 'посёлок Сосново', 'посёлок Старая Малукса',\n",
       "       'посёлок Стеклянный', 'посёлок Стрельна', 'посёлок Суйда',\n",
       "       'посёлок Сумино', 'посёлок Тельмана', 'посёлок Терволово',\n",
       "       'посёлок Торфяное', 'посёлок Усть-Ижора', 'посёлок Усть-Луга',\n",
       "       'посёлок Форт Красная Горка', 'посёлок Шугозеро', 'посёлок Шушары',\n",
       "       'посёлок Щеглово', 'посёлок городского типа Важины',\n",
       "       'посёлок городского типа Вознесенье',\n",
       "       'посёлок городского типа Вырица',\n",
       "       'посёлок городского типа Красный Бор',\n",
       "       'посёлок городского типа Кузнечное',\n",
       "       'посёлок городского типа Кузьмоловский',\n",
       "       'посёлок городского типа Лебяжье', 'посёлок городского типа Мга',\n",
       "       'посёлок городского типа Павлово',\n",
       "       'посёлок городского типа Рощино', 'посёлок городского типа Рябово',\n",
       "       'посёлок городского типа Сиверский',\n",
       "       'посёлок городского типа Тайцы', 'посёлок городского типа Токсово',\n",
       "       'посёлок городского типа Ульяновка',\n",
       "       'посёлок городского типа Форносово',\n",
       "       'посёлок городского типа имени Морозова',\n",
       "       'посёлок городского типа имени Свердлова',\n",
       "       'посёлок при железнодорожной станции Вещево',\n",
       "       'посёлок при железнодорожной станции Приветнинское',\n",
       "       'посёлок станции Громово', 'посёлок станции Свирь',\n",
       "       'садоводческое некоммерческое товарищество Лесная Поляна',\n",
       "       'садовое товарищество Новая Ропша',\n",
       "       'садовое товарищество Приладожский', 'садовое товарищество Рахья',\n",
       "       'садовое товарищество Садко', 'село Копорье', 'село Никольское',\n",
       "       'село Павлово', 'село Паша', 'село Путилово', 'село Рождествено',\n",
       "       'село Русско-Высоцкое', 'село Старая Ладога', 'село Шум'],\n",
       "      dtype=object)"
      ]
     },
     "execution_count": 26,
     "metadata": {},
     "output_type": "execute_result"
    }
   ],
   "source": [
    "# получим список всех уникальных значений\n",
    "\n",
    "df['locality_name'].sort_values().unique()"
   ]
  },
  {
   "cell_type": "code",
   "execution_count": 27,
   "metadata": {},
   "outputs": [],
   "source": [
    "df = df.apply(lambda x: x.replace({'деревня Кудрово': 'Кудрово', 'поселок Мурино': 'Мурино','посёлок': 'поселок', 'городской поселок': 'поселок', 'городской посёлок': 'поселок',\n",
    "    'поселок городского типа': 'поселок', 'посёлок городского типа': 'поселок', 'коттеджный посёлок': 'поселок',\n",
    "    'коттеджный поселок': 'поселок', 'посёлок при железнодорожной станции': 'поселок станции', 'посёлок станции': 'поселок станции',\n",
    "    'садоводческое некоммерческое товарищество': 'садовое товарищество'}, regex=True))"
   ]
  },
  {
   "cell_type": "markdown",
   "metadata": {},
   "source": [
    "Привели названия населенных пунктов к одному виду, заменив названия \"посёлок\" на \"поселок\" и т.д."
   ]
  },
  {
   "cell_type": "code",
   "execution_count": 65,
   "metadata": {},
   "outputs": [
    {
     "data": {
      "text/plain": [
       "338"
      ]
     },
     "execution_count": 65,
     "metadata": {},
     "output_type": "execute_result"
    }
   ],
   "source": [
    "# колчичество населенных пунктов\n",
    "\n",
    "len(df['locality_name'].unique())"
   ]
  },
  {
   "cell_type": "markdown",
   "metadata": {},
   "source": [
    "### Найдем редкие и выбивающиеся значения."
   ]
  },
  {
   "cell_type": "code",
   "execution_count": 29,
   "metadata": {
    "scrolled": false
   },
   "outputs": [
    {
     "data": {
      "text/html": [
       "<div>\n",
       "<style scoped>\n",
       "    .dataframe tbody tr th:only-of-type {\n",
       "        vertical-align: middle;\n",
       "    }\n",
       "\n",
       "    .dataframe tbody tr th {\n",
       "        vertical-align: top;\n",
       "    }\n",
       "\n",
       "    .dataframe thead th {\n",
       "        text-align: right;\n",
       "    }\n",
       "</style>\n",
       "<table border=\"1\" class=\"dataframe\">\n",
       "  <thead>\n",
       "    <tr style=\"text-align: right;\">\n",
       "      <th></th>\n",
       "      <th>last_price</th>\n",
       "      <th>total_area</th>\n",
       "      <th>first_day_exposition</th>\n",
       "      <th>rooms</th>\n",
       "      <th>ceiling_height</th>\n",
       "      <th>floors_total</th>\n",
       "      <th>living_area</th>\n",
       "      <th>floor</th>\n",
       "      <th>studio</th>\n",
       "      <th>open_plan</th>\n",
       "      <th>kitchen_area</th>\n",
       "      <th>balcony</th>\n",
       "      <th>locality_name</th>\n",
       "      <th>airports_nearest</th>\n",
       "      <th>city_centers_nearest</th>\n",
       "      <th>parks_around_3000</th>\n",
       "      <th>parks_nearest</th>\n",
       "      <th>ponds_around_3000</th>\n",
       "      <th>ponds_nearest</th>\n",
       "      <th>days_exposition</th>\n",
       "    </tr>\n",
       "  </thead>\n",
       "  <tbody>\n",
       "    <tr>\n",
       "      <th>22869</th>\n",
       "      <td>15000000</td>\n",
       "      <td>25.0</td>\n",
       "      <td>2018-07-25</td>\n",
       "      <td>1</td>\n",
       "      <td>100.0</td>\n",
       "      <td>5</td>\n",
       "      <td>14.0</td>\n",
       "      <td>5</td>\n",
       "      <td>False</td>\n",
       "      <td>False</td>\n",
       "      <td>11.00000</td>\n",
       "      <td>5</td>\n",
       "      <td>Санкт-Петербург</td>\n",
       "      <td>34963</td>\n",
       "      <td>8283</td>\n",
       "      <td>1</td>\n",
       "      <td>223</td>\n",
       "      <td>3</td>\n",
       "      <td>30</td>\n",
       "      <td>19</td>\n",
       "    </tr>\n",
       "    <tr>\n",
       "      <th>3148</th>\n",
       "      <td>2900000</td>\n",
       "      <td>75.0</td>\n",
       "      <td>2018-11-12</td>\n",
       "      <td>3</td>\n",
       "      <td>32.0</td>\n",
       "      <td>3</td>\n",
       "      <td>53.0</td>\n",
       "      <td>2</td>\n",
       "      <td>False</td>\n",
       "      <td>False</td>\n",
       "      <td>8.00000</td>\n",
       "      <td>0</td>\n",
       "      <td>Волхов</td>\n",
       "      <td>0</td>\n",
       "      <td>0</td>\n",
       "      <td>0</td>\n",
       "      <td>0</td>\n",
       "      <td>0</td>\n",
       "      <td>0</td>\n",
       "      <td>0</td>\n",
       "    </tr>\n",
       "    <tr>\n",
       "      <th>22336</th>\n",
       "      <td>9999000</td>\n",
       "      <td>92.4</td>\n",
       "      <td>2019-04-05</td>\n",
       "      <td>2</td>\n",
       "      <td>32.0</td>\n",
       "      <td>6</td>\n",
       "      <td>55.5</td>\n",
       "      <td>5</td>\n",
       "      <td>False</td>\n",
       "      <td>False</td>\n",
       "      <td>16.50000</td>\n",
       "      <td>4</td>\n",
       "      <td>Санкт-Петербург</td>\n",
       "      <td>18838</td>\n",
       "      <td>3506</td>\n",
       "      <td>0</td>\n",
       "      <td>0</td>\n",
       "      <td>3</td>\n",
       "      <td>511</td>\n",
       "      <td>0</td>\n",
       "    </tr>\n",
       "    <tr>\n",
       "      <th>21377</th>\n",
       "      <td>4900000</td>\n",
       "      <td>42.0</td>\n",
       "      <td>2017-04-18</td>\n",
       "      <td>1</td>\n",
       "      <td>27.5</td>\n",
       "      <td>24</td>\n",
       "      <td>37.7</td>\n",
       "      <td>19</td>\n",
       "      <td>False</td>\n",
       "      <td>False</td>\n",
       "      <td>11.00000</td>\n",
       "      <td>2</td>\n",
       "      <td>Санкт-Петербург</td>\n",
       "      <td>42742</td>\n",
       "      <td>9760</td>\n",
       "      <td>0</td>\n",
       "      <td>0</td>\n",
       "      <td>0</td>\n",
       "      <td>0</td>\n",
       "      <td>61</td>\n",
       "    </tr>\n",
       "    <tr>\n",
       "      <th>4876</th>\n",
       "      <td>3000000</td>\n",
       "      <td>25.0</td>\n",
       "      <td>2017-09-27</td>\n",
       "      <td>0</td>\n",
       "      <td>27.0</td>\n",
       "      <td>25</td>\n",
       "      <td>17.0</td>\n",
       "      <td>17</td>\n",
       "      <td>False</td>\n",
       "      <td>True</td>\n",
       "      <td>NaN</td>\n",
       "      <td>2</td>\n",
       "      <td>поселок Мурино</td>\n",
       "      <td>0</td>\n",
       "      <td>0</td>\n",
       "      <td>0</td>\n",
       "      <td>0</td>\n",
       "      <td>0</td>\n",
       "      <td>0</td>\n",
       "      <td>28</td>\n",
       "    </tr>\n",
       "    <tr>\n",
       "      <th>17857</th>\n",
       "      <td>3900000</td>\n",
       "      <td>56.0</td>\n",
       "      <td>2017-12-22</td>\n",
       "      <td>3</td>\n",
       "      <td>27.0</td>\n",
       "      <td>5</td>\n",
       "      <td>33.0</td>\n",
       "      <td>4</td>\n",
       "      <td>False</td>\n",
       "      <td>False</td>\n",
       "      <td>11.30858</td>\n",
       "      <td>0</td>\n",
       "      <td>Санкт-Петербург</td>\n",
       "      <td>41030</td>\n",
       "      <td>15543</td>\n",
       "      <td>0</td>\n",
       "      <td>0</td>\n",
       "      <td>0</td>\n",
       "      <td>0</td>\n",
       "      <td>73</td>\n",
       "    </tr>\n",
       "    <tr>\n",
       "      <th>5246</th>\n",
       "      <td>2500000</td>\n",
       "      <td>54.0</td>\n",
       "      <td>2017-10-13</td>\n",
       "      <td>2</td>\n",
       "      <td>27.0</td>\n",
       "      <td>5</td>\n",
       "      <td>30.0</td>\n",
       "      <td>3</td>\n",
       "      <td>False</td>\n",
       "      <td>False</td>\n",
       "      <td>9.00000</td>\n",
       "      <td>2</td>\n",
       "      <td>деревня Мины</td>\n",
       "      <td>0</td>\n",
       "      <td>0</td>\n",
       "      <td>0</td>\n",
       "      <td>0</td>\n",
       "      <td>0</td>\n",
       "      <td>0</td>\n",
       "      <td>540</td>\n",
       "    </tr>\n",
       "    <tr>\n",
       "      <th>20478</th>\n",
       "      <td>8000000</td>\n",
       "      <td>45.0</td>\n",
       "      <td>2017-07-18</td>\n",
       "      <td>1</td>\n",
       "      <td>27.0</td>\n",
       "      <td>4</td>\n",
       "      <td>22.0</td>\n",
       "      <td>2</td>\n",
       "      <td>False</td>\n",
       "      <td>False</td>\n",
       "      <td>10.00000</td>\n",
       "      <td>1</td>\n",
       "      <td>Санкт-Петербург</td>\n",
       "      <td>18975</td>\n",
       "      <td>3246</td>\n",
       "      <td>0</td>\n",
       "      <td>0</td>\n",
       "      <td>3</td>\n",
       "      <td>449</td>\n",
       "      <td>429</td>\n",
       "    </tr>\n",
       "    <tr>\n",
       "      <th>22938</th>\n",
       "      <td>4000000</td>\n",
       "      <td>98.0</td>\n",
       "      <td>2018-03-15</td>\n",
       "      <td>4</td>\n",
       "      <td>27.0</td>\n",
       "      <td>2</td>\n",
       "      <td>73.0</td>\n",
       "      <td>2</td>\n",
       "      <td>False</td>\n",
       "      <td>False</td>\n",
       "      <td>9.00000</td>\n",
       "      <td>1</td>\n",
       "      <td>деревня Нижняя</td>\n",
       "      <td>0</td>\n",
       "      <td>0</td>\n",
       "      <td>0</td>\n",
       "      <td>0</td>\n",
       "      <td>0</td>\n",
       "      <td>0</td>\n",
       "      <td>27</td>\n",
       "    </tr>\n",
       "    <tr>\n",
       "      <th>5807</th>\n",
       "      <td>8150000</td>\n",
       "      <td>80.0</td>\n",
       "      <td>2019-01-09</td>\n",
       "      <td>2</td>\n",
       "      <td>27.0</td>\n",
       "      <td>36</td>\n",
       "      <td>41.0</td>\n",
       "      <td>13</td>\n",
       "      <td>False</td>\n",
       "      <td>False</td>\n",
       "      <td>12.00000</td>\n",
       "      <td>5</td>\n",
       "      <td>Санкт-Петербург</td>\n",
       "      <td>18732</td>\n",
       "      <td>20444</td>\n",
       "      <td>0</td>\n",
       "      <td>0</td>\n",
       "      <td>3</td>\n",
       "      <td>80</td>\n",
       "      <td>38</td>\n",
       "    </tr>\n",
       "  </tbody>\n",
       "</table>\n",
       "</div>"
      ],
      "text/plain": [
       "       last_price  total_area first_day_exposition  rooms  ceiling_height  \\\n",
       "22869    15000000        25.0           2018-07-25      1           100.0   \n",
       "3148      2900000        75.0           2018-11-12      3            32.0   \n",
       "22336     9999000        92.4           2019-04-05      2            32.0   \n",
       "21377     4900000        42.0           2017-04-18      1            27.5   \n",
       "4876      3000000        25.0           2017-09-27      0            27.0   \n",
       "17857     3900000        56.0           2017-12-22      3            27.0   \n",
       "5246      2500000        54.0           2017-10-13      2            27.0   \n",
       "20478     8000000        45.0           2017-07-18      1            27.0   \n",
       "22938     4000000        98.0           2018-03-15      4            27.0   \n",
       "5807      8150000        80.0           2019-01-09      2            27.0   \n",
       "\n",
       "       floors_total  living_area  floor  studio  open_plan  kitchen_area  \\\n",
       "22869             5         14.0      5   False      False      11.00000   \n",
       "3148              3         53.0      2   False      False       8.00000   \n",
       "22336             6         55.5      5   False      False      16.50000   \n",
       "21377            24         37.7     19   False      False      11.00000   \n",
       "4876             25         17.0     17   False       True           NaN   \n",
       "17857             5         33.0      4   False      False      11.30858   \n",
       "5246              5         30.0      3   False      False       9.00000   \n",
       "20478             4         22.0      2   False      False      10.00000   \n",
       "22938             2         73.0      2   False      False       9.00000   \n",
       "5807             36         41.0     13   False      False      12.00000   \n",
       "\n",
       "       balcony    locality_name  airports_nearest  city_centers_nearest  \\\n",
       "22869        5  Санкт-Петербург             34963                  8283   \n",
       "3148         0           Волхов                 0                     0   \n",
       "22336        4  Санкт-Петербург             18838                  3506   \n",
       "21377        2  Санкт-Петербург             42742                  9760   \n",
       "4876         2   поселок Мурино                 0                     0   \n",
       "17857        0  Санкт-Петербург             41030                 15543   \n",
       "5246         2     деревня Мины                 0                     0   \n",
       "20478        1  Санкт-Петербург             18975                  3246   \n",
       "22938        1   деревня Нижняя                 0                     0   \n",
       "5807         5  Санкт-Петербург             18732                 20444   \n",
       "\n",
       "       parks_around_3000  parks_nearest  ponds_around_3000  ponds_nearest  \\\n",
       "22869                  1            223                  3             30   \n",
       "3148                   0              0                  0              0   \n",
       "22336                  0              0                  3            511   \n",
       "21377                  0              0                  0              0   \n",
       "4876                   0              0                  0              0   \n",
       "17857                  0              0                  0              0   \n",
       "5246                   0              0                  0              0   \n",
       "20478                  0              0                  3            449   \n",
       "22938                  0              0                  0              0   \n",
       "5807                   0              0                  3             80   \n",
       "\n",
       "       days_exposition  \n",
       "22869               19  \n",
       "3148                 0  \n",
       "22336                0  \n",
       "21377               61  \n",
       "4876                28  \n",
       "17857               73  \n",
       "5246               540  \n",
       "20478              429  \n",
       "22938               27  \n",
       "5807                38  "
      ]
     },
     "execution_count": 29,
     "metadata": {},
     "output_type": "execute_result"
    }
   ],
   "source": [
    "# из описательной статистики мы увидели аномальные значения в столбце ceiling_height, рассмотрим далее\n",
    "\n",
    "df.sort_values(by='ceiling_height', ascending=False).head(10)"
   ]
  },
  {
   "cell_type": "markdown",
   "metadata": {},
   "source": [
    "Исправим аномальные значения высоты потолка, к примеру высота потолка \"27\" метров есть высота \"2,7\" метра. Разделим все значения высоты потолка превышаюшие 20 метров на 10."
   ]
  },
  {
   "cell_type": "code",
   "execution_count": 30,
   "metadata": {},
   "outputs": [],
   "source": [
    "df.loc[(df['ceiling_height'] >= 20) & (~pd.isna(df['ceiling_height'])),'ceiling_height']  = df['ceiling_height'] / 10"
   ]
  },
  {
   "cell_type": "markdown",
   "metadata": {},
   "source": [
    "Проанализируем важные для исследования параметры, такие как стоимость квартиры, количество комнат и общую площать. В данных имеются аномально высокие значения это было видно на гистограммах и зачениях описательной статистики, достаточно взглянуть на максимальные значения диапазона и разницу между медианой и средне арифметическим, это говорит о том что присутствуют выбросы. Воспользуемся методом построения диаграмм размаха."
   ]
  },
  {
   "cell_type": "code",
   "execution_count": 31,
   "metadata": {},
   "outputs": [
    {
     "data": {
      "text/plain": [
       "<AxesSubplot:>"
      ]
     },
     "execution_count": 31,
     "metadata": {},
     "output_type": "execute_result"
    },
    {
     "data": {
      "image/png": "[encoded data removed]",
      "text/plain": [
       "<Figure size 432x288 with 1 Axes>"
      ]
     },
     "metadata": {
      "needs_background": "light"
     },
     "output_type": "display_data"
    }
   ],
   "source": [
    "# диаграмма размаха для цены объекта\n",
    "\n",
    "plt.ylim(0, 20000000)\n",
    "df.boxplot(['last_price'])"
   ]
  },
  {
   "cell_type": "code",
   "execution_count": 32,
   "metadata": {},
   "outputs": [
    {
     "data": {
      "text/plain": [
       "<AxesSubplot:>"
      ]
     },
     "execution_count": 32,
     "metadata": {},
     "output_type": "execute_result"
    },
    {
     "data": {
      "image/png": "[encoded data removed]",
      "text/plain": [
       "<Figure size 432x288 with 1 Axes>"
      ]
     },
     "metadata": {
      "needs_background": "light"
     },
     "output_type": "display_data"
    }
   ],
   "source": [
    "# диаграмма размаха для количества комнат\n",
    "\n",
    "plt.ylim(0, 20)\n",
    "df.boxplot(['rooms'])"
   ]
  },
  {
   "cell_type": "code",
   "execution_count": 33,
   "metadata": {
    "scrolled": true
   },
   "outputs": [
    {
     "data": {
      "text/plain": [
       "<AxesSubplot:>"
      ]
     },
     "execution_count": 33,
     "metadata": {},
     "output_type": "execute_result"
    },
    {
     "data": {
      "image/png": "[encoded data removed]",
      "text/plain": [
       "<Figure size 432x288 with 1 Axes>"
      ]
     },
     "metadata": {
      "needs_background": "light"
     },
     "output_type": "display_data"
    }
   ],
   "source": [
    "# диаграмма размаха для общей площади\n",
    "\n",
    "plt.ylim(0, 200)\n",
    "df.boxplot(['total_area'])"
   ]
  },
  {
   "cell_type": "markdown",
   "metadata": {},
   "source": [
    "- На диаграмме размаха видно большое количество выбросов за пределами нормальных значений, начиная с цены 15 млн. будем считать это верхней границей. Медианное значение составляет около  5 млн.\n",
    "- На диаграмме количества комнат предел нормальных значений - 6 комнат, свыше идут выбросы вплоть до 19  комнат, эти данные также исключим из выборки.\n",
    "- Общая площать составляет  от 40 до 60 м, с медианой 55. Разброс значений от 10 до 120 метро за объект недвижимости"
   ]
  },
  {
   "cell_type": "code",
   "execution_count": 34,
   "metadata": {},
   "outputs": [],
   "source": [
    "# обновим данные датасета в соотвествии с новыми параметрами\n",
    "\n",
    "good_df = df[(df['last_price'] >=1000000) & (df['last_price'] <=15000000) & \\\n",
    "            (df['rooms'] >=1) & (df['rooms'] <= 6)  & \\\n",
    "            (df['total_area'] >=10) & (df['total_area'] <=120)]"
   ]
  },
  {
   "cell_type": "code",
   "execution_count": 35,
   "metadata": {},
   "outputs": [
    {
     "data": {
      "text/plain": [
       "0.9189417274990506"
      ]
     },
     "execution_count": 35,
     "metadata": {},
     "output_type": "execute_result"
    }
   ],
   "source": [
    "good_df.shape[0] / df.shape[0]"
   ]
  },
  {
   "cell_type": "markdown",
   "metadata": {},
   "source": [
    "Отбросили порядка 8% данных, что является допустимым."
   ]
  },
  {
   "cell_type": "markdown",
   "metadata": {},
   "source": [
    "## Добавим в таблицу новые столбцы"
   ]
  },
  {
   "cell_type": "markdown",
   "metadata": {},
   "source": [
    "Дополним дата сет новыми столбцами, добавим количественные и категориальные значения для выявления взаимосвязей."
   ]
  },
  {
   "cell_type": "code",
   "execution_count": 36,
   "metadata": {},
   "outputs": [],
   "source": [
    "# столбец с информацией о цене за квадратный метр\n",
    "\n",
    "good_df['price_qm'] = np.round(good_df['last_price']/good_df['total_area'])"
   ]
  },
  {
   "cell_type": "code",
   "execution_count": 37,
   "metadata": {},
   "outputs": [],
   "source": [
    "# столбцы о годах, месяцах и днях. Например определить, в каком месяце больше всего продаж\n",
    "\n",
    "good_df['day'] = good_df['first_day_exposition'].dt.weekday\n",
    "good_df['month'] = good_df['first_day_exposition'].dt.month\n",
    "good_df['year'] = good_df['first_day_exposition'].dt.year\n",
    "\n",
    "# создадим список дней недели\n",
    "\n",
    "day_to_number = {0: 'Mon', 1: 'Tue', 2: 'Wed', 3: 'Thu', 4: 'Fri', 5: 'Sat', 6: 'Sun'}\n",
    "good_df['day'] = good_df['day'].map(day_to_number)"
   ]
  },
  {
   "cell_type": "code",
   "execution_count": 38,
   "metadata": {},
   "outputs": [],
   "source": [
    "# добавим категорию типа этажа\n",
    "\n",
    "def floor_type(df):\n",
    "    if df['floor'] == 1:\n",
    "        return 'первый'\n",
    "    elif df['floor'] == df['floors_total']:\n",
    "        return 'последний'\n",
    "    else:\n",
    "        return 'другой'\n",
    "\n",
    "good_df['floor_type'] = good_df.apply(floor_type, axis=1)"
   ]
  },
  {
   "cell_type": "code",
   "execution_count": 39,
   "metadata": {},
   "outputs": [],
   "source": [
    "# добавим расстояние до центра города\n",
    "\n",
    "good_df['dist_to_center'] = np.round(good_df['city_centers_nearest'] / 1000)"
   ]
  },
  {
   "cell_type": "code",
   "execution_count": 40,
   "metadata": {
    "scrolled": true
   },
   "outputs": [
    {
     "data": {
      "text/html": [
       "<div>\n",
       "<style scoped>\n",
       "    .dataframe tbody tr th:only-of-type {\n",
       "        vertical-align: middle;\n",
       "    }\n",
       "\n",
       "    .dataframe tbody tr th {\n",
       "        vertical-align: top;\n",
       "    }\n",
       "\n",
       "    .dataframe thead th {\n",
       "        text-align: right;\n",
       "    }\n",
       "</style>\n",
       "<table border=\"1\" class=\"dataframe\">\n",
       "  <thead>\n",
       "    <tr style=\"text-align: right;\">\n",
       "      <th></th>\n",
       "      <th>index</th>\n",
       "      <th>last_price</th>\n",
       "      <th>total_area</th>\n",
       "      <th>first_day_exposition</th>\n",
       "      <th>rooms</th>\n",
       "      <th>ceiling_height</th>\n",
       "      <th>floors_total</th>\n",
       "      <th>living_area</th>\n",
       "      <th>floor</th>\n",
       "      <th>studio</th>\n",
       "      <th>open_plan</th>\n",
       "      <th>kitchen_area</th>\n",
       "      <th>balcony</th>\n",
       "      <th>locality_name</th>\n",
       "      <th>airports_nearest</th>\n",
       "      <th>city_centers_nearest</th>\n",
       "      <th>parks_around_3000</th>\n",
       "      <th>parks_nearest</th>\n",
       "      <th>ponds_around_3000</th>\n",
       "      <th>ponds_nearest</th>\n",
       "      <th>days_exposition</th>\n",
       "      <th>price_qm</th>\n",
       "      <th>day</th>\n",
       "      <th>month</th>\n",
       "      <th>year</th>\n",
       "      <th>floor_type</th>\n",
       "      <th>dist_to_center</th>\n",
       "    </tr>\n",
       "  </thead>\n",
       "  <tbody>\n",
       "    <tr>\n",
       "      <th>0</th>\n",
       "      <td>0</td>\n",
       "      <td>13000000</td>\n",
       "      <td>108.0</td>\n",
       "      <td>2019-03-07</td>\n",
       "      <td>3</td>\n",
       "      <td>2.70</td>\n",
       "      <td>16</td>\n",
       "      <td>51.0</td>\n",
       "      <td>8</td>\n",
       "      <td>False</td>\n",
       "      <td>False</td>\n",
       "      <td>25.0</td>\n",
       "      <td>0</td>\n",
       "      <td>Санкт-Петербург</td>\n",
       "      <td>18863</td>\n",
       "      <td>16028</td>\n",
       "      <td>1</td>\n",
       "      <td>482</td>\n",
       "      <td>2</td>\n",
       "      <td>755</td>\n",
       "      <td>0</td>\n",
       "      <td>120370.0</td>\n",
       "      <td>Thu</td>\n",
       "      <td>3</td>\n",
       "      <td>2019</td>\n",
       "      <td>другой</td>\n",
       "      <td>16.0</td>\n",
       "    </tr>\n",
       "    <tr>\n",
       "      <th>1</th>\n",
       "      <td>1</td>\n",
       "      <td>3350000</td>\n",
       "      <td>40.4</td>\n",
       "      <td>2018-12-04</td>\n",
       "      <td>1</td>\n",
       "      <td>2.65</td>\n",
       "      <td>11</td>\n",
       "      <td>18.6</td>\n",
       "      <td>1</td>\n",
       "      <td>False</td>\n",
       "      <td>False</td>\n",
       "      <td>11.0</td>\n",
       "      <td>2</td>\n",
       "      <td>поселок Шушары</td>\n",
       "      <td>12817</td>\n",
       "      <td>18603</td>\n",
       "      <td>0</td>\n",
       "      <td>0</td>\n",
       "      <td>0</td>\n",
       "      <td>0</td>\n",
       "      <td>81</td>\n",
       "      <td>82921.0</td>\n",
       "      <td>Tue</td>\n",
       "      <td>12</td>\n",
       "      <td>2018</td>\n",
       "      <td>первый</td>\n",
       "      <td>19.0</td>\n",
       "    </tr>\n",
       "    <tr>\n",
       "      <th>2</th>\n",
       "      <td>2</td>\n",
       "      <td>5196000</td>\n",
       "      <td>56.0</td>\n",
       "      <td>2015-08-20</td>\n",
       "      <td>2</td>\n",
       "      <td>2.65</td>\n",
       "      <td>5</td>\n",
       "      <td>34.3</td>\n",
       "      <td>4</td>\n",
       "      <td>False</td>\n",
       "      <td>False</td>\n",
       "      <td>8.3</td>\n",
       "      <td>0</td>\n",
       "      <td>Санкт-Петербург</td>\n",
       "      <td>21741</td>\n",
       "      <td>13933</td>\n",
       "      <td>1</td>\n",
       "      <td>90</td>\n",
       "      <td>2</td>\n",
       "      <td>574</td>\n",
       "      <td>558</td>\n",
       "      <td>92786.0</td>\n",
       "      <td>Thu</td>\n",
       "      <td>8</td>\n",
       "      <td>2015</td>\n",
       "      <td>другой</td>\n",
       "      <td>14.0</td>\n",
       "    </tr>\n",
       "    <tr>\n",
       "      <th>3</th>\n",
       "      <td>4</td>\n",
       "      <td>10000000</td>\n",
       "      <td>100.0</td>\n",
       "      <td>2018-06-19</td>\n",
       "      <td>2</td>\n",
       "      <td>3.03</td>\n",
       "      <td>14</td>\n",
       "      <td>32.0</td>\n",
       "      <td>13</td>\n",
       "      <td>False</td>\n",
       "      <td>False</td>\n",
       "      <td>41.0</td>\n",
       "      <td>0</td>\n",
       "      <td>Санкт-Петербург</td>\n",
       "      <td>31856</td>\n",
       "      <td>8098</td>\n",
       "      <td>2</td>\n",
       "      <td>112</td>\n",
       "      <td>1</td>\n",
       "      <td>48</td>\n",
       "      <td>121</td>\n",
       "      <td>100000.0</td>\n",
       "      <td>Tue</td>\n",
       "      <td>6</td>\n",
       "      <td>2018</td>\n",
       "      <td>другой</td>\n",
       "      <td>8.0</td>\n",
       "    </tr>\n",
       "    <tr>\n",
       "      <th>4</th>\n",
       "      <td>5</td>\n",
       "      <td>2890000</td>\n",
       "      <td>30.4</td>\n",
       "      <td>2018-09-10</td>\n",
       "      <td>1</td>\n",
       "      <td>2.65</td>\n",
       "      <td>12</td>\n",
       "      <td>14.4</td>\n",
       "      <td>5</td>\n",
       "      <td>False</td>\n",
       "      <td>False</td>\n",
       "      <td>9.1</td>\n",
       "      <td>0</td>\n",
       "      <td>городской поселок Янино-1</td>\n",
       "      <td>0</td>\n",
       "      <td>0</td>\n",
       "      <td>0</td>\n",
       "      <td>0</td>\n",
       "      <td>0</td>\n",
       "      <td>0</td>\n",
       "      <td>55</td>\n",
       "      <td>95066.0</td>\n",
       "      <td>Mon</td>\n",
       "      <td>9</td>\n",
       "      <td>2018</td>\n",
       "      <td>другой</td>\n",
       "      <td>0.0</td>\n",
       "    </tr>\n",
       "  </tbody>\n",
       "</table>\n",
       "</div>"
      ],
      "text/plain": [
       "   index  last_price  total_area first_day_exposition  rooms  ceiling_height  \\\n",
       "0      0    13000000       108.0           2019-03-07      3            2.70   \n",
       "1      1     3350000        40.4           2018-12-04      1            2.65   \n",
       "2      2     5196000        56.0           2015-08-20      2            2.65   \n",
       "3      4    10000000       100.0           2018-06-19      2            3.03   \n",
       "4      5     2890000        30.4           2018-09-10      1            2.65   \n",
       "\n",
       "   floors_total  living_area  floor  studio  open_plan  kitchen_area  balcony  \\\n",
       "0            16         51.0      8   False      False          25.0        0   \n",
       "1            11         18.6      1   False      False          11.0        2   \n",
       "2             5         34.3      4   False      False           8.3        0   \n",
       "3            14         32.0     13   False      False          41.0        0   \n",
       "4            12         14.4      5   False      False           9.1        0   \n",
       "\n",
       "               locality_name  airports_nearest  city_centers_nearest  \\\n",
       "0            Санкт-Петербург             18863                 16028   \n",
       "1             поселок Шушары             12817                 18603   \n",
       "2            Санкт-Петербург             21741                 13933   \n",
       "3            Санкт-Петербург             31856                  8098   \n",
       "4  городской поселок Янино-1                 0                     0   \n",
       "\n",
       "   parks_around_3000  parks_nearest  ponds_around_3000  ponds_nearest  \\\n",
       "0                  1            482                  2            755   \n",
       "1                  0              0                  0              0   \n",
       "2                  1             90                  2            574   \n",
       "3                  2            112                  1             48   \n",
       "4                  0              0                  0              0   \n",
       "\n",
       "   days_exposition  price_qm  day  month  year floor_type  dist_to_center  \n",
       "0                0  120370.0  Thu      3  2019     другой            16.0  \n",
       "1               81   82921.0  Tue     12  2018     первый            19.0  \n",
       "2              558   92786.0  Thu      8  2015     другой            14.0  \n",
       "3              121  100000.0  Tue      6  2018     другой             8.0  \n",
       "4               55   95066.0  Mon      9  2018     другой             0.0  "
      ]
     },
     "execution_count": 40,
     "metadata": {},
     "output_type": "execute_result"
    }
   ],
   "source": [
    "good_df.head().reset_index() # проверям обновленный датафрейм"
   ]
  },
  {
   "cell_type": "markdown",
   "metadata": {},
   "source": [
    "## Проведем исследовательский анализ данных"
   ]
  },
  {
   "cell_type": "markdown",
   "metadata": {},
   "source": [
    "### Воспользуемся методом описательной статистики, будем обращать внимание на средние значения и пределы нормальных значений."
   ]
  },
  {
   "cell_type": "code",
   "execution_count": 41,
   "metadata": {},
   "outputs": [
    {
     "data": {
      "text/html": [
       "<div>\n",
       "<style scoped>\n",
       "    .dataframe tbody tr th:only-of-type {\n",
       "        vertical-align: middle;\n",
       "    }\n",
       "\n",
       "    .dataframe tbody tr th {\n",
       "        vertical-align: top;\n",
       "    }\n",
       "\n",
       "    .dataframe thead th {\n",
       "        text-align: right;\n",
       "    }\n",
       "</style>\n",
       "<table border=\"1\" class=\"dataframe\">\n",
       "  <thead>\n",
       "    <tr style=\"text-align: right;\">\n",
       "      <th></th>\n",
       "      <th>last_price</th>\n",
       "      <th>total_area</th>\n",
       "      <th>rooms</th>\n",
       "      <th>ceiling_height</th>\n",
       "      <th>floors_total</th>\n",
       "      <th>living_area</th>\n",
       "      <th>floor</th>\n",
       "      <th>kitchen_area</th>\n",
       "      <th>balcony</th>\n",
       "      <th>airports_nearest</th>\n",
       "      <th>city_centers_nearest</th>\n",
       "      <th>parks_around_3000</th>\n",
       "      <th>parks_nearest</th>\n",
       "      <th>ponds_around_3000</th>\n",
       "      <th>ponds_nearest</th>\n",
       "      <th>days_exposition</th>\n",
       "      <th>price_qm</th>\n",
       "      <th>month</th>\n",
       "      <th>year</th>\n",
       "      <th>dist_to_center</th>\n",
       "    </tr>\n",
       "  </thead>\n",
       "  <tbody>\n",
       "    <tr>\n",
       "      <th>count</th>\n",
       "      <td>2.177800e+04</td>\n",
       "      <td>21778.000000</td>\n",
       "      <td>21778.000000</td>\n",
       "      <td>21778.000000</td>\n",
       "      <td>21778.000000</td>\n",
       "      <td>21778.000000</td>\n",
       "      <td>21778.000000</td>\n",
       "      <td>21778.000000</td>\n",
       "      <td>21778.000000</td>\n",
       "      <td>21778.000000</td>\n",
       "      <td>21778.000000</td>\n",
       "      <td>21778.000000</td>\n",
       "      <td>21778.000000</td>\n",
       "      <td>21778.000000</td>\n",
       "      <td>21778.000000</td>\n",
       "      <td>21778.000000</td>\n",
       "      <td>21778.000000</td>\n",
       "      <td>21778.000000</td>\n",
       "      <td>21778.000000</td>\n",
       "      <td>21778.000000</td>\n",
       "    </tr>\n",
       "    <tr>\n",
       "      <th>mean</th>\n",
       "      <td>5.135093e+06</td>\n",
       "      <td>54.376445</td>\n",
       "      <td>1.966618</td>\n",
       "      <td>2.679449</td>\n",
       "      <td>10.778630</td>\n",
       "      <td>31.156867</td>\n",
       "      <td>5.924741</td>\n",
       "      <td>9.854967</td>\n",
       "      <td>0.594453</td>\n",
       "      <td>22016.865369</td>\n",
       "      <td>11257.047663</td>\n",
       "      <td>0.434705</td>\n",
       "      <td>159.363991</td>\n",
       "      <td>0.550923</td>\n",
       "      <td>195.229038</td>\n",
       "      <td>153.372762</td>\n",
       "      <td>94382.378823</td>\n",
       "      <td>6.397144</td>\n",
       "      <td>2017.381486</td>\n",
       "      <td>11.252824</td>\n",
       "    </tr>\n",
       "    <tr>\n",
       "      <th>std</th>\n",
       "      <td>2.581256e+06</td>\n",
       "      <td>19.149644</td>\n",
       "      <td>0.893326</td>\n",
       "      <td>0.227548</td>\n",
       "      <td>6.638245</td>\n",
       "      <td>13.605975</td>\n",
       "      <td>4.909848</td>\n",
       "      <td>3.948043</td>\n",
       "      <td>0.952377</td>\n",
       "      <td>16687.377958</td>\n",
       "      <td>9739.323270</td>\n",
       "      <td>0.715536</td>\n",
       "      <td>299.761956</td>\n",
       "      <td>0.846973</td>\n",
       "      <td>305.739254</td>\n",
       "      <td>207.739488</td>\n",
       "      <td>30602.670336</td>\n",
       "      <td>3.488276</td>\n",
       "      <td>1.026861</td>\n",
       "      <td>9.741825</td>\n",
       "    </tr>\n",
       "    <tr>\n",
       "      <th>min</th>\n",
       "      <td>1.000000e+06</td>\n",
       "      <td>12.000000</td>\n",
       "      <td>1.000000</td>\n",
       "      <td>1.000000</td>\n",
       "      <td>0.000000</td>\n",
       "      <td>2.000000</td>\n",
       "      <td>1.000000</td>\n",
       "      <td>1.300000</td>\n",
       "      <td>0.000000</td>\n",
       "      <td>0.000000</td>\n",
       "      <td>0.000000</td>\n",
       "      <td>0.000000</td>\n",
       "      <td>0.000000</td>\n",
       "      <td>0.000000</td>\n",
       "      <td>0.000000</td>\n",
       "      <td>0.000000</td>\n",
       "      <td>13483.000000</td>\n",
       "      <td>1.000000</td>\n",
       "      <td>2014.000000</td>\n",
       "      <td>0.000000</td>\n",
       "    </tr>\n",
       "    <tr>\n",
       "      <th>25%</th>\n",
       "      <td>3.400000e+06</td>\n",
       "      <td>40.000000</td>\n",
       "      <td>1.000000</td>\n",
       "      <td>2.600000</td>\n",
       "      <td>5.000000</td>\n",
       "      <td>18.000000</td>\n",
       "      <td>2.000000</td>\n",
       "      <td>7.100000</td>\n",
       "      <td>0.000000</td>\n",
       "      <td>9849.000000</td>\n",
       "      <td>2300.000000</td>\n",
       "      <td>0.000000</td>\n",
       "      <td>0.000000</td>\n",
       "      <td>0.000000</td>\n",
       "      <td>0.000000</td>\n",
       "      <td>24.000000</td>\n",
       "      <td>76022.000000</td>\n",
       "      <td>3.000000</td>\n",
       "      <td>2017.000000</td>\n",
       "      <td>2.000000</td>\n",
       "    </tr>\n",
       "    <tr>\n",
       "      <th>50%</th>\n",
       "      <td>4.500000e+06</td>\n",
       "      <td>50.300000</td>\n",
       "      <td>2.000000</td>\n",
       "      <td>2.650000</td>\n",
       "      <td>9.000000</td>\n",
       "      <td>30.000000</td>\n",
       "      <td>4.000000</td>\n",
       "      <td>9.490000</td>\n",
       "      <td>0.000000</td>\n",
       "      <td>21392.500000</td>\n",
       "      <td>11714.000000</td>\n",
       "      <td>0.000000</td>\n",
       "      <td>0.000000</td>\n",
       "      <td>0.000000</td>\n",
       "      <td>0.000000</td>\n",
       "      <td>73.000000</td>\n",
       "      <td>93750.000000</td>\n",
       "      <td>6.000000</td>\n",
       "      <td>2017.000000</td>\n",
       "      <td>12.000000</td>\n",
       "    </tr>\n",
       "    <tr>\n",
       "      <th>75%</th>\n",
       "      <td>6.249375e+06</td>\n",
       "      <td>65.100000</td>\n",
       "      <td>3.000000</td>\n",
       "      <td>2.700000</td>\n",
       "      <td>16.000000</td>\n",
       "      <td>40.000000</td>\n",
       "      <td>8.000000</td>\n",
       "      <td>11.180000</td>\n",
       "      <td>1.000000</td>\n",
       "      <td>34945.000000</td>\n",
       "      <td>15534.000000</td>\n",
       "      <td>1.000000</td>\n",
       "      <td>275.750000</td>\n",
       "      <td>1.000000</td>\n",
       "      <td>375.000000</td>\n",
       "      <td>194.000000</td>\n",
       "      <td>111284.500000</td>\n",
       "      <td>10.000000</td>\n",
       "      <td>2018.000000</td>\n",
       "      <td>16.000000</td>\n",
       "    </tr>\n",
       "    <tr>\n",
       "      <th>max</th>\n",
       "      <td>1.500000e+07</td>\n",
       "      <td>120.000000</td>\n",
       "      <td>6.000000</td>\n",
       "      <td>14.000000</td>\n",
       "      <td>60.000000</td>\n",
       "      <td>130.983636</td>\n",
       "      <td>33.000000</td>\n",
       "      <td>64.000000</td>\n",
       "      <td>5.000000</td>\n",
       "      <td>84869.000000</td>\n",
       "      <td>65968.000000</td>\n",
       "      <td>3.000000</td>\n",
       "      <td>3190.000000</td>\n",
       "      <td>3.000000</td>\n",
       "      <td>1344.000000</td>\n",
       "      <td>1580.000000</td>\n",
       "      <td>600000.000000</td>\n",
       "      <td>12.000000</td>\n",
       "      <td>2019.000000</td>\n",
       "      <td>66.000000</td>\n",
       "    </tr>\n",
       "  </tbody>\n",
       "</table>\n",
       "</div>"
      ],
      "text/plain": [
       "         last_price    total_area         rooms  ceiling_height  floors_total  \\\n",
       "count  2.177800e+04  21778.000000  21778.000000    21778.000000  21778.000000   \n",
       "mean   5.135093e+06     54.376445      1.966618        2.679449     10.778630   \n",
       "std    2.581256e+06     19.149644      0.893326        0.227548      6.638245   \n",
       "min    1.000000e+06     12.000000      1.000000        1.000000      0.000000   \n",
       "25%    3.400000e+06     40.000000      1.000000        2.600000      5.000000   \n",
       "50%    4.500000e+06     50.300000      2.000000        2.650000      9.000000   \n",
       "75%    6.249375e+06     65.100000      3.000000        2.700000     16.000000   \n",
       "max    1.500000e+07    120.000000      6.000000       14.000000     60.000000   \n",
       "\n",
       "        living_area         floor  kitchen_area       balcony  \\\n",
       "count  21778.000000  21778.000000  21778.000000  21778.000000   \n",
       "mean      31.156867      5.924741      9.854967      0.594453   \n",
       "std       13.605975      4.909848      3.948043      0.952377   \n",
       "min        2.000000      1.000000      1.300000      0.000000   \n",
       "25%       18.000000      2.000000      7.100000      0.000000   \n",
       "50%       30.000000      4.000000      9.490000      0.000000   \n",
       "75%       40.000000      8.000000     11.180000      1.000000   \n",
       "max      130.983636     33.000000     64.000000      5.000000   \n",
       "\n",
       "       airports_nearest  city_centers_nearest  parks_around_3000  \\\n",
       "count      21778.000000          21778.000000       21778.000000   \n",
       "mean       22016.865369          11257.047663           0.434705   \n",
       "std        16687.377958           9739.323270           0.715536   \n",
       "min            0.000000              0.000000           0.000000   \n",
       "25%         9849.000000           2300.000000           0.000000   \n",
       "50%        21392.500000          11714.000000           0.000000   \n",
       "75%        34945.000000          15534.000000           1.000000   \n",
       "max        84869.000000          65968.000000           3.000000   \n",
       "\n",
       "       parks_nearest  ponds_around_3000  ponds_nearest  days_exposition  \\\n",
       "count   21778.000000       21778.000000   21778.000000     21778.000000   \n",
       "mean      159.363991           0.550923     195.229038       153.372762   \n",
       "std       299.761956           0.846973     305.739254       207.739488   \n",
       "min         0.000000           0.000000       0.000000         0.000000   \n",
       "25%         0.000000           0.000000       0.000000        24.000000   \n",
       "50%         0.000000           0.000000       0.000000        73.000000   \n",
       "75%       275.750000           1.000000     375.000000       194.000000   \n",
       "max      3190.000000           3.000000    1344.000000      1580.000000   \n",
       "\n",
       "            price_qm         month          year  dist_to_center  \n",
       "count   21778.000000  21778.000000  21778.000000    21778.000000  \n",
       "mean    94382.378823      6.397144   2017.381486       11.252824  \n",
       "std     30602.670336      3.488276      1.026861        9.741825  \n",
       "min     13483.000000      1.000000   2014.000000        0.000000  \n",
       "25%     76022.000000      3.000000   2017.000000        2.000000  \n",
       "50%     93750.000000      6.000000   2017.000000       12.000000  \n",
       "75%    111284.500000     10.000000   2018.000000       16.000000  \n",
       "max    600000.000000     12.000000   2019.000000       66.000000  "
      ]
     },
     "execution_count": 41,
     "metadata": {},
     "output_type": "execute_result"
    }
   ],
   "source": [
    "good_df.describe()"
   ]
  },
  {
   "cell_type": "markdown",
   "metadata": {},
   "source": [
    "Построим гистограммы по следующим объектам:"
   ]
  },
  {
   "cell_type": "code",
   "execution_count": 42,
   "metadata": {
    "scrolled": false
   },
   "outputs": [
    {
     "data": {
      "text/plain": [
       "array([[<AxesSubplot:title={'center':'days_exposition'}>]], dtype=object)"
      ]
     },
     "execution_count": 42,
     "metadata": {},
     "output_type": "execute_result"
    },
    {
     "data": {
      "image/png": "[encoded data removed]",
      "text/plain": [
       "<Figure size 720x360 with 1 Axes>"
      ]
     },
     "metadata": {
      "needs_background": "light"
     },
     "output_type": "display_data"
    },
    {
     "data": {
      "image/png": "[encoded data removed]",
      "text/plain": [
       "<Figure size 720x360 with 1 Axes>"
      ]
     },
     "metadata": {
      "needs_background": "light"
     },
     "output_type": "display_data"
    },
    {
     "data": {
      "image/png": "[encoded data removed]",
      "text/plain": [
       "<Figure size 720x360 with 1 Axes>"
      ]
     },
     "metadata": {
      "needs_background": "light"
     },
     "output_type": "display_data"
    },
    {
     "data": {
      "image/png": "[encoded data removed]",
      "text/plain": [
       "<Figure size 720x360 with 1 Axes>"
      ]
     },
     "metadata": {
      "needs_background": "light"
     },
     "output_type": "display_data"
    },
    {
     "data": {
      "image/png": "[encoded data removed]",
      "text/plain": [
       "<Figure size 720x360 with 1 Axes>"
      ]
     },
     "metadata": {
      "needs_background": "light"
     },
     "output_type": "display_data"
    },
    {
     "data": {
      "image/png": "[encoded data removed]",
      "text/plain": [
       "<Figure size 720x360 with 1 Axes>"
      ]
     },
     "metadata": {
      "needs_background": "light"
     },
     "output_type": "display_data"
    },
    {
     "data": {
      "image/png": "[encoded data removed]",
      "text/plain": [
       "<Figure size 720x360 with 1 Axes>"
      ]
     },
     "metadata": {
      "needs_background": "light"
     },
     "output_type": "display_data"
    },
    {
     "data": {
      "image/png": "[encoded data removed]",
      "text/plain": [
       "<Figure size 720x360 with 1 Axes>"
      ]
     },
     "metadata": {
      "needs_background": "light"
     },
     "output_type": "display_data"
    },
    {
     "data": {
      "image/png": "[encoded data removed]",
      "text/plain": [
       "<Figure size 720x360 with 1 Axes>"
      ]
     },
     "metadata": {
      "needs_background": "light"
     },
     "output_type": "display_data"
    },
    {
     "data": {
      "image/png": "[encoded data removed]",
      "text/plain": [
       "<Figure size 720x360 with 1 Axes>"
      ]
     },
     "metadata": {
      "needs_background": "light"
     },
     "output_type": "display_data"
    },
    {
     "data": {
      "image/png": "[encoded data removed]",
      "text/plain": [
       "<Figure size 720x360 with 1 Axes>"
      ]
     },
     "metadata": {
      "needs_background": "light"
     },
     "output_type": "display_data"
    },
    {
     "data": {
      "image/png": "[encoded data removed]",
      "text/plain": [
       "<Figure size 720x360 with 1 Axes>"
      ]
     },
     "metadata": {
      "needs_background": "light"
     },
     "output_type": "display_data"
    },
    {
     "data": {
      "image/png": "[encoded data removed]",
      "text/plain": [
       "<Figure size 720x360 with 1 Axes>"
      ]
     },
     "metadata": {
      "needs_background": "light"
     },
     "output_type": "display_data"
    },
    {
     "data": {
      "image/png": "[encoded data removed]",
      "text/plain": [
       "<Figure size 720x360 with 1 Axes>"
      ]
     },
     "metadata": {
      "needs_background": "light"
     },
     "output_type": "display_data"
    },
    {
     "data": {
      "image/png": "[encoded data removed]",
      "text/plain": [
       "<Figure size 720x360 with 1 Axes>"
      ]
     },
     "metadata": {
      "needs_background": "light"
     },
     "output_type": "display_data"
    },
    {
     "data": {
      "image/png": "[encoded data removed]",
      "text/plain": [
       "<Figure size 720x360 with 1 Axes>"
      ]
     },
     "metadata": {
      "needs_background": "light"
     },
     "output_type": "display_data"
    }
   ],
   "source": [
    "good_df.hist('last_price', bins=50, range=(0, 10000000), figsize=(10,5), grid=True)\n",
    "good_df.hist('total_area', bins=10, range=(10, 120), figsize=(10,5), grid=True)\n",
    "good_df.hist('rooms',  range=(0, 6), figsize=(10,5), grid=True)\n",
    "good_df.hist('ceiling_height', bins=10, range=(2, 4), figsize=(10,5), grid=True)\n",
    "good_df.hist('floors_total', bins=10, range=(0, 30), figsize=(10,5), grid=True)\n",
    "good_df.hist('living_area',bins=20, range=(0, 150), figsize=(10,5), grid=True)\n",
    "good_df.hist('floor', bins=10, range=(0, 30), figsize=(10,5), grid=True)\n",
    "good_df.hist('kitchen_area', bins=20, range=(0, 40), figsize=(10,5), grid=True)\n",
    "good_df.hist('balcony', range=(0, 5), figsize=(10,5), grid=True)\n",
    "good_df.hist('airports_nearest', bins=20, range=(5000, 50000), figsize=(10,5), grid=True)\n",
    "good_df.hist('dist_to_center', bins=10, range=(0, 20), figsize=(10,5), grid=True)\n",
    "good_df.hist('parks_around_3000', bins=50, range=(0, 10), figsize=(10,5), grid=True)\n",
    "good_df.hist('parks_nearest', bins=50, range=(0, 10), figsize=(10,5), grid=True)\n",
    "good_df.hist('ponds_around_3000', bins=50, range=(0, 10), figsize=(10,5), grid=True)\n",
    "good_df.hist('ponds_nearest', bins=50, range=(0, 10), figsize=(10,5), grid=True)\n",
    "good_df.hist('days_exposition', bins=10, range=(0, 500), figsize=(10,5), grid=True)"
   ]
  },
  {
   "cell_type": "code",
   "execution_count": 43,
   "metadata": {},
   "outputs": [
    {
     "data": {
      "text/plain": [
       "<AxesSubplot:>"
      ]
     },
     "execution_count": 43,
     "metadata": {},
     "output_type": "execute_result"
    },
    {
     "data": {
      "image/png": "[encoded data removed]",
      "text/plain": [
       "<Figure size 432x288 with 1 Axes>"
      ]
     },
     "metadata": {
      "needs_background": "light"
     },
     "output_type": "display_data"
    }
   ],
   "source": [
    "good_df['floor_type'].value_counts().plot.bar()"
   ]
  },
  {
   "cell_type": "code",
   "execution_count": 44,
   "metadata": {},
   "outputs": [
    {
     "data": {
      "text/plain": [
       "<AxesSubplot:>"
      ]
     },
     "execution_count": 44,
     "metadata": {},
     "output_type": "execute_result"
    },
    {
     "data": {
      "image/png": "[encoded data removed]",
      "text/plain": [
       "<Figure size 432x288 with 1 Axes>"
      ]
     },
     "metadata": {
      "needs_background": "light"
     },
     "output_type": "display_data"
    }
   ],
   "source": [
    "good_df['day'].value_counts().plot.bar()"
   ]
  },
  {
   "cell_type": "code",
   "execution_count": 45,
   "metadata": {},
   "outputs": [
    {
     "data": {
      "text/plain": [
       "<AxesSubplot:>"
      ]
     },
     "execution_count": 45,
     "metadata": {},
     "output_type": "execute_result"
    },
    {
     "data": {
      "image/png": "[encoded data removed]",
      "text/plain": [
       "<Figure size 432x288 with 1 Axes>"
      ]
     },
     "metadata": {
      "needs_background": "light"
     },
     "output_type": "display_data"
    }
   ],
   "source": [
    "good_df['month'].value_counts().sort_index(ascending=True).plot.bar()"
   ]
  },
  {
   "cell_type": "code",
   "execution_count": 46,
   "metadata": {},
   "outputs": [
    {
     "data": {
      "text/plain": [
       "<AxesSubplot:>"
      ]
     },
     "execution_count": 46,
     "metadata": {},
     "output_type": "execute_result"
    },
    {
     "data": {
      "image/png": "[encoded data removed]",
      "text/plain": [
       "<Figure size 432x288 with 1 Axes>"
      ]
     },
     "metadata": {
      "needs_background": "light"
     },
     "output_type": "display_data"
    }
   ],
   "source": [
    "good_df['year'].value_counts().sort_index(ascending=True).plot.bar()"
   ]
  },
  {
   "cell_type": "markdown",
   "metadata": {},
   "source": [
    "**Изучив гистограмм составим общие выводы об объектах недвижимости в Санкт-Петербурге и области:**\n",
    "    \n",
    "- в среднем квартиры продавались по цене от 2,5 млн. до 5,5 млн. руб.\n",
    "- площать квартир от 40 до 60 метров, с объемом кухни 6-11 метров\n",
    "- в продаже в основном 1 и 2 комнатные квартиры в 5-ти этажных домах\n",
    "- высота потолков от 2,5 до 2,75 м\n",
    "- до ближайшего аэропорта 12-25 км\n",
    "- большая часть объявлений размещается на срок 30-60 дней\n",
    "- не часто продаются квартиры на первых и последнем этажах\n",
    "- объявления в основом размещаются в рабочие дни, а по времени года характерно повышение объявлений в первом квартале года, снижение летом, затем плавное повышение в третьем квартале и падение активности к новому году. Пиком продаж были 2017 и 2018 года, в 2019 было снижение активности более чем в два раза.\n",
    "- в выборке много объявлений из области, где расстояние до центра небольшое, поэтому большинство значений до 2-х км\n",
    "- территориальное расположение как правило не располагает наличие парка или пруда"
   ]
  },
  {
   "cell_type": "markdown",
   "metadata": {},
   "source": [
    "### Изучим подробнее столбец days_exposition, как быстро продавались квартиры."
   ]
  },
  {
   "cell_type": "code",
   "execution_count": 47,
   "metadata": {},
   "outputs": [
    {
     "data": {
      "image/png": "[encoded data removed]",
      "text/plain": [
       "<Figure size 720x360 with 1 Axes>"
      ]
     },
     "metadata": {
      "needs_background": "light"
     },
     "output_type": "display_data"
    }
   ],
   "source": [
    "good_df.hist('days_exposition', bins=50, range=(1, 500), figsize=(10,5), grid=True);"
   ]
  },
  {
   "cell_type": "code",
   "execution_count": 48,
   "metadata": {},
   "outputs": [],
   "source": [
    "# уберем из расчетов нулевые значения\n",
    "\n",
    "days_exposition = good_df.query('days_exposition > 0')['days_exposition']"
   ]
  },
  {
   "cell_type": "code",
   "execution_count": 49,
   "metadata": {},
   "outputs": [
    {
     "data": {
      "text/plain": [
       "count    19066.000000\n",
       "mean       175.188923\n",
       "std        213.242704\n",
       "min          1.000000\n",
       "25%         44.000000\n",
       "50%         93.000000\n",
       "75%        223.000000\n",
       "max       1580.000000\n",
       "Name: days_exposition, dtype: float64"
      ]
     },
     "execution_count": 49,
     "metadata": {},
     "output_type": "execute_result"
    }
   ],
   "source": [
    "days_exposition.describe()"
   ]
  },
  {
   "cell_type": "markdown",
   "metadata": {},
   "source": [
    "Средний срок продажи квартиры с даты публикации до снятия с продажи составляет 180 дней, медианное значение - 95 дней. Как видно из гистограммы большая часть квартир продается за 3 месяца. Пиковые значения в диапазоне 30, 90, 120 дней говорит о том, что объявления снимались с продажи по условловиям оплаченного времени размещения объявления. Объявления со сроком публикации свыше 180 дней можно считать слабо ликвидными."
   ]
  },
  {
   "cell_type": "markdown",
   "metadata": {},
   "source": [
    "### Изучим какие факторы больше всего влияют на общую (полную) стоимость объекта."
   ]
  },
  {
   "cell_type": "code",
   "execution_count": 50,
   "metadata": {},
   "outputs": [
    {
     "name": "stdout",
     "output_type": "stream",
     "text": [
      "Корреляция с общей площадью:  0.6536750579657242\n"
     ]
    },
    {
     "data": {
      "image/png": "[encoded data removed]",
      "text/plain": [
       "<Figure size 864x360 with 1 Axes>"
      ]
     },
     "metadata": {
      "needs_background": "light"
     },
     "output_type": "display_data"
    }
   ],
   "source": [
    "(df\n",
    "    .plot(x='total_area',\n",
    "    y='last_price',\n",
    "    style='o',\n",
    "    xlim=(10, 150),\n",
    "    ylim=(0, 10000000),\n",
    "    figsize=(12, 5),\n",
    "    grid=True)\n",
    ")\n",
    "print('Корреляция с общей площадью: ', df['total_area'].corr(df['last_price']))"
   ]
  },
  {
   "cell_type": "code",
   "execution_count": 51,
   "metadata": {
    "scrolled": true
   },
   "outputs": [
    {
     "name": "stdout",
     "output_type": "stream",
     "text": [
      "Корреляция с жилой площадью:  0.5564104267344321\n"
     ]
    },
    {
     "data": {
      "image/png": "[encoded data removed]",
      "text/plain": [
       "<Figure size 864x360 with 1 Axes>"
      ]
     },
     "metadata": {
      "needs_background": "light"
     },
     "output_type": "display_data"
    }
   ],
   "source": [
    "(df\n",
    "    .plot(x='living_area',\n",
    "    y='last_price',\n",
    "    style='o',\n",
    "    xlim=(0, 150),\n",
    "    ylim=(0, 10000000),\n",
    "    figsize=(12, 5),\n",
    "    grid=True)\n",
    ")\n",
    "print('Корреляция с жилой площадью: ', df['living_area'].corr(df['last_price']))"
   ]
  },
  {
   "cell_type": "code",
   "execution_count": 52,
   "metadata": {
    "scrolled": false
   },
   "outputs": [
    {
     "name": "stdout",
     "output_type": "stream",
     "text": [
      "Корреляция с площадью кухни:  0.4579284007220623\n"
     ]
    },
    {
     "data": {
      "image/png": "[encoded data removed]",
      "text/plain": [
       "<Figure size 864x360 with 1 Axes>"
      ]
     },
     "metadata": {
      "needs_background": "light"
     },
     "output_type": "display_data"
    }
   ],
   "source": [
    "(df\n",
    "    .plot(x='kitchen_area',\n",
    "    y='last_price',\n",
    "    style='o',\n",
    "    xlim=(0, 50),\n",
    "    ylim=(0, 10000000),\n",
    "    figsize=(12, 5),\n",
    "    grid=True)\n",
    ")\n",
    "print('Корреляция с площадью кухни: ', df['kitchen_area'].corr(df['last_price']))"
   ]
  },
  {
   "cell_type": "code",
   "execution_count": 53,
   "metadata": {
    "scrolled": false
   },
   "outputs": [
    {
     "name": "stdout",
     "output_type": "stream",
     "text": [
      "Корреляция с количеством комнат:  0.3633428499648948\n"
     ]
    },
    {
     "data": {
      "image/png": "[encoded data removed]",
      "text/plain": [
       "<Figure size 864x360 with 1 Axes>"
      ]
     },
     "metadata": {
      "needs_background": "light"
     },
     "output_type": "display_data"
    }
   ],
   "source": [
    "(df\n",
    "    .plot(x='rooms',\n",
    "    y='last_price',\n",
    "    style='o',\n",
    "    xlim=(0, 10),\n",
    "    figsize=(12, 5),\n",
    "    grid=True)\n",
    ")\n",
    "print('Корреляция с количеством комнат: ', df['rooms'].corr(df['last_price']))"
   ]
  },
  {
   "cell_type": "markdown",
   "metadata": {},
   "source": [
    "**Вывод:** на стоимость объекта недвижимости сильнее всего влияет общая площадь."
   ]
  },
  {
   "cell_type": "markdown",
   "metadata": {},
   "source": [
    "### Посчитаем среднюю цену одного квадратного метра в 10 населённых пунктах с наибольшим числом объявлений. Выделим населённые пункты с самой высокой и низкой стоимостью квадратного метра."
   ]
  },
  {
   "cell_type": "code",
   "execution_count": 54,
   "metadata": {
    "scrolled": true
   },
   "outputs": [
    {
     "data": {
      "text/plain": [
       "Санкт-Петербург      14199\n",
       "поселок Мурино         495\n",
       "Кудрово                451\n",
       "поселок Шушары         435\n",
       "Всеволожск             387\n",
       "Пушкин                 345\n",
       "Колпино                336\n",
       "поселок Парголово      322\n",
       "Гатчина                303\n",
       "Выборг                 228\n",
       "Name: locality_name, dtype: int64"
      ]
     },
     "execution_count": 54,
     "metadata": {},
     "output_type": "execute_result"
    }
   ],
   "source": [
    "# top-10 населенных пунктов по количеству объявлений\n",
    "\n",
    "good_df['locality_name'].value_counts().head(10)"
   ]
  },
  {
   "cell_type": "code",
   "execution_count": 55,
   "metadata": {},
   "outputs": [],
   "source": [
    "# напишем функцию которая будет определять среднюю стоимость квадратного метра в населенном пункте\n",
    "\n",
    "def local_price_qm(city):\n",
    "    local_price = good_df[good_df['locality_name'] == city]\n",
    "    local_price_count = local_price['price_qm'].mean()\n",
    "    return local_price_count"
   ]
  },
  {
   "cell_type": "markdown",
   "metadata": {},
   "source": [
    "Выведем на экран стоимость квадратного метра для top-10 населенных пунктов по количеству объявлений."
   ]
  },
  {
   "cell_type": "code",
   "execution_count": 56,
   "metadata": {},
   "outputs": [
    {
     "data": {
      "text/html": [
       "<div>\n",
       "<style scoped>\n",
       "    .dataframe tbody tr th:only-of-type {\n",
       "        vertical-align: middle;\n",
       "    }\n",
       "\n",
       "    .dataframe tbody tr th {\n",
       "        vertical-align: top;\n",
       "    }\n",
       "\n",
       "    .dataframe thead th {\n",
       "        text-align: right;\n",
       "    }\n",
       "</style>\n",
       "<table border=\"1\" class=\"dataframe\">\n",
       "  <thead>\n",
       "    <tr style=\"text-align: right;\">\n",
       "      <th></th>\n",
       "      <th>city</th>\n",
       "      <th>price_qm</th>\n",
       "    </tr>\n",
       "  </thead>\n",
       "  <tbody>\n",
       "    <tr>\n",
       "      <th>0</th>\n",
       "      <td>Санкт-Петербург</td>\n",
       "      <td>107502.593563</td>\n",
       "    </tr>\n",
       "    <tr>\n",
       "      <th>1</th>\n",
       "      <td>Пушкин</td>\n",
       "      <td>101252.292754</td>\n",
       "    </tr>\n",
       "    <tr>\n",
       "      <th>2</th>\n",
       "      <td>Кудрово</td>\n",
       "      <td>95150.988914</td>\n",
       "    </tr>\n",
       "    <tr>\n",
       "      <th>3</th>\n",
       "      <td>поселок Парголово</td>\n",
       "      <td>90448.400621</td>\n",
       "    </tr>\n",
       "    <tr>\n",
       "      <th>4</th>\n",
       "      <td>поселок Мурино</td>\n",
       "      <td>85031.769697</td>\n",
       "    </tr>\n",
       "    <tr>\n",
       "      <th>5</th>\n",
       "      <td>поселок Шушары</td>\n",
       "      <td>78393.827586</td>\n",
       "    </tr>\n",
       "    <tr>\n",
       "      <th>6</th>\n",
       "      <td>Колпино</td>\n",
       "      <td>75370.017857</td>\n",
       "    </tr>\n",
       "    <tr>\n",
       "      <th>7</th>\n",
       "      <td>Гатчина</td>\n",
       "      <td>69110.927393</td>\n",
       "    </tr>\n",
       "    <tr>\n",
       "      <th>8</th>\n",
       "      <td>Всеволожск</td>\n",
       "      <td>67226.087855</td>\n",
       "    </tr>\n",
       "    <tr>\n",
       "      <th>9</th>\n",
       "      <td>Выборг</td>\n",
       "      <td>58786.964912</td>\n",
       "    </tr>\n",
       "  </tbody>\n",
       "</table>\n",
       "</div>"
      ],
      "text/plain": [
       "                city       price_qm\n",
       "0    Санкт-Петербург  107502.593563\n",
       "1             Пушкин  101252.292754\n",
       "2            Кудрово   95150.988914\n",
       "3  поселок Парголово   90448.400621\n",
       "4     поселок Мурино   85031.769697\n",
       "5     поселок Шушары   78393.827586\n",
       "6            Колпино   75370.017857\n",
       "7            Гатчина   69110.927393\n",
       "8         Всеволожск   67226.087855\n",
       "9             Выборг   58786.964912"
      ]
     },
     "execution_count": 56,
     "metadata": {},
     "output_type": "execute_result"
    }
   ],
   "source": [
    "info = {'city':['Санкт-Петербург', 'поселок Мурино', 'Кудрово', 'поселок Шушары', 'Всеволожск', 'Пушкин', 'Колпино',\n",
    "                'поселок Парголово', 'Гатчина', 'Выборг'],\n",
    "        'price_qm':[local_price_qm('Санкт-Петербург'), local_price_qm('поселок Мурино'),local_price_qm('Кудрово'),\n",
    "                   local_price_qm('поселок Шушары'),local_price_qm('Всеволожск'),local_price_qm('Пушкин'),\n",
    "                   local_price_qm('Колпино'),local_price_qm('поселок Парголово'),local_price_qm('Гатчина'),\n",
    "                   local_price_qm('Выборг'),]}\n",
    "                  \n",
    "pd.DataFrame(info).sort_values(by='price_qm', ascending=False).reset_index(drop=True)"
   ]
  },
  {
   "cell_type": "code",
   "execution_count": 57,
   "metadata": {},
   "outputs": [
    {
     "data": {
      "text/html": [
       "<div>\n",
       "<style scoped>\n",
       "    .dataframe tbody tr th:only-of-type {\n",
       "        vertical-align: middle;\n",
       "    }\n",
       "\n",
       "    .dataframe tbody tr th {\n",
       "        vertical-align: top;\n",
       "    }\n",
       "\n",
       "    .dataframe thead th {\n",
       "        text-align: right;\n",
       "    }\n",
       "</style>\n",
       "<table border=\"1\" class=\"dataframe\">\n",
       "  <thead>\n",
       "    <tr style=\"text-align: right;\">\n",
       "      <th></th>\n",
       "      <th>count</th>\n",
       "      <th>mean</th>\n",
       "    </tr>\n",
       "    <tr>\n",
       "      <th>locality_name</th>\n",
       "      <th></th>\n",
       "      <th></th>\n",
       "    </tr>\n",
       "  </thead>\n",
       "  <tbody>\n",
       "    <tr>\n",
       "      <th>Санкт-Петербург</th>\n",
       "      <td>14199</td>\n",
       "      <td>107502.593563</td>\n",
       "    </tr>\n",
       "    <tr>\n",
       "      <th>поселок Мурино</th>\n",
       "      <td>495</td>\n",
       "      <td>85031.769697</td>\n",
       "    </tr>\n",
       "    <tr>\n",
       "      <th>Кудрово</th>\n",
       "      <td>451</td>\n",
       "      <td>95150.988914</td>\n",
       "    </tr>\n",
       "    <tr>\n",
       "      <th>поселок Шушары</th>\n",
       "      <td>435</td>\n",
       "      <td>78393.827586</td>\n",
       "    </tr>\n",
       "    <tr>\n",
       "      <th>Всеволожск</th>\n",
       "      <td>387</td>\n",
       "      <td>67226.087855</td>\n",
       "    </tr>\n",
       "    <tr>\n",
       "      <th>Пушкин</th>\n",
       "      <td>345</td>\n",
       "      <td>101252.292754</td>\n",
       "    </tr>\n",
       "    <tr>\n",
       "      <th>Колпино</th>\n",
       "      <td>336</td>\n",
       "      <td>75370.017857</td>\n",
       "    </tr>\n",
       "    <tr>\n",
       "      <th>поселок Парголово</th>\n",
       "      <td>322</td>\n",
       "      <td>90448.400621</td>\n",
       "    </tr>\n",
       "    <tr>\n",
       "      <th>Гатчина</th>\n",
       "      <td>303</td>\n",
       "      <td>69110.927393</td>\n",
       "    </tr>\n",
       "    <tr>\n",
       "      <th>Выборг</th>\n",
       "      <td>228</td>\n",
       "      <td>58786.964912</td>\n",
       "    </tr>\n",
       "  </tbody>\n",
       "</table>\n",
       "</div>"
      ],
      "text/plain": [
       "                   count           mean\n",
       "locality_name                          \n",
       "Санкт-Петербург    14199  107502.593563\n",
       "поселок Мурино       495   85031.769697\n",
       "Кудрово              451   95150.988914\n",
       "поселок Шушары       435   78393.827586\n",
       "Всеволожск           387   67226.087855\n",
       "Пушкин               345  101252.292754\n",
       "Колпино              336   75370.017857\n",
       "поселок Парголово    322   90448.400621\n",
       "Гатчина              303   69110.927393\n",
       "Выборг               228   58786.964912"
      ]
     },
     "execution_count": 57,
     "metadata": {},
     "output_type": "execute_result"
    }
   ],
   "source": [
    "good_df.groupby('locality_name')['price_qm'].agg(['count', 'mean']).sort_values(by='count', ascending=False).head(10)"
   ]
  },
  {
   "cell_type": "markdown",
   "metadata": {},
   "source": [
    "Выведем **десять** населенных пунктов где стоимость квадратного метра самая **высокая**."
   ]
  },
  {
   "cell_type": "code",
   "execution_count": 58,
   "metadata": {},
   "outputs": [
    {
     "data": {
      "text/plain": [
       "locality_name\n",
       "Санкт-Петербург      107502.593563\n",
       "Зеленогорск          102890.380952\n",
       "Сестрорецк           101318.276471\n",
       "Пушкин               101252.292754\n",
       "поселок Лисий Нос    100661.000000\n",
       "деревня Мистолово     98550.000000\n",
       "поселок Левашово      96998.000000\n",
       "Кудрово               95150.988914\n",
       "поселок Парголово     90448.400621\n",
       "Неизвестно            89728.600000\n",
       "Name: price_qm, dtype: float64"
      ]
     },
     "execution_count": 58,
     "metadata": {},
     "output_type": "execute_result"
    }
   ],
   "source": [
    "good_df.groupby('locality_name')['price_qm'].agg('mean').sort_values(ascending=False)[:10]"
   ]
  },
  {
   "cell_type": "markdown",
   "metadata": {},
   "source": [
    "Выведем **десять** населенных пунктов где стоимость квадратного метра самая **низкая**."
   ]
  },
  {
   "cell_type": "code",
   "execution_count": 59,
   "metadata": {},
   "outputs": [
    {
     "data": {
      "text/plain": [
       "locality_name\n",
       "поселок Житково                  15648.000000\n",
       "поселок Никольский               19577.000000\n",
       "Бокситогорск                     19600.500000\n",
       "поселок Оредеж                   19878.000000\n",
       "Сланцы                           20515.068966\n",
       "деревня Кисельня                 20909.000000\n",
       "поселок Плоское                  20913.000000\n",
       "поселок Торковичи                21075.333333\n",
       "городской поселок Лесогорский    21301.000000\n",
       "Пикалёво                         21640.285714\n",
       "Name: price_qm, dtype: float64"
      ]
     },
     "execution_count": 59,
     "metadata": {},
     "output_type": "execute_result"
    }
   ],
   "source": [
    "good_df.groupby('locality_name')['price_qm'].agg('mean').sort_values(ascending=True)[:10]"
   ]
  },
  {
   "cell_type": "markdown",
   "metadata": {},
   "source": [
    "### Вычислим среднюю стоимость каждого километра для квартир в Санкт-Петербурге. Определим, как стоимость объектов зависит от расстояния до центра города."
   ]
  },
  {
   "cell_type": "code",
   "execution_count": 60,
   "metadata": {},
   "outputs": [
    {
     "data": {
      "image/png": "[encoded data removed]",
      "text/plain": [
       "<Figure size 864x360 with 1 Axes>"
      ]
     },
     "metadata": {
      "needs_background": "light"
     },
     "output_type": "display_data"
    }
   ],
   "source": [
    "good_df_pivot = (good_df.query('locality_name == \"Санкт-Петербург\"')\n",
    "            .pivot_table(index=['dist_to_center'], values='price_qm', aggfunc='mean')\n",
    "            .plot(grid=True, figsize=(12, 5))\n",
    "           )"
   ]
  },
  {
   "cell_type": "code",
   "execution_count": 61,
   "metadata": {},
   "outputs": [],
   "source": [
    "def dist_to_center(row):\n",
    "    if 0 <= row['dist_to_center'] <= 3:\n",
    "        return '3 км до центр'\n",
    "    elif 3 <= row['dist_to_center'] <= 10:\n",
    "        return '10 км до центра'\n",
    "    elif 10 <= row['dist_to_center'] <= 15:\n",
    "        return '15 км до центра'\n",
    "    else:\n",
    "        return 'КАД и далее'"
   ]
  },
  {
   "cell_type": "code",
   "execution_count": 62,
   "metadata": {},
   "outputs": [],
   "source": [
    "good_df['dist_to_center_cat'] = good_df.apply(dist_to_center, axis=1)"
   ]
  },
  {
   "cell_type": "code",
   "execution_count": 63,
   "metadata": {},
   "outputs": [
    {
     "data": {
      "text/html": [
       "<div>\n",
       "<style scoped>\n",
       "    .dataframe tbody tr th:only-of-type {\n",
       "        vertical-align: middle;\n",
       "    }\n",
       "\n",
       "    .dataframe tbody tr th {\n",
       "        vertical-align: top;\n",
       "    }\n",
       "\n",
       "    .dataframe thead th {\n",
       "        text-align: right;\n",
       "    }\n",
       "</style>\n",
       "<table border=\"1\" class=\"dataframe\">\n",
       "  <thead>\n",
       "    <tr style=\"text-align: right;\">\n",
       "      <th></th>\n",
       "      <th>price_qm</th>\n",
       "    </tr>\n",
       "    <tr>\n",
       "      <th>dist_to_center_cat</th>\n",
       "      <th></th>\n",
       "    </tr>\n",
       "  </thead>\n",
       "  <tbody>\n",
       "    <tr>\n",
       "      <th>3 км до центр</th>\n",
       "      <td>120235.337500</td>\n",
       "    </tr>\n",
       "    <tr>\n",
       "      <th>10 км до центра</th>\n",
       "      <td>118035.593989</td>\n",
       "    </tr>\n",
       "    <tr>\n",
       "      <th>15 км до центра</th>\n",
       "      <td>105379.625567</td>\n",
       "    </tr>\n",
       "    <tr>\n",
       "      <th>КАД и далее</th>\n",
       "      <td>96991.487916</td>\n",
       "    </tr>\n",
       "  </tbody>\n",
       "</table>\n",
       "</div>"
      ],
      "text/plain": [
       "                         price_qm\n",
       "dist_to_center_cat               \n",
       "3 км до центр       120235.337500\n",
       "10 км до центра     118035.593989\n",
       "15 км до центра     105379.625567\n",
       "КАД и далее          96991.487916"
      ]
     },
     "execution_count": 63,
     "metadata": {},
     "output_type": "execute_result"
    }
   ],
   "source": [
    "(\n",
    "good_df.query('locality_name == \"Санкт-Петербург\"')\n",
    "    .pivot_table(index=['dist_to_center_cat'], values='price_qm', aggfunc='mean')\n",
    "    .sort_values(by='price_qm', ascending=False)\n",
    ")"
   ]
  },
  {
   "cell_type": "markdown",
   "metadata": {},
   "source": [
    "**Вывод:** как и следовало ожидать, чем ближе к центру находится объект недвижимости, тем выше цена."
   ]
  },
  {
   "cell_type": "code",
   "execution_count": 64,
   "metadata": {
    "scrolled": false
   },
   "outputs": [
    {
     "data": {
      "text/plain": [
       "(Timestamp('2014-11-27 00:00:00'), Timestamp('2019-05-03 00:00:00'))"
      ]
     },
     "execution_count": 64,
     "metadata": {},
     "output_type": "execute_result"
    }
   ],
   "source": [
    "# дата первого и последнего обьявления\n",
    "\n",
    "good_df['first_day_exposition'].min(), good_df['first_day_exposition'].max()"
   ]
  },
  {
   "cell_type": "markdown",
   "metadata": {},
   "source": [
    "## Общий вывод"
   ]
  },
  {
   "cell_type": "markdown",
   "metadata": {},
   "source": [
    "**Резюме**\n",
    "    \n",
    "- средняя стоимость квартир, она составляет 2,5 - 5,5 млн. рублей, а диапазон предложений варьирует от 1,2 до 15 и выше млн\n",
    "- в основном продаются 1 и 2 комнатные квартиры в 5-ти этажных домах, размер кухни в которых составляет от 6 до 11 метров с высотой потолков 2,65\n",
    "- наибольшее влияние на стоимость квартиры оказывает общая площадь и расстояние до центра города\n",
    "- больше всего объявлений о продаже было размещено в Санкт-Петербурге, поселке Мурино, Кудрово, Шушары\n",
    "- самая высокая цена за кв м в Санкт-Петербурге, Сестрорецке, Зеленогорске и городе Пушкин\n",
    "- самая низка цена за кв м в поселке Житково, Никольском и Боктитогорске \n",
    "- до ближайшего аэропорта в среднем 12-25 км  \n",
    "- большая часть объявлений размещается на срок 30-90 дней\n",
    "- не часто продаются квартиры на первых и последнем этажах\n",
    "- территориальное расположение как правило не располагает наличие парка или пруда\n",
    "- объявления в основом размещаются в рабочие дни, а по времени года характерно повышение объявлений в первом квартале года, снижение летом, затем плавное повышение в третьем квартале и падение активности к новому году. Пиком продаж были 2017 и 2018 года, в 2019 было снижение активности более чем в два раза\n",
    "\n",
    "**Вывод**\n",
    "\n",
    "Проведена предобработка архива данных о продаже квартир в Санкт-Петербурге и области за период с ноября 2014 по май 2019 года. Преждем чем приступить к исследованию, был проведен анализ всех данных датасета. Были обнаружены аномальные значения резко выделяющиеся на фоне других цифр, такие как высота потолков 100 м, цена за объект недвижимости более 75 млн., количество комнат превышаюшие пределы нормальных значений - 19 и общий размер объекта недвижимости - квартиры свыше 120 м кв. также не принимались к расчетам т.к. не входили в допустимый предел нормальных значений. Обработаны пропущенные значения для сохранения строк объявлений, совокупные потери данных составили 8% от первоначального датасета. В названиях населенных пунктах были устранены множество неявных дубликатов, присутствовали в названия \"посёлки\", \"поселки\" и т.д. В анализе данных применялись методы описательной статистики, использовались диаграммы размаха для определения размеров допустимых значений и аномальных выбросов данных. Графическими методами определяли корреляции, какие факторы больше всего влияют на общую цену обьекта недвижимости. Отсортировали объекты недвижимости с высокой и низкой стоимостью за 1 кв м по каждому населенному пункту и выделили по 10 лидеров в каждой категории."
   ]
  }
 ],
 "metadata": {
  "ExecuteTimeLog": [
   {
    "duration": 531,
    "start_time": "2022-12-19T15:48:39.746Z"
   },
   {
    "duration": 86,
    "start_time": "2022-12-19T15:50:26.187Z"
   },
   {
    "duration": 87,
    "start_time": "2022-12-19T16:00:00.700Z"
   },
   {
    "duration": 82,
    "start_time": "2022-12-19T16:00:18.319Z"
   },
   {
    "duration": 86,
    "start_time": "2022-12-19T16:00:25.101Z"
   },
   {
    "duration": 83,
    "start_time": "2022-12-19T16:00:29.887Z"
   },
   {
    "duration": 12,
    "start_time": "2022-12-19T16:02:24.795Z"
   },
   {
    "duration": 8,
    "start_time": "2022-12-19T16:03:43.861Z"
   },
   {
    "duration": 91,
    "start_time": "2022-12-19T16:09:35.010Z"
   },
   {
    "duration": 72,
    "start_time": "2022-12-19T16:09:39.674Z"
   },
   {
    "duration": 84,
    "start_time": "2022-12-19T16:09:56.770Z"
   },
   {
    "duration": 81,
    "start_time": "2022-12-19T16:22:12.401Z"
   },
   {
    "duration": 69,
    "start_time": "2022-12-19T16:22:17.929Z"
   },
   {
    "duration": 86,
    "start_time": "2022-12-19T16:22:31.721Z"
   },
   {
    "duration": 88,
    "start_time": "2022-12-19T16:22:38.737Z"
   },
   {
    "duration": 80,
    "start_time": "2022-12-19T16:22:45.786Z"
   },
   {
    "duration": 83,
    "start_time": "2022-12-19T16:28:32.553Z"
   },
   {
    "duration": 81,
    "start_time": "2022-12-19T16:28:37.285Z"
   },
   {
    "duration": 87,
    "start_time": "2022-12-19T16:28:43.501Z"
   },
   {
    "duration": 87,
    "start_time": "2022-12-19T16:28:56.375Z"
   },
   {
    "duration": 88,
    "start_time": "2022-12-19T16:29:04.389Z"
   },
   {
    "duration": 124,
    "start_time": "2022-12-19T16:29:16.214Z"
   },
   {
    "duration": 83,
    "start_time": "2022-12-19T16:30:07.920Z"
   },
   {
    "duration": 85,
    "start_time": "2022-12-19T16:30:14.953Z"
   },
   {
    "duration": 88,
    "start_time": "2022-12-19T16:30:20.304Z"
   },
   {
    "duration": 74,
    "start_time": "2022-12-19T16:31:41.363Z"
   },
   {
    "duration": 87,
    "start_time": "2022-12-19T16:31:45.819Z"
   },
   {
    "duration": 112,
    "start_time": "2022-12-19T16:41:30.807Z"
   },
   {
    "duration": 16,
    "start_time": "2022-12-19T16:43:45.603Z"
   },
   {
    "duration": 4,
    "start_time": "2022-12-19T16:55:33.494Z"
   },
   {
    "duration": 3,
    "start_time": "2022-12-19T16:59:08.445Z"
   },
   {
    "duration": 4,
    "start_time": "2022-12-19T17:00:56.016Z"
   },
   {
    "duration": 60,
    "start_time": "2022-12-19T17:03:43.709Z"
   },
   {
    "duration": 11,
    "start_time": "2022-12-19T17:03:48.397Z"
   },
   {
    "duration": 6,
    "start_time": "2022-12-19T17:13:55.943Z"
   },
   {
    "duration": 4,
    "start_time": "2022-12-19T17:14:00.504Z"
   },
   {
    "duration": 4,
    "start_time": "2022-12-19T17:14:20.440Z"
   },
   {
    "duration": 5,
    "start_time": "2022-12-19T17:14:37.425Z"
   },
   {
    "duration": 5,
    "start_time": "2022-12-19T17:15:20.258Z"
   },
   {
    "duration": 6,
    "start_time": "2022-12-19T17:18:06.896Z"
   },
   {
    "duration": 1127,
    "start_time": "2022-12-19T17:18:50.912Z"
   },
   {
    "duration": 5,
    "start_time": "2022-12-19T17:19:00.441Z"
   },
   {
    "duration": 12,
    "start_time": "2022-12-19T17:19:51.643Z"
   },
   {
    "duration": 6,
    "start_time": "2022-12-19T17:20:21.013Z"
   },
   {
    "duration": 6,
    "start_time": "2022-12-19T17:20:29.156Z"
   },
   {
    "duration": 50,
    "start_time": "2022-12-20T09:19:07.626Z"
   },
   {
    "duration": 699,
    "start_time": "2022-12-20T09:19:10.326Z"
   },
   {
    "duration": 4,
    "start_time": "2022-12-20T09:19:11.026Z"
   },
   {
    "duration": 7,
    "start_time": "2022-12-20T09:19:11.032Z"
   },
   {
    "duration": 19,
    "start_time": "2022-12-20T09:19:11.041Z"
   },
   {
    "duration": 8,
    "start_time": "2022-12-20T09:19:11.062Z"
   },
   {
    "duration": 42,
    "start_time": "2022-12-20T09:19:11.071Z"
   },
   {
    "duration": 37,
    "start_time": "2022-12-20T09:19:32.002Z"
   },
   {
    "duration": 8,
    "start_time": "2022-12-20T09:20:21.885Z"
   },
   {
    "duration": 26,
    "start_time": "2022-12-20T09:20:44.333Z"
   },
   {
    "duration": 54,
    "start_time": "2022-12-20T09:20:54.949Z"
   },
   {
    "duration": 256,
    "start_time": "2022-12-20T09:22:08.354Z"
   },
   {
    "duration": 11,
    "start_time": "2022-12-20T09:22:22.448Z"
   },
   {
    "duration": 25,
    "start_time": "2022-12-20T09:30:44.464Z"
   },
   {
    "duration": 2489,
    "start_time": "2022-12-20T09:30:47.937Z"
   },
   {
    "duration": 2869,
    "start_time": "2022-12-20T09:33:26.039Z"
   },
   {
    "duration": 4190,
    "start_time": "2022-12-20T09:35:19.051Z"
   },
   {
    "duration": 585,
    "start_time": "2022-12-20T09:36:39.312Z"
   },
   {
    "duration": 250,
    "start_time": "2022-12-20T09:36:52.039Z"
   },
   {
    "duration": 185,
    "start_time": "2022-12-20T09:37:44.201Z"
   },
   {
    "duration": 202,
    "start_time": "2022-12-20T09:37:48.329Z"
   },
   {
    "duration": 130,
    "start_time": "2022-12-20T09:37:54.009Z"
   },
   {
    "duration": 185,
    "start_time": "2022-12-20T09:37:57.291Z"
   },
   {
    "duration": 158,
    "start_time": "2022-12-20T09:38:00.378Z"
   },
   {
    "duration": 46,
    "start_time": "2022-12-20T09:38:19.275Z"
   },
   {
    "duration": 194,
    "start_time": "2022-12-20T09:38:23.586Z"
   },
   {
    "duration": 214,
    "start_time": "2022-12-20T09:39:10.779Z"
   },
   {
    "duration": 297,
    "start_time": "2022-12-20T09:39:17.733Z"
   },
   {
    "duration": 196,
    "start_time": "2022-12-20T09:39:24.732Z"
   },
   {
    "duration": 220,
    "start_time": "2022-12-20T09:39:37.142Z"
   },
   {
    "duration": 320,
    "start_time": "2022-12-20T09:40:15.231Z"
   },
   {
    "duration": 293,
    "start_time": "2022-12-20T09:40:23.199Z"
   },
   {
    "duration": 279,
    "start_time": "2022-12-20T09:41:10.017Z"
   },
   {
    "duration": 514,
    "start_time": "2022-12-20T09:41:16.952Z"
   },
   {
    "duration": 268,
    "start_time": "2022-12-20T09:41:30.289Z"
   },
   {
    "duration": 445,
    "start_time": "2022-12-20T09:41:51.851Z"
   },
   {
    "duration": 443,
    "start_time": "2022-12-20T09:42:12.330Z"
   },
   {
    "duration": 446,
    "start_time": "2022-12-20T09:42:15.412Z"
   },
   {
    "duration": 468,
    "start_time": "2022-12-20T09:42:25.395Z"
   },
   {
    "duration": 441,
    "start_time": "2022-12-20T09:42:40.292Z"
   },
   {
    "duration": 539,
    "start_time": "2022-12-20T09:42:52.660Z"
   },
   {
    "duration": 426,
    "start_time": "2022-12-20T09:43:00.301Z"
   },
   {
    "duration": 435,
    "start_time": "2022-12-20T09:43:08.510Z"
   },
   {
    "duration": 976,
    "start_time": "2022-12-20T09:43:37.902Z"
   },
   {
    "duration": 758,
    "start_time": "2022-12-20T09:44:06.719Z"
   },
   {
    "duration": 829,
    "start_time": "2022-12-20T09:44:20.991Z"
   },
   {
    "duration": 734,
    "start_time": "2022-12-20T09:44:24.542Z"
   },
   {
    "duration": 828,
    "start_time": "2022-12-20T09:44:35.464Z"
   },
   {
    "duration": 840,
    "start_time": "2022-12-20T09:44:44.201Z"
   },
   {
    "duration": 555,
    "start_time": "2022-12-20T09:44:54.600Z"
   },
   {
    "duration": 557,
    "start_time": "2022-12-20T09:45:05.500Z"
   },
   {
    "duration": 537,
    "start_time": "2022-12-20T09:45:12.482Z"
   },
   {
    "duration": 560,
    "start_time": "2022-12-20T09:45:19.265Z"
   },
   {
    "duration": 553,
    "start_time": "2022-12-20T09:45:26.818Z"
   },
   {
    "duration": 615,
    "start_time": "2022-12-20T09:45:32.353Z"
   },
   {
    "duration": 852,
    "start_time": "2022-12-20T09:45:37.897Z"
   },
   {
    "duration": 573,
    "start_time": "2022-12-20T09:46:10.755Z"
   },
   {
    "duration": 726,
    "start_time": "2022-12-20T09:46:54.510Z"
   },
   {
    "duration": 739,
    "start_time": "2022-12-20T09:47:10.664Z"
   },
   {
    "duration": 719,
    "start_time": "2022-12-20T09:47:54.286Z"
   },
   {
    "duration": 769,
    "start_time": "2022-12-20T09:48:01.300Z"
   },
   {
    "duration": 802,
    "start_time": "2022-12-20T09:48:21.744Z"
   },
   {
    "duration": 1075,
    "start_time": "2022-12-20T09:48:27.592Z"
   },
   {
    "duration": 720,
    "start_time": "2022-12-20T09:48:38.761Z"
   },
   {
    "duration": 748,
    "start_time": "2022-12-20T09:48:52.073Z"
   },
   {
    "duration": 1361,
    "start_time": "2022-12-20T09:53:25.185Z"
   },
   {
    "duration": 1376,
    "start_time": "2022-12-20T09:54:09.574Z"
   },
   {
    "duration": 112,
    "start_time": "2022-12-20T09:54:12.645Z"
   },
   {
    "duration": 6,
    "start_time": "2022-12-20T09:54:12.760Z"
   },
   {
    "duration": 14,
    "start_time": "2022-12-20T09:54:12.768Z"
   },
   {
    "duration": 2967,
    "start_time": "2022-12-20T09:54:12.783Z"
   },
   {
    "duration": 15,
    "start_time": "2022-12-20T09:54:15.751Z"
   },
   {
    "duration": 16,
    "start_time": "2022-12-20T09:54:15.768Z"
   },
   {
    "duration": 203,
    "start_time": "2022-12-20T09:54:15.797Z"
   },
   {
    "duration": 1341,
    "start_time": "2022-12-20T09:54:53.672Z"
   },
   {
    "duration": 2391,
    "start_time": "2022-12-20T09:55:01.392Z"
   },
   {
    "duration": 2882,
    "start_time": "2022-12-20T09:55:54.025Z"
   },
   {
    "duration": 2486,
    "start_time": "2022-12-20T09:56:04.858Z"
   },
   {
    "duration": 2431,
    "start_time": "2022-12-20T09:56:33.642Z"
   },
   {
    "duration": 3002,
    "start_time": "2022-12-20T09:56:45.394Z"
   },
   {
    "duration": 2471,
    "start_time": "2022-12-20T09:57:02.371Z"
   },
   {
    "duration": 2826,
    "start_time": "2022-12-20T09:57:10.540Z"
   },
   {
    "duration": 2506,
    "start_time": "2022-12-20T09:57:41.293Z"
   },
   {
    "duration": 2479,
    "start_time": "2022-12-20T09:57:50.637Z"
   },
   {
    "duration": 3008,
    "start_time": "2022-12-20T09:58:04.341Z"
   },
   {
    "duration": 2383,
    "start_time": "2022-12-20T09:58:21.174Z"
   },
   {
    "duration": 2422,
    "start_time": "2022-12-20T09:58:30.070Z"
   },
   {
    "duration": 2754,
    "start_time": "2022-12-20T09:58:40.246Z"
   },
   {
    "duration": 2298,
    "start_time": "2022-12-20T09:58:47.478Z"
   },
   {
    "duration": 2724,
    "start_time": "2022-12-20T09:59:18.984Z"
   },
   {
    "duration": 2478,
    "start_time": "2022-12-20T09:59:33.513Z"
   },
   {
    "duration": 2303,
    "start_time": "2022-12-20T09:59:47.354Z"
   },
   {
    "duration": 2913,
    "start_time": "2022-12-20T10:00:00.842Z"
   },
   {
    "duration": 2346,
    "start_time": "2022-12-20T10:00:23.045Z"
   },
   {
    "duration": 2536,
    "start_time": "2022-12-20T10:02:29.399Z"
   },
   {
    "duration": 2843,
    "start_time": "2022-12-20T10:02:41.206Z"
   },
   {
    "duration": 2403,
    "start_time": "2022-12-20T10:02:47.575Z"
   },
   {
    "duration": 2835,
    "start_time": "2022-12-20T10:02:57.817Z"
   },
   {
    "duration": 1017,
    "start_time": "2022-12-20T10:03:16.999Z"
   },
   {
    "duration": 2526,
    "start_time": "2022-12-20T10:03:26.105Z"
   },
   {
    "duration": 2781,
    "start_time": "2022-12-20T10:03:56.953Z"
   },
   {
    "duration": 2383,
    "start_time": "2022-12-20T10:04:02.329Z"
   },
   {
    "duration": 2367,
    "start_time": "2022-12-20T10:04:13.570Z"
   },
   {
    "duration": 2925,
    "start_time": "2022-12-20T10:04:22.971Z"
   },
   {
    "duration": 2418,
    "start_time": "2022-12-20T10:04:38.699Z"
   },
   {
    "duration": 2423,
    "start_time": "2022-12-20T10:04:55.683Z"
   },
   {
    "duration": 2890,
    "start_time": "2022-12-20T10:05:06.340Z"
   },
   {
    "duration": 2517,
    "start_time": "2022-12-20T10:05:24.726Z"
   },
   {
    "duration": 2234,
    "start_time": "2022-12-20T10:05:46.014Z"
   },
   {
    "duration": 2961,
    "start_time": "2022-12-20T10:06:06.230Z"
   },
   {
    "duration": 2435,
    "start_time": "2022-12-20T10:06:28.983Z"
   },
   {
    "duration": 2382,
    "start_time": "2022-12-20T10:06:42.968Z"
   },
   {
    "duration": 2934,
    "start_time": "2022-12-20T10:07:18.145Z"
   },
   {
    "duration": 2391,
    "start_time": "2022-12-20T10:07:28.122Z"
   },
   {
    "duration": 2341,
    "start_time": "2022-12-20T10:07:48.810Z"
   },
   {
    "duration": 2874,
    "start_time": "2022-12-20T10:08:03.859Z"
   },
   {
    "duration": 2488,
    "start_time": "2022-12-20T10:08:15.155Z"
   },
   {
    "duration": 2352,
    "start_time": "2022-12-20T10:08:26.867Z"
   },
   {
    "duration": 2353,
    "start_time": "2022-12-20T10:08:37.147Z"
   },
   {
    "duration": 2987,
    "start_time": "2022-12-20T10:08:48.084Z"
   },
   {
    "duration": 2340,
    "start_time": "2022-12-20T10:09:10.766Z"
   },
   {
    "duration": 2856,
    "start_time": "2022-12-20T10:09:28.342Z"
   },
   {
    "duration": 2321,
    "start_time": "2022-12-20T10:09:42.445Z"
   },
   {
    "duration": 2304,
    "start_time": "2022-12-20T10:10:16.576Z"
   },
   {
    "duration": 2996,
    "start_time": "2022-12-20T10:10:33.345Z"
   },
   {
    "duration": 2310,
    "start_time": "2022-12-20T10:10:42.289Z"
   },
   {
    "duration": 2483,
    "start_time": "2022-12-20T10:10:58.217Z"
   },
   {
    "duration": 2393,
    "start_time": "2022-12-20T10:11:06.570Z"
   },
   {
    "duration": 3017,
    "start_time": "2022-12-20T10:11:14.289Z"
   },
   {
    "duration": 2302,
    "start_time": "2022-12-20T10:11:41.587Z"
   },
   {
    "duration": 2338,
    "start_time": "2022-12-20T10:11:51.699Z"
   },
   {
    "duration": 3014,
    "start_time": "2022-12-20T10:12:04.995Z"
   },
   {
    "duration": 2375,
    "start_time": "2022-12-20T10:12:28.140Z"
   },
   {
    "duration": 2319,
    "start_time": "2022-12-20T10:12:36.708Z"
   },
   {
    "duration": 3044,
    "start_time": "2022-12-20T10:15:00.577Z"
   },
   {
    "duration": 2539,
    "start_time": "2022-12-20T10:15:14.850Z"
   },
   {
    "duration": 2446,
    "start_time": "2022-12-20T10:15:31.802Z"
   },
   {
    "duration": 3032,
    "start_time": "2022-12-20T10:15:51.383Z"
   },
   {
    "duration": 2599,
    "start_time": "2022-12-20T10:16:14.780Z"
   },
   {
    "duration": 2588,
    "start_time": "2022-12-20T10:16:30.469Z"
   },
   {
    "duration": 3174,
    "start_time": "2022-12-20T10:17:02.173Z"
   },
   {
    "duration": 2559,
    "start_time": "2022-12-20T10:17:24.270Z"
   },
   {
    "duration": 2552,
    "start_time": "2022-12-20T10:17:40.087Z"
   },
   {
    "duration": 3301,
    "start_time": "2022-12-20T10:18:04.384Z"
   },
   {
    "duration": 2644,
    "start_time": "2022-12-20T10:18:26.145Z"
   },
   {
    "duration": 2619,
    "start_time": "2022-12-20T10:19:07.131Z"
   },
   {
    "duration": 3225,
    "start_time": "2022-12-20T10:19:47.008Z"
   },
   {
    "duration": 2670,
    "start_time": "2022-12-20T10:20:25.485Z"
   },
   {
    "duration": 2494,
    "start_time": "2022-12-20T10:20:41.134Z"
   },
   {
    "duration": 3319,
    "start_time": "2022-12-20T10:20:56.862Z"
   },
   {
    "duration": 805,
    "start_time": "2022-12-20T10:37:58.633Z"
   },
   {
    "duration": 134,
    "start_time": "2022-12-20T10:38:23.034Z"
   },
   {
    "duration": 134,
    "start_time": "2022-12-20T10:38:59.252Z"
   },
   {
    "duration": 9,
    "start_time": "2022-12-20T10:39:42.286Z"
   },
   {
    "duration": 11,
    "start_time": "2022-12-20T10:43:47.350Z"
   },
   {
    "duration": 10,
    "start_time": "2022-12-20T10:43:50.134Z"
   },
   {
    "duration": 5,
    "start_time": "2022-12-20T10:43:59.927Z"
   },
   {
    "duration": 9,
    "start_time": "2022-12-20T10:44:09.455Z"
   },
   {
    "duration": 137,
    "start_time": "2022-12-20T10:44:11.119Z"
   },
   {
    "duration": 3,
    "start_time": "2022-12-20T10:44:15.935Z"
   },
   {
    "duration": 141,
    "start_time": "2022-12-20T10:44:17.143Z"
   },
   {
    "duration": 9,
    "start_time": "2022-12-20T10:44:19.319Z"
   },
   {
    "duration": 15,
    "start_time": "2022-12-20T10:44:24.544Z"
   },
   {
    "duration": 1434,
    "start_time": "2022-12-20T10:49:56.836Z"
   },
   {
    "duration": 6,
    "start_time": "2022-12-20T10:50:49.574Z"
   },
   {
    "duration": 2811,
    "start_time": "2022-12-20T10:50:51.992Z"
   },
   {
    "duration": 2718,
    "start_time": "2022-12-20T10:51:20.928Z"
   },
   {
    "duration": 3516,
    "start_time": "2022-12-20T10:51:35.520Z"
   },
   {
    "duration": 2865,
    "start_time": "2022-12-20T10:51:46.225Z"
   },
   {
    "duration": 3398,
    "start_time": "2022-12-20T11:03:03.577Z"
   },
   {
    "duration": 2842,
    "start_time": "2022-12-20T11:03:24.306Z"
   },
   {
    "duration": 5,
    "start_time": "2022-12-20T11:05:26.973Z"
   },
   {
    "duration": 37,
    "start_time": "2022-12-20T11:19:12.849Z"
   },
   {
    "duration": 49,
    "start_time": "2022-12-20T11:19:28.674Z"
   },
   {
    "duration": 48,
    "start_time": "2022-12-20T11:21:45.456Z"
   },
   {
    "duration": 51,
    "start_time": "2022-12-20T11:22:11.255Z"
   },
   {
    "duration": 45,
    "start_time": "2022-12-20T11:22:38.176Z"
   },
   {
    "duration": 43,
    "start_time": "2022-12-20T11:22:55.834Z"
   },
   {
    "duration": 45,
    "start_time": "2022-12-20T11:22:59.810Z"
   },
   {
    "duration": 45,
    "start_time": "2022-12-20T11:23:07.345Z"
   },
   {
    "duration": 145,
    "start_time": "2022-12-20T11:23:55.332Z"
   },
   {
    "duration": 118,
    "start_time": "2022-12-20T11:24:11.830Z"
   },
   {
    "duration": 113,
    "start_time": "2022-12-20T11:24:42.628Z"
   },
   {
    "duration": 4,
    "start_time": "2022-12-20T11:24:42.743Z"
   },
   {
    "duration": 6,
    "start_time": "2022-12-20T11:24:42.748Z"
   },
   {
    "duration": 2826,
    "start_time": "2022-12-20T11:24:42.756Z"
   },
   {
    "duration": 143,
    "start_time": "2022-12-20T11:24:45.584Z"
   },
   {
    "duration": 5,
    "start_time": "2022-12-20T11:24:45.729Z"
   },
   {
    "duration": 5,
    "start_time": "2022-12-20T11:24:45.735Z"
   },
   {
    "duration": 159,
    "start_time": "2022-12-20T11:24:45.742Z"
   },
   {
    "duration": 24,
    "start_time": "2022-12-20T11:24:45.903Z"
   },
   {
    "duration": 15,
    "start_time": "2022-12-20T11:24:45.930Z"
   },
   {
    "duration": 10,
    "start_time": "2022-12-20T11:24:45.947Z"
   },
   {
    "duration": 72,
    "start_time": "2022-12-20T11:24:45.958Z"
   },
   {
    "duration": 73,
    "start_time": "2022-12-20T11:25:00.086Z"
   },
   {
    "duration": 51,
    "start_time": "2022-12-20T11:25:09.038Z"
   },
   {
    "duration": 6,
    "start_time": "2022-12-20T11:26:27.226Z"
   },
   {
    "duration": 7,
    "start_time": "2022-12-20T11:26:58.635Z"
   },
   {
    "duration": 4,
    "start_time": "2022-12-20T11:27:02.475Z"
   },
   {
    "duration": 1397,
    "start_time": "2022-12-20T11:28:04.302Z"
   },
   {
    "duration": 6,
    "start_time": "2022-12-20T11:28:26.898Z"
   },
   {
    "duration": 5,
    "start_time": "2022-12-20T11:29:58.552Z"
   },
   {
    "duration": 3565,
    "start_time": "2022-12-20T11:29:59.834Z"
   },
   {
    "duration": 35,
    "start_time": "2022-12-20T11:30:45.658Z"
   },
   {
    "duration": 89,
    "start_time": "2022-12-20T11:41:30.792Z"
   },
   {
    "duration": 9,
    "start_time": "2022-12-20T11:42:17.372Z"
   },
   {
    "duration": 117,
    "start_time": "2022-12-20T11:42:21.330Z"
   },
   {
    "duration": 5,
    "start_time": "2022-12-20T11:42:21.449Z"
   },
   {
    "duration": 15,
    "start_time": "2022-12-20T11:42:21.456Z"
   },
   {
    "duration": 31,
    "start_time": "2022-12-20T11:42:21.473Z"
   },
   {
    "duration": 0,
    "start_time": "2022-12-20T11:42:21.505Z"
   },
   {
    "duration": 0,
    "start_time": "2022-12-20T11:42:21.507Z"
   },
   {
    "duration": 0,
    "start_time": "2022-12-20T11:42:21.508Z"
   },
   {
    "duration": 0,
    "start_time": "2022-12-20T11:42:21.510Z"
   },
   {
    "duration": 0,
    "start_time": "2022-12-20T11:42:21.511Z"
   },
   {
    "duration": 0,
    "start_time": "2022-12-20T11:42:21.512Z"
   },
   {
    "duration": 0,
    "start_time": "2022-12-20T11:42:21.513Z"
   },
   {
    "duration": 0,
    "start_time": "2022-12-20T11:42:21.514Z"
   },
   {
    "duration": 0,
    "start_time": "2022-12-20T11:42:21.516Z"
   },
   {
    "duration": 0,
    "start_time": "2022-12-20T11:42:21.518Z"
   },
   {
    "duration": 14,
    "start_time": "2022-12-20T11:42:35.170Z"
   },
   {
    "duration": 17,
    "start_time": "2022-12-20T11:42:45.987Z"
   },
   {
    "duration": 17,
    "start_time": "2022-12-20T11:42:49.437Z"
   },
   {
    "duration": 16,
    "start_time": "2022-12-20T11:42:52.844Z"
   },
   {
    "duration": 120,
    "start_time": "2022-12-20T11:42:55.730Z"
   },
   {
    "duration": 3,
    "start_time": "2022-12-20T11:42:55.852Z"
   },
   {
    "duration": 12,
    "start_time": "2022-12-20T11:42:55.857Z"
   },
   {
    "duration": 18,
    "start_time": "2022-12-20T11:42:55.871Z"
   },
   {
    "duration": 0,
    "start_time": "2022-12-20T11:42:55.891Z"
   },
   {
    "duration": 0,
    "start_time": "2022-12-20T11:42:55.897Z"
   },
   {
    "duration": 0,
    "start_time": "2022-12-20T11:42:55.898Z"
   },
   {
    "duration": 0,
    "start_time": "2022-12-20T11:42:55.899Z"
   },
   {
    "duration": 0,
    "start_time": "2022-12-20T11:42:55.901Z"
   },
   {
    "duration": 0,
    "start_time": "2022-12-20T11:42:55.902Z"
   },
   {
    "duration": 0,
    "start_time": "2022-12-20T11:42:55.904Z"
   },
   {
    "duration": 0,
    "start_time": "2022-12-20T11:42:55.905Z"
   },
   {
    "duration": 0,
    "start_time": "2022-12-20T11:42:55.907Z"
   },
   {
    "duration": 0,
    "start_time": "2022-12-20T11:42:55.908Z"
   },
   {
    "duration": 156,
    "start_time": "2022-12-20T11:43:16.153Z"
   },
   {
    "duration": 8,
    "start_time": "2022-12-20T11:43:16.311Z"
   },
   {
    "duration": 12,
    "start_time": "2022-12-20T11:43:16.321Z"
   },
   {
    "duration": 2866,
    "start_time": "2022-12-20T11:43:16.336Z"
   },
   {
    "duration": 79,
    "start_time": "2022-12-20T11:43:19.204Z"
   },
   {
    "duration": 141,
    "start_time": "2022-12-20T11:43:19.295Z"
   },
   {
    "duration": 5,
    "start_time": "2022-12-20T11:43:19.438Z"
   },
   {
    "duration": 6,
    "start_time": "2022-12-20T11:43:19.445Z"
   },
   {
    "duration": 159,
    "start_time": "2022-12-20T11:43:19.452Z"
   },
   {
    "duration": 10,
    "start_time": "2022-12-20T11:43:19.613Z"
   },
   {
    "duration": 14,
    "start_time": "2022-12-20T11:43:19.624Z"
   },
   {
    "duration": 8,
    "start_time": "2022-12-20T11:43:19.640Z"
   },
   {
    "duration": 67,
    "start_time": "2022-12-20T11:43:19.650Z"
   },
   {
    "duration": 1470,
    "start_time": "2022-12-20T11:43:47.950Z"
   },
   {
    "duration": 1392,
    "start_time": "2022-12-20T11:43:51.470Z"
   },
   {
    "duration": 2121,
    "start_time": "2022-12-20T11:43:58.878Z"
   },
   {
    "duration": 1462,
    "start_time": "2022-12-20T11:44:10.254Z"
   },
   {
    "duration": 116,
    "start_time": "2022-12-20T11:44:12.228Z"
   },
   {
    "duration": 4,
    "start_time": "2022-12-20T11:44:12.346Z"
   },
   {
    "duration": 5,
    "start_time": "2022-12-20T11:44:12.352Z"
   },
   {
    "duration": 2898,
    "start_time": "2022-12-20T11:44:12.359Z"
   },
   {
    "duration": 85,
    "start_time": "2022-12-20T11:44:15.259Z"
   },
   {
    "duration": 142,
    "start_time": "2022-12-20T11:44:15.346Z"
   },
   {
    "duration": 5,
    "start_time": "2022-12-20T11:44:15.497Z"
   },
   {
    "duration": 8,
    "start_time": "2022-12-20T11:44:15.504Z"
   },
   {
    "duration": 158,
    "start_time": "2022-12-20T11:44:15.514Z"
   },
   {
    "duration": 10,
    "start_time": "2022-12-20T11:44:15.674Z"
   },
   {
    "duration": 22,
    "start_time": "2022-12-20T11:44:15.685Z"
   },
   {
    "duration": 9,
    "start_time": "2022-12-20T11:44:15.709Z"
   },
   {
    "duration": 39,
    "start_time": "2022-12-20T11:44:15.720Z"
   },
   {
    "duration": 81,
    "start_time": "2022-12-20T11:44:47.531Z"
   },
   {
    "duration": 6,
    "start_time": "2022-12-20T11:46:37.506Z"
   },
   {
    "duration": 5,
    "start_time": "2022-12-20T11:51:54.821Z"
   },
   {
    "duration": 10,
    "start_time": "2022-12-20T11:51:58.158Z"
   },
   {
    "duration": 5,
    "start_time": "2022-12-20T11:52:40.583Z"
   },
   {
    "duration": 30,
    "start_time": "2022-12-20T11:52:53.399Z"
   },
   {
    "duration": 4,
    "start_time": "2022-12-20T11:53:31.133Z"
   },
   {
    "duration": 55,
    "start_time": "2022-12-20T11:54:02.098Z"
   },
   {
    "duration": 9,
    "start_time": "2022-12-20T11:54:49.125Z"
   },
   {
    "duration": 121,
    "start_time": "2022-12-20T11:55:09.613Z"
   },
   {
    "duration": 8,
    "start_time": "2022-12-20T11:56:16.705Z"
   },
   {
    "duration": 8,
    "start_time": "2022-12-20T11:56:19.743Z"
   },
   {
    "duration": 6,
    "start_time": "2022-12-20T11:56:22.430Z"
   },
   {
    "duration": 7,
    "start_time": "2022-12-20T11:56:30.655Z"
   },
   {
    "duration": 11,
    "start_time": "2022-12-20T11:59:32.926Z"
   },
   {
    "duration": 4,
    "start_time": "2022-12-20T12:09:18.053Z"
   },
   {
    "duration": 71,
    "start_time": "2022-12-20T12:10:30.552Z"
   },
   {
    "duration": 5,
    "start_time": "2022-12-20T12:10:52.552Z"
   },
   {
    "duration": 11,
    "start_time": "2022-12-20T12:11:28.038Z"
   },
   {
    "duration": 122,
    "start_time": "2022-12-20T12:12:25.097Z"
   },
   {
    "duration": 113,
    "start_time": "2022-12-20T12:12:34.494Z"
   },
   {
    "duration": 4,
    "start_time": "2022-12-20T12:12:34.608Z"
   },
   {
    "duration": 5,
    "start_time": "2022-12-20T12:12:34.614Z"
   },
   {
    "duration": 3579,
    "start_time": "2022-12-20T12:12:34.621Z"
   },
   {
    "duration": 78,
    "start_time": "2022-12-20T12:12:38.202Z"
   },
   {
    "duration": 146,
    "start_time": "2022-12-20T12:12:38.281Z"
   },
   {
    "duration": 5,
    "start_time": "2022-12-20T12:12:38.429Z"
   },
   {
    "duration": 5,
    "start_time": "2022-12-20T12:12:38.436Z"
   },
   {
    "duration": 11,
    "start_time": "2022-12-20T12:12:38.442Z"
   },
   {
    "duration": 13,
    "start_time": "2022-12-20T12:12:38.455Z"
   },
   {
    "duration": 29,
    "start_time": "2022-12-20T12:12:38.470Z"
   },
   {
    "duration": 9,
    "start_time": "2022-12-20T12:12:38.500Z"
   },
   {
    "duration": 44,
    "start_time": "2022-12-20T12:12:38.510Z"
   },
   {
    "duration": 9,
    "start_time": "2022-12-20T12:12:38.555Z"
   },
   {
    "duration": 550,
    "start_time": "2022-12-20T12:13:56.848Z"
   },
   {
    "duration": 10,
    "start_time": "2022-12-20T12:14:45.762Z"
   },
   {
    "duration": 120,
    "start_time": "2022-12-20T12:16:10.890Z"
   },
   {
    "duration": 4,
    "start_time": "2022-12-20T12:16:11.012Z"
   },
   {
    "duration": 11,
    "start_time": "2022-12-20T12:16:11.017Z"
   },
   {
    "duration": 3022,
    "start_time": "2022-12-20T12:16:11.030Z"
   },
   {
    "duration": 90,
    "start_time": "2022-12-20T12:16:14.053Z"
   },
   {
    "duration": 14,
    "start_time": "2022-12-20T12:16:14.145Z"
   },
   {
    "duration": 10,
    "start_time": "2022-12-20T12:16:14.161Z"
   },
   {
    "duration": 10,
    "start_time": "2022-12-20T12:27:12.237Z"
   },
   {
    "duration": 8,
    "start_time": "2022-12-20T12:27:22.518Z"
   },
   {
    "duration": 50,
    "start_time": "2022-12-20T12:27:35.454Z"
   },
   {
    "duration": 7,
    "start_time": "2022-12-20T12:27:42.271Z"
   },
   {
    "duration": 13,
    "start_time": "2022-12-20T12:27:54.071Z"
   },
   {
    "duration": 6,
    "start_time": "2022-12-20T12:28:04.759Z"
   },
   {
    "duration": 6,
    "start_time": "2022-12-20T12:35:57.791Z"
   },
   {
    "duration": 7,
    "start_time": "2022-12-20T12:38:52.061Z"
   },
   {
    "duration": 22,
    "start_time": "2022-12-20T12:38:56.156Z"
   },
   {
    "duration": 83,
    "start_time": "2022-12-20T14:12:31.370Z"
   },
   {
    "duration": 46,
    "start_time": "2022-12-21T09:55:45.657Z"
   },
   {
    "duration": 711,
    "start_time": "2022-12-21T09:55:51.176Z"
   },
   {
    "duration": 4,
    "start_time": "2022-12-21T09:55:51.888Z"
   },
   {
    "duration": 27,
    "start_time": "2022-12-21T09:55:51.893Z"
   },
   {
    "duration": 3042,
    "start_time": "2022-12-21T09:55:51.922Z"
   },
   {
    "duration": 15,
    "start_time": "2022-12-21T09:55:54.966Z"
   },
   {
    "duration": 123,
    "start_time": "2022-12-21T09:55:54.984Z"
   },
   {
    "duration": 8,
    "start_time": "2022-12-21T09:55:55.109Z"
   },
   {
    "duration": 54,
    "start_time": "2022-12-21T09:55:55.118Z"
   },
   {
    "duration": 53,
    "start_time": "2022-12-21T09:55:55.173Z"
   },
   {
    "duration": 43,
    "start_time": "2022-12-21T09:57:59.955Z"
   },
   {
    "duration": 7,
    "start_time": "2022-12-21T09:58:13.668Z"
   },
   {
    "duration": 19,
    "start_time": "2022-12-21T09:58:21.436Z"
   },
   {
    "duration": 53,
    "start_time": "2022-12-21T09:58:38.964Z"
   },
   {
    "duration": 863,
    "start_time": "2022-12-21T10:37:00.050Z"
   },
   {
    "duration": 8,
    "start_time": "2022-12-21T10:37:13.597Z"
   },
   {
    "duration": 7,
    "start_time": "2022-12-21T12:39:51.783Z"
   },
   {
    "duration": 1118,
    "start_time": "2022-12-21T12:45:56.961Z"
   },
   {
    "duration": 107,
    "start_time": "2022-12-21T12:46:14.606Z"
   },
   {
    "duration": 4,
    "start_time": "2022-12-21T12:46:14.715Z"
   },
   {
    "duration": 16,
    "start_time": "2022-12-21T12:46:14.721Z"
   },
   {
    "duration": 2743,
    "start_time": "2022-12-21T12:46:14.739Z"
   },
   {
    "duration": 14,
    "start_time": "2022-12-21T12:46:17.484Z"
   },
   {
    "duration": 80,
    "start_time": "2022-12-21T12:46:17.500Z"
   },
   {
    "duration": 9,
    "start_time": "2022-12-21T12:46:17.582Z"
   },
   {
    "duration": 1033,
    "start_time": "2022-12-21T12:46:17.592Z"
   },
   {
    "duration": 22,
    "start_time": "2022-12-21T12:46:18.636Z"
   },
   {
    "duration": 47,
    "start_time": "2022-12-21T12:46:18.660Z"
   },
   {
    "duration": 979,
    "start_time": "2022-12-21T12:46:24.559Z"
   },
   {
    "duration": 14,
    "start_time": "2022-12-21T12:47:12.201Z"
   },
   {
    "duration": 780,
    "start_time": "2022-12-21T12:47:28.449Z"
   },
   {
    "duration": 113,
    "start_time": "2022-12-21T12:47:36.390Z"
   },
   {
    "duration": 5,
    "start_time": "2022-12-21T12:47:36.505Z"
   },
   {
    "duration": 19,
    "start_time": "2022-12-21T12:47:36.511Z"
   },
   {
    "duration": 2741,
    "start_time": "2022-12-21T12:47:36.532Z"
   },
   {
    "duration": 13,
    "start_time": "2022-12-21T12:47:39.275Z"
   },
   {
    "duration": 88,
    "start_time": "2022-12-21T12:47:39.289Z"
   },
   {
    "duration": 10,
    "start_time": "2022-12-21T12:47:39.378Z"
   },
   {
    "duration": 1091,
    "start_time": "2022-12-21T12:47:43.251Z"
   },
   {
    "duration": 7,
    "start_time": "2022-12-21T12:49:32.989Z"
   },
   {
    "duration": 13,
    "start_time": "2022-12-21T12:50:12.991Z"
   },
   {
    "duration": 15,
    "start_time": "2022-12-21T12:50:41.346Z"
   },
   {
    "duration": 25,
    "start_time": "2022-12-21T12:52:43.601Z"
   },
   {
    "duration": 48,
    "start_time": "2022-12-21T12:52:46.966Z"
   },
   {
    "duration": 6,
    "start_time": "2022-12-21T13:02:34.568Z"
   },
   {
    "duration": 5,
    "start_time": "2022-12-21T13:02:53.592Z"
   },
   {
    "duration": 8,
    "start_time": "2022-12-21T14:08:25.970Z"
   },
   {
    "duration": 49,
    "start_time": "2022-12-21T14:08:32.065Z"
   },
   {
    "duration": 49,
    "start_time": "2022-12-21T14:08:41.890Z"
   },
   {
    "duration": 53,
    "start_time": "2022-12-21T14:08:50.490Z"
   },
   {
    "duration": 33,
    "start_time": "2022-12-21T14:10:17.849Z"
   },
   {
    "duration": 48,
    "start_time": "2022-12-21T14:10:26.132Z"
   },
   {
    "duration": 8,
    "start_time": "2022-12-21T14:11:20.863Z"
   },
   {
    "duration": 8,
    "start_time": "2022-12-21T14:11:45.239Z"
   },
   {
    "duration": 10,
    "start_time": "2022-12-21T14:11:49.584Z"
   },
   {
    "duration": 28,
    "start_time": "2022-12-21T14:12:27.465Z"
   },
   {
    "duration": 9,
    "start_time": "2022-12-21T14:12:42.409Z"
   },
   {
    "duration": 75,
    "start_time": "2022-12-21T14:13:07.587Z"
   },
   {
    "duration": 711,
    "start_time": "2022-12-22T11:02:12.948Z"
   },
   {
    "duration": 61,
    "start_time": "2022-12-22T11:02:13.661Z"
   },
   {
    "duration": 0,
    "start_time": "2022-12-22T11:02:13.723Z"
   },
   {
    "duration": 0,
    "start_time": "2022-12-22T11:02:13.724Z"
   },
   {
    "duration": 0,
    "start_time": "2022-12-22T11:02:13.725Z"
   },
   {
    "duration": 0,
    "start_time": "2022-12-22T11:02:13.726Z"
   },
   {
    "duration": 0,
    "start_time": "2022-12-22T11:02:13.727Z"
   },
   {
    "duration": 0,
    "start_time": "2022-12-22T11:02:13.728Z"
   },
   {
    "duration": 0,
    "start_time": "2022-12-22T11:02:13.729Z"
   },
   {
    "duration": 0,
    "start_time": "2022-12-22T11:02:13.731Z"
   },
   {
    "duration": 1,
    "start_time": "2022-12-22T11:02:13.731Z"
   },
   {
    "duration": 0,
    "start_time": "2022-12-22T11:02:13.733Z"
   },
   {
    "duration": 0,
    "start_time": "2022-12-22T11:02:13.734Z"
   },
   {
    "duration": 0,
    "start_time": "2022-12-22T11:02:13.734Z"
   },
   {
    "duration": 4,
    "start_time": "2022-12-22T11:02:28.977Z"
   },
   {
    "duration": 120,
    "start_time": "2022-12-22T11:11:56.526Z"
   },
   {
    "duration": 48,
    "start_time": "2022-12-22T11:21:10.408Z"
   },
   {
    "duration": 0,
    "start_time": "2022-12-22T11:21:10.459Z"
   },
   {
    "duration": 0,
    "start_time": "2022-12-22T11:21:10.460Z"
   },
   {
    "duration": 0,
    "start_time": "2022-12-22T11:21:10.461Z"
   },
   {
    "duration": 0,
    "start_time": "2022-12-22T11:21:10.462Z"
   },
   {
    "duration": 0,
    "start_time": "2022-12-22T11:21:10.464Z"
   },
   {
    "duration": 0,
    "start_time": "2022-12-22T11:21:10.465Z"
   },
   {
    "duration": 0,
    "start_time": "2022-12-22T11:21:10.466Z"
   },
   {
    "duration": 0,
    "start_time": "2022-12-22T11:21:10.468Z"
   },
   {
    "duration": 0,
    "start_time": "2022-12-22T11:21:10.469Z"
   },
   {
    "duration": 0,
    "start_time": "2022-12-22T11:21:10.471Z"
   },
   {
    "duration": 0,
    "start_time": "2022-12-22T11:21:10.472Z"
   },
   {
    "duration": 0,
    "start_time": "2022-12-22T11:21:10.474Z"
   },
   {
    "duration": 0,
    "start_time": "2022-12-22T11:21:10.475Z"
   },
   {
    "duration": 76,
    "start_time": "2022-12-22T11:21:15.661Z"
   },
   {
    "duration": 109,
    "start_time": "2022-12-22T11:21:34.455Z"
   },
   {
    "duration": 108,
    "start_time": "2022-12-22T11:21:37.238Z"
   },
   {
    "duration": 4,
    "start_time": "2022-12-22T11:21:37.348Z"
   },
   {
    "duration": 8,
    "start_time": "2022-12-22T11:21:37.353Z"
   },
   {
    "duration": 8,
    "start_time": "2022-12-22T11:21:37.362Z"
   },
   {
    "duration": 2201,
    "start_time": "2022-12-22T11:21:37.372Z"
   },
   {
    "duration": 0,
    "start_time": "2022-12-22T11:21:39.575Z"
   },
   {
    "duration": 0,
    "start_time": "2022-12-22T11:21:39.577Z"
   },
   {
    "duration": 0,
    "start_time": "2022-12-22T11:21:39.578Z"
   },
   {
    "duration": 0,
    "start_time": "2022-12-22T11:21:39.580Z"
   },
   {
    "duration": 0,
    "start_time": "2022-12-22T11:21:39.581Z"
   },
   {
    "duration": 0,
    "start_time": "2022-12-22T11:21:39.597Z"
   },
   {
    "duration": 0,
    "start_time": "2022-12-22T11:21:39.599Z"
   },
   {
    "duration": 0,
    "start_time": "2022-12-22T11:21:39.600Z"
   },
   {
    "duration": 0,
    "start_time": "2022-12-22T11:21:39.602Z"
   },
   {
    "duration": 17,
    "start_time": "2022-12-22T11:21:49.512Z"
   },
   {
    "duration": 76,
    "start_time": "2022-12-22T11:21:52.285Z"
   },
   {
    "duration": 13,
    "start_time": "2022-12-22T11:21:52.362Z"
   },
   {
    "duration": 8,
    "start_time": "2022-12-22T11:21:52.376Z"
   },
   {
    "duration": 9,
    "start_time": "2022-12-22T11:21:52.397Z"
   },
   {
    "duration": 0,
    "start_time": "2022-12-22T11:21:52.407Z"
   },
   {
    "duration": 0,
    "start_time": "2022-12-22T11:21:52.409Z"
   },
   {
    "duration": 0,
    "start_time": "2022-12-22T11:21:52.409Z"
   },
   {
    "duration": 0,
    "start_time": "2022-12-22T11:21:52.411Z"
   },
   {
    "duration": 22,
    "start_time": "2022-12-22T11:21:57.155Z"
   },
   {
    "duration": 72,
    "start_time": "2022-12-22T11:21:59.292Z"
   },
   {
    "duration": 6,
    "start_time": "2022-12-22T11:22:02.153Z"
   },
   {
    "duration": 7,
    "start_time": "2022-12-22T11:22:04.016Z"
   },
   {
    "duration": 6,
    "start_time": "2022-12-22T11:22:10.436Z"
   },
   {
    "duration": 10,
    "start_time": "2022-12-22T11:22:36.015Z"
   },
   {
    "duration": 10,
    "start_time": "2022-12-22T11:22:52.705Z"
   },
   {
    "duration": 11,
    "start_time": "2022-12-22T11:22:59.834Z"
   },
   {
    "duration": 146,
    "start_time": "2022-12-22T11:23:29.603Z"
   },
   {
    "duration": 115,
    "start_time": "2022-12-22T11:23:55.076Z"
   },
   {
    "duration": 230,
    "start_time": "2022-12-22T11:27:22.269Z"
   },
   {
    "duration": 233,
    "start_time": "2022-12-22T11:27:53.966Z"
   },
   {
    "duration": 216,
    "start_time": "2022-12-22T11:28:07.309Z"
   },
   {
    "duration": 1878,
    "start_time": "2022-12-22T11:29:04.913Z"
   },
   {
    "duration": 2755,
    "start_time": "2022-12-22T11:29:10.168Z"
   },
   {
    "duration": 12,
    "start_time": "2022-12-22T11:31:03.302Z"
   },
   {
    "duration": 52,
    "start_time": "2022-12-22T11:31:09.672Z"
   },
   {
    "duration": 9,
    "start_time": "2022-12-22T11:31:14.802Z"
   },
   {
    "duration": 128,
    "start_time": "2022-12-22T11:31:22.780Z"
   },
   {
    "duration": 1641,
    "start_time": "2022-12-22T11:31:30.703Z"
   },
   {
    "duration": 53,
    "start_time": "2022-12-22T11:32:22.795Z"
   },
   {
    "duration": 1575,
    "start_time": "2022-12-22T11:32:29.616Z"
   },
   {
    "duration": 138,
    "start_time": "2022-12-22T11:32:38.842Z"
   },
   {
    "duration": 14,
    "start_time": "2022-12-22T11:32:38.982Z"
   },
   {
    "duration": 4,
    "start_time": "2022-12-22T11:32:38.998Z"
   },
   {
    "duration": 8,
    "start_time": "2022-12-22T11:32:39.003Z"
   },
   {
    "duration": 2751,
    "start_time": "2022-12-22T11:32:39.013Z"
   },
   {
    "duration": 14,
    "start_time": "2022-12-22T11:32:41.765Z"
   },
   {
    "duration": 198,
    "start_time": "2022-12-22T11:32:41.781Z"
   },
   {
    "duration": 241,
    "start_time": "2022-12-22T11:32:41.980Z"
   },
   {
    "duration": 12,
    "start_time": "2022-12-22T11:32:42.223Z"
   },
   {
    "duration": 10,
    "start_time": "2022-12-22T11:32:42.237Z"
   },
   {
    "duration": 19,
    "start_time": "2022-12-22T11:32:42.248Z"
   },
   {
    "duration": 0,
    "start_time": "2022-12-22T11:32:42.269Z"
   },
   {
    "duration": 0,
    "start_time": "2022-12-22T11:32:42.271Z"
   },
   {
    "duration": 0,
    "start_time": "2022-12-22T11:32:42.272Z"
   },
   {
    "duration": 0,
    "start_time": "2022-12-22T11:32:42.273Z"
   },
   {
    "duration": 7,
    "start_time": "2022-12-22T11:36:15.526Z"
   },
   {
    "duration": 8,
    "start_time": "2022-12-22T11:36:48.087Z"
   },
   {
    "duration": 15,
    "start_time": "2022-12-22T11:51:59.111Z"
   },
   {
    "duration": 733,
    "start_time": "2022-12-22T11:54:23.716Z"
   },
   {
    "duration": 8,
    "start_time": "2022-12-22T11:54:26.740Z"
   },
   {
    "duration": 9,
    "start_time": "2022-12-22T11:55:35.704Z"
   },
   {
    "duration": 47,
    "start_time": "2022-12-22T11:55:38.726Z"
   },
   {
    "duration": 6,
    "start_time": "2022-12-22T11:55:41.799Z"
   },
   {
    "duration": 7,
    "start_time": "2022-12-22T11:55:54.582Z"
   },
   {
    "duration": 5,
    "start_time": "2022-12-22T12:00:39.250Z"
   },
   {
    "duration": 7,
    "start_time": "2022-12-22T12:01:07.787Z"
   },
   {
    "duration": 6,
    "start_time": "2022-12-22T12:01:16.268Z"
   },
   {
    "duration": 7,
    "start_time": "2022-12-22T12:01:19.531Z"
   },
   {
    "duration": 6,
    "start_time": "2022-12-22T12:01:37.724Z"
   },
   {
    "duration": 6,
    "start_time": "2022-12-22T12:01:47.076Z"
   },
   {
    "duration": 13,
    "start_time": "2022-12-22T12:02:16.566Z"
   },
   {
    "duration": 13,
    "start_time": "2022-12-22T12:02:29.254Z"
   },
   {
    "duration": 53,
    "start_time": "2022-12-22T12:02:34.964Z"
   },
   {
    "duration": 50,
    "start_time": "2022-12-22T12:02:38.342Z"
   },
   {
    "duration": 11,
    "start_time": "2022-12-22T12:02:44.664Z"
   },
   {
    "duration": 9,
    "start_time": "2022-12-22T12:03:11.129Z"
   },
   {
    "duration": 8,
    "start_time": "2022-12-22T12:03:27.489Z"
   },
   {
    "duration": 6,
    "start_time": "2022-12-22T12:03:42.273Z"
   },
   {
    "duration": 10,
    "start_time": "2022-12-22T12:05:25.725Z"
   },
   {
    "duration": 9,
    "start_time": "2022-12-22T12:06:36.505Z"
   },
   {
    "duration": 29,
    "start_time": "2022-12-22T12:07:03.401Z"
   },
   {
    "duration": 23,
    "start_time": "2022-12-22T12:07:10.449Z"
   },
   {
    "duration": 29,
    "start_time": "2022-12-22T12:07:17.353Z"
   },
   {
    "duration": 20,
    "start_time": "2022-12-22T12:07:20.177Z"
   },
   {
    "duration": 21,
    "start_time": "2022-12-22T12:07:31.569Z"
   },
   {
    "duration": 18,
    "start_time": "2022-12-22T12:08:11.107Z"
   },
   {
    "duration": 12,
    "start_time": "2022-12-22T12:08:13.900Z"
   },
   {
    "duration": 8,
    "start_time": "2022-12-22T12:08:22.932Z"
   },
   {
    "duration": 11,
    "start_time": "2022-12-22T12:08:26.780Z"
   },
   {
    "duration": 11,
    "start_time": "2022-12-22T12:09:40.287Z"
   },
   {
    "duration": 11,
    "start_time": "2022-12-22T12:10:00.159Z"
   },
   {
    "duration": 75,
    "start_time": "2022-12-22T12:10:04.535Z"
   },
   {
    "duration": 12,
    "start_time": "2022-12-22T12:10:07.559Z"
   },
   {
    "duration": 8,
    "start_time": "2022-12-22T12:10:16.167Z"
   },
   {
    "duration": 10,
    "start_time": "2022-12-22T12:10:32.703Z"
   },
   {
    "duration": 10,
    "start_time": "2022-12-22T12:10:46.667Z"
   },
   {
    "duration": 12,
    "start_time": "2022-12-22T12:13:43.776Z"
   },
   {
    "duration": 9,
    "start_time": "2022-12-22T12:18:01.544Z"
   },
   {
    "duration": 13,
    "start_time": "2022-12-22T12:18:12.368Z"
   },
   {
    "duration": 8,
    "start_time": "2022-12-22T12:18:16.512Z"
   },
   {
    "duration": 10,
    "start_time": "2022-12-22T12:18:26.722Z"
   },
   {
    "duration": 7,
    "start_time": "2022-12-22T12:18:33.241Z"
   },
   {
    "duration": 48,
    "start_time": "2022-12-22T12:20:05.566Z"
   },
   {
    "duration": 4,
    "start_time": "2022-12-22T13:04:51.194Z"
   },
   {
    "duration": 4,
    "start_time": "2022-12-22T13:04:58.914Z"
   },
   {
    "duration": 4,
    "start_time": "2022-12-22T13:05:09.178Z"
   },
   {
    "duration": 133,
    "start_time": "2022-12-22T13:05:14.658Z"
   },
   {
    "duration": 105,
    "start_time": "2022-12-22T13:05:24.037Z"
   },
   {
    "duration": 1743,
    "start_time": "2022-12-22T13:08:17.818Z"
   },
   {
    "duration": 130,
    "start_time": "2022-12-22T13:08:32.798Z"
   },
   {
    "duration": 4,
    "start_time": "2022-12-22T13:08:32.930Z"
   },
   {
    "duration": 18,
    "start_time": "2022-12-22T13:08:32.935Z"
   },
   {
    "duration": 5,
    "start_time": "2022-12-22T13:08:32.955Z"
   },
   {
    "duration": 2792,
    "start_time": "2022-12-22T13:08:32.961Z"
   },
   {
    "duration": 14,
    "start_time": "2022-12-22T13:08:35.755Z"
   },
   {
    "duration": 103,
    "start_time": "2022-12-22T13:08:35.770Z"
   },
   {
    "duration": 12,
    "start_time": "2022-12-22T13:08:35.875Z"
   },
   {
    "duration": 254,
    "start_time": "2022-12-22T13:08:35.889Z"
   },
   {
    "duration": 6,
    "start_time": "2022-12-22T13:08:36.145Z"
   },
   {
    "duration": 11,
    "start_time": "2022-12-22T13:08:36.152Z"
   },
   {
    "duration": 10,
    "start_time": "2022-12-22T13:08:36.165Z"
   },
   {
    "duration": 0,
    "start_time": "2022-12-22T13:08:36.198Z"
   },
   {
    "duration": 0,
    "start_time": "2022-12-22T13:08:36.200Z"
   },
   {
    "duration": 0,
    "start_time": "2022-12-22T13:08:36.202Z"
   },
   {
    "duration": 0,
    "start_time": "2022-12-22T13:08:36.203Z"
   },
   {
    "duration": 0,
    "start_time": "2022-12-22T13:08:36.205Z"
   },
   {
    "duration": 0,
    "start_time": "2022-12-22T13:08:36.206Z"
   },
   {
    "duration": 2811,
    "start_time": "2022-12-22T13:08:50.537Z"
   },
   {
    "duration": 8,
    "start_time": "2022-12-22T13:18:50.454Z"
   },
   {
    "duration": 114,
    "start_time": "2022-12-22T13:18:58.655Z"
   },
   {
    "duration": 4,
    "start_time": "2022-12-22T13:18:58.770Z"
   },
   {
    "duration": 21,
    "start_time": "2022-12-22T13:18:58.776Z"
   },
   {
    "duration": 8,
    "start_time": "2022-12-22T13:18:58.799Z"
   },
   {
    "duration": 4,
    "start_time": "2022-12-22T13:19:02.375Z"
   },
   {
    "duration": 46,
    "start_time": "2022-12-23T11:36:03.154Z"
   },
   {
    "duration": 954,
    "start_time": "2022-12-23T11:36:07.548Z"
   },
   {
    "duration": 4,
    "start_time": "2022-12-23T11:36:08.504Z"
   },
   {
    "duration": 17,
    "start_time": "2022-12-23T11:36:08.510Z"
   },
   {
    "duration": 16,
    "start_time": "2022-12-23T11:36:08.529Z"
   },
   {
    "duration": 93,
    "start_time": "2022-12-23T11:36:08.547Z"
   },
   {
    "duration": 2590,
    "start_time": "2022-12-23T11:36:08.641Z"
   },
   {
    "duration": 31,
    "start_time": "2022-12-23T11:36:11.232Z"
   },
   {
    "duration": 10,
    "start_time": "2022-12-23T11:36:11.265Z"
   },
   {
    "duration": 247,
    "start_time": "2022-12-23T11:36:11.276Z"
   },
   {
    "duration": 5,
    "start_time": "2022-12-23T11:36:11.525Z"
   },
   {
    "duration": 30,
    "start_time": "2022-12-23T11:36:11.532Z"
   },
   {
    "duration": 52,
    "start_time": "2022-12-23T11:36:11.564Z"
   },
   {
    "duration": 0,
    "start_time": "2022-12-23T11:36:11.617Z"
   },
   {
    "duration": 0,
    "start_time": "2022-12-23T11:36:11.619Z"
   },
   {
    "duration": 0,
    "start_time": "2022-12-23T11:36:11.621Z"
   },
   {
    "duration": 0,
    "start_time": "2022-12-23T11:36:11.622Z"
   },
   {
    "duration": 0,
    "start_time": "2022-12-23T11:36:11.623Z"
   },
   {
    "duration": 11,
    "start_time": "2022-12-23T11:57:17.519Z"
   },
   {
    "duration": 12,
    "start_time": "2022-12-23T11:57:49.448Z"
   },
   {
    "duration": 25,
    "start_time": "2022-12-23T11:58:46.950Z"
   },
   {
    "duration": 106,
    "start_time": "2022-12-23T11:59:28.266Z"
   },
   {
    "duration": 4,
    "start_time": "2022-12-23T11:59:28.373Z"
   },
   {
    "duration": 7,
    "start_time": "2022-12-23T11:59:28.378Z"
   },
   {
    "duration": 6,
    "start_time": "2022-12-23T11:59:28.387Z"
   },
   {
    "duration": 90,
    "start_time": "2022-12-23T11:59:28.394Z"
   },
   {
    "duration": 2788,
    "start_time": "2022-12-23T11:59:28.486Z"
   },
   {
    "duration": 10,
    "start_time": "2022-12-23T11:59:31.276Z"
   },
   {
    "duration": 32,
    "start_time": "2022-12-23T11:59:31.288Z"
   },
   {
    "duration": 64,
    "start_time": "2022-12-23T11:59:31.322Z"
   },
   {
    "duration": 80,
    "start_time": "2022-12-23T11:59:31.388Z"
   },
   {
    "duration": 13,
    "start_time": "2022-12-23T12:04:22.144Z"
   },
   {
    "duration": 7,
    "start_time": "2022-12-23T12:07:58.786Z"
   },
   {
    "duration": 8,
    "start_time": "2022-12-23T12:08:24.160Z"
   },
   {
    "duration": 8,
    "start_time": "2022-12-23T12:08:33.018Z"
   },
   {
    "duration": 12,
    "start_time": "2022-12-23T12:12:40.013Z"
   },
   {
    "duration": 403,
    "start_time": "2022-12-23T12:12:44.488Z"
   },
   {
    "duration": 1162,
    "start_time": "2022-12-23T12:13:18.878Z"
   },
   {
    "duration": 411,
    "start_time": "2022-12-23T12:13:24.112Z"
   },
   {
    "duration": 69,
    "start_time": "2022-12-23T12:13:29.745Z"
   },
   {
    "duration": 11,
    "start_time": "2022-12-23T12:13:33.881Z"
   },
   {
    "duration": 402,
    "start_time": "2022-12-23T12:14:13.938Z"
   },
   {
    "duration": 389,
    "start_time": "2022-12-23T12:14:35.539Z"
   },
   {
    "duration": 308,
    "start_time": "2022-12-23T12:20:21.823Z"
   },
   {
    "duration": 9,
    "start_time": "2022-12-23T12:20:38.983Z"
   },
   {
    "duration": 8,
    "start_time": "2022-12-23T12:21:15.155Z"
   },
   {
    "duration": 9,
    "start_time": "2022-12-23T12:21:50.470Z"
   },
   {
    "duration": 7,
    "start_time": "2022-12-23T12:21:55.709Z"
   },
   {
    "duration": 9,
    "start_time": "2022-12-23T12:22:07.670Z"
   },
   {
    "duration": 5,
    "start_time": "2022-12-23T12:27:58.663Z"
   },
   {
    "duration": 6,
    "start_time": "2022-12-23T12:28:14.088Z"
   },
   {
    "duration": 6,
    "start_time": "2022-12-23T17:11:28.655Z"
   },
   {
    "duration": 5,
    "start_time": "2022-12-23T17:11:38.814Z"
   },
   {
    "duration": 8,
    "start_time": "2022-12-23T17:11:58.954Z"
   },
   {
    "duration": 90,
    "start_time": "2022-12-23T18:25:19.122Z"
   },
   {
    "duration": 109,
    "start_time": "2022-12-23T18:25:24.445Z"
   },
   {
    "duration": 4,
    "start_time": "2022-12-23T18:25:24.556Z"
   },
   {
    "duration": 9,
    "start_time": "2022-12-23T18:25:24.562Z"
   },
   {
    "duration": 10,
    "start_time": "2022-12-23T18:25:24.572Z"
   },
   {
    "duration": 93,
    "start_time": "2022-12-23T18:25:24.584Z"
   },
   {
    "duration": 2691,
    "start_time": "2022-12-23T18:25:24.678Z"
   },
   {
    "duration": 23,
    "start_time": "2022-12-23T18:25:27.371Z"
   },
   {
    "duration": 9,
    "start_time": "2022-12-23T18:25:27.396Z"
   },
   {
    "duration": 11,
    "start_time": "2022-12-23T18:25:27.407Z"
   },
   {
    "duration": 95,
    "start_time": "2022-12-23T18:25:27.420Z"
   },
   {
    "duration": 82,
    "start_time": "2022-12-23T18:25:27.517Z"
   },
   {
    "duration": 0,
    "start_time": "2022-12-23T18:25:27.601Z"
   },
   {
    "duration": 0,
    "start_time": "2022-12-23T18:25:27.602Z"
   },
   {
    "duration": 7,
    "start_time": "2022-12-23T18:25:37.234Z"
   },
   {
    "duration": 11,
    "start_time": "2022-12-23T18:25:39.834Z"
   },
   {
    "duration": 119,
    "start_time": "2022-12-23T20:06:08.473Z"
   },
   {
    "duration": 4,
    "start_time": "2022-12-23T20:06:08.594Z"
   },
   {
    "duration": 11,
    "start_time": "2022-12-23T20:06:08.600Z"
   },
   {
    "duration": 10,
    "start_time": "2022-12-23T20:06:08.613Z"
   },
   {
    "duration": 87,
    "start_time": "2022-12-23T20:06:08.625Z"
   },
   {
    "duration": 2987,
    "start_time": "2022-12-23T20:06:08.714Z"
   },
   {
    "duration": 23,
    "start_time": "2022-12-23T20:06:11.702Z"
   },
   {
    "duration": 27,
    "start_time": "2022-12-23T20:06:11.726Z"
   },
   {
    "duration": 51,
    "start_time": "2022-12-23T20:06:11.755Z"
   },
   {
    "duration": 70,
    "start_time": "2022-12-23T20:06:11.808Z"
   },
   {
    "duration": 258,
    "start_time": "2022-12-23T20:06:11.879Z"
   },
   {
    "duration": 15,
    "start_time": "2022-12-23T20:06:12.138Z"
   },
   {
    "duration": 6,
    "start_time": "2022-12-23T20:06:12.154Z"
   },
   {
    "duration": 270,
    "start_time": "2022-12-23T20:06:28.745Z"
   },
   {
    "duration": 10,
    "start_time": "2022-12-23T20:06:30.149Z"
   },
   {
    "duration": 11,
    "start_time": "2022-12-23T20:14:13.666Z"
   },
   {
    "duration": 9,
    "start_time": "2022-12-23T20:14:15.107Z"
   },
   {
    "duration": 31,
    "start_time": "2022-12-23T20:14:35.473Z"
   },
   {
    "duration": 110,
    "start_time": "2022-12-23T20:15:22.191Z"
   },
   {
    "duration": 3,
    "start_time": "2022-12-23T20:15:22.303Z"
   },
   {
    "duration": 7,
    "start_time": "2022-12-23T20:15:22.308Z"
   },
   {
    "duration": 6,
    "start_time": "2022-12-23T20:15:22.317Z"
   },
   {
    "duration": 96,
    "start_time": "2022-12-23T20:15:22.325Z"
   },
   {
    "duration": 2689,
    "start_time": "2022-12-23T20:15:22.422Z"
   },
   {
    "duration": 26,
    "start_time": "2022-12-23T20:15:25.113Z"
   },
   {
    "duration": 12,
    "start_time": "2022-12-23T20:15:25.151Z"
   },
   {
    "duration": 13,
    "start_time": "2022-12-23T20:15:25.165Z"
   },
   {
    "duration": 99,
    "start_time": "2022-12-23T20:15:25.180Z"
   },
   {
    "duration": 2,
    "start_time": "2022-12-23T20:15:25.281Z"
   },
   {
    "duration": 7,
    "start_time": "2022-12-23T20:15:25.285Z"
   },
   {
    "duration": 12,
    "start_time": "2022-12-23T20:15:25.293Z"
   },
   {
    "duration": 6,
    "start_time": "2022-12-23T20:15:25.308Z"
   },
   {
    "duration": 36,
    "start_time": "2022-12-23T20:15:55.775Z"
   },
   {
    "duration": 5,
    "start_time": "2022-12-23T20:16:22.072Z"
   },
   {
    "duration": 9,
    "start_time": "2022-12-23T20:16:23.858Z"
   },
   {
    "duration": 39,
    "start_time": "2022-12-23T20:16:32.350Z"
   },
   {
    "duration": 9,
    "start_time": "2022-12-23T20:16:53.095Z"
   },
   {
    "duration": 4,
    "start_time": "2022-12-23T20:25:55.851Z"
   },
   {
    "duration": 3,
    "start_time": "2022-12-23T20:25:58.491Z"
   },
   {
    "duration": 6,
    "start_time": "2022-12-23T20:26:00.608Z"
   },
   {
    "duration": 4,
    "start_time": "2022-12-23T20:26:13.353Z"
   },
   {
    "duration": 4,
    "start_time": "2022-12-23T20:26:16.094Z"
   },
   {
    "duration": 6,
    "start_time": "2022-12-23T20:35:12.696Z"
   },
   {
    "duration": 3,
    "start_time": "2022-12-23T20:35:41.154Z"
   },
   {
    "duration": 9,
    "start_time": "2022-12-23T20:35:54.251Z"
   },
   {
    "duration": 5,
    "start_time": "2022-12-23T20:44:51.155Z"
   },
   {
    "duration": 5,
    "start_time": "2022-12-23T20:45:30.560Z"
   },
   {
    "duration": 33,
    "start_time": "2022-12-23T20:52:30.459Z"
   },
   {
    "duration": 9,
    "start_time": "2022-12-23T20:52:55.353Z"
   },
   {
    "duration": 72,
    "start_time": "2022-12-24T09:45:11.386Z"
   },
   {
    "duration": 1234,
    "start_time": "2022-12-24T09:45:18.540Z"
   },
   {
    "duration": 4,
    "start_time": "2022-12-24T09:45:19.777Z"
   },
   {
    "duration": 13,
    "start_time": "2022-12-24T09:45:19.783Z"
   },
   {
    "duration": 6,
    "start_time": "2022-12-24T09:45:19.798Z"
   },
   {
    "duration": 118,
    "start_time": "2022-12-24T09:45:19.807Z"
   },
   {
    "duration": 3141,
    "start_time": "2022-12-24T09:45:19.926Z"
   },
   {
    "duration": 47,
    "start_time": "2022-12-24T09:45:23.069Z"
   },
   {
    "duration": 14,
    "start_time": "2022-12-24T09:45:23.118Z"
   },
   {
    "duration": 14,
    "start_time": "2022-12-24T09:45:23.134Z"
   },
   {
    "duration": 6,
    "start_time": "2022-12-24T09:45:23.177Z"
   },
   {
    "duration": 11,
    "start_time": "2022-12-24T09:45:23.186Z"
   },
   {
    "duration": 13,
    "start_time": "2022-12-24T09:45:23.199Z"
   },
   {
    "duration": 6,
    "start_time": "2022-12-24T09:45:23.214Z"
   },
   {
    "duration": 889,
    "start_time": "2022-12-24T09:45:23.223Z"
   },
   {
    "duration": 0,
    "start_time": "2022-12-24T09:45:24.114Z"
   },
   {
    "duration": 0,
    "start_time": "2022-12-24T09:45:24.116Z"
   },
   {
    "duration": 0,
    "start_time": "2022-12-24T09:45:24.118Z"
   },
   {
    "duration": 4,
    "start_time": "2022-12-24T09:46:00.893Z"
   },
   {
    "duration": 11,
    "start_time": "2022-12-24T09:47:41.673Z"
   },
   {
    "duration": 6,
    "start_time": "2022-12-24T09:47:48.458Z"
   },
   {
    "duration": 11,
    "start_time": "2022-12-24T09:47:49.458Z"
   },
   {
    "duration": 164,
    "start_time": "2022-12-24T10:10:54.015Z"
   },
   {
    "duration": 46,
    "start_time": "2022-12-24T10:21:11.281Z"
   },
   {
    "duration": 41,
    "start_time": "2022-12-24T10:21:16.340Z"
   },
   {
    "duration": 8,
    "start_time": "2022-12-24T10:23:04.655Z"
   },
   {
    "duration": 9,
    "start_time": "2022-12-24T10:23:19.177Z"
   },
   {
    "duration": 7,
    "start_time": "2022-12-24T10:23:26.888Z"
   },
   {
    "duration": 11,
    "start_time": "2022-12-24T11:24:10.296Z"
   },
   {
    "duration": 13,
    "start_time": "2022-12-24T11:24:15.036Z"
   },
   {
    "duration": 20,
    "start_time": "2022-12-24T11:24:20.837Z"
   },
   {
    "duration": 8,
    "start_time": "2022-12-24T11:24:30.615Z"
   },
   {
    "duration": 11,
    "start_time": "2022-12-24T11:25:03.435Z"
   },
   {
    "duration": 8,
    "start_time": "2022-12-24T11:25:19.705Z"
   },
   {
    "duration": 14,
    "start_time": "2022-12-24T11:25:29.993Z"
   },
   {
    "duration": 10,
    "start_time": "2022-12-24T11:25:53.222Z"
   },
   {
    "duration": 16,
    "start_time": "2022-12-24T11:26:05.789Z"
   },
   {
    "duration": 16,
    "start_time": "2022-12-24T11:28:11.886Z"
   },
   {
    "duration": 24,
    "start_time": "2022-12-24T11:28:23.957Z"
   },
   {
    "duration": 10,
    "start_time": "2022-12-24T11:29:09.479Z"
   },
   {
    "duration": 20,
    "start_time": "2022-12-24T11:30:28.288Z"
   },
   {
    "duration": 11,
    "start_time": "2022-12-24T11:30:38.349Z"
   },
   {
    "duration": 18,
    "start_time": "2022-12-24T11:30:47.240Z"
   },
   {
    "duration": 16,
    "start_time": "2022-12-24T11:31:07.112Z"
   },
   {
    "duration": 16,
    "start_time": "2022-12-24T11:31:11.202Z"
   },
   {
    "duration": 10,
    "start_time": "2022-12-24T11:33:20.808Z"
   },
   {
    "duration": 184,
    "start_time": "2022-12-24T11:33:31.265Z"
   },
   {
    "duration": 6,
    "start_time": "2022-12-24T11:33:31.452Z"
   },
   {
    "duration": 19,
    "start_time": "2022-12-24T11:33:31.461Z"
   },
   {
    "duration": 14,
    "start_time": "2022-12-24T11:33:31.483Z"
   },
   {
    "duration": 112,
    "start_time": "2022-12-24T11:33:31.501Z"
   },
   {
    "duration": 3069,
    "start_time": "2022-12-24T11:33:31.616Z"
   },
   {
    "duration": 27,
    "start_time": "2022-12-24T11:33:34.687Z"
   },
   {
    "duration": 10,
    "start_time": "2022-12-24T11:33:34.716Z"
   },
   {
    "duration": 10,
    "start_time": "2022-12-24T11:33:34.728Z"
   },
   {
    "duration": 4,
    "start_time": "2022-12-24T11:33:34.740Z"
   },
   {
    "duration": 6,
    "start_time": "2022-12-24T11:33:34.778Z"
   },
   {
    "duration": 8,
    "start_time": "2022-12-24T11:33:34.785Z"
   },
   {
    "duration": 4,
    "start_time": "2022-12-24T11:33:34.795Z"
   },
   {
    "duration": 4,
    "start_time": "2022-12-24T11:33:34.801Z"
   },
   {
    "duration": 7,
    "start_time": "2022-12-24T11:33:34.807Z"
   },
   {
    "duration": 21,
    "start_time": "2022-12-24T11:33:34.815Z"
   },
   {
    "duration": 42,
    "start_time": "2022-12-24T11:33:34.837Z"
   },
   {
    "duration": 81,
    "start_time": "2022-12-24T11:33:34.881Z"
   },
   {
    "duration": 24,
    "start_time": "2022-12-24T11:55:11.044Z"
   },
   {
    "duration": 13,
    "start_time": "2022-12-24T11:55:18.446Z"
   },
   {
    "duration": 33,
    "start_time": "2022-12-24T11:56:08.631Z"
   },
   {
    "duration": 16,
    "start_time": "2022-12-24T12:01:52.705Z"
   },
   {
    "duration": 18,
    "start_time": "2022-12-24T12:01:54.500Z"
   },
   {
    "duration": 165,
    "start_time": "2022-12-24T12:02:08.704Z"
   },
   {
    "duration": 19,
    "start_time": "2022-12-24T12:02:09.904Z"
   },
   {
    "duration": 41,
    "start_time": "2022-12-24T12:05:26.347Z"
   },
   {
    "duration": 11,
    "start_time": "2022-12-24T12:05:27.474Z"
   },
   {
    "duration": 41,
    "start_time": "2022-12-24T12:05:45.739Z"
   },
   {
    "duration": 12,
    "start_time": "2022-12-24T12:05:46.298Z"
   },
   {
    "duration": 11,
    "start_time": "2022-12-24T12:05:58.659Z"
   },
   {
    "duration": 178,
    "start_time": "2022-12-24T12:06:06.996Z"
   },
   {
    "duration": 5,
    "start_time": "2022-12-24T12:06:07.177Z"
   },
   {
    "duration": 9,
    "start_time": "2022-12-24T12:06:07.184Z"
   },
   {
    "duration": 7,
    "start_time": "2022-12-24T12:06:07.195Z"
   },
   {
    "duration": 98,
    "start_time": "2022-12-24T12:06:07.204Z"
   },
   {
    "duration": 3161,
    "start_time": "2022-12-24T12:06:07.303Z"
   },
   {
    "duration": 29,
    "start_time": "2022-12-24T12:06:10.467Z"
   },
   {
    "duration": 12,
    "start_time": "2022-12-24T12:06:10.498Z"
   },
   {
    "duration": 11,
    "start_time": "2022-12-24T12:06:10.512Z"
   },
   {
    "duration": 9,
    "start_time": "2022-12-24T12:06:10.524Z"
   },
   {
    "duration": 8,
    "start_time": "2022-12-24T12:06:10.535Z"
   },
   {
    "duration": 6,
    "start_time": "2022-12-24T12:06:10.579Z"
   },
   {
    "duration": 6,
    "start_time": "2022-12-24T12:06:10.587Z"
   },
   {
    "duration": 4,
    "start_time": "2022-12-24T12:06:10.597Z"
   },
   {
    "duration": 9,
    "start_time": "2022-12-24T12:06:10.603Z"
   },
   {
    "duration": 33,
    "start_time": "2022-12-24T12:06:10.614Z"
   },
   {
    "duration": 39,
    "start_time": "2022-12-24T12:06:10.649Z"
   },
   {
    "duration": 30,
    "start_time": "2022-12-24T12:06:10.690Z"
   },
   {
    "duration": 109,
    "start_time": "2022-12-24T12:06:10.722Z"
   },
   {
    "duration": 31,
    "start_time": "2022-12-24T12:06:19.788Z"
   },
   {
    "duration": 10,
    "start_time": "2022-12-24T12:06:20.340Z"
   },
   {
    "duration": 46,
    "start_time": "2022-12-24T12:07:49.320Z"
   },
   {
    "duration": 32,
    "start_time": "2022-12-24T12:07:53.439Z"
   },
   {
    "duration": 11,
    "start_time": "2022-12-24T12:07:54.374Z"
   },
   {
    "duration": 7,
    "start_time": "2022-12-24T12:08:30.937Z"
   },
   {
    "duration": 33,
    "start_time": "2022-12-24T12:09:45.105Z"
   },
   {
    "duration": 15,
    "start_time": "2022-12-24T12:09:47.911Z"
   },
   {
    "duration": 155,
    "start_time": "2022-12-24T12:09:57.208Z"
   },
   {
    "duration": 34,
    "start_time": "2022-12-24T12:10:00.052Z"
   },
   {
    "duration": 14,
    "start_time": "2022-12-24T12:10:00.504Z"
   },
   {
    "duration": 38,
    "start_time": "2022-12-24T12:11:02.271Z"
   },
   {
    "duration": 16,
    "start_time": "2022-12-24T12:11:03.696Z"
   },
   {
    "duration": 14,
    "start_time": "2022-12-24T12:11:19.454Z"
   },
   {
    "duration": 19,
    "start_time": "2022-12-24T12:12:33.706Z"
   },
   {
    "duration": 9,
    "start_time": "2022-12-24T12:13:14.972Z"
   },
   {
    "duration": 7,
    "start_time": "2022-12-24T12:13:19.938Z"
   },
   {
    "duration": 50,
    "start_time": "2022-12-24T12:13:21.658Z"
   },
   {
    "duration": 8,
    "start_time": "2022-12-24T12:14:02.116Z"
   },
   {
    "duration": 39,
    "start_time": "2022-12-24T12:14:03.236Z"
   },
   {
    "duration": 5,
    "start_time": "2022-12-24T12:14:11.514Z"
   },
   {
    "duration": 62,
    "start_time": "2022-12-24T12:14:12.660Z"
   },
   {
    "duration": 50,
    "start_time": "2022-12-24T12:15:29.303Z"
   },
   {
    "duration": 5,
    "start_time": "2022-12-24T12:15:32.527Z"
   },
   {
    "duration": 67,
    "start_time": "2022-12-24T12:15:33.767Z"
   },
   {
    "duration": 14,
    "start_time": "2022-12-24T12:15:35.168Z"
   },
   {
    "duration": 3,
    "start_time": "2022-12-24T12:46:06.967Z"
   },
   {
    "duration": 8,
    "start_time": "2022-12-24T13:18:55.172Z"
   },
   {
    "duration": 12,
    "start_time": "2022-12-24T13:18:56.172Z"
   },
   {
    "duration": 8,
    "start_time": "2022-12-24T13:28:23.187Z"
   },
   {
    "duration": 12,
    "start_time": "2022-12-24T13:28:23.911Z"
   },
   {
    "duration": 10,
    "start_time": "2022-12-24T13:33:46.698Z"
   },
   {
    "duration": 145,
    "start_time": "2022-12-24T13:33:53.477Z"
   },
   {
    "duration": 7,
    "start_time": "2022-12-24T13:33:53.624Z"
   },
   {
    "duration": 8,
    "start_time": "2022-12-24T13:33:53.633Z"
   },
   {
    "duration": 7,
    "start_time": "2022-12-24T13:33:53.643Z"
   },
   {
    "duration": 91,
    "start_time": "2022-12-24T13:33:53.652Z"
   },
   {
    "duration": 2979,
    "start_time": "2022-12-24T13:33:53.745Z"
   },
   {
    "duration": 24,
    "start_time": "2022-12-24T13:33:56.725Z"
   },
   {
    "duration": 10,
    "start_time": "2022-12-24T13:33:56.751Z"
   },
   {
    "duration": 12,
    "start_time": "2022-12-24T13:33:56.778Z"
   },
   {
    "duration": 7,
    "start_time": "2022-12-24T13:33:56.792Z"
   },
   {
    "duration": 11,
    "start_time": "2022-12-24T13:33:56.801Z"
   },
   {
    "duration": 8,
    "start_time": "2022-12-24T13:33:56.813Z"
   },
   {
    "duration": 9,
    "start_time": "2022-12-24T13:33:56.823Z"
   },
   {
    "duration": 4,
    "start_time": "2022-12-24T13:33:56.834Z"
   },
   {
    "duration": 5,
    "start_time": "2022-12-24T13:33:56.840Z"
   },
   {
    "duration": 31,
    "start_time": "2022-12-24T13:33:56.847Z"
   },
   {
    "duration": 16,
    "start_time": "2022-12-24T13:33:56.880Z"
   },
   {
    "duration": 3,
    "start_time": "2022-12-24T13:33:56.898Z"
   },
   {
    "duration": 28,
    "start_time": "2022-12-24T13:33:56.904Z"
   },
   {
    "duration": 7,
    "start_time": "2022-12-24T13:33:56.935Z"
   },
   {
    "duration": 34,
    "start_time": "2022-12-24T13:33:56.944Z"
   },
   {
    "duration": 38,
    "start_time": "2022-12-24T13:33:56.979Z"
   },
   {
    "duration": 8,
    "start_time": "2022-12-24T13:34:46.053Z"
   },
   {
    "duration": 5,
    "start_time": "2022-12-24T13:34:47.455Z"
   },
   {
    "duration": 5,
    "start_time": "2022-12-24T13:34:47.620Z"
   },
   {
    "duration": 5,
    "start_time": "2022-12-24T13:34:47.973Z"
   },
   {
    "duration": 6,
    "start_time": "2022-12-24T13:34:49.156Z"
   },
   {
    "duration": 5,
    "start_time": "2022-12-24T13:34:49.588Z"
   },
   {
    "duration": 4,
    "start_time": "2022-12-24T13:34:50.437Z"
   },
   {
    "duration": 18,
    "start_time": "2022-12-24T13:34:51.501Z"
   },
   {
    "duration": 4,
    "start_time": "2022-12-24T13:34:51.933Z"
   },
   {
    "duration": 18,
    "start_time": "2022-12-24T13:34:52.101Z"
   },
   {
    "duration": 6,
    "start_time": "2022-12-24T13:34:52.492Z"
   },
   {
    "duration": 8,
    "start_time": "2022-12-24T13:34:53.517Z"
   },
   {
    "duration": 7,
    "start_time": "2022-12-24T13:35:34.518Z"
   },
   {
    "duration": 165,
    "start_time": "2022-12-24T13:35:45.821Z"
   },
   {
    "duration": 4,
    "start_time": "2022-12-24T13:35:45.988Z"
   },
   {
    "duration": 15,
    "start_time": "2022-12-24T13:35:45.994Z"
   },
   {
    "duration": 6,
    "start_time": "2022-12-24T13:35:46.010Z"
   },
   {
    "duration": 92,
    "start_time": "2022-12-24T13:35:46.018Z"
   },
   {
    "duration": 2984,
    "start_time": "2022-12-24T13:35:46.112Z"
   },
   {
    "duration": 30,
    "start_time": "2022-12-24T13:35:49.098Z"
   },
   {
    "duration": 10,
    "start_time": "2022-12-24T13:35:49.130Z"
   },
   {
    "duration": 38,
    "start_time": "2022-12-24T13:35:49.142Z"
   },
   {
    "duration": 9,
    "start_time": "2022-12-24T13:35:49.182Z"
   },
   {
    "duration": 6,
    "start_time": "2022-12-24T13:35:49.192Z"
   },
   {
    "duration": 10,
    "start_time": "2022-12-24T13:35:49.200Z"
   },
   {
    "duration": 5,
    "start_time": "2022-12-24T13:35:49.212Z"
   },
   {
    "duration": 5,
    "start_time": "2022-12-24T13:35:49.220Z"
   },
   {
    "duration": 6,
    "start_time": "2022-12-24T13:35:49.226Z"
   },
   {
    "duration": 7,
    "start_time": "2022-12-24T13:35:49.234Z"
   },
   {
    "duration": 60,
    "start_time": "2022-12-24T13:35:49.243Z"
   },
   {
    "duration": 4,
    "start_time": "2022-12-24T13:35:49.305Z"
   },
   {
    "duration": 27,
    "start_time": "2022-12-24T13:35:49.311Z"
   },
   {
    "duration": 8,
    "start_time": "2022-12-24T13:35:49.340Z"
   },
   {
    "duration": 38,
    "start_time": "2022-12-24T13:35:49.350Z"
   },
   {
    "duration": 59,
    "start_time": "2022-12-24T13:35:49.390Z"
   },
   {
    "duration": 114,
    "start_time": "2022-12-24T13:36:12.402Z"
   },
   {
    "duration": 9,
    "start_time": "2022-12-24T13:37:12.312Z"
   },
   {
    "duration": 7,
    "start_time": "2022-12-24T13:37:13.538Z"
   },
   {
    "duration": 7,
    "start_time": "2022-12-24T13:37:13.969Z"
   },
   {
    "duration": 5,
    "start_time": "2022-12-24T13:37:15.593Z"
   },
   {
    "duration": 12,
    "start_time": "2022-12-24T13:37:19.370Z"
   },
   {
    "duration": 37,
    "start_time": "2022-12-24T13:37:19.385Z"
   },
   {
    "duration": 12,
    "start_time": "2022-12-24T13:37:19.424Z"
   },
   {
    "duration": 31,
    "start_time": "2022-12-24T13:37:19.438Z"
   },
   {
    "duration": 4,
    "start_time": "2022-12-24T13:37:19.471Z"
   },
   {
    "duration": 53,
    "start_time": "2022-12-24T13:37:19.481Z"
   },
   {
    "duration": 8,
    "start_time": "2022-12-24T13:37:19.537Z"
   },
   {
    "duration": 19,
    "start_time": "2022-12-24T13:37:19.546Z"
   },
   {
    "duration": 68,
    "start_time": "2022-12-24T13:37:19.567Z"
   },
   {
    "duration": 11,
    "start_time": "2022-12-24T13:37:35.875Z"
   },
   {
    "duration": 11,
    "start_time": "2022-12-24T13:37:37.067Z"
   },
   {
    "duration": 11,
    "start_time": "2022-12-24T13:38:22.445Z"
   },
   {
    "duration": 6,
    "start_time": "2022-12-24T13:38:27.756Z"
   },
   {
    "duration": 16,
    "start_time": "2022-12-24T13:38:28.539Z"
   },
   {
    "duration": 8,
    "start_time": "2022-12-24T13:39:15.534Z"
   },
   {
    "duration": 5,
    "start_time": "2022-12-24T13:39:37.122Z"
   },
   {
    "duration": 33,
    "start_time": "2022-12-24T13:39:37.768Z"
   },
   {
    "duration": 6,
    "start_time": "2022-12-24T13:39:39.314Z"
   },
   {
    "duration": 20,
    "start_time": "2022-12-24T13:39:39.866Z"
   },
   {
    "duration": 19,
    "start_time": "2022-12-24T13:39:51.273Z"
   },
   {
    "duration": 11,
    "start_time": "2022-12-24T13:40:23.901Z"
   },
   {
    "duration": 9,
    "start_time": "2022-12-24T13:40:30.784Z"
   },
   {
    "duration": 30,
    "start_time": "2022-12-24T13:40:31.293Z"
   },
   {
    "duration": 4,
    "start_time": "2022-12-24T13:40:31.519Z"
   },
   {
    "duration": 28,
    "start_time": "2022-12-24T13:40:31.738Z"
   },
   {
    "duration": 7,
    "start_time": "2022-12-24T13:40:32.306Z"
   },
   {
    "duration": 11,
    "start_time": "2022-12-24T13:40:32.832Z"
   },
   {
    "duration": 17,
    "start_time": "2022-12-24T13:40:33.867Z"
   },
   {
    "duration": 74,
    "start_time": "2022-12-24T13:40:35.516Z"
   },
   {
    "duration": 126,
    "start_time": "2022-12-24T13:41:35.290Z"
   },
   {
    "duration": 4,
    "start_time": "2022-12-24T13:41:35.419Z"
   },
   {
    "duration": 14,
    "start_time": "2022-12-24T13:41:35.425Z"
   },
   {
    "duration": 14,
    "start_time": "2022-12-24T13:41:35.441Z"
   },
   {
    "duration": 96,
    "start_time": "2022-12-24T13:41:35.459Z"
   },
   {
    "duration": 3280,
    "start_time": "2022-12-24T13:41:35.557Z"
   },
   {
    "duration": 53,
    "start_time": "2022-12-24T13:41:38.839Z"
   },
   {
    "duration": 11,
    "start_time": "2022-12-24T13:41:38.896Z"
   },
   {
    "duration": 17,
    "start_time": "2022-12-24T13:41:38.909Z"
   },
   {
    "duration": 5,
    "start_time": "2022-12-24T13:41:38.929Z"
   },
   {
    "duration": 23,
    "start_time": "2022-12-24T13:41:38.936Z"
   },
   {
    "duration": 5,
    "start_time": "2022-12-24T13:41:38.961Z"
   },
   {
    "duration": 6,
    "start_time": "2022-12-24T13:41:38.981Z"
   },
   {
    "duration": 16,
    "start_time": "2022-12-24T13:41:38.990Z"
   },
   {
    "duration": 7,
    "start_time": "2022-12-24T13:41:39.008Z"
   },
   {
    "duration": 31,
    "start_time": "2022-12-24T13:41:39.017Z"
   },
   {
    "duration": 5,
    "start_time": "2022-12-24T13:41:39.050Z"
   },
   {
    "duration": 44,
    "start_time": "2022-12-24T13:41:39.057Z"
   },
   {
    "duration": 8,
    "start_time": "2022-12-24T13:41:39.103Z"
   },
   {
    "duration": 10,
    "start_time": "2022-12-24T13:41:39.113Z"
   },
   {
    "duration": 89,
    "start_time": "2022-12-24T13:41:39.125Z"
   },
   {
    "duration": 5,
    "start_time": "2022-12-24T13:42:03.136Z"
   },
   {
    "duration": 4,
    "start_time": "2022-12-24T13:42:20.412Z"
   },
   {
    "duration": 44,
    "start_time": "2022-12-24T13:42:20.859Z"
   },
   {
    "duration": 6,
    "start_time": "2022-12-24T13:42:22.269Z"
   },
   {
    "duration": 18,
    "start_time": "2022-12-24T13:42:22.913Z"
   },
   {
    "duration": 12,
    "start_time": "2022-12-24T13:49:59.890Z"
   },
   {
    "duration": 8,
    "start_time": "2022-12-24T13:50:11.540Z"
   },
   {
    "duration": 12,
    "start_time": "2022-12-24T13:50:12.834Z"
   },
   {
    "duration": 110,
    "start_time": "2022-12-24T14:39:11.233Z"
   },
   {
    "duration": 4,
    "start_time": "2022-12-24T14:39:11.344Z"
   },
   {
    "duration": 18,
    "start_time": "2022-12-24T14:39:11.350Z"
   },
   {
    "duration": 17,
    "start_time": "2022-12-24T14:39:11.370Z"
   },
   {
    "duration": 93,
    "start_time": "2022-12-24T14:39:11.390Z"
   },
   {
    "duration": 2886,
    "start_time": "2022-12-24T14:39:11.485Z"
   },
   {
    "duration": 25,
    "start_time": "2022-12-24T14:39:14.373Z"
   },
   {
    "duration": 9,
    "start_time": "2022-12-24T14:39:14.400Z"
   },
   {
    "duration": 20,
    "start_time": "2022-12-24T14:39:14.411Z"
   },
   {
    "duration": 13,
    "start_time": "2022-12-24T14:39:14.433Z"
   },
   {
    "duration": 24,
    "start_time": "2022-12-24T14:39:14.448Z"
   },
   {
    "duration": 13,
    "start_time": "2022-12-24T14:39:14.473Z"
   },
   {
    "duration": 20,
    "start_time": "2022-12-24T14:39:14.488Z"
   },
   {
    "duration": 14,
    "start_time": "2022-12-24T14:39:14.511Z"
   },
   {
    "duration": 27,
    "start_time": "2022-12-24T14:39:14.527Z"
   },
   {
    "duration": 40,
    "start_time": "2022-12-24T14:39:14.555Z"
   },
   {
    "duration": 4,
    "start_time": "2022-12-24T14:39:14.597Z"
   },
   {
    "duration": 58,
    "start_time": "2022-12-24T14:39:14.603Z"
   },
   {
    "duration": 19,
    "start_time": "2022-12-24T14:39:14.664Z"
   },
   {
    "duration": 16,
    "start_time": "2022-12-24T14:39:14.685Z"
   },
   {
    "duration": 77,
    "start_time": "2022-12-24T14:39:14.703Z"
   },
   {
    "duration": 11,
    "start_time": "2022-12-24T14:39:56.424Z"
   },
   {
    "duration": 11,
    "start_time": "2022-12-24T14:41:29.022Z"
   },
   {
    "duration": 13,
    "start_time": "2022-12-24T14:44:09.531Z"
   },
   {
    "duration": 6,
    "start_time": "2022-12-24T14:44:28.452Z"
   },
   {
    "duration": 7,
    "start_time": "2022-12-24T14:44:34.604Z"
   },
   {
    "duration": 12,
    "start_time": "2022-12-24T14:45:38.596Z"
   },
   {
    "duration": 13,
    "start_time": "2022-12-24T14:45:49.553Z"
   },
   {
    "duration": 11,
    "start_time": "2022-12-24T14:46:43.713Z"
   },
   {
    "duration": 12,
    "start_time": "2022-12-24T14:47:00.137Z"
   },
   {
    "duration": 13,
    "start_time": "2022-12-24T14:48:00.195Z"
   },
   {
    "duration": 11,
    "start_time": "2022-12-24T14:49:01.983Z"
   },
   {
    "duration": 14,
    "start_time": "2022-12-24T14:49:10.950Z"
   },
   {
    "duration": 8,
    "start_time": "2022-12-24T14:49:36.529Z"
   },
   {
    "duration": 2,
    "start_time": "2022-12-24T14:51:22.475Z"
   },
   {
    "duration": 13,
    "start_time": "2022-12-24T14:51:39.682Z"
   },
   {
    "duration": 29,
    "start_time": "2022-12-24T15:21:16.905Z"
   },
   {
    "duration": 10,
    "start_time": "2022-12-24T15:22:06.115Z"
   },
   {
    "duration": 13,
    "start_time": "2022-12-24T15:22:28.292Z"
   },
   {
    "duration": 124,
    "start_time": "2022-12-24T15:23:49.092Z"
   },
   {
    "duration": 6,
    "start_time": "2022-12-24T15:24:26.385Z"
   },
   {
    "duration": 6,
    "start_time": "2022-12-24T15:24:37.585Z"
   },
   {
    "duration": 5,
    "start_time": "2022-12-24T15:24:53.481Z"
   },
   {
    "duration": 101,
    "start_time": "2022-12-24T15:24:57.638Z"
   },
   {
    "duration": 5,
    "start_time": "2022-12-24T15:24:57.742Z"
   },
   {
    "duration": 27,
    "start_time": "2022-12-24T15:24:57.749Z"
   },
   {
    "duration": 14,
    "start_time": "2022-12-24T15:24:57.779Z"
   },
   {
    "duration": 90,
    "start_time": "2022-12-24T15:24:57.795Z"
   },
   {
    "duration": 3162,
    "start_time": "2022-12-24T15:24:57.888Z"
   },
   {
    "duration": 36,
    "start_time": "2022-12-24T15:25:01.051Z"
   },
   {
    "duration": 10,
    "start_time": "2022-12-24T15:25:01.089Z"
   },
   {
    "duration": 35,
    "start_time": "2022-12-24T15:25:01.101Z"
   },
   {
    "duration": 7,
    "start_time": "2022-12-24T15:25:01.139Z"
   },
   {
    "duration": 20,
    "start_time": "2022-12-24T15:25:01.148Z"
   },
   {
    "duration": 17,
    "start_time": "2022-12-24T15:25:01.170Z"
   },
   {
    "duration": 13,
    "start_time": "2022-12-24T15:25:01.188Z"
   },
   {
    "duration": 22,
    "start_time": "2022-12-24T15:25:01.204Z"
   },
   {
    "duration": 16,
    "start_time": "2022-12-24T15:25:01.228Z"
   },
   {
    "duration": 7,
    "start_time": "2022-12-24T15:25:01.247Z"
   },
   {
    "duration": 35,
    "start_time": "2022-12-24T15:25:01.256Z"
   },
   {
    "duration": 4,
    "start_time": "2022-12-24T15:25:01.293Z"
   },
   {
    "duration": 43,
    "start_time": "2022-12-24T15:25:01.299Z"
   },
   {
    "duration": 6,
    "start_time": "2022-12-24T15:25:01.344Z"
   },
   {
    "duration": 24,
    "start_time": "2022-12-24T15:25:01.352Z"
   },
   {
    "duration": 42,
    "start_time": "2022-12-24T15:25:01.378Z"
   },
   {
    "duration": 5,
    "start_time": "2022-12-24T15:25:01.422Z"
   },
   {
    "duration": 19,
    "start_time": "2022-12-24T15:25:01.428Z"
   },
   {
    "duration": 4,
    "start_time": "2022-12-24T15:25:25.243Z"
   },
   {
    "duration": 11,
    "start_time": "2022-12-24T15:25:28.462Z"
   },
   {
    "duration": 15,
    "start_time": "2022-12-24T15:25:44.708Z"
   },
   {
    "duration": 4,
    "start_time": "2022-12-24T15:26:05.569Z"
   },
   {
    "duration": 29,
    "start_time": "2022-12-24T15:26:06.594Z"
   },
   {
    "duration": 10,
    "start_time": "2022-12-24T15:26:09.242Z"
   },
   {
    "duration": 9,
    "start_time": "2022-12-24T15:26:25.973Z"
   },
   {
    "duration": 7,
    "start_time": "2022-12-24T15:26:38.924Z"
   },
   {
    "duration": 7,
    "start_time": "2022-12-24T15:26:51.373Z"
   },
   {
    "duration": 9,
    "start_time": "2022-12-24T15:27:04.869Z"
   },
   {
    "duration": 13,
    "start_time": "2022-12-24T15:27:15.996Z"
   },
   {
    "duration": 4,
    "start_time": "2022-12-24T15:28:12.251Z"
   },
   {
    "duration": 28,
    "start_time": "2022-12-24T15:28:18.043Z"
   },
   {
    "duration": 10,
    "start_time": "2022-12-24T15:28:21.085Z"
   },
   {
    "duration": 31,
    "start_time": "2022-12-24T15:28:27.703Z"
   },
   {
    "duration": 4,
    "start_time": "2022-12-24T15:30:05.964Z"
   },
   {
    "duration": 27,
    "start_time": "2022-12-24T15:30:06.708Z"
   },
   {
    "duration": 5,
    "start_time": "2022-12-24T15:30:08.965Z"
   },
   {
    "duration": 10,
    "start_time": "2022-12-24T15:30:09.367Z"
   },
   {
    "duration": 3,
    "start_time": "2022-12-24T15:30:28.605Z"
   },
   {
    "duration": 29,
    "start_time": "2022-12-24T15:30:28.994Z"
   },
   {
    "duration": 6,
    "start_time": "2022-12-24T15:30:29.753Z"
   },
   {
    "duration": 9,
    "start_time": "2022-12-24T15:30:30.418Z"
   },
   {
    "duration": 4,
    "start_time": "2022-12-24T15:34:10.092Z"
   },
   {
    "duration": 28,
    "start_time": "2022-12-24T15:34:10.436Z"
   },
   {
    "duration": 6,
    "start_time": "2022-12-24T15:34:11.180Z"
   },
   {
    "duration": 10,
    "start_time": "2022-12-24T15:34:11.476Z"
   },
   {
    "duration": 27,
    "start_time": "2022-12-24T15:34:49.660Z"
   },
   {
    "duration": 2,
    "start_time": "2022-12-24T15:34:50.235Z"
   },
   {
    "duration": 27,
    "start_time": "2022-12-24T15:34:51.042Z"
   },
   {
    "duration": 6,
    "start_time": "2022-12-24T15:34:52.072Z"
   },
   {
    "duration": 10,
    "start_time": "2022-12-24T15:34:52.550Z"
   },
   {
    "duration": 33,
    "start_time": "2022-12-24T15:35:10.936Z"
   },
   {
    "duration": 13,
    "start_time": "2022-12-24T15:36:47.552Z"
   },
   {
    "duration": 7,
    "start_time": "2022-12-24T15:41:20.892Z"
   },
   {
    "duration": 102,
    "start_time": "2022-12-24T15:42:47.958Z"
   },
   {
    "duration": 131,
    "start_time": "2022-12-24T15:42:54.485Z"
   },
   {
    "duration": 6,
    "start_time": "2022-12-24T15:43:29.888Z"
   },
   {
    "duration": 5,
    "start_time": "2022-12-24T15:43:39.920Z"
   },
   {
    "duration": 60,
    "start_time": "2022-12-25T09:51:57.410Z"
   },
   {
    "duration": 1197,
    "start_time": "2022-12-25T09:52:02.332Z"
   },
   {
    "duration": 6,
    "start_time": "2022-12-25T09:52:03.533Z"
   },
   {
    "duration": 16,
    "start_time": "2022-12-25T09:52:03.541Z"
   },
   {
    "duration": 6,
    "start_time": "2022-12-25T09:52:03.560Z"
   },
   {
    "duration": 119,
    "start_time": "2022-12-25T09:52:03.569Z"
   },
   {
    "duration": 2924,
    "start_time": "2022-12-25T09:52:03.690Z"
   },
   {
    "duration": 36,
    "start_time": "2022-12-25T09:52:06.616Z"
   },
   {
    "duration": 9,
    "start_time": "2022-12-25T09:52:06.654Z"
   },
   {
    "duration": 23,
    "start_time": "2022-12-25T09:52:06.664Z"
   },
   {
    "duration": 15,
    "start_time": "2022-12-25T09:52:06.689Z"
   },
   {
    "duration": 36,
    "start_time": "2022-12-25T09:52:06.706Z"
   },
   {
    "duration": 16,
    "start_time": "2022-12-25T09:52:06.744Z"
   },
   {
    "duration": 8,
    "start_time": "2022-12-25T09:52:06.761Z"
   },
   {
    "duration": 19,
    "start_time": "2022-12-25T09:52:06.772Z"
   },
   {
    "duration": 8,
    "start_time": "2022-12-25T09:52:06.792Z"
   },
   {
    "duration": 20,
    "start_time": "2022-12-25T09:52:06.802Z"
   },
   {
    "duration": 45,
    "start_time": "2022-12-25T09:52:06.825Z"
   },
   {
    "duration": 25,
    "start_time": "2022-12-25T09:52:06.871Z"
   },
   {
    "duration": 4,
    "start_time": "2022-12-25T09:52:06.898Z"
   },
   {
    "duration": 20,
    "start_time": "2022-12-25T09:52:06.904Z"
   },
   {
    "duration": 34,
    "start_time": "2022-12-25T09:52:06.925Z"
   },
   {
    "duration": 49,
    "start_time": "2022-12-25T09:52:06.961Z"
   },
   {
    "duration": 0,
    "start_time": "2022-12-25T09:52:07.011Z"
   },
   {
    "duration": 21,
    "start_time": "2022-12-25T09:52:31.378Z"
   },
   {
    "duration": 8,
    "start_time": "2022-12-25T09:54:36.230Z"
   },
   {
    "duration": 3,
    "start_time": "2022-12-25T09:54:41.294Z"
   },
   {
    "duration": 25,
    "start_time": "2022-12-25T09:54:43.374Z"
   },
   {
    "duration": 6,
    "start_time": "2022-12-25T09:54:44.478Z"
   },
   {
    "duration": 8,
    "start_time": "2022-12-25T09:54:45.182Z"
   },
   {
    "duration": 10,
    "start_time": "2022-12-25T09:55:10.072Z"
   },
   {
    "duration": 20,
    "start_time": "2022-12-25T09:55:35.929Z"
   },
   {
    "duration": 6,
    "start_time": "2022-12-25T09:57:37.565Z"
   },
   {
    "duration": 9,
    "start_time": "2022-12-25T09:57:43.180Z"
   },
   {
    "duration": 7,
    "start_time": "2022-12-25T09:57:56.294Z"
   },
   {
    "duration": 13,
    "start_time": "2022-12-25T09:58:03.997Z"
   },
   {
    "duration": 112,
    "start_time": "2022-12-25T09:58:24.020Z"
   },
   {
    "duration": 14,
    "start_time": "2022-12-25T09:58:24.134Z"
   },
   {
    "duration": 4,
    "start_time": "2022-12-25T09:58:24.149Z"
   },
   {
    "duration": 6,
    "start_time": "2022-12-25T09:58:24.155Z"
   },
   {
    "duration": 4,
    "start_time": "2022-12-25T09:58:24.163Z"
   },
   {
    "duration": 106,
    "start_time": "2022-12-25T09:58:24.169Z"
   },
   {
    "duration": 2760,
    "start_time": "2022-12-25T09:58:24.276Z"
   },
   {
    "duration": 21,
    "start_time": "2022-12-25T09:58:27.038Z"
   },
   {
    "duration": 9,
    "start_time": "2022-12-25T09:58:27.061Z"
   },
   {
    "duration": 10,
    "start_time": "2022-12-25T09:58:27.072Z"
   },
   {
    "duration": 38,
    "start_time": "2022-12-25T09:58:27.083Z"
   },
   {
    "duration": 8,
    "start_time": "2022-12-25T09:58:27.123Z"
   },
   {
    "duration": 6,
    "start_time": "2022-12-25T09:58:27.132Z"
   },
   {
    "duration": 8,
    "start_time": "2022-12-25T09:58:27.140Z"
   },
   {
    "duration": 12,
    "start_time": "2022-12-25T09:58:27.150Z"
   },
   {
    "duration": 5,
    "start_time": "2022-12-25T09:58:27.164Z"
   },
   {
    "duration": 8,
    "start_time": "2022-12-25T09:58:27.171Z"
   },
   {
    "duration": 71,
    "start_time": "2022-12-25T09:58:27.181Z"
   },
   {
    "duration": 3,
    "start_time": "2022-12-25T09:58:27.254Z"
   },
   {
    "duration": 26,
    "start_time": "2022-12-25T09:58:27.258Z"
   },
   {
    "duration": 6,
    "start_time": "2022-12-25T09:58:27.286Z"
   },
   {
    "duration": 31,
    "start_time": "2022-12-25T09:58:27.293Z"
   },
   {
    "duration": 19,
    "start_time": "2022-12-25T09:58:27.332Z"
   },
   {
    "duration": 21,
    "start_time": "2022-12-25T09:58:27.353Z"
   },
   {
    "duration": 0,
    "start_time": "2022-12-25T09:58:27.375Z"
   },
   {
    "duration": 16,
    "start_time": "2022-12-25T10:01:13.372Z"
   },
   {
    "duration": 20,
    "start_time": "2022-12-25T10:01:40.981Z"
   },
   {
    "duration": 16,
    "start_time": "2022-12-25T10:01:59.870Z"
   },
   {
    "duration": 15,
    "start_time": "2022-12-25T10:02:24.327Z"
   },
   {
    "duration": 16,
    "start_time": "2022-12-25T10:02:29.255Z"
   },
   {
    "duration": 12,
    "start_time": "2022-12-25T10:02:34.107Z"
   },
   {
    "duration": 761,
    "start_time": "2022-12-25T10:03:06.184Z"
   },
   {
    "duration": 45,
    "start_time": "2022-12-25T10:03:21.536Z"
   },
   {
    "duration": 14,
    "start_time": "2022-12-25T10:03:33.513Z"
   },
   {
    "duration": 4,
    "start_time": "2022-12-25T10:05:25.148Z"
   },
   {
    "duration": 25,
    "start_time": "2022-12-25T10:05:26.268Z"
   },
   {
    "duration": 5,
    "start_time": "2022-12-25T10:05:27.308Z"
   },
   {
    "duration": 7,
    "start_time": "2022-12-25T10:05:28.245Z"
   },
   {
    "duration": 11,
    "start_time": "2022-12-25T10:06:00.767Z"
   },
   {
    "duration": 6,
    "start_time": "2022-12-25T10:07:51.059Z"
   },
   {
    "duration": 12,
    "start_time": "2022-12-25T10:08:51.837Z"
   },
   {
    "duration": 6,
    "start_time": "2022-12-25T10:08:56.812Z"
   },
   {
    "duration": 7,
    "start_time": "2022-12-25T10:09:09.909Z"
   },
   {
    "duration": 7,
    "start_time": "2022-12-25T10:09:17.821Z"
   },
   {
    "duration": 6,
    "start_time": "2022-12-25T10:10:17.472Z"
   },
   {
    "duration": 8,
    "start_time": "2022-12-25T10:10:46.648Z"
   },
   {
    "duration": 4,
    "start_time": "2022-12-25T10:11:33.094Z"
   },
   {
    "duration": 25,
    "start_time": "2022-12-25T10:11:33.866Z"
   },
   {
    "duration": 11,
    "start_time": "2022-12-25T10:11:34.202Z"
   },
   {
    "duration": 5,
    "start_time": "2022-12-25T10:12:16.907Z"
   },
   {
    "duration": 4,
    "start_time": "2022-12-25T10:12:23.917Z"
   },
   {
    "duration": 7,
    "start_time": "2022-12-25T10:12:37.940Z"
   },
   {
    "duration": 5,
    "start_time": "2022-12-25T10:12:56.884Z"
   },
   {
    "duration": 25,
    "start_time": "2022-12-25T10:13:54.440Z"
   },
   {
    "duration": 8,
    "start_time": "2022-12-25T10:14:03.849Z"
   },
   {
    "duration": 54,
    "start_time": "2022-12-25T10:14:18.629Z"
   },
   {
    "duration": 8,
    "start_time": "2022-12-25T10:14:36.757Z"
   },
   {
    "duration": 7,
    "start_time": "2022-12-25T10:14:51.807Z"
   },
   {
    "duration": 12,
    "start_time": "2022-12-25T10:14:55.452Z"
   },
   {
    "duration": 8,
    "start_time": "2022-12-25T10:14:58.340Z"
   },
   {
    "duration": 19,
    "start_time": "2022-12-25T10:19:14.290Z"
   },
   {
    "duration": 5,
    "start_time": "2022-12-25T10:22:09.512Z"
   },
   {
    "duration": 8,
    "start_time": "2022-12-25T10:23:21.594Z"
   },
   {
    "duration": 96,
    "start_time": "2022-12-25T10:49:42.001Z"
   },
   {
    "duration": 19,
    "start_time": "2022-12-25T10:49:53.781Z"
   },
   {
    "duration": 57,
    "start_time": "2022-12-25T11:01:06.714Z"
   },
   {
    "duration": 52,
    "start_time": "2022-12-25T11:02:02.725Z"
   },
   {
    "duration": 163,
    "start_time": "2022-12-25T11:03:02.407Z"
   },
   {
    "duration": 19,
    "start_time": "2022-12-25T11:03:04.790Z"
   },
   {
    "duration": 155,
    "start_time": "2022-12-25T11:03:44.720Z"
   },
   {
    "duration": 17,
    "start_time": "2022-12-25T11:03:46.840Z"
   },
   {
    "duration": 11,
    "start_time": "2022-12-25T11:33:38.247Z"
   },
   {
    "duration": 110,
    "start_time": "2022-12-25T11:33:47.929Z"
   },
   {
    "duration": 13,
    "start_time": "2022-12-25T11:33:48.041Z"
   },
   {
    "duration": 3,
    "start_time": "2022-12-25T11:33:48.056Z"
   },
   {
    "duration": 9,
    "start_time": "2022-12-25T11:33:48.061Z"
   },
   {
    "duration": 11,
    "start_time": "2022-12-25T11:33:48.071Z"
   },
   {
    "duration": 88,
    "start_time": "2022-12-25T11:33:48.084Z"
   },
   {
    "duration": 2479,
    "start_time": "2022-12-25T11:33:48.174Z"
   },
   {
    "duration": 23,
    "start_time": "2022-12-25T11:33:50.654Z"
   },
   {
    "duration": 9,
    "start_time": "2022-12-25T11:33:50.678Z"
   },
   {
    "duration": 31,
    "start_time": "2022-12-25T11:33:50.690Z"
   },
   {
    "duration": 6,
    "start_time": "2022-12-25T11:33:50.722Z"
   },
   {
    "duration": 12,
    "start_time": "2022-12-25T11:33:50.729Z"
   },
   {
    "duration": 6,
    "start_time": "2022-12-25T11:33:50.743Z"
   },
   {
    "duration": 5,
    "start_time": "2022-12-25T11:33:50.750Z"
   },
   {
    "duration": 11,
    "start_time": "2022-12-25T11:33:50.756Z"
   },
   {
    "duration": 16,
    "start_time": "2022-12-25T11:33:50.768Z"
   },
   {
    "duration": 9,
    "start_time": "2022-12-25T11:33:50.785Z"
   },
   {
    "duration": 128,
    "start_time": "2022-12-25T11:33:50.795Z"
   },
   {
    "duration": 3,
    "start_time": "2022-12-25T11:33:50.924Z"
   },
   {
    "duration": 46,
    "start_time": "2022-12-25T11:33:50.928Z"
   },
   {
    "duration": 5,
    "start_time": "2022-12-25T11:33:50.976Z"
   },
   {
    "duration": 16,
    "start_time": "2022-12-25T11:33:50.982Z"
   },
   {
    "duration": 12,
    "start_time": "2022-12-25T11:33:50.999Z"
   },
   {
    "duration": 39,
    "start_time": "2022-12-25T11:33:51.012Z"
   },
   {
    "duration": 12,
    "start_time": "2022-12-25T11:33:51.052Z"
   },
   {
    "duration": 16,
    "start_time": "2022-12-25T11:33:51.065Z"
   },
   {
    "duration": 169,
    "start_time": "2022-12-25T11:33:51.082Z"
   },
   {
    "duration": 41,
    "start_time": "2022-12-25T11:37:50.051Z"
   },
   {
    "duration": 33,
    "start_time": "2022-12-25T12:51:08.293Z"
   },
   {
    "duration": 15,
    "start_time": "2022-12-25T12:51:20.399Z"
   },
   {
    "duration": 32,
    "start_time": "2022-12-25T12:51:24.864Z"
   },
   {
    "duration": 109,
    "start_time": "2022-12-25T12:51:30.030Z"
   },
   {
    "duration": 15,
    "start_time": "2022-12-25T12:51:30.141Z"
   },
   {
    "duration": 11,
    "start_time": "2022-12-25T12:51:30.158Z"
   },
   {
    "duration": 35,
    "start_time": "2022-12-25T12:51:30.171Z"
   },
   {
    "duration": 35,
    "start_time": "2022-12-25T12:51:30.208Z"
   },
   {
    "duration": 94,
    "start_time": "2022-12-25T12:51:30.245Z"
   },
   {
    "duration": 2594,
    "start_time": "2022-12-25T12:51:30.340Z"
   },
   {
    "duration": 47,
    "start_time": "2022-12-25T12:51:32.935Z"
   },
   {
    "duration": 37,
    "start_time": "2022-12-25T12:51:32.984Z"
   },
   {
    "duration": 10,
    "start_time": "2022-12-25T12:51:33.024Z"
   },
   {
    "duration": 10,
    "start_time": "2022-12-25T12:51:33.035Z"
   },
   {
    "duration": 5,
    "start_time": "2022-12-25T12:51:33.046Z"
   },
   {
    "duration": 8,
    "start_time": "2022-12-25T12:51:33.052Z"
   },
   {
    "duration": 18,
    "start_time": "2022-12-25T12:51:33.062Z"
   },
   {
    "duration": 6,
    "start_time": "2022-12-25T12:51:33.082Z"
   },
   {
    "duration": 5,
    "start_time": "2022-12-25T12:51:33.089Z"
   },
   {
    "duration": 18,
    "start_time": "2022-12-25T12:51:33.095Z"
   },
   {
    "duration": 11,
    "start_time": "2022-12-25T12:51:33.115Z"
   },
   {
    "duration": 29,
    "start_time": "2022-12-25T12:51:33.127Z"
   },
   {
    "duration": 3,
    "start_time": "2022-12-25T12:51:33.157Z"
   },
   {
    "duration": 43,
    "start_time": "2022-12-25T12:51:33.161Z"
   },
   {
    "duration": 5,
    "start_time": "2022-12-25T12:51:33.206Z"
   },
   {
    "duration": 9,
    "start_time": "2022-12-25T12:51:33.212Z"
   },
   {
    "duration": 11,
    "start_time": "2022-12-25T12:51:33.223Z"
   },
   {
    "duration": 37,
    "start_time": "2022-12-25T12:51:33.236Z"
   },
   {
    "duration": 11,
    "start_time": "2022-12-25T12:51:33.275Z"
   },
   {
    "duration": 34,
    "start_time": "2022-12-25T12:51:33.288Z"
   },
   {
    "duration": 166,
    "start_time": "2022-12-25T12:51:33.325Z"
   },
   {
    "duration": 41,
    "start_time": "2022-12-25T12:51:33.493Z"
   },
   {
    "duration": 12,
    "start_time": "2022-12-25T12:51:48.031Z"
   },
   {
    "duration": 3,
    "start_time": "2022-12-25T12:53:16.579Z"
   },
   {
    "duration": 167,
    "start_time": "2022-12-25T12:53:27.722Z"
   },
   {
    "duration": 5,
    "start_time": "2022-12-25T12:56:13.648Z"
   },
   {
    "duration": 28,
    "start_time": "2022-12-25T12:57:19.226Z"
   },
   {
    "duration": 7,
    "start_time": "2022-12-25T13:19:24.666Z"
   },
   {
    "duration": 6,
    "start_time": "2022-12-25T13:19:28.129Z"
   },
   {
    "duration": 6,
    "start_time": "2022-12-25T13:20:08.914Z"
   },
   {
    "duration": 6,
    "start_time": "2022-12-25T13:20:23.899Z"
   },
   {
    "duration": 12,
    "start_time": "2022-12-25T13:28:49.653Z"
   },
   {
    "duration": 11,
    "start_time": "2022-12-25T13:29:01.565Z"
   },
   {
    "duration": 15,
    "start_time": "2022-12-25T13:29:11.381Z"
   },
   {
    "duration": 12,
    "start_time": "2022-12-25T13:29:28.725Z"
   },
   {
    "duration": 12,
    "start_time": "2022-12-25T13:29:36.072Z"
   },
   {
    "duration": 109,
    "start_time": "2022-12-25T13:29:47.634Z"
   },
   {
    "duration": 13,
    "start_time": "2022-12-25T13:29:47.745Z"
   },
   {
    "duration": 4,
    "start_time": "2022-12-25T13:29:47.760Z"
   },
   {
    "duration": 9,
    "start_time": "2022-12-25T13:29:47.765Z"
   },
   {
    "duration": 8,
    "start_time": "2022-12-25T13:29:47.776Z"
   },
   {
    "duration": 95,
    "start_time": "2022-12-25T13:29:47.785Z"
   },
   {
    "duration": 2934,
    "start_time": "2022-12-25T13:29:47.882Z"
   },
   {
    "duration": 46,
    "start_time": "2022-12-25T13:29:50.820Z"
   },
   {
    "duration": 20,
    "start_time": "2022-12-25T13:29:50.868Z"
   },
   {
    "duration": 9,
    "start_time": "2022-12-25T13:29:50.890Z"
   },
   {
    "duration": 9,
    "start_time": "2022-12-25T13:29:50.922Z"
   },
   {
    "duration": 7,
    "start_time": "2022-12-25T13:29:50.932Z"
   },
   {
    "duration": 16,
    "start_time": "2022-12-25T13:29:50.940Z"
   },
   {
    "duration": 13,
    "start_time": "2022-12-25T13:29:50.959Z"
   },
   {
    "duration": 8,
    "start_time": "2022-12-25T13:29:50.973Z"
   },
   {
    "duration": 7,
    "start_time": "2022-12-25T13:29:50.983Z"
   },
   {
    "duration": 8,
    "start_time": "2022-12-25T13:29:50.992Z"
   },
   {
    "duration": 6,
    "start_time": "2022-12-25T13:29:51.002Z"
   },
   {
    "duration": 36,
    "start_time": "2022-12-25T13:29:51.009Z"
   },
   {
    "duration": 3,
    "start_time": "2022-12-25T13:29:51.047Z"
   },
   {
    "duration": 38,
    "start_time": "2022-12-25T13:29:51.051Z"
   },
   {
    "duration": 5,
    "start_time": "2022-12-25T13:29:51.091Z"
   },
   {
    "duration": 11,
    "start_time": "2022-12-25T13:29:51.098Z"
   },
   {
    "duration": 18,
    "start_time": "2022-12-25T13:29:51.111Z"
   },
   {
    "duration": 40,
    "start_time": "2022-12-25T13:29:51.130Z"
   },
   {
    "duration": 12,
    "start_time": "2022-12-25T13:29:51.171Z"
   },
   {
    "duration": 45,
    "start_time": "2022-12-25T13:29:51.184Z"
   },
   {
    "duration": 171,
    "start_time": "2022-12-25T13:29:51.231Z"
   },
   {
    "duration": 35,
    "start_time": "2022-12-25T13:29:51.404Z"
   },
   {
    "duration": 11,
    "start_time": "2022-12-25T13:29:51.441Z"
   },
   {
    "duration": 11,
    "start_time": "2022-12-25T13:30:22.911Z"
   },
   {
    "duration": 15,
    "start_time": "2022-12-25T13:30:31.544Z"
   },
   {
    "duration": 12,
    "start_time": "2022-12-25T13:30:46.571Z"
   },
   {
    "duration": 105,
    "start_time": "2022-12-25T13:30:55.682Z"
   },
   {
    "duration": 14,
    "start_time": "2022-12-25T13:30:55.789Z"
   },
   {
    "duration": 4,
    "start_time": "2022-12-25T13:30:55.804Z"
   },
   {
    "duration": 5,
    "start_time": "2022-12-25T13:30:55.822Z"
   },
   {
    "duration": 5,
    "start_time": "2022-12-25T13:30:55.828Z"
   },
   {
    "duration": 89,
    "start_time": "2022-12-25T13:30:55.834Z"
   },
   {
    "duration": 2628,
    "start_time": "2022-12-25T13:30:55.925Z"
   },
   {
    "duration": 52,
    "start_time": "2022-12-25T13:30:58.554Z"
   },
   {
    "duration": 33,
    "start_time": "2022-12-25T13:30:58.608Z"
   },
   {
    "duration": 10,
    "start_time": "2022-12-25T13:30:58.643Z"
   },
   {
    "duration": 19,
    "start_time": "2022-12-25T13:30:58.654Z"
   },
   {
    "duration": 7,
    "start_time": "2022-12-25T13:30:58.675Z"
   },
   {
    "duration": 10,
    "start_time": "2022-12-25T13:30:58.684Z"
   },
   {
    "duration": 27,
    "start_time": "2022-12-25T13:30:58.695Z"
   },
   {
    "duration": 4,
    "start_time": "2022-12-25T13:30:58.724Z"
   },
   {
    "duration": 7,
    "start_time": "2022-12-25T13:30:58.729Z"
   },
   {
    "duration": 5,
    "start_time": "2022-12-25T13:30:58.738Z"
   },
   {
    "duration": 8,
    "start_time": "2022-12-25T13:30:58.744Z"
   },
   {
    "duration": 32,
    "start_time": "2022-12-25T13:30:58.753Z"
   },
   {
    "duration": 3,
    "start_time": "2022-12-25T13:30:58.787Z"
   },
   {
    "duration": 53,
    "start_time": "2022-12-25T13:30:58.791Z"
   },
   {
    "duration": 6,
    "start_time": "2022-12-25T13:30:58.847Z"
   },
   {
    "duration": 14,
    "start_time": "2022-12-25T13:30:58.855Z"
   },
   {
    "duration": 22,
    "start_time": "2022-12-25T13:30:58.871Z"
   },
   {
    "duration": 66,
    "start_time": "2022-12-25T13:30:58.894Z"
   },
   {
    "duration": 12,
    "start_time": "2022-12-25T13:30:58.961Z"
   },
   {
    "duration": 18,
    "start_time": "2022-12-25T13:30:58.974Z"
   },
   {
    "duration": 187,
    "start_time": "2022-12-25T13:30:58.995Z"
   },
   {
    "duration": 26,
    "start_time": "2022-12-25T13:30:59.184Z"
   },
   {
    "duration": 20,
    "start_time": "2022-12-25T13:30:59.211Z"
   },
   {
    "duration": 42,
    "start_time": "2022-12-25T13:33:05.798Z"
   },
   {
    "duration": 24,
    "start_time": "2022-12-25T13:33:33.791Z"
   },
   {
    "duration": 176,
    "start_time": "2022-12-25T13:34:48.106Z"
   },
   {
    "duration": 253,
    "start_time": "2022-12-25T13:34:52.985Z"
   },
   {
    "duration": 24,
    "start_time": "2022-12-25T13:35:08.033Z"
   },
   {
    "duration": 9,
    "start_time": "2022-12-25T13:35:27.059Z"
   },
   {
    "duration": 205,
    "start_time": "2022-12-25T13:35:38.666Z"
   },
   {
    "duration": 23,
    "start_time": "2022-12-25T13:35:47.787Z"
   },
   {
    "duration": 15,
    "start_time": "2022-12-25T13:35:59.628Z"
   },
   {
    "duration": 233,
    "start_time": "2022-12-25T13:36:42.776Z"
   },
   {
    "duration": 16,
    "start_time": "2022-12-25T13:36:49.948Z"
   },
   {
    "duration": 193,
    "start_time": "2022-12-25T13:37:10.109Z"
   },
   {
    "duration": 16,
    "start_time": "2022-12-25T13:37:16.390Z"
   },
   {
    "duration": 78,
    "start_time": "2022-12-25T14:48:20.945Z"
   },
   {
    "duration": 8,
    "start_time": "2022-12-25T14:54:46.535Z"
   },
   {
    "duration": 35,
    "start_time": "2022-12-25T14:57:50.203Z"
   },
   {
    "duration": 8,
    "start_time": "2022-12-25T14:57:54.845Z"
   },
   {
    "duration": 9,
    "start_time": "2022-12-25T14:58:01.426Z"
   },
   {
    "duration": 22,
    "start_time": "2022-12-25T15:04:37.839Z"
   },
   {
    "duration": 27,
    "start_time": "2022-12-25T15:04:45.556Z"
   },
   {
    "duration": 110,
    "start_time": "2022-12-25T15:05:33.751Z"
   },
   {
    "duration": 12,
    "start_time": "2022-12-25T15:05:33.863Z"
   },
   {
    "duration": 18,
    "start_time": "2022-12-25T15:05:33.877Z"
   },
   {
    "duration": 22,
    "start_time": "2022-12-25T15:05:33.898Z"
   },
   {
    "duration": 11,
    "start_time": "2022-12-25T15:05:33.921Z"
   },
   {
    "duration": 81,
    "start_time": "2022-12-25T15:05:33.934Z"
   },
   {
    "duration": 2565,
    "start_time": "2022-12-25T15:05:34.017Z"
   },
   {
    "duration": 58,
    "start_time": "2022-12-25T15:05:36.584Z"
   },
   {
    "duration": 21,
    "start_time": "2022-12-25T15:05:36.643Z"
   },
   {
    "duration": 9,
    "start_time": "2022-12-25T15:05:36.666Z"
   },
   {
    "duration": 13,
    "start_time": "2022-12-25T15:05:36.677Z"
   },
   {
    "duration": 5,
    "start_time": "2022-12-25T15:05:36.691Z"
   },
   {
    "duration": 7,
    "start_time": "2022-12-25T15:05:36.721Z"
   },
   {
    "duration": 7,
    "start_time": "2022-12-25T15:05:36.729Z"
   },
   {
    "duration": 5,
    "start_time": "2022-12-25T15:05:36.738Z"
   },
   {
    "duration": 4,
    "start_time": "2022-12-25T15:05:36.744Z"
   },
   {
    "duration": 4,
    "start_time": "2022-12-25T15:05:36.749Z"
   },
   {
    "duration": 5,
    "start_time": "2022-12-25T15:05:36.755Z"
   },
   {
    "duration": 26,
    "start_time": "2022-12-25T15:05:36.761Z"
   },
   {
    "duration": 3,
    "start_time": "2022-12-25T15:05:36.788Z"
   },
   {
    "duration": 27,
    "start_time": "2022-12-25T15:05:36.822Z"
   },
   {
    "duration": 6,
    "start_time": "2022-12-25T15:05:36.851Z"
   },
   {
    "duration": 10,
    "start_time": "2022-12-25T15:05:36.858Z"
   },
   {
    "duration": 13,
    "start_time": "2022-12-25T15:05:36.870Z"
   },
   {
    "duration": 69,
    "start_time": "2022-12-25T15:05:36.884Z"
   },
   {
    "duration": 12,
    "start_time": "2022-12-25T15:05:36.954Z"
   },
   {
    "duration": 17,
    "start_time": "2022-12-25T15:05:36.967Z"
   },
   {
    "duration": 190,
    "start_time": "2022-12-25T15:05:36.987Z"
   },
   {
    "duration": 9,
    "start_time": "2022-12-25T15:05:37.178Z"
   },
   {
    "duration": 0,
    "start_time": "2022-12-25T15:05:37.188Z"
   },
   {
    "duration": 0,
    "start_time": "2022-12-25T15:05:37.189Z"
   },
   {
    "duration": 0,
    "start_time": "2022-12-25T15:05:37.190Z"
   },
   {
    "duration": 23,
    "start_time": "2022-12-25T15:05:43.116Z"
   },
   {
    "duration": 32,
    "start_time": "2022-12-25T15:05:51.568Z"
   },
   {
    "duration": 30,
    "start_time": "2022-12-25T15:05:58.590Z"
   },
   {
    "duration": 27,
    "start_time": "2022-12-25T15:06:15.950Z"
   },
   {
    "duration": 117,
    "start_time": "2022-12-25T15:09:52.668Z"
   },
   {
    "duration": 44,
    "start_time": "2022-12-25T15:09:52.787Z"
   },
   {
    "duration": 16,
    "start_time": "2022-12-25T15:09:52.834Z"
   },
   {
    "duration": 14,
    "start_time": "2022-12-25T15:09:52.852Z"
   },
   {
    "duration": 12,
    "start_time": "2022-12-25T15:09:52.867Z"
   },
   {
    "duration": 104,
    "start_time": "2022-12-25T15:09:52.881Z"
   },
   {
    "duration": 2636,
    "start_time": "2022-12-25T15:09:52.987Z"
   },
   {
    "duration": 50,
    "start_time": "2022-12-25T15:09:55.624Z"
   },
   {
    "duration": 21,
    "start_time": "2022-12-25T15:09:55.676Z"
   },
   {
    "duration": 27,
    "start_time": "2022-12-25T15:09:55.699Z"
   },
   {
    "duration": 9,
    "start_time": "2022-12-25T15:09:55.728Z"
   },
   {
    "duration": 5,
    "start_time": "2022-12-25T15:09:55.739Z"
   },
   {
    "duration": 8,
    "start_time": "2022-12-25T15:09:55.745Z"
   },
   {
    "duration": 10,
    "start_time": "2022-12-25T15:09:55.754Z"
   },
   {
    "duration": 5,
    "start_time": "2022-12-25T15:09:55.765Z"
   },
   {
    "duration": 7,
    "start_time": "2022-12-25T15:09:55.771Z"
   },
   {
    "duration": 5,
    "start_time": "2022-12-25T15:09:55.780Z"
   },
   {
    "duration": 5,
    "start_time": "2022-12-25T15:09:55.787Z"
   },
   {
    "duration": 50,
    "start_time": "2022-12-25T15:09:55.794Z"
   },
   {
    "duration": 3,
    "start_time": "2022-12-25T15:09:55.846Z"
   },
   {
    "duration": 25,
    "start_time": "2022-12-25T15:09:55.852Z"
   },
   {
    "duration": 5,
    "start_time": "2022-12-25T15:09:55.879Z"
   },
   {
    "duration": 8,
    "start_time": "2022-12-25T15:09:55.885Z"
   },
   {
    "duration": 38,
    "start_time": "2022-12-25T15:09:55.894Z"
   },
   {
    "duration": 38,
    "start_time": "2022-12-25T15:09:55.934Z"
   },
   {
    "duration": 13,
    "start_time": "2022-12-25T15:09:55.973Z"
   },
   {
    "duration": 35,
    "start_time": "2022-12-25T15:09:55.987Z"
   },
   {
    "duration": 198,
    "start_time": "2022-12-25T15:09:56.024Z"
   },
   {
    "duration": 96951,
    "start_time": "2022-12-25T15:09:56.224Z"
   },
   {
    "duration": 20,
    "start_time": "2022-12-25T15:11:33.177Z"
   },
   {
    "duration": 25,
    "start_time": "2022-12-25T15:11:33.198Z"
   },
   {
    "duration": 15,
    "start_time": "2022-12-25T15:11:33.224Z"
   },
   {
    "duration": 105,
    "start_time": "2022-12-25T15:33:35.846Z"
   },
   {
    "duration": 12,
    "start_time": "2022-12-25T15:33:35.952Z"
   },
   {
    "duration": 3,
    "start_time": "2022-12-25T15:33:35.966Z"
   },
   {
    "duration": 9,
    "start_time": "2022-12-25T15:33:35.970Z"
   },
   {
    "duration": 5,
    "start_time": "2022-12-25T15:33:35.981Z"
   },
   {
    "duration": 80,
    "start_time": "2022-12-25T15:33:35.987Z"
   },
   {
    "duration": 2558,
    "start_time": "2022-12-25T15:33:36.069Z"
   },
   {
    "duration": 46,
    "start_time": "2022-12-25T15:33:38.629Z"
   },
   {
    "duration": 21,
    "start_time": "2022-12-25T15:33:38.677Z"
   },
   {
    "duration": 27,
    "start_time": "2022-12-25T15:33:38.700Z"
   },
   {
    "duration": 9,
    "start_time": "2022-12-25T15:33:38.729Z"
   },
   {
    "duration": 4,
    "start_time": "2022-12-25T15:33:38.740Z"
   },
   {
    "duration": 6,
    "start_time": "2022-12-25T15:33:38.746Z"
   },
   {
    "duration": 5,
    "start_time": "2022-12-25T15:33:38.753Z"
   },
   {
    "duration": 5,
    "start_time": "2022-12-25T15:33:38.760Z"
   },
   {
    "duration": 6,
    "start_time": "2022-12-25T15:33:38.767Z"
   },
   {
    "duration": 8,
    "start_time": "2022-12-25T15:33:38.775Z"
   },
   {
    "duration": 6,
    "start_time": "2022-12-25T15:33:38.784Z"
   },
   {
    "duration": 53,
    "start_time": "2022-12-25T15:33:38.792Z"
   },
   {
    "duration": 3,
    "start_time": "2022-12-25T15:33:38.847Z"
   },
   {
    "duration": 38,
    "start_time": "2022-12-25T15:33:38.851Z"
   },
   {
    "duration": 5,
    "start_time": "2022-12-25T15:33:38.891Z"
   },
   {
    "duration": 8,
    "start_time": "2022-12-25T15:33:38.899Z"
   },
   {
    "duration": 11,
    "start_time": "2022-12-25T15:33:38.921Z"
   },
   {
    "duration": 35,
    "start_time": "2022-12-25T15:33:38.934Z"
   },
   {
    "duration": 12,
    "start_time": "2022-12-25T15:33:38.971Z"
   },
   {
    "duration": 40,
    "start_time": "2022-12-25T15:33:38.984Z"
   },
   {
    "duration": 181,
    "start_time": "2022-12-25T15:33:39.025Z"
   },
   {
    "duration": 2,
    "start_time": "2022-12-25T15:33:39.208Z"
   },
   {
    "duration": 6,
    "start_time": "2022-12-25T15:33:39.221Z"
   },
   {
    "duration": 21,
    "start_time": "2022-12-25T15:33:39.229Z"
   },
   {
    "duration": 15,
    "start_time": "2022-12-25T15:33:39.252Z"
   },
   {
    "duration": 13,
    "start_time": "2022-12-25T15:33:39.268Z"
   },
   {
    "duration": 121,
    "start_time": "2022-12-25T16:35:14.492Z"
   },
   {
    "duration": 13,
    "start_time": "2022-12-25T16:35:14.620Z"
   },
   {
    "duration": 3,
    "start_time": "2022-12-25T16:35:14.635Z"
   },
   {
    "duration": 8,
    "start_time": "2022-12-25T16:35:14.640Z"
   },
   {
    "duration": 6,
    "start_time": "2022-12-25T16:35:14.649Z"
   },
   {
    "duration": 82,
    "start_time": "2022-12-25T16:35:14.656Z"
   },
   {
    "duration": 2552,
    "start_time": "2022-12-25T16:35:14.740Z"
   },
   {
    "duration": 51,
    "start_time": "2022-12-25T16:35:17.294Z"
   },
   {
    "duration": 21,
    "start_time": "2022-12-25T16:35:17.346Z"
   },
   {
    "duration": 8,
    "start_time": "2022-12-25T16:35:17.369Z"
   },
   {
    "duration": 10,
    "start_time": "2022-12-25T16:35:17.378Z"
   },
   {
    "duration": 32,
    "start_time": "2022-12-25T16:35:17.389Z"
   },
   {
    "duration": 12,
    "start_time": "2022-12-25T16:35:17.423Z"
   },
   {
    "duration": 7,
    "start_time": "2022-12-25T16:35:17.436Z"
   },
   {
    "duration": 8,
    "start_time": "2022-12-25T16:35:17.445Z"
   },
   {
    "duration": 6,
    "start_time": "2022-12-25T16:35:17.455Z"
   },
   {
    "duration": 5,
    "start_time": "2022-12-25T16:35:17.463Z"
   },
   {
    "duration": 9,
    "start_time": "2022-12-25T16:35:17.469Z"
   },
   {
    "duration": 26,
    "start_time": "2022-12-25T16:35:17.479Z"
   },
   {
    "duration": 2,
    "start_time": "2022-12-25T16:35:17.507Z"
   },
   {
    "duration": 35,
    "start_time": "2022-12-25T16:35:17.510Z"
   },
   {
    "duration": 5,
    "start_time": "2022-12-25T16:35:17.546Z"
   },
   {
    "duration": 17,
    "start_time": "2022-12-25T16:35:17.552Z"
   },
   {
    "duration": 12,
    "start_time": "2022-12-25T16:35:17.570Z"
   },
   {
    "duration": 55,
    "start_time": "2022-12-25T16:35:17.584Z"
   },
   {
    "duration": 12,
    "start_time": "2022-12-25T16:35:17.640Z"
   },
   {
    "duration": 24,
    "start_time": "2022-12-25T16:35:17.653Z"
   },
   {
    "duration": 186,
    "start_time": "2022-12-25T16:35:17.679Z"
   },
   {
    "duration": 3,
    "start_time": "2022-12-25T16:35:17.866Z"
   },
   {
    "duration": 25,
    "start_time": "2022-12-25T16:35:17.870Z"
   },
   {
    "duration": 46,
    "start_time": "2022-12-25T16:35:17.896Z"
   },
   {
    "duration": 25,
    "start_time": "2022-12-25T16:35:17.943Z"
   },
   {
    "duration": 15,
    "start_time": "2022-12-25T16:35:17.969Z"
   },
   {
    "duration": 7,
    "start_time": "2022-12-25T16:49:03.836Z"
   },
   {
    "duration": 23,
    "start_time": "2022-12-25T16:49:11.413Z"
   },
   {
    "duration": 21,
    "start_time": "2022-12-25T16:49:23.686Z"
   },
   {
    "duration": 4,
    "start_time": "2022-12-25T17:01:06.637Z"
   },
   {
    "duration": 22,
    "start_time": "2022-12-25T17:01:16.918Z"
   },
   {
    "duration": 6,
    "start_time": "2022-12-25T19:14:36.501Z"
   },
   {
    "duration": 25,
    "start_time": "2022-12-25T19:14:43.894Z"
   },
   {
    "duration": 4,
    "start_time": "2022-12-25T19:14:57.085Z"
   },
   {
    "duration": 25,
    "start_time": "2022-12-25T19:14:59.699Z"
   },
   {
    "duration": 25,
    "start_time": "2022-12-25T19:15:19.586Z"
   },
   {
    "duration": 1086,
    "start_time": "2022-12-26T05:53:01.755Z"
   },
   {
    "duration": 15,
    "start_time": "2022-12-26T05:53:02.843Z"
   },
   {
    "duration": 3,
    "start_time": "2022-12-26T05:53:02.859Z"
   },
   {
    "duration": 9,
    "start_time": "2022-12-26T05:53:02.863Z"
   },
   {
    "duration": 15,
    "start_time": "2022-12-26T05:53:02.874Z"
   },
   {
    "duration": 88,
    "start_time": "2022-12-26T05:53:02.891Z"
   },
   {
    "duration": 2538,
    "start_time": "2022-12-26T05:53:02.980Z"
   },
   {
    "duration": 50,
    "start_time": "2022-12-26T05:53:05.519Z"
   },
   {
    "duration": 24,
    "start_time": "2022-12-26T05:53:05.570Z"
   },
   {
    "duration": 23,
    "start_time": "2022-12-26T05:53:05.595Z"
   },
   {
    "duration": 9,
    "start_time": "2022-12-26T05:53:05.619Z"
   },
   {
    "duration": 7,
    "start_time": "2022-12-26T05:53:05.629Z"
   },
   {
    "duration": 13,
    "start_time": "2022-12-26T05:53:05.637Z"
   },
   {
    "duration": 10,
    "start_time": "2022-12-26T05:53:05.653Z"
   },
   {
    "duration": 8,
    "start_time": "2022-12-26T05:53:05.664Z"
   },
   {
    "duration": 16,
    "start_time": "2022-12-26T05:53:05.673Z"
   },
   {
    "duration": 7,
    "start_time": "2022-12-26T05:53:05.691Z"
   },
   {
    "duration": 31,
    "start_time": "2022-12-26T05:53:05.700Z"
   },
   {
    "duration": 37,
    "start_time": "2022-12-26T05:53:05.733Z"
   },
   {
    "duration": 2,
    "start_time": "2022-12-26T05:53:05.772Z"
   },
   {
    "duration": 29,
    "start_time": "2022-12-26T05:53:05.776Z"
   },
   {
    "duration": 5,
    "start_time": "2022-12-26T05:53:05.807Z"
   },
   {
    "duration": 12,
    "start_time": "2022-12-26T05:53:05.813Z"
   },
   {
    "duration": 12,
    "start_time": "2022-12-26T05:53:05.827Z"
   },
   {
    "duration": 41,
    "start_time": "2022-12-26T05:53:05.840Z"
   },
   {
    "duration": 29,
    "start_time": "2022-12-26T05:53:05.883Z"
   },
   {
    "duration": 16,
    "start_time": "2022-12-26T05:53:05.914Z"
   },
   {
    "duration": 186,
    "start_time": "2022-12-26T05:53:05.931Z"
   },
   {
    "duration": 21,
    "start_time": "2022-12-26T05:53:06.118Z"
   },
   {
    "duration": 6,
    "start_time": "2022-12-26T05:53:06.140Z"
   },
   {
    "duration": 12,
    "start_time": "2022-12-26T05:53:06.148Z"
   },
   {
    "duration": 4,
    "start_time": "2022-12-26T05:53:06.162Z"
   },
   {
    "duration": 72,
    "start_time": "2022-12-26T05:53:27.035Z"
   },
   {
    "duration": 4,
    "start_time": "2022-12-26T05:54:18.252Z"
   },
   {
    "duration": 14,
    "start_time": "2022-12-26T06:08:09.639Z"
   },
   {
    "duration": 1003,
    "start_time": "2022-12-26T06:08:10.264Z"
   },
   {
    "duration": 303,
    "start_time": "2022-12-26T06:08:32.019Z"
   },
   {
    "duration": 23,
    "start_time": "2022-12-26T06:08:40.420Z"
   },
   {
    "duration": 13,
    "start_time": "2022-12-26T06:10:03.181Z"
   },
   {
    "duration": 344,
    "start_time": "2022-12-26T06:10:04.364Z"
   },
   {
    "duration": 21,
    "start_time": "2022-12-26T06:10:05.093Z"
   },
   {
    "duration": 5,
    "start_time": "2022-12-26T06:17:33.002Z"
   },
   {
    "duration": 26,
    "start_time": "2022-12-26T06:17:34.431Z"
   },
   {
    "duration": 12,
    "start_time": "2022-12-26T06:18:11.928Z"
   },
   {
    "duration": 120,
    "start_time": "2022-12-26T06:18:18.871Z"
   },
   {
    "duration": 830,
    "start_time": "2022-12-26T06:18:24.909Z"
   },
   {
    "duration": 892,
    "start_time": "2022-12-26T06:20:14.634Z"
   },
   {
    "duration": 813,
    "start_time": "2022-12-26T06:20:56.147Z"
   },
   {
    "duration": 799,
    "start_time": "2022-12-26T06:21:31.069Z"
   },
   {
    "duration": 130,
    "start_time": "2022-12-26T06:21:39.235Z"
   },
   {
    "duration": 15,
    "start_time": "2022-12-26T06:21:39.367Z"
   },
   {
    "duration": 5,
    "start_time": "2022-12-26T06:21:39.383Z"
   },
   {
    "duration": 23,
    "start_time": "2022-12-26T06:21:39.390Z"
   },
   {
    "duration": 7,
    "start_time": "2022-12-26T06:21:39.415Z"
   },
   {
    "duration": 84,
    "start_time": "2022-12-26T06:21:39.424Z"
   },
   {
    "duration": 3023,
    "start_time": "2022-12-26T06:21:39.514Z"
   },
   {
    "duration": 53,
    "start_time": "2022-12-26T06:21:42.539Z"
   },
   {
    "duration": 52,
    "start_time": "2022-12-26T06:21:42.594Z"
   },
   {
    "duration": 9,
    "start_time": "2022-12-26T06:21:42.649Z"
   },
   {
    "duration": 11,
    "start_time": "2022-12-26T06:21:42.659Z"
   },
   {
    "duration": 9,
    "start_time": "2022-12-26T06:21:42.671Z"
   },
   {
    "duration": 8,
    "start_time": "2022-12-26T06:21:42.681Z"
   },
   {
    "duration": 5,
    "start_time": "2022-12-26T06:21:42.713Z"
   },
   {
    "duration": 11,
    "start_time": "2022-12-26T06:21:42.720Z"
   },
   {
    "duration": 4,
    "start_time": "2022-12-26T06:21:42.733Z"
   },
   {
    "duration": 5,
    "start_time": "2022-12-26T06:21:42.739Z"
   },
   {
    "duration": 5,
    "start_time": "2022-12-26T06:21:42.745Z"
   },
   {
    "duration": 29,
    "start_time": "2022-12-26T06:21:42.752Z"
   },
   {
    "duration": 32,
    "start_time": "2022-12-26T06:21:42.783Z"
   },
   {
    "duration": 40,
    "start_time": "2022-12-26T06:21:42.817Z"
   },
   {
    "duration": 7,
    "start_time": "2022-12-26T06:21:42.859Z"
   },
   {
    "duration": 13,
    "start_time": "2022-12-26T06:21:42.868Z"
   },
   {
    "duration": 40,
    "start_time": "2022-12-26T06:21:42.883Z"
   },
   {
    "duration": 47,
    "start_time": "2022-12-26T06:21:42.926Z"
   },
   {
    "duration": 12,
    "start_time": "2022-12-26T06:21:42.974Z"
   },
   {
    "duration": 49,
    "start_time": "2022-12-26T06:21:42.987Z"
   },
   {
    "duration": 197,
    "start_time": "2022-12-26T06:21:43.040Z"
   },
   {
    "duration": 22,
    "start_time": "2022-12-26T06:21:43.239Z"
   },
   {
    "duration": 7,
    "start_time": "2022-12-26T06:21:43.262Z"
   },
   {
    "duration": 21,
    "start_time": "2022-12-26T06:21:43.270Z"
   },
   {
    "duration": 21,
    "start_time": "2022-12-26T06:21:43.292Z"
   },
   {
    "duration": 15,
    "start_time": "2022-12-26T06:21:43.315Z"
   },
   {
    "duration": 335,
    "start_time": "2022-12-26T06:21:43.332Z"
   },
   {
    "duration": 4,
    "start_time": "2022-12-26T06:21:43.669Z"
   },
   {
    "duration": 25,
    "start_time": "2022-12-26T06:21:43.674Z"
   },
   {
    "duration": 4,
    "start_time": "2022-12-26T06:22:11.759Z"
   },
   {
    "duration": 37,
    "start_time": "2022-12-26T06:22:13.135Z"
   },
   {
    "duration": 5,
    "start_time": "2022-12-26T06:22:44.438Z"
   },
   {
    "duration": 23,
    "start_time": "2022-12-26T06:22:45.062Z"
   },
   {
    "duration": 4,
    "start_time": "2022-12-26T06:24:24.051Z"
   },
   {
    "duration": 17,
    "start_time": "2022-12-26T06:24:24.858Z"
   },
   {
    "duration": 403,
    "start_time": "2022-12-26T06:24:25.050Z"
   },
   {
    "duration": 4,
    "start_time": "2022-12-26T06:24:25.456Z"
   },
   {
    "duration": 24,
    "start_time": "2022-12-26T06:24:25.461Z"
   },
   {
    "duration": 1188,
    "start_time": "2022-12-26T10:09:38.722Z"
   },
   {
    "duration": 23,
    "start_time": "2022-12-26T10:09:39.913Z"
   },
   {
    "duration": 6,
    "start_time": "2022-12-26T10:09:39.938Z"
   },
   {
    "duration": 10,
    "start_time": "2022-12-26T10:09:39.947Z"
   },
   {
    "duration": 5,
    "start_time": "2022-12-26T10:09:39.959Z"
   },
   {
    "duration": 88,
    "start_time": "2022-12-26T10:09:39.966Z"
   },
   {
    "duration": 2817,
    "start_time": "2022-12-26T10:09:40.055Z"
   },
   {
    "duration": 80,
    "start_time": "2022-12-26T10:09:42.874Z"
   },
   {
    "duration": 26,
    "start_time": "2022-12-26T10:09:42.956Z"
   },
   {
    "duration": 9,
    "start_time": "2022-12-26T10:09:42.986Z"
   },
   {
    "duration": 39,
    "start_time": "2022-12-26T10:09:42.997Z"
   },
   {
    "duration": 8,
    "start_time": "2022-12-26T10:09:43.037Z"
   },
   {
    "duration": 12,
    "start_time": "2022-12-26T10:09:43.046Z"
   },
   {
    "duration": 15,
    "start_time": "2022-12-26T10:09:43.060Z"
   },
   {
    "duration": 12,
    "start_time": "2022-12-26T10:09:43.077Z"
   },
   {
    "duration": 13,
    "start_time": "2022-12-26T10:09:43.091Z"
   },
   {
    "duration": 12,
    "start_time": "2022-12-26T10:09:43.106Z"
   },
   {
    "duration": 9,
    "start_time": "2022-12-26T10:09:43.120Z"
   },
   {
    "duration": 35,
    "start_time": "2022-12-26T10:09:43.131Z"
   },
   {
    "duration": 3,
    "start_time": "2022-12-26T10:09:43.169Z"
   },
   {
    "duration": 41,
    "start_time": "2022-12-26T10:09:43.174Z"
   },
   {
    "duration": 8,
    "start_time": "2022-12-26T10:09:43.222Z"
   },
   {
    "duration": 13,
    "start_time": "2022-12-26T10:09:43.234Z"
   },
   {
    "duration": 18,
    "start_time": "2022-12-26T10:09:43.249Z"
   },
   {
    "duration": 82,
    "start_time": "2022-12-26T10:09:43.269Z"
   },
   {
    "duration": 14,
    "start_time": "2022-12-26T10:09:43.353Z"
   },
   {
    "duration": 21,
    "start_time": "2022-12-26T10:09:43.369Z"
   },
   {
    "duration": 223,
    "start_time": "2022-12-26T10:09:43.393Z"
   },
   {
    "duration": 23,
    "start_time": "2022-12-26T10:09:43.620Z"
   },
   {
    "duration": 6,
    "start_time": "2022-12-26T10:09:43.645Z"
   },
   {
    "duration": 20,
    "start_time": "2022-12-26T10:09:43.653Z"
   },
   {
    "duration": 5,
    "start_time": "2022-12-26T10:09:43.675Z"
   },
   {
    "duration": 48,
    "start_time": "2022-12-26T10:09:43.681Z"
   },
   {
    "duration": 428,
    "start_time": "2022-12-26T10:09:43.731Z"
   },
   {
    "duration": 5,
    "start_time": "2022-12-26T10:09:44.161Z"
   },
   {
    "duration": 27,
    "start_time": "2022-12-26T10:09:44.168Z"
   },
   {
    "duration": 1895,
    "start_time": "2022-12-26T10:09:44.197Z"
   },
   {
    "duration": 1494,
    "start_time": "2022-12-26T10:12:21.379Z"
   },
   {
    "duration": 1417,
    "start_time": "2022-12-26T10:12:42.916Z"
   },
   {
    "duration": 1596,
    "start_time": "2022-12-26T10:13:05.814Z"
   },
   {
    "duration": 74,
    "start_time": "2022-12-26T10:13:13.733Z"
   },
   {
    "duration": 1543,
    "start_time": "2022-12-26T10:13:43.918Z"
   },
   {
    "duration": 1640,
    "start_time": "2022-12-26T10:14:58.209Z"
   },
   {
    "duration": 1591,
    "start_time": "2022-12-26T10:15:39.563Z"
   },
   {
    "duration": 16,
    "start_time": "2022-12-26T10:18:17.873Z"
   },
   {
    "duration": 9,
    "start_time": "2022-12-26T10:18:45.193Z"
   },
   {
    "duration": 8,
    "start_time": "2022-12-26T10:18:53.995Z"
   },
   {
    "duration": 11,
    "start_time": "2022-12-26T10:19:05.748Z"
   },
   {
    "duration": 8,
    "start_time": "2022-12-26T10:19:46.659Z"
   },
   {
    "duration": 19,
    "start_time": "2022-12-26T10:20:15.548Z"
   },
   {
    "duration": 726,
    "start_time": "2022-12-26T10:20:39.560Z"
   },
   {
    "duration": 130,
    "start_time": "2022-12-26T10:20:43.851Z"
   },
   {
    "duration": 135,
    "start_time": "2022-12-26T10:20:50.827Z"
   },
   {
    "duration": 198,
    "start_time": "2022-12-26T10:25:12.767Z"
   },
   {
    "duration": 11,
    "start_time": "2022-12-26T10:37:39.011Z"
   },
   {
    "duration": 53,
    "start_time": "2022-12-26T10:40:17.548Z"
   },
   {
    "duration": 12,
    "start_time": "2022-12-26T10:40:29.710Z"
   },
   {
    "duration": 13,
    "start_time": "2022-12-26T10:40:32.156Z"
   },
   {
    "duration": 15,
    "start_time": "2022-12-26T10:40:32.604Z"
   },
   {
    "duration": 317,
    "start_time": "2022-12-26T10:41:20.193Z"
   },
   {
    "duration": 287,
    "start_time": "2022-12-26T10:41:25.312Z"
   },
   {
    "duration": 439,
    "start_time": "2022-12-26T10:42:45.906Z"
   },
   {
    "duration": 265,
    "start_time": "2022-12-26T10:42:55.850Z"
   },
   {
    "duration": 325,
    "start_time": "2022-12-26T10:43:06.068Z"
   },
   {
    "duration": 8,
    "start_time": "2022-12-26T11:06:39.871Z"
   },
   {
    "duration": 1507,
    "start_time": "2022-12-26T11:06:49.704Z"
   },
   {
    "duration": 8,
    "start_time": "2022-12-26T11:07:03.873Z"
   },
   {
    "duration": 59,
    "start_time": "2022-12-26T11:21:15.046Z"
   },
   {
    "duration": 72,
    "start_time": "2022-12-26T11:21:43.305Z"
   },
   {
    "duration": 43,
    "start_time": "2022-12-26T11:21:47.170Z"
   },
   {
    "duration": 1805,
    "start_time": "2022-12-26T11:21:50.281Z"
   },
   {
    "duration": 50,
    "start_time": "2022-12-26T11:22:04.353Z"
   },
   {
    "duration": 187,
    "start_time": "2022-12-26T11:22:37.403Z"
   },
   {
    "duration": 86,
    "start_time": "2022-12-26T11:23:30.396Z"
   },
   {
    "duration": 161,
    "start_time": "2022-12-26T11:23:36.214Z"
   },
   {
    "duration": 322,
    "start_time": "2022-12-26T11:23:45.886Z"
   },
   {
    "duration": 172,
    "start_time": "2022-12-26T11:23:51.517Z"
   },
   {
    "duration": 187,
    "start_time": "2022-12-26T11:23:56.006Z"
   },
   {
    "duration": 204,
    "start_time": "2022-12-26T11:25:03.566Z"
   },
   {
    "duration": 177,
    "start_time": "2022-12-26T11:25:08.287Z"
   },
   {
    "duration": 226,
    "start_time": "2022-12-26T11:25:13.976Z"
   },
   {
    "duration": 170,
    "start_time": "2022-12-26T11:25:32.249Z"
   },
   {
    "duration": 174,
    "start_time": "2022-12-26T11:25:36.209Z"
   },
   {
    "duration": 185,
    "start_time": "2022-12-26T11:25:43.155Z"
   },
   {
    "duration": 179,
    "start_time": "2022-12-26T11:26:00.952Z"
   },
   {
    "duration": 180,
    "start_time": "2022-12-26T11:26:34.594Z"
   },
   {
    "duration": 213,
    "start_time": "2022-12-26T11:26:38.915Z"
   },
   {
    "duration": 225,
    "start_time": "2022-12-26T11:26:45.950Z"
   },
   {
    "duration": 198,
    "start_time": "2022-12-26T11:26:54.195Z"
   },
   {
    "duration": 197,
    "start_time": "2022-12-26T11:27:02.484Z"
   },
   {
    "duration": 208,
    "start_time": "2022-12-26T11:27:14.665Z"
   },
   {
    "duration": 203,
    "start_time": "2022-12-26T11:27:20.260Z"
   },
   {
    "duration": 185,
    "start_time": "2022-12-26T11:28:04.302Z"
   },
   {
    "duration": 205,
    "start_time": "2022-12-26T11:28:28.606Z"
   },
   {
    "duration": 200,
    "start_time": "2022-12-26T11:29:06.356Z"
   },
   {
    "duration": 193,
    "start_time": "2022-12-26T11:29:10.088Z"
   },
   {
    "duration": 190,
    "start_time": "2022-12-26T11:29:51.505Z"
   },
   {
    "duration": 197,
    "start_time": "2022-12-26T11:30:03.210Z"
   },
   {
    "duration": 216,
    "start_time": "2022-12-26T11:30:15.375Z"
   },
   {
    "duration": 263,
    "start_time": "2022-12-26T11:35:38.020Z"
   },
   {
    "duration": 287,
    "start_time": "2022-12-26T11:37:32.348Z"
   },
   {
    "duration": 260,
    "start_time": "2022-12-26T11:37:48.296Z"
   },
   {
    "duration": 248,
    "start_time": "2022-12-26T11:37:54.785Z"
   },
   {
    "duration": 170,
    "start_time": "2022-12-26T11:47:39.748Z"
   },
   {
    "duration": 25,
    "start_time": "2022-12-26T11:47:39.924Z"
   },
   {
    "duration": 57,
    "start_time": "2022-12-26T11:47:39.951Z"
   },
   {
    "duration": 45,
    "start_time": "2022-12-26T11:47:40.010Z"
   },
   {
    "duration": 28,
    "start_time": "2022-12-26T11:47:40.060Z"
   },
   {
    "duration": 126,
    "start_time": "2022-12-26T11:47:40.091Z"
   },
   {
    "duration": 3619,
    "start_time": "2022-12-26T11:47:40.219Z"
   },
   {
    "duration": 61,
    "start_time": "2022-12-26T11:47:43.839Z"
   },
   {
    "duration": 52,
    "start_time": "2022-12-26T11:47:43.903Z"
   },
   {
    "duration": 15,
    "start_time": "2022-12-26T11:47:43.957Z"
   },
   {
    "duration": 19,
    "start_time": "2022-12-26T11:47:43.980Z"
   },
   {
    "duration": 6,
    "start_time": "2022-12-26T11:47:44.001Z"
   },
   {
    "duration": 16,
    "start_time": "2022-12-26T11:47:44.009Z"
   },
   {
    "duration": 44,
    "start_time": "2022-12-26T11:47:44.027Z"
   },
   {
    "duration": 6,
    "start_time": "2022-12-26T11:47:44.073Z"
   },
   {
    "duration": 85,
    "start_time": "2022-12-26T11:47:44.082Z"
   },
   {
    "duration": 8,
    "start_time": "2022-12-26T11:47:44.169Z"
   },
   {
    "duration": 10,
    "start_time": "2022-12-26T11:47:44.178Z"
   },
   {
    "duration": 41,
    "start_time": "2022-12-26T11:47:44.190Z"
   },
   {
    "duration": 4,
    "start_time": "2022-12-26T11:47:44.233Z"
   },
   {
    "duration": 45,
    "start_time": "2022-12-26T11:47:44.239Z"
   },
   {
    "duration": 7,
    "start_time": "2022-12-26T11:47:44.286Z"
   },
   {
    "duration": 21,
    "start_time": "2022-12-26T11:47:44.294Z"
   },
   {
    "duration": 32,
    "start_time": "2022-12-26T11:47:44.316Z"
   },
   {
    "duration": 57,
    "start_time": "2022-12-26T11:47:44.350Z"
   },
   {
    "duration": 16,
    "start_time": "2022-12-26T11:47:44.409Z"
   },
   {
    "duration": 32,
    "start_time": "2022-12-26T11:47:44.426Z"
   },
   {
    "duration": 274,
    "start_time": "2022-12-26T11:47:44.459Z"
   },
   {
    "duration": 34,
    "start_time": "2022-12-26T11:47:44.735Z"
   },
   {
    "duration": 29,
    "start_time": "2022-12-26T11:47:44.771Z"
   },
   {
    "duration": 23,
    "start_time": "2022-12-26T11:47:44.803Z"
   },
   {
    "duration": 5,
    "start_time": "2022-12-26T11:47:44.828Z"
   },
   {
    "duration": 51,
    "start_time": "2022-12-26T11:47:44.836Z"
   },
   {
    "duration": 485,
    "start_time": "2022-12-26T11:47:44.888Z"
   },
   {
    "duration": 8,
    "start_time": "2022-12-26T11:47:45.375Z"
   },
   {
    "duration": 67,
    "start_time": "2022-12-26T11:47:45.390Z"
   },
   {
    "duration": 1955,
    "start_time": "2022-12-26T11:47:45.462Z"
   },
   {
    "duration": 246,
    "start_time": "2022-12-26T11:47:47.428Z"
   },
   {
    "duration": 12,
    "start_time": "2022-12-26T11:47:47.676Z"
   },
   {
    "duration": 28,
    "start_time": "2022-12-26T11:47:47.691Z"
   },
   {
    "duration": 32,
    "start_time": "2022-12-26T11:47:47.721Z"
   },
   {
    "duration": 229,
    "start_time": "2022-12-26T11:47:47.759Z"
   },
   {
    "duration": 193607,
    "start_time": "2022-12-26T11:47:47.990Z"
   },
   {
    "duration": 162,
    "start_time": "2022-12-26T12:06:57.075Z"
   },
   {
    "duration": 36,
    "start_time": "2022-12-26T12:06:57.244Z"
   },
   {
    "duration": 17,
    "start_time": "2022-12-26T12:06:57.282Z"
   },
   {
    "duration": 15,
    "start_time": "2022-12-26T12:06:57.301Z"
   },
   {
    "duration": 63,
    "start_time": "2022-12-26T12:06:57.318Z"
   },
   {
    "duration": 117,
    "start_time": "2022-12-26T12:06:57.384Z"
   },
   {
    "duration": 3443,
    "start_time": "2022-12-26T12:06:57.504Z"
   },
   {
    "duration": 59,
    "start_time": "2022-12-26T12:07:00.950Z"
   },
   {
    "duration": 51,
    "start_time": "2022-12-26T12:07:01.011Z"
   },
   {
    "duration": 29,
    "start_time": "2022-12-26T12:07:01.071Z"
   },
   {
    "duration": 66,
    "start_time": "2022-12-26T12:07:01.101Z"
   },
   {
    "duration": 27,
    "start_time": "2022-12-26T12:07:01.169Z"
   },
   {
    "duration": 79,
    "start_time": "2022-12-26T12:07:01.198Z"
   },
   {
    "duration": 35,
    "start_time": "2022-12-26T12:07:01.279Z"
   },
   {
    "duration": 70,
    "start_time": "2022-12-26T12:07:01.316Z"
   },
   {
    "duration": 83,
    "start_time": "2022-12-26T12:07:01.388Z"
   },
   {
    "duration": 18,
    "start_time": "2022-12-26T12:07:01.473Z"
   },
   {
    "duration": 37,
    "start_time": "2022-12-26T12:07:01.493Z"
   },
   {
    "duration": 136,
    "start_time": "2022-12-26T12:07:01.533Z"
   },
   {
    "duration": 38,
    "start_time": "2022-12-26T12:07:01.673Z"
   },
   {
    "duration": 109,
    "start_time": "2022-12-26T12:07:01.713Z"
   },
   {
    "duration": 18,
    "start_time": "2022-12-26T12:07:01.824Z"
   },
   {
    "duration": 44,
    "start_time": "2022-12-26T12:07:01.857Z"
   },
   {
    "duration": 32,
    "start_time": "2022-12-26T12:07:01.903Z"
   },
   {
    "duration": 105,
    "start_time": "2022-12-26T12:07:01.937Z"
   },
   {
    "duration": 23,
    "start_time": "2022-12-26T12:07:02.049Z"
   },
   {
    "duration": 36,
    "start_time": "2022-12-26T12:07:02.075Z"
   },
   {
    "duration": 255,
    "start_time": "2022-12-26T12:07:02.116Z"
   },
   {
    "duration": 23,
    "start_time": "2022-12-26T12:07:02.373Z"
   },
   {
    "duration": 9,
    "start_time": "2022-12-26T12:07:02.398Z"
   },
   {
    "duration": 38,
    "start_time": "2022-12-26T12:07:02.409Z"
   },
   {
    "duration": 34,
    "start_time": "2022-12-26T12:07:02.449Z"
   },
   {
    "duration": 21,
    "start_time": "2022-12-26T12:07:02.485Z"
   },
   {
    "duration": 519,
    "start_time": "2022-12-26T12:07:02.508Z"
   },
   {
    "duration": 8,
    "start_time": "2022-12-26T12:07:03.029Z"
   },
   {
    "duration": 44,
    "start_time": "2022-12-26T12:07:03.039Z"
   },
   {
    "duration": 1650,
    "start_time": "2022-12-26T12:07:03.085Z"
   },
   {
    "duration": 47,
    "start_time": "2022-12-26T12:07:04.737Z"
   },
   {
    "duration": 0,
    "start_time": "2022-12-26T12:07:04.787Z"
   },
   {
    "duration": 0,
    "start_time": "2022-12-26T12:07:04.788Z"
   },
   {
    "duration": 0,
    "start_time": "2022-12-26T12:07:04.789Z"
   },
   {
    "duration": 0,
    "start_time": "2022-12-26T12:07:04.790Z"
   },
   {
    "duration": 0,
    "start_time": "2022-12-26T12:07:04.791Z"
   },
   {
    "duration": 0,
    "start_time": "2022-12-26T12:07:04.793Z"
   },
   {
    "duration": 11,
    "start_time": "2022-12-26T12:07:18.129Z"
   },
   {
    "duration": 244,
    "start_time": "2022-12-26T12:07:21.269Z"
   },
   {
    "duration": 17,
    "start_time": "2022-12-26T12:07:21.515Z"
   },
   {
    "duration": 80,
    "start_time": "2022-12-26T12:07:21.534Z"
   },
   {
    "duration": 61,
    "start_time": "2022-12-26T12:07:21.617Z"
   },
   {
    "duration": 192,
    "start_time": "2022-12-26T12:07:21.680Z"
   },
   {
    "duration": 81,
    "start_time": "2022-12-26T12:13:01.278Z"
   },
   {
    "duration": 2057,
    "start_time": "2022-12-26T12:13:05.716Z"
   },
   {
    "duration": 23,
    "start_time": "2022-12-26T12:13:07.775Z"
   },
   {
    "duration": 76,
    "start_time": "2022-12-26T12:13:07.803Z"
   },
   {
    "duration": 62,
    "start_time": "2022-12-26T12:13:07.888Z"
   },
   {
    "duration": 154,
    "start_time": "2022-12-26T12:13:07.956Z"
   },
   {
    "duration": 253,
    "start_time": "2022-12-26T12:13:08.115Z"
   },
   {
    "duration": 4068,
    "start_time": "2022-12-26T12:13:08.382Z"
   },
   {
    "duration": 88,
    "start_time": "2022-12-26T12:13:12.465Z"
   },
   {
    "duration": 45,
    "start_time": "2022-12-26T12:13:12.560Z"
   },
   {
    "duration": 32,
    "start_time": "2022-12-26T12:13:12.609Z"
   },
   {
    "duration": 22,
    "start_time": "2022-12-26T12:13:12.655Z"
   },
   {
    "duration": 22,
    "start_time": "2022-12-26T12:13:12.683Z"
   },
   {
    "duration": 9,
    "start_time": "2022-12-26T12:13:12.708Z"
   },
   {
    "duration": 76,
    "start_time": "2022-12-26T12:13:12.719Z"
   },
   {
    "duration": 14,
    "start_time": "2022-12-26T12:13:12.798Z"
   },
   {
    "duration": 77,
    "start_time": "2022-12-26T12:13:12.818Z"
   },
   {
    "duration": 10,
    "start_time": "2022-12-26T12:13:12.901Z"
   },
   {
    "duration": 14,
    "start_time": "2022-12-26T12:13:12.913Z"
   },
   {
    "duration": 113,
    "start_time": "2022-12-26T12:13:12.929Z"
   },
   {
    "duration": 5,
    "start_time": "2022-12-26T12:13:13.044Z"
   },
   {
    "duration": 91,
    "start_time": "2022-12-26T12:13:13.050Z"
   },
   {
    "duration": 15,
    "start_time": "2022-12-26T12:13:13.143Z"
   },
   {
    "duration": 51,
    "start_time": "2022-12-26T12:13:13.160Z"
   },
   {
    "duration": 26,
    "start_time": "2022-12-26T12:13:13.214Z"
   },
   {
    "duration": 120,
    "start_time": "2022-12-26T12:13:13.242Z"
   },
   {
    "duration": 29,
    "start_time": "2022-12-26T12:13:13.365Z"
   },
   {
    "duration": 60,
    "start_time": "2022-12-26T12:13:13.400Z"
   },
   {
    "duration": 327,
    "start_time": "2022-12-26T12:13:13.466Z"
   },
   {
    "duration": 32,
    "start_time": "2022-12-26T12:13:13.795Z"
   },
   {
    "duration": 9,
    "start_time": "2022-12-26T12:13:13.829Z"
   },
   {
    "duration": 64,
    "start_time": "2022-12-26T12:13:13.839Z"
   },
   {
    "duration": 6,
    "start_time": "2022-12-26T12:13:13.905Z"
   },
   {
    "duration": 43,
    "start_time": "2022-12-26T12:13:13.913Z"
   },
   {
    "duration": 634,
    "start_time": "2022-12-26T12:13:13.968Z"
   },
   {
    "duration": 24,
    "start_time": "2022-12-26T12:13:14.615Z"
   },
   {
    "duration": 120,
    "start_time": "2022-12-26T12:13:14.645Z"
   },
   {
    "duration": 2527,
    "start_time": "2022-12-26T12:13:14.767Z"
   },
   {
    "duration": 2,
    "start_time": "2022-12-26T12:13:17.295Z"
   },
   {
    "duration": 295,
    "start_time": "2022-12-26T12:13:17.298Z"
   },
   {
    "duration": 12,
    "start_time": "2022-12-26T12:13:17.595Z"
   },
   {
    "duration": 20,
    "start_time": "2022-12-26T12:13:17.610Z"
   },
   {
    "duration": 55,
    "start_time": "2022-12-26T12:13:17.632Z"
   },
   {
    "duration": 226,
    "start_time": "2022-12-26T12:13:17.692Z"
   },
   {
    "duration": 205882,
    "start_time": "2022-12-26T12:19:41.317Z"
   },
   {
    "duration": 217,
    "start_time": "2022-12-26T12:23:07.865Z"
   },
   {
    "duration": 188,
    "start_time": "2022-12-26T12:23:18.374Z"
   },
   {
    "duration": 30,
    "start_time": "2022-12-26T12:23:18.569Z"
   },
   {
    "duration": 28,
    "start_time": "2022-12-26T12:23:18.606Z"
   },
   {
    "duration": 44,
    "start_time": "2022-12-26T12:23:18.636Z"
   },
   {
    "duration": 16,
    "start_time": "2022-12-26T12:23:18.682Z"
   },
   {
    "duration": 107,
    "start_time": "2022-12-26T12:23:18.700Z"
   },
   {
    "duration": 3580,
    "start_time": "2022-12-26T12:23:18.809Z"
   },
   {
    "duration": 70,
    "start_time": "2022-12-26T12:23:22.393Z"
   },
   {
    "duration": 81,
    "start_time": "2022-12-26T12:23:22.468Z"
   },
   {
    "duration": 24,
    "start_time": "2022-12-26T12:23:22.551Z"
   },
   {
    "duration": 57,
    "start_time": "2022-12-26T12:23:22.577Z"
   },
   {
    "duration": 162,
    "start_time": "2022-12-26T12:23:22.650Z"
   },
   {
    "duration": 85,
    "start_time": "2022-12-26T12:23:22.817Z"
   },
   {
    "duration": 25,
    "start_time": "2022-12-26T12:23:22.905Z"
   },
   {
    "duration": 63,
    "start_time": "2022-12-26T12:23:22.936Z"
   },
   {
    "duration": 9,
    "start_time": "2022-12-26T12:23:23.001Z"
   },
   {
    "duration": 18,
    "start_time": "2022-12-26T12:23:23.012Z"
   },
   {
    "duration": 73,
    "start_time": "2022-12-26T12:23:23.033Z"
   },
   {
    "duration": 62,
    "start_time": "2022-12-26T12:23:23.108Z"
   },
   {
    "duration": 23,
    "start_time": "2022-12-26T12:23:23.182Z"
   },
   {
    "duration": 46,
    "start_time": "2022-12-26T12:23:23.208Z"
   },
   {
    "duration": 47,
    "start_time": "2022-12-26T12:23:23.257Z"
   },
   {
    "duration": 32,
    "start_time": "2022-12-26T12:23:23.306Z"
   },
   {
    "duration": 68,
    "start_time": "2022-12-26T12:23:23.341Z"
   },
   {
    "duration": 63,
    "start_time": "2022-12-26T12:23:23.411Z"
   },
   {
    "duration": 42,
    "start_time": "2022-12-26T12:23:23.476Z"
   },
   {
    "duration": 52,
    "start_time": "2022-12-26T12:23:23.521Z"
   },
   {
    "duration": 326,
    "start_time": "2022-12-26T12:23:23.575Z"
   },
   {
    "duration": 29,
    "start_time": "2022-12-26T12:23:23.906Z"
   },
   {
    "duration": 14,
    "start_time": "2022-12-26T12:23:23.940Z"
   },
   {
    "duration": 68,
    "start_time": "2022-12-26T12:23:23.960Z"
   },
   {
    "duration": 29,
    "start_time": "2022-12-26T12:23:24.032Z"
   },
   {
    "duration": 70,
    "start_time": "2022-12-26T12:23:24.065Z"
   },
   {
    "duration": 512,
    "start_time": "2022-12-26T12:23:24.141Z"
   },
   {
    "duration": 6,
    "start_time": "2022-12-26T12:23:24.659Z"
   },
   {
    "duration": 134,
    "start_time": "2022-12-26T12:23:24.670Z"
   },
   {
    "duration": 2133,
    "start_time": "2022-12-26T12:23:24.807Z"
   },
   {
    "duration": 5,
    "start_time": "2022-12-26T12:23:26.946Z"
   },
   {
    "duration": 432,
    "start_time": "2022-12-26T12:23:26.956Z"
   },
   {
    "duration": 14,
    "start_time": "2022-12-26T12:23:27.390Z"
   },
   {
    "duration": 22,
    "start_time": "2022-12-26T12:23:27.407Z"
   },
   {
    "duration": 15,
    "start_time": "2022-12-26T12:23:27.440Z"
   },
   {
    "duration": 283,
    "start_time": "2022-12-26T12:23:27.457Z"
   },
   {
    "duration": 245,
    "start_time": "2022-12-26T12:23:27.743Z"
   },
   {
    "duration": 91,
    "start_time": "2022-12-26T12:34:08.287Z"
   },
   {
    "duration": 271,
    "start_time": "2022-12-26T12:34:15.257Z"
   },
   {
    "duration": 262,
    "start_time": "2022-12-26T12:34:28.243Z"
   },
   {
    "duration": 245,
    "start_time": "2022-12-26T12:34:39.555Z"
   },
   {
    "duration": 258,
    "start_time": "2022-12-26T12:35:25.220Z"
   },
   {
    "duration": 206,
    "start_time": "2022-12-26T12:35:38.617Z"
   },
   {
    "duration": 221,
    "start_time": "2022-12-26T12:35:44.316Z"
   },
   {
    "duration": 191,
    "start_time": "2022-12-26T12:35:47.454Z"
   },
   {
    "duration": 189,
    "start_time": "2022-12-26T12:35:53.516Z"
   },
   {
    "duration": 171,
    "start_time": "2022-12-26T12:36:27.788Z"
   },
   {
    "duration": 216,
    "start_time": "2022-12-26T12:36:32.471Z"
   },
   {
    "duration": 263,
    "start_time": "2022-12-26T12:36:58.509Z"
   },
   {
    "duration": 188,
    "start_time": "2022-12-26T12:37:06.103Z"
   },
   {
    "duration": 204,
    "start_time": "2022-12-26T12:37:26.511Z"
   },
   {
    "duration": 218,
    "start_time": "2022-12-26T12:38:04.092Z"
   },
   {
    "duration": 216,
    "start_time": "2022-12-26T12:38:18.465Z"
   },
   {
    "duration": 182,
    "start_time": "2022-12-26T12:38:36.378Z"
   },
   {
    "duration": 284,
    "start_time": "2022-12-26T12:38:50.546Z"
   },
   {
    "duration": 216,
    "start_time": "2022-12-26T12:39:02.671Z"
   },
   {
    "duration": 224,
    "start_time": "2022-12-26T12:39:07.293Z"
   },
   {
    "duration": 200,
    "start_time": "2022-12-26T12:39:28.964Z"
   },
   {
    "duration": 255,
    "start_time": "2022-12-26T12:39:35.968Z"
   },
   {
    "duration": 229,
    "start_time": "2022-12-26T12:39:48.074Z"
   },
   {
    "duration": 221,
    "start_time": "2022-12-26T12:40:31.884Z"
   },
   {
    "duration": 201,
    "start_time": "2022-12-26T12:40:45.999Z"
   },
   {
    "duration": 227,
    "start_time": "2022-12-26T12:40:50.489Z"
   },
   {
    "duration": 795,
    "start_time": "2022-12-26T12:41:30.808Z"
   },
   {
    "duration": 737,
    "start_time": "2022-12-26T12:41:58.280Z"
   },
   {
    "duration": 34,
    "start_time": "2022-12-26T12:42:11.094Z"
   },
   {
    "duration": 671,
    "start_time": "2022-12-26T12:42:17.198Z"
   },
   {
    "duration": 73,
    "start_time": "2022-12-26T12:46:57.671Z"
   },
   {
    "duration": 246,
    "start_time": "2022-12-26T12:47:17.403Z"
   },
   {
    "duration": 16097,
    "start_time": "2022-12-26T12:47:24.049Z"
   },
   {
    "duration": 206,
    "start_time": "2022-12-26T12:48:49.578Z"
   },
   {
    "duration": 18,
    "start_time": "2022-12-26T12:56:20.317Z"
   },
   {
    "duration": 17,
    "start_time": "2022-12-26T12:56:25.162Z"
   },
   {
    "duration": 10,
    "start_time": "2022-12-26T12:56:28.890Z"
   },
   {
    "duration": 37,
    "start_time": "2022-12-26T12:59:36.092Z"
   },
   {
    "duration": 60,
    "start_time": "2022-12-26T13:02:22.575Z"
   },
   {
    "duration": 12,
    "start_time": "2022-12-26T13:02:46.573Z"
   },
   {
    "duration": 14,
    "start_time": "2022-12-26T13:02:56.380Z"
   },
   {
    "duration": 99,
    "start_time": "2022-12-26T13:03:02.765Z"
   },
   {
    "duration": 10,
    "start_time": "2022-12-26T13:03:12.787Z"
   },
   {
    "duration": 16,
    "start_time": "2022-12-26T13:04:09.718Z"
   },
   {
    "duration": 9,
    "start_time": "2022-12-26T13:04:13.989Z"
   },
   {
    "duration": 7279,
    "start_time": "2022-12-26T13:04:55.269Z"
   },
   {
    "duration": 184,
    "start_time": "2022-12-26T13:05:36.160Z"
   },
   {
    "duration": 15,
    "start_time": "2022-12-26T13:06:10.580Z"
   },
   {
    "duration": 14,
    "start_time": "2022-12-26T13:07:29.852Z"
   },
   {
    "duration": 757,
    "start_time": "2022-12-26T13:11:08.672Z"
   },
   {
    "duration": 14,
    "start_time": "2022-12-26T13:11:13.450Z"
   },
   {
    "duration": 15,
    "start_time": "2022-12-26T13:12:16.028Z"
   },
   {
    "duration": 769,
    "start_time": "2022-12-26T13:12:58.579Z"
   },
   {
    "duration": 16,
    "start_time": "2022-12-26T13:13:03.251Z"
   },
   {
    "duration": 77,
    "start_time": "2022-12-26T13:17:09.211Z"
   },
   {
    "duration": 258,
    "start_time": "2022-12-26T13:17:23.477Z"
   },
   {
    "duration": 238,
    "start_time": "2022-12-26T13:18:12.501Z"
   },
   {
    "duration": 232,
    "start_time": "2022-12-26T13:18:18.813Z"
   },
   {
    "duration": 252,
    "start_time": "2022-12-26T13:18:46.427Z"
   },
   {
    "duration": 220,
    "start_time": "2022-12-26T13:18:57.864Z"
   },
   {
    "duration": 22,
    "start_time": "2022-12-26T13:19:59.047Z"
   },
   {
    "duration": 269,
    "start_time": "2022-12-26T13:35:04.444Z"
   },
   {
    "duration": 6275,
    "start_time": "2022-12-26T13:35:43.054Z"
   },
   {
    "duration": 269,
    "start_time": "2022-12-26T13:36:00.494Z"
   },
   {
    "duration": 8,
    "start_time": "2022-12-26T13:48:28.957Z"
   },
   {
    "duration": 8,
    "start_time": "2022-12-26T13:48:41.356Z"
   },
   {
    "duration": 240,
    "start_time": "2022-12-26T13:49:31.949Z"
   },
   {
    "duration": 199,
    "start_time": "2022-12-26T13:50:43.169Z"
   },
   {
    "duration": 202,
    "start_time": "2022-12-26T13:50:52.993Z"
   },
   {
    "duration": 228,
    "start_time": "2022-12-26T13:51:03.144Z"
   },
   {
    "duration": 28,
    "start_time": "2022-12-26T13:53:58.342Z"
   },
   {
    "duration": 45,
    "start_time": "2022-12-26T13:54:04.940Z"
   },
   {
    "duration": 11,
    "start_time": "2022-12-26T13:58:53.588Z"
   },
   {
    "duration": 9,
    "start_time": "2022-12-26T13:59:17.675Z"
   },
   {
    "duration": 13,
    "start_time": "2022-12-26T13:59:52.702Z"
   },
   {
    "duration": 13,
    "start_time": "2022-12-26T14:00:11.648Z"
   },
   {
    "duration": 9,
    "start_time": "2022-12-26T14:02:58.182Z"
   },
   {
    "duration": 6,
    "start_time": "2022-12-26T14:03:27.159Z"
   },
   {
    "duration": 14,
    "start_time": "2022-12-26T14:03:30.560Z"
   },
   {
    "duration": 13,
    "start_time": "2022-12-26T14:07:42.838Z"
   },
   {
    "duration": 12,
    "start_time": "2022-12-26T14:15:05.106Z"
   },
   {
    "duration": 19,
    "start_time": "2022-12-26T14:15:12.803Z"
   },
   {
    "duration": 16,
    "start_time": "2022-12-26T14:15:32.610Z"
   },
   {
    "duration": 13,
    "start_time": "2022-12-26T14:15:41.731Z"
   },
   {
    "duration": 13,
    "start_time": "2022-12-26T14:16:03.189Z"
   },
   {
    "duration": 173,
    "start_time": "2022-12-26T14:17:11.535Z"
   },
   {
    "duration": 23,
    "start_time": "2022-12-26T14:17:11.711Z"
   },
   {
    "duration": 5,
    "start_time": "2022-12-26T14:17:11.735Z"
   },
   {
    "duration": 16,
    "start_time": "2022-12-26T14:17:11.742Z"
   },
   {
    "duration": 18,
    "start_time": "2022-12-26T14:17:11.760Z"
   },
   {
    "duration": 117,
    "start_time": "2022-12-26T14:17:11.780Z"
   },
   {
    "duration": 3162,
    "start_time": "2022-12-26T14:17:11.899Z"
   },
   {
    "duration": 86,
    "start_time": "2022-12-26T14:17:15.063Z"
   },
   {
    "duration": 37,
    "start_time": "2022-12-26T14:17:15.151Z"
   },
   {
    "duration": 31,
    "start_time": "2022-12-26T14:17:15.192Z"
   },
   {
    "duration": 29,
    "start_time": "2022-12-26T14:17:15.225Z"
   },
   {
    "duration": 41,
    "start_time": "2022-12-26T14:17:15.256Z"
   },
   {
    "duration": 39,
    "start_time": "2022-12-26T14:17:15.300Z"
   },
   {
    "duration": 50,
    "start_time": "2022-12-26T14:17:15.342Z"
   },
   {
    "duration": 77,
    "start_time": "2022-12-26T14:17:15.395Z"
   },
   {
    "duration": 16,
    "start_time": "2022-12-26T14:17:15.474Z"
   },
   {
    "duration": 43,
    "start_time": "2022-12-26T14:17:15.493Z"
   },
   {
    "duration": 22,
    "start_time": "2022-12-26T14:17:15.539Z"
   },
   {
    "duration": 52,
    "start_time": "2022-12-26T14:17:15.564Z"
   },
   {
    "duration": 22,
    "start_time": "2022-12-26T14:17:15.619Z"
   },
   {
    "duration": 49,
    "start_time": "2022-12-26T14:17:15.644Z"
   },
   {
    "duration": 9,
    "start_time": "2022-12-26T14:17:15.696Z"
   },
   {
    "duration": 15,
    "start_time": "2022-12-26T14:17:15.708Z"
   },
   {
    "duration": 23,
    "start_time": "2022-12-26T14:17:15.726Z"
   },
   {
    "duration": 78,
    "start_time": "2022-12-26T14:17:15.752Z"
   },
   {
    "duration": 19,
    "start_time": "2022-12-26T14:17:15.832Z"
   },
   {
    "duration": 31,
    "start_time": "2022-12-26T14:17:15.854Z"
   },
   {
    "duration": 413,
    "start_time": "2022-12-26T14:17:15.891Z"
   },
   {
    "duration": 40,
    "start_time": "2022-12-26T14:17:16.306Z"
   },
   {
    "duration": 9,
    "start_time": "2022-12-26T14:17:16.348Z"
   },
   {
    "duration": 25,
    "start_time": "2022-12-26T14:17:16.359Z"
   },
   {
    "duration": 7,
    "start_time": "2022-12-26T14:17:16.386Z"
   },
   {
    "duration": 45,
    "start_time": "2022-12-26T14:17:16.395Z"
   },
   {
    "duration": 553,
    "start_time": "2022-12-26T14:17:16.443Z"
   },
   {
    "duration": 6,
    "start_time": "2022-12-26T14:17:16.999Z"
   },
   {
    "duration": 46,
    "start_time": "2022-12-26T14:17:17.007Z"
   },
   {
    "duration": 2150,
    "start_time": "2022-12-26T14:17:17.055Z"
   },
   {
    "duration": 3,
    "start_time": "2022-12-26T14:17:19.210Z"
   },
   {
    "duration": 339,
    "start_time": "2022-12-26T14:17:19.215Z"
   },
   {
    "duration": 11,
    "start_time": "2022-12-26T14:17:19.558Z"
   },
   {
    "duration": 28,
    "start_time": "2022-12-26T14:17:19.571Z"
   },
   {
    "duration": 21,
    "start_time": "2022-12-26T14:17:19.600Z"
   },
   {
    "duration": 263,
    "start_time": "2022-12-26T14:17:19.624Z"
   },
   {
    "duration": 273,
    "start_time": "2022-12-26T14:17:19.890Z"
   },
   {
    "duration": 263,
    "start_time": "2022-12-26T14:17:20.166Z"
   },
   {
    "duration": 266,
    "start_time": "2022-12-26T14:17:20.431Z"
   },
   {
    "duration": 619,
    "start_time": "2022-12-26T14:17:20.700Z"
   },
   {
    "duration": 0,
    "start_time": "2022-12-26T14:17:21.322Z"
   },
   {
    "duration": 0,
    "start_time": "2022-12-26T14:17:21.324Z"
   },
   {
    "duration": 0,
    "start_time": "2022-12-26T14:17:21.326Z"
   },
   {
    "duration": 0,
    "start_time": "2022-12-26T14:17:21.331Z"
   },
   {
    "duration": 0,
    "start_time": "2022-12-26T14:17:21.332Z"
   },
   {
    "duration": 0,
    "start_time": "2022-12-26T14:17:21.334Z"
   },
   {
    "duration": 4,
    "start_time": "2022-12-26T14:17:37.911Z"
   },
   {
    "duration": 20,
    "start_time": "2022-12-26T14:17:42.719Z"
   },
   {
    "duration": 13,
    "start_time": "2022-12-26T14:17:58.337Z"
   },
   {
    "duration": 15,
    "start_time": "2022-12-26T14:17:58.632Z"
   },
   {
    "duration": 16,
    "start_time": "2022-12-26T14:19:23.419Z"
   },
   {
    "duration": 15,
    "start_time": "2022-12-26T14:19:46.348Z"
   },
   {
    "duration": 9,
    "start_time": "2022-12-26T14:21:37.310Z"
   },
   {
    "duration": 9,
    "start_time": "2022-12-26T14:22:24.089Z"
   },
   {
    "duration": 4,
    "start_time": "2022-12-26T14:23:11.945Z"
   },
   {
    "duration": 28,
    "start_time": "2022-12-26T14:24:18.044Z"
   },
   {
    "duration": 48,
    "start_time": "2022-12-26T14:29:29.544Z"
   },
   {
    "duration": 33,
    "start_time": "2022-12-26T14:29:37.104Z"
   },
   {
    "duration": 26,
    "start_time": "2022-12-26T14:36:00.495Z"
   },
   {
    "duration": 53,
    "start_time": "2022-12-26T14:36:46.041Z"
   },
   {
    "duration": 174,
    "start_time": "2022-12-26T14:36:58.729Z"
   },
   {
    "duration": 198,
    "start_time": "2022-12-26T14:37:21.217Z"
   },
   {
    "duration": 203,
    "start_time": "2022-12-26T14:37:30.649Z"
   },
   {
    "duration": 166,
    "start_time": "2022-12-26T14:37:37.497Z"
   },
   {
    "duration": 177,
    "start_time": "2022-12-26T14:37:43.066Z"
   },
   {
    "duration": 165,
    "start_time": "2022-12-26T14:37:48.218Z"
   },
   {
    "duration": 181,
    "start_time": "2022-12-26T14:37:51.585Z"
   },
   {
    "duration": 167,
    "start_time": "2022-12-26T14:37:54.193Z"
   },
   {
    "duration": 305,
    "start_time": "2022-12-26T14:38:39.755Z"
   },
   {
    "duration": 162,
    "start_time": "2022-12-26T14:39:33.638Z"
   },
   {
    "duration": 165,
    "start_time": "2022-12-26T14:39:53.671Z"
   },
   {
    "duration": 241,
    "start_time": "2022-12-26T14:40:09.510Z"
   },
   {
    "duration": 161,
    "start_time": "2022-12-26T14:40:42.074Z"
   },
   {
    "duration": 170,
    "start_time": "2022-12-26T14:40:56.809Z"
   },
   {
    "duration": 188,
    "start_time": "2022-12-26T14:41:33.554Z"
   },
   {
    "duration": 188,
    "start_time": "2022-12-26T14:41:49.267Z"
   },
   {
    "duration": 196,
    "start_time": "2022-12-26T14:41:57.852Z"
   },
   {
    "duration": 158,
    "start_time": "2022-12-26T14:42:01.131Z"
   },
   {
    "duration": 145,
    "start_time": "2022-12-26T14:42:08.716Z"
   },
   {
    "duration": 157,
    "start_time": "2022-12-26T14:42:14.572Z"
   },
   {
    "duration": 11,
    "start_time": "2022-12-26T14:43:42.583Z"
   },
   {
    "duration": 4,
    "start_time": "2022-12-26T14:43:51.798Z"
   },
   {
    "duration": 19,
    "start_time": "2022-12-26T14:45:16.019Z"
   },
   {
    "duration": 149,
    "start_time": "2022-12-26T14:45:23.357Z"
   },
   {
    "duration": 14,
    "start_time": "2022-12-26T14:45:23.522Z"
   },
   {
    "duration": 4,
    "start_time": "2022-12-26T14:45:23.538Z"
   },
   {
    "duration": 8,
    "start_time": "2022-12-26T14:45:23.545Z"
   },
   {
    "duration": 6,
    "start_time": "2022-12-26T14:45:23.555Z"
   },
   {
    "duration": 93,
    "start_time": "2022-12-26T14:45:23.563Z"
   },
   {
    "duration": 2655,
    "start_time": "2022-12-26T14:45:23.658Z"
   },
   {
    "duration": 52,
    "start_time": "2022-12-26T14:45:26.315Z"
   },
   {
    "duration": 23,
    "start_time": "2022-12-26T14:45:26.369Z"
   },
   {
    "duration": 14,
    "start_time": "2022-12-26T14:45:26.421Z"
   },
   {
    "duration": 30,
    "start_time": "2022-12-26T14:45:26.436Z"
   },
   {
    "duration": 5,
    "start_time": "2022-12-26T14:45:26.468Z"
   },
   {
    "duration": 15,
    "start_time": "2022-12-26T14:45:26.475Z"
   },
   {
    "duration": 12,
    "start_time": "2022-12-26T14:45:26.492Z"
   },
   {
    "duration": 19,
    "start_time": "2022-12-26T14:45:26.505Z"
   },
   {
    "duration": 13,
    "start_time": "2022-12-26T14:45:26.526Z"
   },
   {
    "duration": 9,
    "start_time": "2022-12-26T14:45:26.541Z"
   },
   {
    "duration": 17,
    "start_time": "2022-12-26T14:45:26.552Z"
   },
   {
    "duration": 42,
    "start_time": "2022-12-26T14:45:26.573Z"
   },
   {
    "duration": 2,
    "start_time": "2022-12-26T14:45:26.617Z"
   },
   {
    "duration": 50,
    "start_time": "2022-12-26T14:45:26.621Z"
   },
   {
    "duration": 7,
    "start_time": "2022-12-26T14:45:26.673Z"
   },
   {
    "duration": 23,
    "start_time": "2022-12-26T14:45:26.682Z"
   },
   {
    "duration": 24,
    "start_time": "2022-12-26T14:45:26.707Z"
   },
   {
    "duration": 43,
    "start_time": "2022-12-26T14:45:26.733Z"
   },
   {
    "duration": 13,
    "start_time": "2022-12-26T14:45:26.778Z"
   },
   {
    "duration": 34,
    "start_time": "2022-12-26T14:45:26.792Z"
   },
   {
    "duration": 219,
    "start_time": "2022-12-26T14:45:26.830Z"
   },
   {
    "duration": 22,
    "start_time": "2022-12-26T14:45:27.050Z"
   },
   {
    "duration": 6,
    "start_time": "2022-12-26T14:45:27.073Z"
   },
   {
    "duration": 30,
    "start_time": "2022-12-26T14:45:27.081Z"
   },
   {
    "duration": 9,
    "start_time": "2022-12-26T14:45:27.113Z"
   },
   {
    "duration": 16,
    "start_time": "2022-12-26T14:45:27.124Z"
   },
   {
    "duration": 326,
    "start_time": "2022-12-26T14:45:27.141Z"
   },
   {
    "duration": 5,
    "start_time": "2022-12-26T14:45:27.469Z"
   },
   {
    "duration": 47,
    "start_time": "2022-12-26T14:45:27.475Z"
   },
   {
    "duration": 1388,
    "start_time": "2022-12-26T14:45:27.524Z"
   },
   {
    "duration": 8,
    "start_time": "2022-12-26T14:45:28.913Z"
   },
   {
    "duration": 224,
    "start_time": "2022-12-26T14:45:28.923Z"
   },
   {
    "duration": 9,
    "start_time": "2022-12-26T14:45:29.149Z"
   },
   {
    "duration": 25,
    "start_time": "2022-12-26T14:45:29.160Z"
   },
   {
    "duration": 192,
    "start_time": "2022-12-26T14:45:29.187Z"
   },
   {
    "duration": 163,
    "start_time": "2022-12-26T14:45:29.381Z"
   },
   {
    "duration": 162,
    "start_time": "2022-12-26T14:45:29.547Z"
   },
   {
    "duration": 164,
    "start_time": "2022-12-26T14:45:29.711Z"
   },
   {
    "duration": 204,
    "start_time": "2022-12-26T14:45:29.876Z"
   },
   {
    "duration": 3,
    "start_time": "2022-12-26T14:45:30.082Z"
   },
   {
    "duration": 31,
    "start_time": "2022-12-26T14:45:30.086Z"
   },
   {
    "duration": 22,
    "start_time": "2022-12-26T14:45:30.119Z"
   },
   {
    "duration": 50,
    "start_time": "2022-12-26T14:45:30.142Z"
   },
   {
    "duration": 8,
    "start_time": "2022-12-26T14:45:30.194Z"
   },
   {
    "duration": 25,
    "start_time": "2022-12-26T14:45:30.204Z"
   },
   {
    "duration": 178,
    "start_time": "2022-12-26T14:45:30.230Z"
   },
   {
    "duration": 29,
    "start_time": "2022-12-26T14:55:07.696Z"
   },
   {
    "duration": 193,
    "start_time": "2022-12-26T14:57:28.355Z"
   },
   {
    "duration": 169,
    "start_time": "2022-12-26T14:57:37.884Z"
   },
   {
    "duration": 8,
    "start_time": "2022-12-26T14:58:22.638Z"
   },
   {
    "duration": 8,
    "start_time": "2022-12-26T15:25:30.511Z"
   },
   {
    "duration": 7,
    "start_time": "2022-12-26T15:25:47.373Z"
   },
   {
    "duration": 9,
    "start_time": "2022-12-26T15:26:11.390Z"
   },
   {
    "duration": 4,
    "start_time": "2022-12-26T15:33:09.796Z"
   },
   {
    "duration": 12,
    "start_time": "2022-12-26T15:33:10.310Z"
   },
   {
    "duration": 15,
    "start_time": "2022-12-26T15:33:11.198Z"
   },
   {
    "duration": 11,
    "start_time": "2022-12-26T15:33:12.863Z"
   },
   {
    "duration": 418,
    "start_time": "2022-12-26T15:33:19.744Z"
   },
   {
    "duration": 13,
    "start_time": "2022-12-26T15:33:25.555Z"
   },
   {
    "duration": 8,
    "start_time": "2022-12-26T15:33:27.565Z"
   },
   {
    "duration": 10,
    "start_time": "2022-12-26T15:33:35.567Z"
   },
   {
    "duration": 9,
    "start_time": "2022-12-26T15:33:46.577Z"
   },
   {
    "duration": 9,
    "start_time": "2022-12-26T15:33:52.607Z"
   },
   {
    "duration": 8,
    "start_time": "2022-12-26T15:34:47.577Z"
   },
   {
    "duration": 59,
    "start_time": "2022-12-26T15:37:12.030Z"
   },
   {
    "duration": 38,
    "start_time": "2022-12-26T15:37:21.270Z"
   },
   {
    "duration": 19,
    "start_time": "2022-12-26T15:37:41.096Z"
   },
   {
    "duration": 18,
    "start_time": "2022-12-26T15:37:43.511Z"
   },
   {
    "duration": 15,
    "start_time": "2022-12-26T15:38:06.735Z"
   },
   {
    "duration": 8,
    "start_time": "2022-12-26T15:38:07.433Z"
   },
   {
    "duration": 4,
    "start_time": "2022-12-26T15:40:38.373Z"
   },
   {
    "duration": 324,
    "start_time": "2022-12-26T15:40:38.717Z"
   },
   {
    "duration": 15,
    "start_time": "2022-12-26T15:40:39.052Z"
   },
   {
    "duration": 7,
    "start_time": "2022-12-26T15:40:39.981Z"
   },
   {
    "duration": 52,
    "start_time": "2022-12-26T15:41:49.328Z"
   },
   {
    "duration": 147,
    "start_time": "2022-12-26T15:41:54.832Z"
   },
   {
    "duration": 158,
    "start_time": "2022-12-26T15:42:10.568Z"
   },
   {
    "duration": 140,
    "start_time": "2022-12-26T15:42:38.035Z"
   },
   {
    "duration": 151,
    "start_time": "2022-12-26T15:42:46.707Z"
   },
   {
    "duration": 155,
    "start_time": "2022-12-26T15:43:13.068Z"
   },
   {
    "duration": 179,
    "start_time": "2022-12-26T15:43:19.036Z"
   },
   {
    "duration": 176,
    "start_time": "2022-12-26T15:43:33.925Z"
   },
   {
    "duration": 155,
    "start_time": "2022-12-26T15:43:50.005Z"
   },
   {
    "duration": 164,
    "start_time": "2022-12-26T15:44:12.160Z"
   },
   {
    "duration": 156,
    "start_time": "2022-12-26T15:44:40.736Z"
   },
   {
    "duration": 159,
    "start_time": "2022-12-26T15:45:27.952Z"
   },
   {
    "duration": 129,
    "start_time": "2022-12-26T15:45:37.232Z"
   },
   {
    "duration": 152,
    "start_time": "2022-12-26T15:45:40.681Z"
   },
   {
    "duration": 144,
    "start_time": "2022-12-26T15:45:44.344Z"
   },
   {
    "duration": 147,
    "start_time": "2022-12-26T15:46:00.722Z"
   },
   {
    "duration": 149,
    "start_time": "2022-12-26T15:47:25.638Z"
   },
   {
    "duration": 28,
    "start_time": "2022-12-26T15:52:26.152Z"
   },
   {
    "duration": 28,
    "start_time": "2022-12-26T15:53:28.641Z"
   },
   {
    "duration": 9,
    "start_time": "2022-12-26T15:53:59.882Z"
   },
   {
    "duration": 8,
    "start_time": "2022-12-26T15:54:58.892Z"
   },
   {
    "duration": 3,
    "start_time": "2022-12-26T15:56:45.738Z"
   },
   {
    "duration": 313,
    "start_time": "2022-12-26T15:56:46.431Z"
   },
   {
    "duration": 8,
    "start_time": "2022-12-26T15:56:46.793Z"
   },
   {
    "duration": 194,
    "start_time": "2022-12-26T15:57:45.727Z"
   },
   {
    "duration": 8,
    "start_time": "2022-12-26T15:57:48.672Z"
   },
   {
    "duration": 329,
    "start_time": "2022-12-26T15:59:00.101Z"
   },
   {
    "duration": 11,
    "start_time": "2022-12-26T15:59:00.444Z"
   },
   {
    "duration": 331,
    "start_time": "2022-12-26T15:59:11.196Z"
   },
   {
    "duration": 10,
    "start_time": "2022-12-26T15:59:12.397Z"
   },
   {
    "duration": 331,
    "start_time": "2022-12-26T15:59:52.493Z"
   },
   {
    "duration": 8,
    "start_time": "2022-12-26T15:59:53.430Z"
   },
   {
    "duration": 57,
    "start_time": "2022-12-26T16:01:05.635Z"
   },
   {
    "duration": 55,
    "start_time": "2022-12-26T16:01:38.842Z"
   },
   {
    "duration": 46,
    "start_time": "2022-12-26T16:01:47.428Z"
   },
   {
    "duration": 51,
    "start_time": "2022-12-26T16:02:02.819Z"
   },
   {
    "duration": 338,
    "start_time": "2022-12-26T16:02:17.411Z"
   },
   {
    "duration": 114,
    "start_time": "2022-12-26T16:02:42.626Z"
   },
   {
    "duration": 14,
    "start_time": "2022-12-26T16:02:42.742Z"
   },
   {
    "duration": 3,
    "start_time": "2022-12-26T16:02:42.757Z"
   },
   {
    "duration": 8,
    "start_time": "2022-12-26T16:02:42.762Z"
   },
   {
    "duration": 7,
    "start_time": "2022-12-26T16:02:42.771Z"
   },
   {
    "duration": 102,
    "start_time": "2022-12-26T16:02:42.780Z"
   },
   {
    "duration": 2637,
    "start_time": "2022-12-26T16:02:42.884Z"
   },
   {
    "duration": 50,
    "start_time": "2022-12-26T16:02:45.523Z"
   },
   {
    "duration": 23,
    "start_time": "2022-12-26T16:02:45.575Z"
   },
   {
    "duration": 28,
    "start_time": "2022-12-26T16:02:45.601Z"
   },
   {
    "duration": 9,
    "start_time": "2022-12-26T16:02:45.631Z"
   },
   {
    "duration": 5,
    "start_time": "2022-12-26T16:02:45.641Z"
   },
   {
    "duration": 8,
    "start_time": "2022-12-26T16:02:45.648Z"
   },
   {
    "duration": 6,
    "start_time": "2022-12-26T16:02:45.658Z"
   },
   {
    "duration": 7,
    "start_time": "2022-12-26T16:02:45.665Z"
   },
   {
    "duration": 6,
    "start_time": "2022-12-26T16:02:45.673Z"
   },
   {
    "duration": 8,
    "start_time": "2022-12-26T16:02:45.680Z"
   },
   {
    "duration": 5,
    "start_time": "2022-12-26T16:02:45.721Z"
   },
   {
    "duration": 48,
    "start_time": "2022-12-26T16:02:45.728Z"
   },
   {
    "duration": 2,
    "start_time": "2022-12-26T16:02:45.778Z"
   },
   {
    "duration": 29,
    "start_time": "2022-12-26T16:02:45.781Z"
   },
   {
    "duration": 13,
    "start_time": "2022-12-26T16:02:45.811Z"
   },
   {
    "duration": 10,
    "start_time": "2022-12-26T16:02:45.825Z"
   },
   {
    "duration": 13,
    "start_time": "2022-12-26T16:02:45.837Z"
   },
   {
    "duration": 39,
    "start_time": "2022-12-26T16:02:45.852Z"
   },
   {
    "duration": 38,
    "start_time": "2022-12-26T16:02:45.893Z"
   },
   {
    "duration": 18,
    "start_time": "2022-12-26T16:02:45.932Z"
   },
   {
    "duration": 250,
    "start_time": "2022-12-26T16:02:45.954Z"
   },
   {
    "duration": 27,
    "start_time": "2022-12-26T16:02:46.206Z"
   },
   {
    "duration": 6,
    "start_time": "2022-12-26T16:02:46.234Z"
   },
   {
    "duration": 18,
    "start_time": "2022-12-26T16:02:46.241Z"
   },
   {
    "duration": 4,
    "start_time": "2022-12-26T16:02:46.260Z"
   },
   {
    "duration": 18,
    "start_time": "2022-12-26T16:02:46.265Z"
   },
   {
    "duration": 321,
    "start_time": "2022-12-26T16:02:46.285Z"
   },
   {
    "duration": 4,
    "start_time": "2022-12-26T16:02:46.607Z"
   },
   {
    "duration": 21,
    "start_time": "2022-12-26T16:02:46.621Z"
   },
   {
    "duration": 1367,
    "start_time": "2022-12-26T16:02:46.644Z"
   },
   {
    "duration": 8,
    "start_time": "2022-12-26T16:02:48.013Z"
   },
   {
    "duration": 211,
    "start_time": "2022-12-26T16:02:48.023Z"
   },
   {
    "duration": 8,
    "start_time": "2022-12-26T16:02:48.236Z"
   },
   {
    "duration": 14,
    "start_time": "2022-12-26T16:02:48.246Z"
   },
   {
    "duration": 168,
    "start_time": "2022-12-26T16:02:48.261Z"
   },
   {
    "duration": 172,
    "start_time": "2022-12-26T16:02:48.430Z"
   },
   {
    "duration": 161,
    "start_time": "2022-12-26T16:02:48.604Z"
   },
   {
    "duration": 167,
    "start_time": "2022-12-26T16:02:48.767Z"
   },
   {
    "duration": 226,
    "start_time": "2022-12-26T16:02:48.935Z"
   },
   {
    "duration": 3,
    "start_time": "2022-12-26T16:02:49.163Z"
   },
   {
    "duration": 19,
    "start_time": "2022-12-26T16:02:49.168Z"
   },
   {
    "duration": 8,
    "start_time": "2022-12-26T16:02:49.189Z"
   },
   {
    "duration": 60,
    "start_time": "2022-12-26T16:02:49.199Z"
   },
   {
    "duration": 9,
    "start_time": "2022-12-26T16:02:49.261Z"
   },
   {
    "duration": 11,
    "start_time": "2022-12-26T16:02:49.271Z"
   },
   {
    "duration": 170,
    "start_time": "2022-12-26T16:02:49.283Z"
   },
   {
    "duration": 4,
    "start_time": "2022-12-26T16:02:49.454Z"
   },
   {
    "duration": 329,
    "start_time": "2022-12-26T16:02:49.459Z"
   },
   {
    "duration": 0,
    "start_time": "2022-12-26T16:02:49.790Z"
   },
   {
    "duration": 317,
    "start_time": "2022-12-26T16:03:34.814Z"
   },
   {
    "duration": 10,
    "start_time": "2022-12-26T16:03:37.894Z"
   },
   {
    "duration": 19,
    "start_time": "2022-12-26T16:04:34.657Z"
   },
   {
    "duration": 8,
    "start_time": "2022-12-26T16:04:36.321Z"
   },
   {
    "duration": 3,
    "start_time": "2022-12-26T16:05:17.562Z"
   },
   {
    "duration": 17,
    "start_time": "2022-12-26T16:05:29.707Z"
   },
   {
    "duration": 21,
    "start_time": "2022-12-26T16:05:49.454Z"
   },
   {
    "duration": 18,
    "start_time": "2022-12-26T16:06:06.149Z"
   },
   {
    "duration": 19,
    "start_time": "2022-12-26T16:06:16.228Z"
   },
   {
    "duration": 18,
    "start_time": "2022-12-26T16:07:18.246Z"
   },
   {
    "duration": 22,
    "start_time": "2022-12-26T16:07:35.319Z"
   },
   {
    "duration": 22,
    "start_time": "2022-12-26T16:07:43.766Z"
   },
   {
    "duration": 18,
    "start_time": "2022-12-26T16:07:48.487Z"
   },
   {
    "duration": 4,
    "start_time": "2022-12-26T16:08:35.978Z"
   },
   {
    "duration": 317,
    "start_time": "2022-12-26T16:08:37.297Z"
   },
   {
    "duration": 19,
    "start_time": "2022-12-26T16:08:38.113Z"
   },
   {
    "duration": 141,
    "start_time": "2022-12-26T16:12:06.168Z"
   },
   {
    "duration": 157,
    "start_time": "2022-12-26T16:12:11.048Z"
   },
   {
    "duration": 145,
    "start_time": "2022-12-26T16:12:23.024Z"
   },
   {
    "duration": 70,
    "start_time": "2022-12-26T16:17:00.828Z"
   },
   {
    "duration": 157,
    "start_time": "2022-12-26T16:17:09.372Z"
   },
   {
    "duration": 150,
    "start_time": "2022-12-26T16:17:34.006Z"
   },
   {
    "duration": 165,
    "start_time": "2022-12-26T16:17:45.118Z"
   },
   {
    "duration": 142,
    "start_time": "2022-12-26T16:17:49.926Z"
   },
   {
    "duration": 141,
    "start_time": "2022-12-26T16:18:20.960Z"
   },
   {
    "duration": 141,
    "start_time": "2022-12-26T16:18:54.345Z"
   },
   {
    "duration": 9,
    "start_time": "2022-12-26T16:19:33.362Z"
   },
   {
    "duration": 11,
    "start_time": "2022-12-26T16:19:53.427Z"
   },
   {
    "duration": 133,
    "start_time": "2022-12-26T16:20:08.108Z"
   },
   {
    "duration": 140,
    "start_time": "2022-12-26T16:20:21.253Z"
   },
   {
    "duration": 128,
    "start_time": "2022-12-26T16:20:29.533Z"
   },
   {
    "duration": 140,
    "start_time": "2022-12-26T16:20:34.757Z"
   },
   {
    "duration": 133,
    "start_time": "2022-12-26T16:21:12.606Z"
   },
   {
    "duration": 186,
    "start_time": "2022-12-26T16:21:15.239Z"
   },
   {
    "duration": 137,
    "start_time": "2022-12-26T16:21:29.663Z"
   },
   {
    "duration": 180,
    "start_time": "2022-12-26T16:21:37.015Z"
   },
   {
    "duration": 144,
    "start_time": "2022-12-26T16:21:45.703Z"
   },
   {
    "duration": 161,
    "start_time": "2022-12-26T16:21:55.385Z"
   },
   {
    "duration": 167,
    "start_time": "2022-12-26T16:22:07.985Z"
   },
   {
    "duration": 132,
    "start_time": "2022-12-26T16:22:16.713Z"
   },
   {
    "duration": 17,
    "start_time": "2022-12-26T16:23:38.173Z"
   },
   {
    "duration": 11,
    "start_time": "2022-12-26T16:23:43.396Z"
   },
   {
    "duration": 118,
    "start_time": "2022-12-26T16:24:17.686Z"
   },
   {
    "duration": 107,
    "start_time": "2022-12-26T16:24:26.894Z"
   },
   {
    "duration": 164,
    "start_time": "2022-12-26T16:24:32.918Z"
   },
   {
    "duration": 137,
    "start_time": "2022-12-26T16:24:41.655Z"
   },
   {
    "duration": 115,
    "start_time": "2022-12-26T16:24:51.375Z"
   },
   {
    "duration": 120,
    "start_time": "2022-12-26T16:25:31.008Z"
   },
   {
    "duration": 12,
    "start_time": "2022-12-26T16:26:15.250Z"
   },
   {
    "duration": 113,
    "start_time": "2022-12-26T16:26:24.346Z"
   },
   {
    "duration": 112,
    "start_time": "2022-12-26T16:26:36.997Z"
   },
   {
    "duration": 113,
    "start_time": "2022-12-26T16:26:41.931Z"
   },
   {
    "duration": 29,
    "start_time": "2022-12-26T16:31:16.905Z"
   },
   {
    "duration": 6,
    "start_time": "2022-12-26T16:31:18.197Z"
   },
   {
    "duration": 12,
    "start_time": "2022-12-26T16:31:18.830Z"
   },
   {
    "duration": 3,
    "start_time": "2022-12-26T16:31:50.703Z"
   },
   {
    "duration": 38,
    "start_time": "2022-12-26T16:31:51.335Z"
   },
   {
    "duration": 5,
    "start_time": "2022-12-26T16:31:52.659Z"
   },
   {
    "duration": 13,
    "start_time": "2022-12-26T16:31:53.355Z"
   },
   {
    "duration": 18,
    "start_time": "2022-12-26T16:33:03.737Z"
   },
   {
    "duration": 14,
    "start_time": "2022-12-26T16:37:12.306Z"
   },
   {
    "duration": 151,
    "start_time": "2022-12-26T16:45:04.588Z"
   },
   {
    "duration": 137,
    "start_time": "2022-12-26T16:45:13.091Z"
   },
   {
    "duration": 116,
    "start_time": "2022-12-26T16:45:18.259Z"
   },
   {
    "duration": 128,
    "start_time": "2022-12-26T16:45:24.610Z"
   },
   {
    "duration": 183,
    "start_time": "2022-12-26T16:46:01.895Z"
   },
   {
    "duration": 183,
    "start_time": "2022-12-26T16:46:08.621Z"
   },
   {
    "duration": 163,
    "start_time": "2022-12-26T16:46:46.799Z"
   },
   {
    "duration": 184,
    "start_time": "2022-12-26T16:47:10.414Z"
   },
   {
    "duration": 163,
    "start_time": "2022-12-26T16:47:16.600Z"
   },
   {
    "duration": 144,
    "start_time": "2022-12-26T16:47:21.119Z"
   },
   {
    "duration": 151,
    "start_time": "2022-12-26T16:47:41.320Z"
   },
   {
    "duration": 167,
    "start_time": "2022-12-26T16:47:57.273Z"
   },
   {
    "duration": 155,
    "start_time": "2022-12-26T16:48:17.914Z"
   },
   {
    "duration": 161,
    "start_time": "2022-12-26T16:48:48.379Z"
   },
   {
    "duration": 8,
    "start_time": "2022-12-26T16:52:03.759Z"
   },
   {
    "duration": 6,
    "start_time": "2022-12-26T16:52:08.783Z"
   },
   {
    "duration": 6,
    "start_time": "2022-12-26T16:52:26.848Z"
   },
   {
    "duration": 10,
    "start_time": "2022-12-26T16:54:02.141Z"
   },
   {
    "duration": 4,
    "start_time": "2022-12-26T16:54:07.260Z"
   },
   {
    "duration": 5,
    "start_time": "2022-12-26T16:54:40.653Z"
   },
   {
    "duration": 6,
    "start_time": "2022-12-26T16:55:53.671Z"
   },
   {
    "duration": 5,
    "start_time": "2022-12-26T16:56:29.544Z"
   },
   {
    "duration": 7,
    "start_time": "2022-12-26T16:56:42.585Z"
   },
   {
    "duration": 6,
    "start_time": "2022-12-26T16:56:58.249Z"
   },
   {
    "duration": 5,
    "start_time": "2022-12-26T16:57:11.010Z"
   },
   {
    "duration": 6,
    "start_time": "2022-12-26T16:57:15.177Z"
   },
   {
    "duration": 41,
    "start_time": "2022-12-26T17:08:06.457Z"
   },
   {
    "duration": 44,
    "start_time": "2022-12-26T17:08:38.753Z"
   },
   {
    "duration": 12,
    "start_time": "2022-12-26T17:08:45.602Z"
   },
   {
    "duration": 9,
    "start_time": "2022-12-26T17:08:56.553Z"
   },
   {
    "duration": 817,
    "start_time": "2022-12-26T17:13:04.219Z"
   },
   {
    "duration": 949,
    "start_time": "2022-12-26T17:13:18.090Z"
   },
   {
    "duration": 1151,
    "start_time": "2022-12-26T17:14:05.300Z"
   },
   {
    "duration": 127,
    "start_time": "2022-12-26T17:14:09.359Z"
   },
   {
    "duration": 14,
    "start_time": "2022-12-26T17:14:09.488Z"
   },
   {
    "duration": 22,
    "start_time": "2022-12-26T17:14:09.504Z"
   },
   {
    "duration": 11,
    "start_time": "2022-12-26T17:14:09.533Z"
   },
   {
    "duration": 7,
    "start_time": "2022-12-26T17:14:09.545Z"
   },
   {
    "duration": 84,
    "start_time": "2022-12-26T17:14:09.553Z"
   },
   {
    "duration": 2790,
    "start_time": "2022-12-26T17:14:09.639Z"
   },
   {
    "duration": 29,
    "start_time": "2022-12-26T17:14:12.431Z"
   },
   {
    "duration": 10,
    "start_time": "2022-12-26T17:14:12.462Z"
   },
   {
    "duration": 10,
    "start_time": "2022-12-26T17:14:12.475Z"
   },
   {
    "duration": 37,
    "start_time": "2022-12-26T17:14:12.487Z"
   },
   {
    "duration": 18,
    "start_time": "2022-12-26T17:14:12.527Z"
   },
   {
    "duration": 15,
    "start_time": "2022-12-26T17:14:12.547Z"
   },
   {
    "duration": 11,
    "start_time": "2022-12-26T17:14:12.564Z"
   },
   {
    "duration": 7,
    "start_time": "2022-12-26T17:14:12.577Z"
   },
   {
    "duration": 6,
    "start_time": "2022-12-26T17:14:12.586Z"
   },
   {
    "duration": 6,
    "start_time": "2022-12-26T17:14:12.594Z"
   },
   {
    "duration": 44,
    "start_time": "2022-12-26T17:14:12.602Z"
   },
   {
    "duration": 4,
    "start_time": "2022-12-26T17:14:12.648Z"
   },
   {
    "duration": 32,
    "start_time": "2022-12-26T17:14:12.654Z"
   },
   {
    "duration": 5,
    "start_time": "2022-12-26T17:14:12.688Z"
   },
   {
    "duration": 13,
    "start_time": "2022-12-26T17:14:12.695Z"
   },
   {
    "duration": 28,
    "start_time": "2022-12-26T17:14:12.710Z"
   },
   {
    "duration": 40,
    "start_time": "2022-12-26T17:14:12.740Z"
   },
   {
    "duration": 13,
    "start_time": "2022-12-26T17:14:12.783Z"
   },
   {
    "duration": 47,
    "start_time": "2022-12-26T17:14:12.798Z"
   },
   {
    "duration": 239,
    "start_time": "2022-12-26T17:14:12.848Z"
   },
   {
    "duration": 6,
    "start_time": "2022-12-26T17:14:13.090Z"
   },
   {
    "duration": 38,
    "start_time": "2022-12-26T17:14:13.098Z"
   },
   {
    "duration": 6,
    "start_time": "2022-12-26T17:14:13.137Z"
   },
   {
    "duration": 11,
    "start_time": "2022-12-26T17:14:13.145Z"
   },
   {
    "duration": 21,
    "start_time": "2022-12-26T17:14:13.158Z"
   },
   {
    "duration": 325,
    "start_time": "2022-12-26T17:14:13.181Z"
   },
   {
    "duration": 4,
    "start_time": "2022-12-26T17:14:13.508Z"
   },
   {
    "duration": 48,
    "start_time": "2022-12-26T17:14:13.520Z"
   },
   {
    "duration": 1461,
    "start_time": "2022-12-26T17:14:13.571Z"
   },
   {
    "duration": 9,
    "start_time": "2022-12-26T17:14:15.034Z"
   },
   {
    "duration": 205,
    "start_time": "2022-12-26T17:14:15.044Z"
   },
   {
    "duration": 9,
    "start_time": "2022-12-26T17:14:15.250Z"
   },
   {
    "duration": 19,
    "start_time": "2022-12-26T17:14:15.260Z"
   },
   {
    "duration": 171,
    "start_time": "2022-12-26T17:14:15.281Z"
   },
   {
    "duration": 839,
    "start_time": "2022-12-26T17:14:15.454Z"
   },
   {
    "duration": 0,
    "start_time": "2022-12-26T17:14:16.295Z"
   },
   {
    "duration": 0,
    "start_time": "2022-12-26T17:14:16.296Z"
   },
   {
    "duration": 0,
    "start_time": "2022-12-26T17:14:16.298Z"
   },
   {
    "duration": 0,
    "start_time": "2022-12-26T17:14:16.300Z"
   },
   {
    "duration": 0,
    "start_time": "2022-12-26T17:14:16.301Z"
   },
   {
    "duration": 0,
    "start_time": "2022-12-26T17:14:16.303Z"
   },
   {
    "duration": 0,
    "start_time": "2022-12-26T17:14:16.304Z"
   },
   {
    "duration": 0,
    "start_time": "2022-12-26T17:14:16.305Z"
   },
   {
    "duration": 0,
    "start_time": "2022-12-26T17:14:16.306Z"
   },
   {
    "duration": 0,
    "start_time": "2022-12-26T17:14:16.307Z"
   },
   {
    "duration": 0,
    "start_time": "2022-12-26T17:14:16.309Z"
   },
   {
    "duration": 0,
    "start_time": "2022-12-26T17:14:16.310Z"
   },
   {
    "duration": 0,
    "start_time": "2022-12-26T17:14:16.312Z"
   },
   {
    "duration": 0,
    "start_time": "2022-12-26T17:14:16.313Z"
   },
   {
    "duration": 0,
    "start_time": "2022-12-26T17:14:16.315Z"
   },
   {
    "duration": 0,
    "start_time": "2022-12-26T17:14:16.317Z"
   },
   {
    "duration": 0,
    "start_time": "2022-12-26T17:14:16.318Z"
   },
   {
    "duration": 0,
    "start_time": "2022-12-26T17:14:16.320Z"
   },
   {
    "duration": 0,
    "start_time": "2022-12-26T17:14:16.325Z"
   },
   {
    "duration": 159,
    "start_time": "2022-12-26T17:14:28.883Z"
   },
   {
    "duration": 159,
    "start_time": "2022-12-26T17:14:40.440Z"
   },
   {
    "duration": 161,
    "start_time": "2022-12-26T17:14:56.709Z"
   },
   {
    "duration": 156,
    "start_time": "2022-12-26T17:15:04.582Z"
   },
   {
    "duration": 172,
    "start_time": "2022-12-26T17:15:09.886Z"
   },
   {
    "duration": 160,
    "start_time": "2022-12-26T17:15:29.215Z"
   },
   {
    "duration": 163,
    "start_time": "2022-12-26T17:15:58.535Z"
   },
   {
    "duration": 54,
    "start_time": "2022-12-26T17:16:19.104Z"
   },
   {
    "duration": 51,
    "start_time": "2022-12-26T17:16:29.161Z"
   },
   {
    "duration": 178,
    "start_time": "2022-12-26T17:16:32.602Z"
   },
   {
    "duration": 169,
    "start_time": "2022-12-26T17:16:38.230Z"
   },
   {
    "duration": 189,
    "start_time": "2022-12-26T17:16:41.369Z"
   },
   {
    "duration": 170,
    "start_time": "2022-12-26T17:16:52.569Z"
   },
   {
    "duration": 148,
    "start_time": "2022-12-26T17:17:21.090Z"
   },
   {
    "duration": 158,
    "start_time": "2022-12-26T17:17:28.515Z"
   },
   {
    "duration": 179,
    "start_time": "2022-12-26T17:17:31.773Z"
   },
   {
    "duration": 13,
    "start_time": "2022-12-26T17:29:25.673Z"
   },
   {
    "duration": 1252,
    "start_time": "2022-12-26T17:29:42.104Z"
   },
   {
    "duration": 1294,
    "start_time": "2022-12-26T17:30:22.704Z"
   },
   {
    "duration": 1317,
    "start_time": "2022-12-26T17:35:52.470Z"
   },
   {
    "duration": 973,
    "start_time": "2022-12-26T17:36:08.462Z"
   },
   {
    "duration": 1275,
    "start_time": "2022-12-26T17:36:19.398Z"
   },
   {
    "duration": 11607,
    "start_time": "2022-12-26T17:36:51.393Z"
   },
   {
    "duration": 2015,
    "start_time": "2022-12-26T17:37:26.985Z"
   },
   {
    "duration": 2809,
    "start_time": "2022-12-26T17:37:45.746Z"
   },
   {
    "duration": 1417,
    "start_time": "2022-12-26T17:37:57.563Z"
   },
   {
    "duration": 2838,
    "start_time": "2022-12-26T17:38:16.571Z"
   },
   {
    "duration": 107,
    "start_time": "2022-12-26T17:39:16.138Z"
   },
   {
    "duration": 14,
    "start_time": "2022-12-26T17:39:16.247Z"
   },
   {
    "duration": 11,
    "start_time": "2022-12-26T17:39:16.263Z"
   },
   {
    "duration": 5,
    "start_time": "2022-12-26T17:39:16.277Z"
   },
   {
    "duration": 11,
    "start_time": "2022-12-26T17:39:16.284Z"
   },
   {
    "duration": 99,
    "start_time": "2022-12-26T17:39:16.296Z"
   },
   {
    "duration": 13,
    "start_time": "2022-12-26T17:39:16.396Z"
   },
   {
    "duration": 0,
    "start_time": "2022-12-26T17:39:16.421Z"
   },
   {
    "duration": 1,
    "start_time": "2022-12-26T17:39:16.422Z"
   },
   {
    "duration": 0,
    "start_time": "2022-12-26T17:39:16.424Z"
   },
   {
    "duration": 0,
    "start_time": "2022-12-26T17:39:16.425Z"
   },
   {
    "duration": 0,
    "start_time": "2022-12-26T17:39:16.426Z"
   },
   {
    "duration": 0,
    "start_time": "2022-12-26T17:39:16.427Z"
   },
   {
    "duration": 0,
    "start_time": "2022-12-26T17:39:16.428Z"
   },
   {
    "duration": 0,
    "start_time": "2022-12-26T17:39:16.429Z"
   },
   {
    "duration": 0,
    "start_time": "2022-12-26T17:39:16.430Z"
   },
   {
    "duration": 0,
    "start_time": "2022-12-26T17:39:16.431Z"
   },
   {
    "duration": 0,
    "start_time": "2022-12-26T17:39:16.432Z"
   },
   {
    "duration": 0,
    "start_time": "2022-12-26T17:39:16.433Z"
   },
   {
    "duration": 0,
    "start_time": "2022-12-26T17:39:16.433Z"
   },
   {
    "duration": 0,
    "start_time": "2022-12-26T17:39:16.434Z"
   },
   {
    "duration": 0,
    "start_time": "2022-12-26T17:39:16.436Z"
   },
   {
    "duration": 0,
    "start_time": "2022-12-26T17:39:16.437Z"
   },
   {
    "duration": 0,
    "start_time": "2022-12-26T17:39:16.438Z"
   },
   {
    "duration": 0,
    "start_time": "2022-12-26T17:39:16.439Z"
   },
   {
    "duration": 0,
    "start_time": "2022-12-26T17:39:16.440Z"
   },
   {
    "duration": 0,
    "start_time": "2022-12-26T17:39:16.442Z"
   },
   {
    "duration": 0,
    "start_time": "2022-12-26T17:39:16.443Z"
   },
   {
    "duration": 0,
    "start_time": "2022-12-26T17:39:16.444Z"
   },
   {
    "duration": 0,
    "start_time": "2022-12-26T17:39:16.445Z"
   },
   {
    "duration": 0,
    "start_time": "2022-12-26T17:39:16.446Z"
   },
   {
    "duration": 1,
    "start_time": "2022-12-26T17:39:16.447Z"
   },
   {
    "duration": 0,
    "start_time": "2022-12-26T17:39:16.449Z"
   },
   {
    "duration": 0,
    "start_time": "2022-12-26T17:39:16.451Z"
   },
   {
    "duration": 0,
    "start_time": "2022-12-26T17:39:16.452Z"
   },
   {
    "duration": 0,
    "start_time": "2022-12-26T17:39:16.453Z"
   },
   {
    "duration": 0,
    "start_time": "2022-12-26T17:39:16.454Z"
   },
   {
    "duration": 0,
    "start_time": "2022-12-26T17:39:16.455Z"
   },
   {
    "duration": 0,
    "start_time": "2022-12-26T17:39:16.456Z"
   },
   {
    "duration": 0,
    "start_time": "2022-12-26T17:39:16.458Z"
   },
   {
    "duration": 0,
    "start_time": "2022-12-26T17:39:16.459Z"
   },
   {
    "duration": 0,
    "start_time": "2022-12-26T17:39:16.460Z"
   },
   {
    "duration": 0,
    "start_time": "2022-12-26T17:39:16.461Z"
   },
   {
    "duration": 0,
    "start_time": "2022-12-26T17:39:16.522Z"
   },
   {
    "duration": 0,
    "start_time": "2022-12-26T17:39:16.523Z"
   },
   {
    "duration": 0,
    "start_time": "2022-12-26T17:39:16.525Z"
   },
   {
    "duration": 0,
    "start_time": "2022-12-26T17:39:16.526Z"
   },
   {
    "duration": 0,
    "start_time": "2022-12-26T17:39:16.527Z"
   },
   {
    "duration": 0,
    "start_time": "2022-12-26T17:39:16.529Z"
   },
   {
    "duration": 0,
    "start_time": "2022-12-26T17:39:16.530Z"
   },
   {
    "duration": 0,
    "start_time": "2022-12-26T17:39:16.531Z"
   },
   {
    "duration": 0,
    "start_time": "2022-12-26T17:39:16.532Z"
   },
   {
    "duration": 0,
    "start_time": "2022-12-26T17:39:16.534Z"
   },
   {
    "duration": 0,
    "start_time": "2022-12-26T17:39:16.535Z"
   },
   {
    "duration": 0,
    "start_time": "2022-12-26T17:39:16.536Z"
   },
   {
    "duration": 0,
    "start_time": "2022-12-26T17:39:16.537Z"
   },
   {
    "duration": 0,
    "start_time": "2022-12-26T17:39:16.538Z"
   },
   {
    "duration": 0,
    "start_time": "2022-12-26T17:39:16.540Z"
   },
   {
    "duration": 0,
    "start_time": "2022-12-26T17:39:16.542Z"
   },
   {
    "duration": 0,
    "start_time": "2022-12-26T17:39:16.544Z"
   },
   {
    "duration": 0,
    "start_time": "2022-12-26T17:39:16.545Z"
   },
   {
    "duration": 2665,
    "start_time": "2022-12-26T17:39:40.432Z"
   },
   {
    "duration": 108,
    "start_time": "2022-12-26T17:42:44.256Z"
   },
   {
    "duration": 13,
    "start_time": "2022-12-26T17:42:44.366Z"
   },
   {
    "duration": 6,
    "start_time": "2022-12-26T17:42:44.380Z"
   },
   {
    "duration": 10,
    "start_time": "2022-12-26T17:42:44.388Z"
   },
   {
    "duration": 23,
    "start_time": "2022-12-26T17:42:44.400Z"
   },
   {
    "duration": 79,
    "start_time": "2022-12-26T17:42:44.425Z"
   },
   {
    "duration": 2694,
    "start_time": "2022-12-26T17:42:44.505Z"
   },
   {
    "duration": 31,
    "start_time": "2022-12-26T17:42:47.200Z"
   },
   {
    "duration": 10,
    "start_time": "2022-12-26T17:42:47.233Z"
   },
   {
    "duration": 10,
    "start_time": "2022-12-26T17:42:47.246Z"
   },
   {
    "duration": 12,
    "start_time": "2022-12-26T17:42:47.257Z"
   },
   {
    "duration": 15,
    "start_time": "2022-12-26T17:42:47.270Z"
   },
   {
    "duration": 10,
    "start_time": "2022-12-26T17:42:47.286Z"
   },
   {
    "duration": 25,
    "start_time": "2022-12-26T17:42:47.297Z"
   },
   {
    "duration": 12,
    "start_time": "2022-12-26T17:42:47.323Z"
   },
   {
    "duration": 10,
    "start_time": "2022-12-26T17:42:47.336Z"
   },
   {
    "duration": 9,
    "start_time": "2022-12-26T17:42:47.347Z"
   },
   {
    "duration": 34,
    "start_time": "2022-12-26T17:42:47.357Z"
   },
   {
    "duration": 2,
    "start_time": "2022-12-26T17:42:47.393Z"
   },
   {
    "duration": 45,
    "start_time": "2022-12-26T17:42:47.396Z"
   },
   {
    "duration": 6,
    "start_time": "2022-12-26T17:42:47.442Z"
   },
   {
    "duration": 12,
    "start_time": "2022-12-26T17:42:47.449Z"
   },
   {
    "duration": 13,
    "start_time": "2022-12-26T17:42:47.462Z"
   },
   {
    "duration": 65,
    "start_time": "2022-12-26T17:42:47.476Z"
   },
   {
    "duration": 13,
    "start_time": "2022-12-26T17:42:47.542Z"
   },
   {
    "duration": 20,
    "start_time": "2022-12-26T17:42:47.557Z"
   },
   {
    "duration": 220,
    "start_time": "2022-12-26T17:42:47.579Z"
   },
   {
    "duration": 6,
    "start_time": "2022-12-26T17:42:47.804Z"
   },
   {
    "duration": 27,
    "start_time": "2022-12-26T17:42:47.811Z"
   },
   {
    "duration": 5,
    "start_time": "2022-12-26T17:42:47.839Z"
   },
   {
    "duration": 9,
    "start_time": "2022-12-26T17:42:47.846Z"
   },
   {
    "duration": 16,
    "start_time": "2022-12-26T17:42:47.856Z"
   },
   {
    "duration": 307,
    "start_time": "2022-12-26T17:42:47.873Z"
   },
   {
    "duration": 5,
    "start_time": "2022-12-26T17:42:48.182Z"
   },
   {
    "duration": 34,
    "start_time": "2022-12-26T17:42:48.189Z"
   },
   {
    "duration": 2546,
    "start_time": "2022-12-26T17:42:48.225Z"
   },
   {
    "duration": 2,
    "start_time": "2022-12-26T17:42:50.773Z"
   },
   {
    "duration": 195,
    "start_time": "2022-12-26T17:42:50.777Z"
   },
   {
    "duration": 9,
    "start_time": "2022-12-26T17:42:50.973Z"
   },
   {
    "duration": 15,
    "start_time": "2022-12-26T17:42:50.984Z"
   },
   {
    "duration": 136,
    "start_time": "2022-12-26T17:42:51.000Z"
   },
   {
    "duration": 149,
    "start_time": "2022-12-26T17:42:51.138Z"
   },
   {
    "duration": 156,
    "start_time": "2022-12-26T17:42:51.288Z"
   },
   {
    "duration": 169,
    "start_time": "2022-12-26T17:42:51.445Z"
   },
   {
    "duration": 156,
    "start_time": "2022-12-26T17:42:51.621Z"
   },
   {
    "duration": 195,
    "start_time": "2022-12-26T17:42:51.779Z"
   },
   {
    "duration": 3,
    "start_time": "2022-12-26T17:42:51.976Z"
   },
   {
    "duration": 19,
    "start_time": "2022-12-26T17:42:51.980Z"
   },
   {
    "duration": 35,
    "start_time": "2022-12-26T17:42:52.000Z"
   },
   {
    "duration": 44,
    "start_time": "2022-12-26T17:42:52.037Z"
   },
   {
    "duration": 8,
    "start_time": "2022-12-26T17:42:52.083Z"
   },
   {
    "duration": 12,
    "start_time": "2022-12-26T17:42:52.093Z"
   },
   {
    "duration": 147,
    "start_time": "2022-12-26T17:42:52.107Z"
   },
   {
    "duration": 3,
    "start_time": "2022-12-26T17:42:52.256Z"
   },
   {
    "duration": 311,
    "start_time": "2022-12-26T17:42:52.261Z"
   },
   {
    "duration": 22,
    "start_time": "2022-12-26T17:42:52.574Z"
   },
   {
    "duration": 145,
    "start_time": "2022-12-26T17:42:52.597Z"
   },
   {
    "duration": 154,
    "start_time": "2022-12-26T17:42:52.743Z"
   },
   {
    "duration": 131,
    "start_time": "2022-12-26T17:42:52.899Z"
   },
   {
    "duration": 3,
    "start_time": "2022-12-26T17:42:53.031Z"
   },
   {
    "duration": 22,
    "start_time": "2022-12-26T17:42:53.035Z"
   },
   {
    "duration": 29,
    "start_time": "2022-12-26T17:47:41.361Z"
   },
   {
    "duration": 12,
    "start_time": "2022-12-26T17:47:44.428Z"
   },
   {
    "duration": 29,
    "start_time": "2022-12-26T17:51:25.328Z"
   },
   {
    "duration": 74,
    "start_time": "2022-12-26T17:52:13.304Z"
   },
   {
    "duration": 2592,
    "start_time": "2022-12-26T17:56:57.444Z"
   },
   {
    "duration": 2561,
    "start_time": "2022-12-26T17:57:35.430Z"
   },
   {
    "duration": 2649,
    "start_time": "2022-12-26T17:57:47.684Z"
   },
   {
    "duration": 2610,
    "start_time": "2022-12-26T17:58:17.879Z"
   },
   {
    "duration": 2570,
    "start_time": "2022-12-26T17:58:25.631Z"
   },
   {
    "duration": 2728,
    "start_time": "2022-12-26T17:58:33.759Z"
   },
   {
    "duration": 2585,
    "start_time": "2022-12-26T17:58:47.623Z"
   },
   {
    "duration": 2583,
    "start_time": "2022-12-26T17:58:57.592Z"
   },
   {
    "duration": 2601,
    "start_time": "2022-12-26T17:59:14.521Z"
   },
   {
    "duration": 2476,
    "start_time": "2022-12-26T17:59:25.913Z"
   },
   {
    "duration": 2528,
    "start_time": "2022-12-26T17:59:37.739Z"
   },
   {
    "duration": 2535,
    "start_time": "2022-12-26T17:59:49.449Z"
   },
   {
    "duration": 2785,
    "start_time": "2022-12-26T18:00:02.258Z"
   },
   {
    "duration": 2497,
    "start_time": "2022-12-26T18:00:07.497Z"
   },
   {
    "duration": 2556,
    "start_time": "2022-12-26T18:00:35.123Z"
   },
   {
    "duration": 2568,
    "start_time": "2022-12-26T18:01:10.373Z"
   },
   {
    "duration": 2718,
    "start_time": "2022-12-26T18:01:25.206Z"
   },
   {
    "duration": 2537,
    "start_time": "2022-12-26T18:01:31.285Z"
   },
   {
    "duration": 2585,
    "start_time": "2022-12-26T18:01:47.254Z"
   },
   {
    "duration": 2773,
    "start_time": "2022-12-26T18:02:00.259Z"
   },
   {
    "duration": 2648,
    "start_time": "2022-12-26T18:02:11.910Z"
   },
   {
    "duration": 2533,
    "start_time": "2022-12-26T18:02:28.303Z"
   },
   {
    "duration": 2614,
    "start_time": "2022-12-26T18:03:08.592Z"
   },
   {
    "duration": 2450,
    "start_time": "2022-12-26T18:05:22.767Z"
   },
   {
    "duration": 2512,
    "start_time": "2022-12-26T18:05:42.494Z"
   },
   {
    "duration": 69,
    "start_time": "2022-12-26T18:06:23.672Z"
   },
   {
    "duration": 1457,
    "start_time": "2022-12-26T18:06:32.662Z"
   },
   {
    "duration": 15,
    "start_time": "2022-12-26T18:06:34.121Z"
   },
   {
    "duration": 8,
    "start_time": "2022-12-26T18:06:34.137Z"
   },
   {
    "duration": 7,
    "start_time": "2022-12-26T18:06:34.147Z"
   },
   {
    "duration": 4,
    "start_time": "2022-12-26T18:06:34.156Z"
   },
   {
    "duration": 86,
    "start_time": "2022-12-26T18:06:34.161Z"
   },
   {
    "duration": 2676,
    "start_time": "2022-12-26T18:06:34.249Z"
   },
   {
    "duration": 24,
    "start_time": "2022-12-26T18:06:36.927Z"
   },
   {
    "duration": 12,
    "start_time": "2022-12-26T18:06:36.952Z"
   },
   {
    "duration": 13,
    "start_time": "2022-12-26T18:06:36.968Z"
   },
   {
    "duration": 9,
    "start_time": "2022-12-26T18:06:36.983Z"
   },
   {
    "duration": 31,
    "start_time": "2022-12-26T18:06:36.994Z"
   },
   {
    "duration": 14,
    "start_time": "2022-12-26T18:06:37.026Z"
   },
   {
    "duration": 12,
    "start_time": "2022-12-26T18:06:37.042Z"
   },
   {
    "duration": 4,
    "start_time": "2022-12-26T18:06:37.056Z"
   },
   {
    "duration": 7,
    "start_time": "2022-12-26T18:06:37.062Z"
   },
   {
    "duration": 8,
    "start_time": "2022-12-26T18:06:37.070Z"
   },
   {
    "duration": 35,
    "start_time": "2022-12-26T18:06:37.080Z"
   },
   {
    "duration": 28,
    "start_time": "2022-12-26T18:06:37.117Z"
   },
   {
    "duration": 2,
    "start_time": "2022-12-26T18:06:37.147Z"
   },
   {
    "duration": 10,
    "start_time": "2022-12-26T18:06:37.151Z"
   },
   {
    "duration": 11,
    "start_time": "2022-12-26T18:06:37.162Z"
   },
   {
    "duration": 12,
    "start_time": "2022-12-26T18:06:37.174Z"
   },
   {
    "duration": 61,
    "start_time": "2022-12-26T18:06:37.188Z"
   },
   {
    "duration": 15,
    "start_time": "2022-12-26T18:06:37.251Z"
   },
   {
    "duration": 18,
    "start_time": "2022-12-26T18:06:37.268Z"
   },
   {
    "duration": 231,
    "start_time": "2022-12-26T18:06:37.287Z"
   },
   {
    "duration": 8,
    "start_time": "2022-12-26T18:06:37.521Z"
   },
   {
    "duration": 27,
    "start_time": "2022-12-26T18:06:37.531Z"
   },
   {
    "duration": 6,
    "start_time": "2022-12-26T18:06:37.560Z"
   },
   {
    "duration": 10,
    "start_time": "2022-12-26T18:06:37.567Z"
   },
   {
    "duration": 17,
    "start_time": "2022-12-26T18:06:37.578Z"
   },
   {
    "duration": 506,
    "start_time": "2022-12-26T18:06:37.596Z"
   },
   {
    "duration": 5,
    "start_time": "2022-12-26T18:06:38.103Z"
   },
   {
    "duration": 30,
    "start_time": "2022-12-26T18:06:38.110Z"
   },
   {
    "duration": 70,
    "start_time": "2022-12-26T18:06:38.142Z"
   },
   {
    "duration": 2516,
    "start_time": "2022-12-26T18:06:38.221Z"
   },
   {
    "duration": 194,
    "start_time": "2022-12-26T18:06:40.739Z"
   },
   {
    "duration": 11,
    "start_time": "2022-12-26T18:06:40.934Z"
   },
   {
    "duration": 9,
    "start_time": "2022-12-26T18:06:40.947Z"
   },
   {
    "duration": 144,
    "start_time": "2022-12-26T18:06:40.957Z"
   },
   {
    "duration": 169,
    "start_time": "2022-12-26T18:06:41.102Z"
   },
   {
    "duration": 164,
    "start_time": "2022-12-26T18:06:41.272Z"
   },
   {
    "duration": 173,
    "start_time": "2022-12-26T18:06:41.437Z"
   },
   {
    "duration": 162,
    "start_time": "2022-12-26T18:06:41.612Z"
   },
   {
    "duration": 197,
    "start_time": "2022-12-26T18:06:41.775Z"
   },
   {
    "duration": 3,
    "start_time": "2022-12-26T18:06:41.974Z"
   },
   {
    "duration": 14,
    "start_time": "2022-12-26T18:06:41.979Z"
   },
   {
    "duration": 11,
    "start_time": "2022-12-26T18:06:41.995Z"
   },
   {
    "duration": 53,
    "start_time": "2022-12-26T18:06:42.007Z"
   },
   {
    "duration": 9,
    "start_time": "2022-12-26T18:06:42.061Z"
   },
   {
    "duration": 9,
    "start_time": "2022-12-26T18:06:42.072Z"
   },
   {
    "duration": 169,
    "start_time": "2022-12-26T18:06:42.082Z"
   },
   {
    "duration": 4,
    "start_time": "2022-12-26T18:06:42.252Z"
   },
   {
    "duration": 448,
    "start_time": "2022-12-26T18:06:42.258Z"
   },
   {
    "duration": 23,
    "start_time": "2022-12-26T18:06:42.708Z"
   },
   {
    "duration": 159,
    "start_time": "2022-12-26T18:06:42.733Z"
   },
   {
    "duration": 139,
    "start_time": "2022-12-26T18:06:42.893Z"
   },
   {
    "duration": 128,
    "start_time": "2022-12-26T18:06:43.033Z"
   },
   {
    "duration": 3,
    "start_time": "2022-12-26T18:06:43.162Z"
   },
   {
    "duration": 10,
    "start_time": "2022-12-26T18:06:43.166Z"
   },
   {
    "duration": 2575,
    "start_time": "2022-12-26T18:07:04.536Z"
   },
   {
    "duration": 2572,
    "start_time": "2022-12-26T18:07:54.730Z"
   },
   {
    "duration": 62,
    "start_time": "2022-12-26T18:54:07.786Z"
   },
   {
    "duration": 6,
    "start_time": "2022-12-26T18:54:32.410Z"
   },
   {
    "duration": 156,
    "start_time": "2022-12-26T19:26:29.432Z"
   },
   {
    "duration": 46,
    "start_time": "2022-12-26T19:26:49.695Z"
   },
   {
    "duration": 155,
    "start_time": "2022-12-26T19:26:53.623Z"
   },
   {
    "duration": 759,
    "start_time": "2022-12-26T19:27:43.202Z"
   },
   {
    "duration": 150,
    "start_time": "2022-12-26T19:28:38.203Z"
   },
   {
    "duration": 685,
    "start_time": "2022-12-26T19:28:46.411Z"
   },
   {
    "duration": 142,
    "start_time": "2022-12-26T19:29:05.732Z"
   },
   {
    "duration": 280,
    "start_time": "2022-12-26T19:29:13.334Z"
   },
   {
    "duration": 151,
    "start_time": "2022-12-26T19:29:51.613Z"
   },
   {
    "duration": 148,
    "start_time": "2022-12-26T19:30:17.510Z"
   },
   {
    "duration": 892,
    "start_time": "2022-12-26T19:33:57.717Z"
   },
   {
    "duration": 176,
    "start_time": "2022-12-26T19:34:28.150Z"
   },
   {
    "duration": 284,
    "start_time": "2022-12-26T19:34:32.288Z"
   },
   {
    "duration": 1084,
    "start_time": "2022-12-26T19:34:36.703Z"
   },
   {
    "duration": 229,
    "start_time": "2022-12-26T19:34:42.023Z"
   },
   {
    "duration": 131,
    "start_time": "2022-12-26T19:34:49.335Z"
   },
   {
    "duration": 1023,
    "start_time": "2022-12-26T19:34:57.432Z"
   },
   {
    "duration": 236,
    "start_time": "2022-12-26T19:35:23.912Z"
   },
   {
    "duration": 200,
    "start_time": "2022-12-26T19:35:36.033Z"
   },
   {
    "duration": 157,
    "start_time": "2022-12-26T19:36:16.467Z"
   },
   {
    "duration": 197,
    "start_time": "2022-12-26T19:36:24.643Z"
   },
   {
    "duration": 312,
    "start_time": "2022-12-26T19:36:28.922Z"
   },
   {
    "duration": 226,
    "start_time": "2022-12-26T19:36:47.971Z"
   },
   {
    "duration": 206,
    "start_time": "2022-12-26T19:39:50.088Z"
   },
   {
    "duration": 735,
    "start_time": "2022-12-26T19:40:56.453Z"
   },
   {
    "duration": 735,
    "start_time": "2022-12-26T19:41:30.941Z"
   },
   {
    "duration": 29,
    "start_time": "2022-12-26T19:51:56.162Z"
   },
   {
    "duration": 703,
    "start_time": "2022-12-26T19:52:13.229Z"
   },
   {
    "duration": 215,
    "start_time": "2022-12-26T19:52:26.348Z"
   },
   {
    "duration": 130,
    "start_time": "2022-12-26T19:53:03.563Z"
   },
   {
    "duration": 122,
    "start_time": "2022-12-26T19:53:18.158Z"
   },
   {
    "duration": 123,
    "start_time": "2022-12-26T19:53:26.206Z"
   },
   {
    "duration": 291,
    "start_time": "2022-12-26T19:55:20.307Z"
   },
   {
    "duration": 202,
    "start_time": "2022-12-26T19:56:00.252Z"
   },
   {
    "duration": 266,
    "start_time": "2022-12-26T19:56:26.341Z"
   },
   {
    "duration": 313,
    "start_time": "2022-12-26T19:56:43.654Z"
   },
   {
    "duration": 196,
    "start_time": "2022-12-26T19:56:56.940Z"
   },
   {
    "duration": 177,
    "start_time": "2022-12-26T19:57:45.975Z"
   },
   {
    "duration": 192,
    "start_time": "2022-12-26T19:57:59.983Z"
   },
   {
    "duration": 313,
    "start_time": "2022-12-26T19:58:09.767Z"
   },
   {
    "duration": 300,
    "start_time": "2022-12-26T19:58:16.535Z"
   },
   {
    "duration": 203,
    "start_time": "2022-12-26T19:58:21.129Z"
   },
   {
    "duration": 148,
    "start_time": "2022-12-26T19:58:42.145Z"
   },
   {
    "duration": 243,
    "start_time": "2022-12-26T19:58:48.641Z"
   },
   {
    "duration": 230,
    "start_time": "2022-12-26T19:59:30.867Z"
   },
   {
    "duration": 232,
    "start_time": "2022-12-26T19:59:56.853Z"
   },
   {
    "duration": 241,
    "start_time": "2022-12-26T20:00:01.372Z"
   },
   {
    "duration": 212,
    "start_time": "2022-12-26T20:00:29.125Z"
   },
   {
    "duration": 29009,
    "start_time": "2022-12-26T20:01:35.508Z"
   },
   {
    "duration": 138,
    "start_time": "2022-12-26T20:07:16.067Z"
   },
   {
    "duration": 50,
    "start_time": "2022-12-26T20:07:16.213Z"
   },
   {
    "duration": 24,
    "start_time": "2022-12-26T20:07:16.278Z"
   },
   {
    "duration": 20,
    "start_time": "2022-12-26T20:07:16.319Z"
   },
   {
    "duration": 4,
    "start_time": "2022-12-26T20:07:16.474Z"
   },
   {
    "duration": 96,
    "start_time": "2022-12-26T20:07:19.882Z"
   },
   {
    "duration": 9227,
    "start_time": "2022-12-26T20:07:20.007Z"
   },
   {
    "duration": 23,
    "start_time": "2022-12-26T20:07:29.250Z"
   },
   {
    "duration": 36,
    "start_time": "2022-12-26T20:07:29.288Z"
   },
   {
    "duration": 14,
    "start_time": "2022-12-26T20:07:29.348Z"
   },
   {
    "duration": 17,
    "start_time": "2022-12-26T20:07:29.370Z"
   },
   {
    "duration": 0,
    "start_time": "2022-12-26T20:07:29.393Z"
   },
   {
    "duration": 0,
    "start_time": "2022-12-26T20:07:29.396Z"
   },
   {
    "duration": 0,
    "start_time": "2022-12-26T20:07:29.398Z"
   },
   {
    "duration": 0,
    "start_time": "2022-12-26T20:07:29.401Z"
   },
   {
    "duration": 1,
    "start_time": "2022-12-26T20:07:29.422Z"
   },
   {
    "duration": 0,
    "start_time": "2022-12-26T20:07:29.424Z"
   },
   {
    "duration": 0,
    "start_time": "2022-12-26T20:07:29.426Z"
   },
   {
    "duration": 0,
    "start_time": "2022-12-26T20:07:29.428Z"
   },
   {
    "duration": 0,
    "start_time": "2022-12-26T20:07:29.430Z"
   },
   {
    "duration": 0,
    "start_time": "2022-12-26T20:07:29.433Z"
   },
   {
    "duration": 0,
    "start_time": "2022-12-26T20:07:29.435Z"
   },
   {
    "duration": 0,
    "start_time": "2022-12-26T20:07:29.437Z"
   },
   {
    "duration": 0,
    "start_time": "2022-12-26T20:07:29.439Z"
   },
   {
    "duration": 0,
    "start_time": "2022-12-26T20:07:29.441Z"
   },
   {
    "duration": 1,
    "start_time": "2022-12-26T20:07:29.443Z"
   },
   {
    "duration": 0,
    "start_time": "2022-12-26T20:07:29.446Z"
   },
   {
    "duration": 0,
    "start_time": "2022-12-26T20:07:29.448Z"
   },
   {
    "duration": 0,
    "start_time": "2022-12-26T20:07:29.450Z"
   },
   {
    "duration": 0,
    "start_time": "2022-12-26T20:07:29.452Z"
   },
   {
    "duration": 0,
    "start_time": "2022-12-26T20:07:29.455Z"
   },
   {
    "duration": 0,
    "start_time": "2022-12-26T20:07:29.457Z"
   },
   {
    "duration": 0,
    "start_time": "2022-12-26T20:07:29.460Z"
   },
   {
    "duration": 0,
    "start_time": "2022-12-26T20:07:29.463Z"
   },
   {
    "duration": 0,
    "start_time": "2022-12-26T20:07:29.466Z"
   },
   {
    "duration": 0,
    "start_time": "2022-12-26T20:07:29.528Z"
   },
   {
    "duration": 0,
    "start_time": "2022-12-26T20:07:29.531Z"
   },
   {
    "duration": 0,
    "start_time": "2022-12-26T20:07:29.533Z"
   },
   {
    "duration": 0,
    "start_time": "2022-12-26T20:07:29.535Z"
   },
   {
    "duration": 0,
    "start_time": "2022-12-26T20:07:29.537Z"
   },
   {
    "duration": 0,
    "start_time": "2022-12-26T20:07:29.540Z"
   },
   {
    "duration": 0,
    "start_time": "2022-12-26T20:07:29.542Z"
   },
   {
    "duration": 0,
    "start_time": "2022-12-26T20:07:29.544Z"
   },
   {
    "duration": 0,
    "start_time": "2022-12-26T20:07:29.546Z"
   },
   {
    "duration": 0,
    "start_time": "2022-12-26T20:07:29.548Z"
   },
   {
    "duration": 0,
    "start_time": "2022-12-26T20:07:29.550Z"
   },
   {
    "duration": 0,
    "start_time": "2022-12-26T20:07:29.553Z"
   },
   {
    "duration": 0,
    "start_time": "2022-12-26T20:07:29.555Z"
   },
   {
    "duration": 0,
    "start_time": "2022-12-26T20:07:29.557Z"
   },
   {
    "duration": 0,
    "start_time": "2022-12-26T20:07:29.560Z"
   },
   {
    "duration": 0,
    "start_time": "2022-12-26T20:07:29.562Z"
   },
   {
    "duration": 0,
    "start_time": "2022-12-26T20:07:29.564Z"
   },
   {
    "duration": 0,
    "start_time": "2022-12-26T20:07:29.622Z"
   },
   {
    "duration": 0,
    "start_time": "2022-12-26T20:07:29.624Z"
   },
   {
    "duration": 0,
    "start_time": "2022-12-26T20:07:29.626Z"
   },
   {
    "duration": 0,
    "start_time": "2022-12-26T20:07:29.628Z"
   },
   {
    "duration": 0,
    "start_time": "2022-12-26T20:07:29.630Z"
   },
   {
    "duration": 0,
    "start_time": "2022-12-26T20:07:29.633Z"
   },
   {
    "duration": 117,
    "start_time": "2022-12-26T20:08:08.861Z"
   },
   {
    "duration": 15,
    "start_time": "2022-12-26T20:08:08.981Z"
   },
   {
    "duration": 37,
    "start_time": "2022-12-26T20:08:08.998Z"
   },
   {
    "duration": 8,
    "start_time": "2022-12-26T20:08:09.044Z"
   },
   {
    "duration": 6,
    "start_time": "2022-12-26T20:08:09.055Z"
   },
   {
    "duration": 90,
    "start_time": "2022-12-26T20:08:09.063Z"
   },
   {
    "duration": 3280,
    "start_time": "2022-12-26T20:08:09.155Z"
   },
   {
    "duration": 24,
    "start_time": "2022-12-26T20:08:12.438Z"
   },
   {
    "duration": 10,
    "start_time": "2022-12-26T20:08:12.464Z"
   },
   {
    "duration": 11,
    "start_time": "2022-12-26T20:08:12.476Z"
   },
   {
    "duration": 5,
    "start_time": "2022-12-26T20:08:12.489Z"
   },
   {
    "duration": 35,
    "start_time": "2022-12-26T20:08:12.495Z"
   },
   {
    "duration": 17,
    "start_time": "2022-12-26T20:08:12.533Z"
   },
   {
    "duration": 5,
    "start_time": "2022-12-26T20:08:12.552Z"
   },
   {
    "duration": 4,
    "start_time": "2022-12-26T20:08:12.559Z"
   },
   {
    "duration": 5,
    "start_time": "2022-12-26T20:08:12.565Z"
   },
   {
    "duration": 7,
    "start_time": "2022-12-26T20:08:12.572Z"
   },
   {
    "duration": 49,
    "start_time": "2022-12-26T20:08:12.581Z"
   },
   {
    "duration": 38,
    "start_time": "2022-12-26T20:08:12.631Z"
   },
   {
    "duration": 2,
    "start_time": "2022-12-26T20:08:12.671Z"
   },
   {
    "duration": 9,
    "start_time": "2022-12-26T20:08:12.675Z"
   },
   {
    "duration": 14,
    "start_time": "2022-12-26T20:08:12.686Z"
   },
   {
    "duration": 38,
    "start_time": "2022-12-26T20:08:12.702Z"
   },
   {
    "duration": 72,
    "start_time": "2022-12-26T20:08:12.743Z"
   },
   {
    "duration": 21,
    "start_time": "2022-12-26T20:08:12.817Z"
   },
   {
    "duration": 25,
    "start_time": "2022-12-26T20:08:12.841Z"
   },
   {
    "duration": 250,
    "start_time": "2022-12-26T20:08:12.868Z"
   },
   {
    "duration": 16,
    "start_time": "2022-12-26T20:08:13.122Z"
   },
   {
    "duration": 31,
    "start_time": "2022-12-26T20:08:13.140Z"
   },
   {
    "duration": 7,
    "start_time": "2022-12-26T20:08:13.173Z"
   },
   {
    "duration": 7,
    "start_time": "2022-12-26T20:08:13.182Z"
   },
   {
    "duration": 32,
    "start_time": "2022-12-26T20:08:13.191Z"
   },
   {
    "duration": 567,
    "start_time": "2022-12-26T20:08:13.227Z"
   },
   {
    "duration": 5,
    "start_time": "2022-12-26T20:08:13.795Z"
   },
   {
    "duration": 33,
    "start_time": "2022-12-26T20:08:13.801Z"
   },
   {
    "duration": 108,
    "start_time": "2022-12-26T20:08:13.837Z"
   },
   {
    "duration": 2965,
    "start_time": "2022-12-26T20:08:13.946Z"
   },
   {
    "duration": 230,
    "start_time": "2022-12-26T20:08:16.914Z"
   },
   {
    "duration": 9,
    "start_time": "2022-12-26T20:08:17.149Z"
   },
   {
    "duration": 9,
    "start_time": "2022-12-26T20:08:17.160Z"
   },
   {
    "duration": 231,
    "start_time": "2022-12-26T20:08:17.170Z"
   },
   {
    "duration": 220,
    "start_time": "2022-12-26T20:08:17.404Z"
   },
   {
    "duration": 218,
    "start_time": "2022-12-26T20:08:17.639Z"
   },
   {
    "duration": 8,
    "start_time": "2022-12-26T20:13:09.188Z"
   },
   {
    "duration": 5,
    "start_time": "2022-12-26T20:13:09.199Z"
   },
   {
    "duration": 73,
    "start_time": "2022-12-26T20:13:09.207Z"
   },
   {
    "duration": 8,
    "start_time": "2022-12-26T20:13:09.282Z"
   },
   {
    "duration": 24,
    "start_time": "2022-12-26T20:13:09.291Z"
   },
   {
    "duration": 175,
    "start_time": "2022-12-26T20:13:09.318Z"
   },
   {
    "duration": 5,
    "start_time": "2022-12-26T20:13:09.495Z"
   },
   {
    "duration": 367,
    "start_time": "2022-12-26T20:13:09.502Z"
   },
   {
    "duration": 28,
    "start_time": "2022-12-26T20:13:09.873Z"
   },
   {
    "duration": 184,
    "start_time": "2022-12-26T20:13:09.904Z"
   },
   {
    "duration": 168,
    "start_time": "2022-12-26T20:13:10.090Z"
   },
   {
    "duration": 134,
    "start_time": "2022-12-26T20:13:10.260Z"
   },
   {
    "duration": 6,
    "start_time": "2022-12-26T20:13:10.396Z"
   },
   {
    "duration": 231,
    "start_time": "2022-12-26T20:18:05.606Z"
   },
   {
    "duration": 219,
    "start_time": "2022-12-26T20:18:05.841Z"
   },
   {
    "duration": 0,
    "start_time": "2022-12-26T20:18:06.791Z"
   },
   {
    "duration": 0,
    "start_time": "2022-12-26T20:18:06.791Z"
   },
   {
    "duration": 0,
    "start_time": "2022-12-26T20:18:06.793Z"
   },
   {
    "duration": 0,
    "start_time": "2022-12-26T20:18:06.794Z"
   },
   {
    "duration": 0,
    "start_time": "2022-12-26T20:18:06.795Z"
   },
   {
    "duration": 0,
    "start_time": "2022-12-26T20:18:06.797Z"
   },
   {
    "duration": 0,
    "start_time": "2022-12-26T20:18:06.798Z"
   },
   {
    "duration": 0,
    "start_time": "2022-12-26T20:18:06.799Z"
   },
   {
    "duration": 0,
    "start_time": "2022-12-26T20:18:06.821Z"
   },
   {
    "duration": 0,
    "start_time": "2022-12-26T20:18:06.822Z"
   },
   {
    "duration": 0,
    "start_time": "2022-12-26T20:18:06.823Z"
   },
   {
    "duration": 0,
    "start_time": "2022-12-26T20:18:06.823Z"
   },
   {
    "duration": 0,
    "start_time": "2022-12-26T20:18:06.824Z"
   },
   {
    "duration": 0,
    "start_time": "2022-12-26T20:18:06.825Z"
   },
   {
    "duration": 0,
    "start_time": "2022-12-26T20:18:06.826Z"
   },
   {
    "duration": 0,
    "start_time": "2022-12-26T20:18:06.826Z"
   },
   {
    "duration": 0,
    "start_time": "2022-12-26T20:18:06.829Z"
   },
   {
    "duration": 0,
    "start_time": "2022-12-26T20:18:06.829Z"
   },
   {
    "duration": 0,
    "start_time": "2022-12-26T20:18:06.832Z"
   },
   {
    "duration": 0,
    "start_time": "2022-12-26T20:18:06.832Z"
   },
   {
    "duration": 0,
    "start_time": "2022-12-26T20:18:06.833Z"
   },
   {
    "duration": 0,
    "start_time": "2022-12-26T20:18:06.836Z"
   },
   {
    "duration": 0,
    "start_time": "2022-12-26T20:18:06.836Z"
   },
   {
    "duration": 0,
    "start_time": "2022-12-26T20:18:06.837Z"
   },
   {
    "duration": 0,
    "start_time": "2022-12-26T20:18:06.843Z"
   },
   {
    "duration": 0,
    "start_time": "2022-12-26T20:18:06.843Z"
   },
   {
    "duration": 0,
    "start_time": "2022-12-26T20:18:06.844Z"
   },
   {
    "duration": 0,
    "start_time": "2022-12-26T20:18:06.846Z"
   },
   {
    "duration": 0,
    "start_time": "2022-12-26T20:18:06.847Z"
   },
   {
    "duration": 0,
    "start_time": "2022-12-26T20:18:06.848Z"
   },
   {
    "duration": 0,
    "start_time": "2022-12-26T20:18:06.849Z"
   },
   {
    "duration": 0,
    "start_time": "2022-12-26T20:18:06.850Z"
   },
   {
    "duration": 0,
    "start_time": "2022-12-26T20:18:06.851Z"
   },
   {
    "duration": 0,
    "start_time": "2022-12-26T20:18:06.852Z"
   },
   {
    "duration": 0,
    "start_time": "2022-12-26T20:18:06.854Z"
   },
   {
    "duration": 0,
    "start_time": "2022-12-26T20:18:06.854Z"
   },
   {
    "duration": 0,
    "start_time": "2022-12-26T20:18:06.856Z"
   },
   {
    "duration": 0,
    "start_time": "2022-12-26T20:18:06.857Z"
   },
   {
    "duration": 0,
    "start_time": "2022-12-26T20:18:06.858Z"
   },
   {
    "duration": 0,
    "start_time": "2022-12-26T20:18:06.859Z"
   },
   {
    "duration": 0,
    "start_time": "2022-12-26T20:18:06.860Z"
   },
   {
    "duration": 0,
    "start_time": "2022-12-26T20:18:06.861Z"
   },
   {
    "duration": 0,
    "start_time": "2022-12-26T20:18:06.862Z"
   },
   {
    "duration": 0,
    "start_time": "2022-12-26T20:18:06.864Z"
   },
   {
    "duration": 0,
    "start_time": "2022-12-26T20:18:06.865Z"
   },
   {
    "duration": 0,
    "start_time": "2022-12-26T20:18:06.866Z"
   },
   {
    "duration": 0,
    "start_time": "2022-12-26T20:18:06.867Z"
   },
   {
    "duration": 0,
    "start_time": "2022-12-26T20:18:06.929Z"
   },
   {
    "duration": 0,
    "start_time": "2022-12-26T20:18:06.933Z"
   },
   {
    "duration": 0,
    "start_time": "2022-12-26T20:18:06.937Z"
   },
   {
    "duration": 0,
    "start_time": "2022-12-26T20:18:06.938Z"
   },
   {
    "duration": 0,
    "start_time": "2022-12-26T20:18:06.940Z"
   },
   {
    "duration": 0,
    "start_time": "2022-12-26T20:18:06.942Z"
   },
   {
    "duration": 0,
    "start_time": "2022-12-26T20:18:06.944Z"
   },
   {
    "duration": 0,
    "start_time": "2022-12-26T20:18:06.945Z"
   },
   {
    "duration": 0,
    "start_time": "2022-12-26T20:18:06.946Z"
   },
   {
    "duration": 0,
    "start_time": "2022-12-26T20:18:06.948Z"
   },
   {
    "duration": 0,
    "start_time": "2022-12-26T20:18:06.949Z"
   },
   {
    "duration": 0,
    "start_time": "2022-12-26T20:18:06.951Z"
   },
   {
    "duration": 123,
    "start_time": "2022-12-26T20:28:50.314Z"
   },
   {
    "duration": 13,
    "start_time": "2022-12-26T20:28:50.439Z"
   },
   {
    "duration": 7,
    "start_time": "2022-12-26T20:28:50.453Z"
   },
   {
    "duration": 27,
    "start_time": "2022-12-26T20:28:50.462Z"
   },
   {
    "duration": 15,
    "start_time": "2022-12-26T20:28:50.491Z"
   },
   {
    "duration": 113,
    "start_time": "2022-12-26T20:28:50.507Z"
   },
   {
    "duration": 2796,
    "start_time": "2022-12-26T20:28:50.621Z"
   },
   {
    "duration": 29,
    "start_time": "2022-12-26T20:28:53.420Z"
   },
   {
    "duration": 22,
    "start_time": "2022-12-26T20:28:53.451Z"
   },
   {
    "duration": 20,
    "start_time": "2022-12-26T20:28:53.475Z"
   },
   {
    "duration": 14,
    "start_time": "2022-12-26T20:28:53.496Z"
   },
   {
    "duration": 27,
    "start_time": "2022-12-26T20:28:53.511Z"
   },
   {
    "duration": 21,
    "start_time": "2022-12-26T20:28:53.540Z"
   },
   {
    "duration": 11,
    "start_time": "2022-12-26T20:28:53.565Z"
   },
   {
    "duration": 20,
    "start_time": "2022-12-26T20:28:53.578Z"
   },
   {
    "duration": 34,
    "start_time": "2022-12-26T20:28:53.600Z"
   },
   {
    "duration": 15,
    "start_time": "2022-12-26T20:28:53.636Z"
   },
   {
    "duration": 40,
    "start_time": "2022-12-26T20:28:53.653Z"
   },
   {
    "duration": 29,
    "start_time": "2022-12-26T20:28:53.695Z"
   },
   {
    "duration": 6,
    "start_time": "2022-12-26T20:28:53.727Z"
   },
   {
    "duration": 18,
    "start_time": "2022-12-26T20:28:53.739Z"
   },
   {
    "duration": 16,
    "start_time": "2022-12-26T20:28:53.760Z"
   },
   {
    "duration": 23,
    "start_time": "2022-12-26T20:28:53.778Z"
   },
   {
    "duration": 46,
    "start_time": "2022-12-26T20:28:53.803Z"
   },
   {
    "duration": 19,
    "start_time": "2022-12-26T20:28:53.851Z"
   },
   {
    "duration": 25,
    "start_time": "2022-12-26T20:28:53.872Z"
   },
   {
    "duration": 249,
    "start_time": "2022-12-26T20:28:53.899Z"
   },
   {
    "duration": 8,
    "start_time": "2022-12-26T20:28:54.149Z"
   },
   {
    "duration": 41,
    "start_time": "2022-12-26T20:28:54.159Z"
   },
   {
    "duration": 7,
    "start_time": "2022-12-26T20:28:54.202Z"
   },
   {
    "duration": 32,
    "start_time": "2022-12-26T20:28:54.210Z"
   },
   {
    "duration": 22,
    "start_time": "2022-12-26T20:28:54.244Z"
   },
   {
    "duration": 344,
    "start_time": "2022-12-26T20:28:54.268Z"
   },
   {
    "duration": 8,
    "start_time": "2022-12-26T20:28:54.614Z"
   },
   {
    "duration": 57,
    "start_time": "2022-12-26T20:28:54.631Z"
   },
   {
    "duration": 68,
    "start_time": "2022-12-26T20:28:54.690Z"
   },
   {
    "duration": 2612,
    "start_time": "2022-12-26T20:28:54.759Z"
   },
   {
    "duration": 203,
    "start_time": "2022-12-26T20:28:57.373Z"
   },
   {
    "duration": 8,
    "start_time": "2022-12-26T20:28:57.578Z"
   },
   {
    "duration": 24,
    "start_time": "2022-12-26T20:28:57.588Z"
   },
   {
    "duration": 239,
    "start_time": "2022-12-26T20:28:57.616Z"
   },
   {
    "duration": 213,
    "start_time": "2022-12-26T20:28:57.857Z"
   },
   {
    "duration": 223,
    "start_time": "2022-12-26T20:28:58.072Z"
   },
   {
    "duration": 193,
    "start_time": "2022-12-26T20:28:58.297Z"
   },
   {
    "duration": 496,
    "start_time": "2022-12-26T20:28:58.491Z"
   },
   {
    "duration": 0,
    "start_time": "2022-12-26T20:28:58.989Z"
   },
   {
    "duration": 0,
    "start_time": "2022-12-26T20:28:58.990Z"
   },
   {
    "duration": 0,
    "start_time": "2022-12-26T20:28:58.991Z"
   },
   {
    "duration": 0,
    "start_time": "2022-12-26T20:28:58.992Z"
   },
   {
    "duration": 0,
    "start_time": "2022-12-26T20:28:58.993Z"
   },
   {
    "duration": 1,
    "start_time": "2022-12-26T20:28:58.994Z"
   },
   {
    "duration": 0,
    "start_time": "2022-12-26T20:28:58.995Z"
   },
   {
    "duration": 0,
    "start_time": "2022-12-26T20:28:58.996Z"
   },
   {
    "duration": 0,
    "start_time": "2022-12-26T20:28:58.998Z"
   },
   {
    "duration": 0,
    "start_time": "2022-12-26T20:28:58.999Z"
   },
   {
    "duration": 0,
    "start_time": "2022-12-26T20:28:59.000Z"
   },
   {
    "duration": 0,
    "start_time": "2022-12-26T20:28:59.001Z"
   },
   {
    "duration": 0,
    "start_time": "2022-12-26T20:28:59.020Z"
   },
   {
    "duration": 0,
    "start_time": "2022-12-26T20:28:59.021Z"
   },
   {
    "duration": 189,
    "start_time": "2022-12-26T20:30:15.884Z"
   },
   {
    "duration": 6047,
    "start_time": "2022-12-26T20:30:27.830Z"
   },
   {
    "duration": 194,
    "start_time": "2022-12-26T20:30:55.029Z"
   },
   {
    "duration": 271,
    "start_time": "2022-12-26T20:30:55.225Z"
   },
   {
    "duration": 8,
    "start_time": "2022-12-26T20:30:55.497Z"
   },
   {
    "duration": 16,
    "start_time": "2022-12-26T20:30:55.506Z"
   },
   {
    "duration": 44,
    "start_time": "2022-12-26T20:30:55.523Z"
   },
   {
    "duration": 7,
    "start_time": "2022-12-26T20:30:55.568Z"
   },
   {
    "duration": 21,
    "start_time": "2022-12-26T20:30:55.577Z"
   },
   {
    "duration": 143,
    "start_time": "2022-12-26T20:30:55.599Z"
   },
   {
    "duration": 4,
    "start_time": "2022-12-26T20:30:55.743Z"
   },
   {
    "duration": 308,
    "start_time": "2022-12-26T20:30:55.748Z"
   },
   {
    "duration": 18,
    "start_time": "2022-12-26T20:30:56.058Z"
   },
   {
    "duration": 144,
    "start_time": "2022-12-26T20:30:56.077Z"
   },
   {
    "duration": 138,
    "start_time": "2022-12-26T20:30:56.222Z"
   },
   {
    "duration": 122,
    "start_time": "2022-12-26T20:30:56.363Z"
   },
   {
    "duration": 5,
    "start_time": "2022-12-26T20:30:56.487Z"
   },
   {
    "duration": 189,
    "start_time": "2022-12-26T20:31:07.094Z"
   },
   {
    "duration": 127,
    "start_time": "2022-12-26T20:33:40.926Z"
   },
   {
    "duration": 139,
    "start_time": "2022-12-26T20:33:45.315Z"
   },
   {
    "duration": 104,
    "start_time": "2022-12-26T20:33:51.051Z"
   },
   {
    "duration": 10,
    "start_time": "2022-12-26T20:35:20.406Z"
   },
   {
    "duration": 12,
    "start_time": "2022-12-26T20:35:57.110Z"
   },
   {
    "duration": 11,
    "start_time": "2022-12-26T20:36:07.016Z"
   },
   {
    "duration": 5,
    "start_time": "2022-12-26T20:37:00.170Z"
   },
   {
    "duration": 5,
    "start_time": "2022-12-26T20:40:26.024Z"
   },
   {
    "duration": 105,
    "start_time": "2022-12-26T20:40:33.885Z"
   },
   {
    "duration": 32,
    "start_time": "2022-12-26T20:40:33.992Z"
   },
   {
    "duration": 8,
    "start_time": "2022-12-26T20:40:34.025Z"
   },
   {
    "duration": 7,
    "start_time": "2022-12-26T20:40:34.035Z"
   },
   {
    "duration": 9,
    "start_time": "2022-12-26T20:40:34.043Z"
   },
   {
    "duration": 83,
    "start_time": "2022-12-26T20:40:34.053Z"
   },
   {
    "duration": 2770,
    "start_time": "2022-12-26T20:40:34.138Z"
   },
   {
    "duration": 28,
    "start_time": "2022-12-26T20:40:36.910Z"
   },
   {
    "duration": 8,
    "start_time": "2022-12-26T20:40:36.940Z"
   },
   {
    "duration": 22,
    "start_time": "2022-12-26T20:40:36.950Z"
   },
   {
    "duration": 5,
    "start_time": "2022-12-26T20:40:36.973Z"
   },
   {
    "duration": 10,
    "start_time": "2022-12-26T20:40:36.979Z"
   },
   {
    "duration": 8,
    "start_time": "2022-12-26T20:40:36.990Z"
   },
   {
    "duration": 5,
    "start_time": "2022-12-26T20:40:37.000Z"
   },
   {
    "duration": 17,
    "start_time": "2022-12-26T20:40:37.006Z"
   },
   {
    "duration": 6,
    "start_time": "2022-12-26T20:40:37.024Z"
   },
   {
    "duration": 6,
    "start_time": "2022-12-26T20:40:37.032Z"
   },
   {
    "duration": 26,
    "start_time": "2022-12-26T20:40:37.039Z"
   },
   {
    "duration": 26,
    "start_time": "2022-12-26T20:40:37.067Z"
   },
   {
    "duration": 29,
    "start_time": "2022-12-26T20:40:37.095Z"
   },
   {
    "duration": 15,
    "start_time": "2022-12-26T20:40:37.125Z"
   },
   {
    "duration": 14,
    "start_time": "2022-12-26T20:40:37.141Z"
   },
   {
    "duration": 45,
    "start_time": "2022-12-26T20:40:37.156Z"
   },
   {
    "duration": 29,
    "start_time": "2022-12-26T20:40:37.202Z"
   },
   {
    "duration": 30,
    "start_time": "2022-12-26T20:40:37.232Z"
   },
   {
    "duration": 210,
    "start_time": "2022-12-26T20:40:37.264Z"
   },
   {
    "duration": 6,
    "start_time": "2022-12-26T20:40:37.476Z"
   },
   {
    "duration": 38,
    "start_time": "2022-12-26T20:40:37.487Z"
   },
   {
    "duration": 6,
    "start_time": "2022-12-26T20:40:37.527Z"
   },
   {
    "duration": 9,
    "start_time": "2022-12-26T20:40:37.534Z"
   },
   {
    "duration": 19,
    "start_time": "2022-12-26T20:40:37.546Z"
   },
   {
    "duration": 310,
    "start_time": "2022-12-26T20:40:37.566Z"
   },
   {
    "duration": 4,
    "start_time": "2022-12-26T20:40:37.878Z"
   },
   {
    "duration": 38,
    "start_time": "2022-12-26T20:40:37.884Z"
   },
   {
    "duration": 66,
    "start_time": "2022-12-26T20:40:37.923Z"
   },
   {
    "duration": 2578,
    "start_time": "2022-12-26T20:40:37.991Z"
   },
   {
    "duration": 331,
    "start_time": "2022-12-26T20:40:40.571Z"
   },
   {
    "duration": 17,
    "start_time": "2022-12-26T20:40:40.904Z"
   },
   {
    "duration": 8,
    "start_time": "2022-12-26T20:40:40.922Z"
   },
   {
    "duration": 217,
    "start_time": "2022-12-26T20:40:40.932Z"
   },
   {
    "duration": 199,
    "start_time": "2022-12-26T20:40:41.151Z"
   },
   {
    "duration": 218,
    "start_time": "2022-12-26T20:40:41.351Z"
   },
   {
    "duration": 195,
    "start_time": "2022-12-26T20:40:41.571Z"
   },
   {
    "duration": 8,
    "start_time": "2022-12-26T20:40:41.768Z"
   },
   {
    "duration": 9,
    "start_time": "2022-12-26T20:40:41.777Z"
   },
   {
    "duration": 43,
    "start_time": "2022-12-26T20:40:41.787Z"
   },
   {
    "duration": 9,
    "start_time": "2022-12-26T20:40:41.831Z"
   },
   {
    "duration": 7,
    "start_time": "2022-12-26T20:40:41.842Z"
   },
   {
    "duration": 163,
    "start_time": "2022-12-26T20:40:41.851Z"
   },
   {
    "duration": 6,
    "start_time": "2022-12-26T20:40:42.015Z"
   },
   {
    "duration": 299,
    "start_time": "2022-12-26T20:40:42.023Z"
   },
   {
    "duration": 20,
    "start_time": "2022-12-26T20:40:42.324Z"
   },
   {
    "duration": 140,
    "start_time": "2022-12-26T20:40:42.345Z"
   },
   {
    "duration": 142,
    "start_time": "2022-12-26T20:40:42.487Z"
   },
   {
    "duration": 109,
    "start_time": "2022-12-26T20:40:42.631Z"
   },
   {
    "duration": 16,
    "start_time": "2022-12-26T20:40:42.742Z"
   },
   {
    "duration": 1659,
    "start_time": "2022-12-27T06:23:45.371Z"
   },
   {
    "duration": 28,
    "start_time": "2022-12-27T06:23:47.033Z"
   },
   {
    "duration": 5,
    "start_time": "2022-12-27T06:23:47.063Z"
   },
   {
    "duration": 6,
    "start_time": "2022-12-27T06:23:47.071Z"
   },
   {
    "duration": 8,
    "start_time": "2022-12-27T06:23:47.080Z"
   },
   {
    "duration": 110,
    "start_time": "2022-12-27T06:23:47.090Z"
   },
   {
    "duration": 3716,
    "start_time": "2022-12-27T06:23:47.202Z"
   },
   {
    "duration": 38,
    "start_time": "2022-12-27T06:23:50.920Z"
   },
   {
    "duration": 16,
    "start_time": "2022-12-27T06:23:50.960Z"
   },
   {
    "duration": 18,
    "start_time": "2022-12-27T06:23:50.978Z"
   },
   {
    "duration": 6,
    "start_time": "2022-12-27T06:23:50.998Z"
   },
   {
    "duration": 9,
    "start_time": "2022-12-27T06:23:51.005Z"
   },
   {
    "duration": 39,
    "start_time": "2022-12-27T06:23:51.016Z"
   },
   {
    "duration": 8,
    "start_time": "2022-12-27T06:23:51.056Z"
   },
   {
    "duration": 11,
    "start_time": "2022-12-27T06:23:51.065Z"
   },
   {
    "duration": 15,
    "start_time": "2022-12-27T06:23:51.078Z"
   },
   {
    "duration": 19,
    "start_time": "2022-12-27T06:23:51.095Z"
   },
   {
    "duration": 173,
    "start_time": "2022-12-27T06:23:51.116Z"
   },
   {
    "duration": 35,
    "start_time": "2022-12-27T06:23:51.290Z"
   },
   {
    "duration": 24,
    "start_time": "2022-12-27T06:23:51.327Z"
   },
   {
    "duration": 23,
    "start_time": "2022-12-27T06:23:51.354Z"
   },
   {
    "duration": 28,
    "start_time": "2022-12-27T06:23:51.380Z"
   },
   {
    "duration": 92,
    "start_time": "2022-12-27T06:23:51.411Z"
   },
   {
    "duration": 18,
    "start_time": "2022-12-27T06:23:51.506Z"
   },
   {
    "duration": 35,
    "start_time": "2022-12-27T06:23:51.526Z"
   },
   {
    "duration": 270,
    "start_time": "2022-12-27T06:23:51.563Z"
   },
   {
    "duration": 6,
    "start_time": "2022-12-27T06:23:51.835Z"
   },
   {
    "duration": 30,
    "start_time": "2022-12-27T06:23:51.844Z"
   },
   {
    "duration": 6,
    "start_time": "2022-12-27T06:23:51.875Z"
   },
   {
    "duration": 7,
    "start_time": "2022-12-27T06:23:51.883Z"
   },
   {
    "duration": 16,
    "start_time": "2022-12-27T06:23:51.892Z"
   },
   {
    "duration": 310,
    "start_time": "2022-12-27T06:23:51.910Z"
   },
   {
    "duration": 4,
    "start_time": "2022-12-27T06:23:52.223Z"
   },
   {
    "duration": 29,
    "start_time": "2022-12-27T06:23:52.228Z"
   },
   {
    "duration": 94,
    "start_time": "2022-12-27T06:23:52.260Z"
   },
   {
    "duration": 5345,
    "start_time": "2022-12-27T06:23:52.357Z"
   },
   {
    "duration": 378,
    "start_time": "2022-12-27T06:23:57.704Z"
   },
   {
    "duration": 10,
    "start_time": "2022-12-27T06:23:58.084Z"
   },
   {
    "duration": 14,
    "start_time": "2022-12-27T06:23:58.096Z"
   },
   {
    "duration": 451,
    "start_time": "2022-12-27T06:23:58.112Z"
   },
   {
    "duration": 365,
    "start_time": "2022-12-27T06:23:58.565Z"
   },
   {
    "duration": 442,
    "start_time": "2022-12-27T06:23:58.931Z"
   },
   {
    "duration": 415,
    "start_time": "2022-12-27T06:23:59.375Z"
   },
   {
    "duration": 11,
    "start_time": "2022-12-27T06:23:59.792Z"
   },
   {
    "duration": 11,
    "start_time": "2022-12-27T06:23:59.805Z"
   },
   {
    "duration": 56,
    "start_time": "2022-12-27T06:23:59.818Z"
   },
   {
    "duration": 8,
    "start_time": "2022-12-27T06:23:59.876Z"
   },
   {
    "duration": 10,
    "start_time": "2022-12-27T06:23:59.886Z"
   },
   {
    "duration": 295,
    "start_time": "2022-12-27T06:23:59.898Z"
   },
   {
    "duration": 6,
    "start_time": "2022-12-27T06:24:00.196Z"
   },
   {
    "duration": 400,
    "start_time": "2022-12-27T06:24:00.204Z"
   },
   {
    "duration": 23,
    "start_time": "2022-12-27T06:24:00.606Z"
   },
   {
    "duration": 321,
    "start_time": "2022-12-27T06:24:00.631Z"
   },
   {
    "duration": 291,
    "start_time": "2022-12-27T06:24:00.954Z"
   },
   {
    "duration": 286,
    "start_time": "2022-12-27T06:24:01.252Z"
   },
   {
    "duration": 12,
    "start_time": "2022-12-27T06:24:01.540Z"
   },
   {
    "duration": 20,
    "start_time": "2022-12-27T06:27:31.982Z"
   },
   {
    "duration": 23,
    "start_time": "2022-12-27T06:28:01.260Z"
   },
   {
    "duration": 88,
    "start_time": "2022-12-27T06:28:04.900Z"
   },
   {
    "duration": 7,
    "start_time": "2022-12-27T06:28:24.555Z"
   },
   {
    "duration": 1271,
    "start_time": "2022-12-27T06:48:13.335Z"
   },
   {
    "duration": 246,
    "start_time": "2022-12-27T06:48:16.902Z"
   },
   {
    "duration": 100,
    "start_time": "2022-12-27T06:48:28.876Z"
   },
   {
    "duration": 77,
    "start_time": "2022-12-27T06:49:03.510Z"
   },
   {
    "duration": 142,
    "start_time": "2022-12-27T06:49:14.102Z"
   },
   {
    "duration": 103,
    "start_time": "2022-12-27T06:49:37.104Z"
   },
   {
    "duration": 4,
    "start_time": "2022-12-27T06:59:53.338Z"
   },
   {
    "duration": 1142,
    "start_time": "2022-12-27T06:59:53.838Z"
   },
   {
    "duration": 0,
    "start_time": "2022-12-27T06:59:54.982Z"
   },
   {
    "duration": 3,
    "start_time": "2022-12-27T07:00:01.691Z"
   },
   {
    "duration": 131,
    "start_time": "2022-12-27T07:00:01.696Z"
   },
   {
    "duration": 15,
    "start_time": "2022-12-27T07:00:01.829Z"
   },
   {
    "duration": 10,
    "start_time": "2022-12-27T07:00:01.846Z"
   },
   {
    "duration": 27,
    "start_time": "2022-12-27T07:00:01.857Z"
   },
   {
    "duration": 55,
    "start_time": "2022-12-27T07:00:01.886Z"
   },
   {
    "duration": 86,
    "start_time": "2022-12-27T07:00:01.942Z"
   },
   {
    "duration": 2616,
    "start_time": "2022-12-27T07:00:02.029Z"
   },
   {
    "duration": 25,
    "start_time": "2022-12-27T07:00:04.647Z"
   },
   {
    "duration": 10,
    "start_time": "2022-12-27T07:00:04.674Z"
   },
   {
    "duration": 10,
    "start_time": "2022-12-27T07:00:04.707Z"
   },
   {
    "duration": 5,
    "start_time": "2022-12-27T07:00:04.719Z"
   },
   {
    "duration": 6,
    "start_time": "2022-12-27T07:00:04.726Z"
   },
   {
    "duration": 6,
    "start_time": "2022-12-27T07:00:04.734Z"
   },
   {
    "duration": 5,
    "start_time": "2022-12-27T07:00:04.741Z"
   },
   {
    "duration": 5,
    "start_time": "2022-12-27T07:00:04.748Z"
   },
   {
    "duration": 5,
    "start_time": "2022-12-27T07:00:04.754Z"
   },
   {
    "duration": 6,
    "start_time": "2022-12-27T07:00:04.761Z"
   },
   {
    "duration": 60,
    "start_time": "2022-12-27T07:00:04.768Z"
   },
   {
    "duration": 30,
    "start_time": "2022-12-27T07:00:04.830Z"
   },
   {
    "duration": 5,
    "start_time": "2022-12-27T07:00:04.862Z"
   },
   {
    "duration": 9,
    "start_time": "2022-12-27T07:00:04.868Z"
   },
   {
    "duration": 28,
    "start_time": "2022-12-27T07:00:04.879Z"
   },
   {
    "duration": 42,
    "start_time": "2022-12-27T07:00:04.909Z"
   },
   {
    "duration": 12,
    "start_time": "2022-12-27T07:00:04.953Z"
   },
   {
    "duration": 39,
    "start_time": "2022-12-27T07:00:04.967Z"
   },
   {
    "duration": 235,
    "start_time": "2022-12-27T07:00:05.007Z"
   },
   {
    "duration": 7,
    "start_time": "2022-12-27T07:00:05.244Z"
   },
   {
    "duration": 26,
    "start_time": "2022-12-27T07:00:05.255Z"
   },
   {
    "duration": 21,
    "start_time": "2022-12-27T07:00:05.283Z"
   },
   {
    "duration": 4,
    "start_time": "2022-12-27T07:00:05.306Z"
   },
   {
    "duration": 24,
    "start_time": "2022-12-27T07:00:05.311Z"
   },
   {
    "duration": 432,
    "start_time": "2022-12-27T07:00:05.336Z"
   },
   {
    "duration": 4,
    "start_time": "2022-12-27T07:00:05.770Z"
   },
   {
    "duration": 30,
    "start_time": "2022-12-27T07:00:05.775Z"
   },
   {
    "duration": 71,
    "start_time": "2022-12-27T07:00:05.807Z"
   },
   {
    "duration": 2676,
    "start_time": "2022-12-27T07:00:05.879Z"
   },
   {
    "duration": 190,
    "start_time": "2022-12-27T07:00:08.557Z"
   },
   {
    "duration": 9,
    "start_time": "2022-12-27T07:00:08.748Z"
   },
   {
    "duration": 9,
    "start_time": "2022-12-27T07:00:08.758Z"
   },
   {
    "duration": 231,
    "start_time": "2022-12-27T07:00:08.768Z"
   },
   {
    "duration": 206,
    "start_time": "2022-12-27T07:00:09.000Z"
   },
   {
    "duration": 211,
    "start_time": "2022-12-27T07:00:09.208Z"
   },
   {
    "duration": 192,
    "start_time": "2022-12-27T07:00:09.421Z"
   },
   {
    "duration": 7,
    "start_time": "2022-12-27T07:00:09.615Z"
   },
   {
    "duration": 5,
    "start_time": "2022-12-27T07:00:09.623Z"
   },
   {
    "duration": 36,
    "start_time": "2022-12-27T07:00:09.629Z"
   },
   {
    "duration": 8,
    "start_time": "2022-12-27T07:00:09.667Z"
   },
   {
    "duration": 33,
    "start_time": "2022-12-27T07:00:09.677Z"
   },
   {
    "duration": 184,
    "start_time": "2022-12-27T07:00:09.712Z"
   },
   {
    "duration": 8,
    "start_time": "2022-12-27T07:00:09.897Z"
   },
   {
    "duration": 454,
    "start_time": "2022-12-27T07:00:09.907Z"
   },
   {
    "duration": 18,
    "start_time": "2022-12-27T07:00:10.363Z"
   },
   {
    "duration": 143,
    "start_time": "2022-12-27T07:00:10.383Z"
   },
   {
    "duration": 143,
    "start_time": "2022-12-27T07:00:10.528Z"
   },
   {
    "duration": 126,
    "start_time": "2022-12-27T07:00:10.673Z"
   },
   {
    "duration": 6,
    "start_time": "2022-12-27T07:00:10.805Z"
   },
   {
    "duration": 120,
    "start_time": "2022-12-27T07:14:49.298Z"
   },
   {
    "duration": 3,
    "start_time": "2022-12-27T07:15:17.826Z"
   },
   {
    "duration": 106,
    "start_time": "2022-12-27T07:15:17.830Z"
   },
   {
    "duration": 14,
    "start_time": "2022-12-27T07:15:17.937Z"
   },
   {
    "duration": 4,
    "start_time": "2022-12-27T07:15:17.952Z"
   },
   {
    "duration": 7,
    "start_time": "2022-12-27T07:15:17.958Z"
   },
   {
    "duration": 13,
    "start_time": "2022-12-27T07:15:17.966Z"
   },
   {
    "duration": 81,
    "start_time": "2022-12-27T07:15:17.981Z"
   },
   {
    "duration": 2781,
    "start_time": "2022-12-27T07:15:18.063Z"
   },
   {
    "duration": 21,
    "start_time": "2022-12-27T07:15:20.845Z"
   },
   {
    "duration": 9,
    "start_time": "2022-12-27T07:15:20.868Z"
   },
   {
    "duration": 32,
    "start_time": "2022-12-27T07:15:20.879Z"
   },
   {
    "duration": 5,
    "start_time": "2022-12-27T07:15:20.912Z"
   },
   {
    "duration": 7,
    "start_time": "2022-12-27T07:15:20.918Z"
   },
   {
    "duration": 9,
    "start_time": "2022-12-27T07:15:20.927Z"
   },
   {
    "duration": 19,
    "start_time": "2022-12-27T07:15:20.937Z"
   },
   {
    "duration": 7,
    "start_time": "2022-12-27T07:15:20.958Z"
   },
   {
    "duration": 8,
    "start_time": "2022-12-27T07:15:20.967Z"
   },
   {
    "duration": 11,
    "start_time": "2022-12-27T07:15:20.977Z"
   },
   {
    "duration": 41,
    "start_time": "2022-12-27T07:15:20.989Z"
   },
   {
    "duration": 29,
    "start_time": "2022-12-27T07:15:21.031Z"
   },
   {
    "duration": 5,
    "start_time": "2022-12-27T07:15:21.062Z"
   },
   {
    "duration": 16,
    "start_time": "2022-12-27T07:15:21.069Z"
   },
   {
    "duration": 21,
    "start_time": "2022-12-27T07:15:21.087Z"
   },
   {
    "duration": 42,
    "start_time": "2022-12-27T07:15:21.109Z"
   },
   {
    "duration": 13,
    "start_time": "2022-12-27T07:15:21.152Z"
   },
   {
    "duration": 39,
    "start_time": "2022-12-27T07:15:21.167Z"
   },
   {
    "duration": 239,
    "start_time": "2022-12-27T07:15:21.207Z"
   },
   {
    "duration": 5,
    "start_time": "2022-12-27T07:15:21.448Z"
   },
   {
    "duration": 22,
    "start_time": "2022-12-27T07:15:21.456Z"
   },
   {
    "duration": 24,
    "start_time": "2022-12-27T07:15:21.480Z"
   },
   {
    "duration": 107,
    "start_time": "2022-12-27T07:15:23.082Z"
   },
   {
    "duration": 17,
    "start_time": "2022-12-27T07:15:44.596Z"
   },
   {
    "duration": 120,
    "start_time": "2022-12-27T07:16:00.182Z"
   },
   {
    "duration": 39210,
    "start_time": "2022-12-27T07:17:27.295Z"
   },
   {
    "duration": 137,
    "start_time": "2022-12-27T07:20:59.383Z"
   },
   {
    "duration": 180,
    "start_time": "2022-12-27T07:24:15.046Z"
   },
   {
    "duration": 222,
    "start_time": "2022-12-27T07:26:59.594Z"
   },
   {
    "duration": 70,
    "start_time": "2022-12-27T07:27:08.851Z"
   },
   {
    "duration": 159,
    "start_time": "2022-12-27T07:27:14.579Z"
   },
   {
    "duration": 121,
    "start_time": "2022-12-27T07:27:26.322Z"
   },
   {
    "duration": 171,
    "start_time": "2022-12-27T07:27:33.812Z"
   },
   {
    "duration": 141,
    "start_time": "2022-12-27T07:29:26.496Z"
   },
   {
    "duration": 167,
    "start_time": "2022-12-27T07:29:36.455Z"
   },
   {
    "duration": 175,
    "start_time": "2022-12-27T07:29:55.864Z"
   },
   {
    "duration": 434,
    "start_time": "2022-12-27T07:30:04.400Z"
   },
   {
    "duration": 176,
    "start_time": "2022-12-27T07:30:19.482Z"
   },
   {
    "duration": 101,
    "start_time": "2022-12-27T07:30:47.658Z"
   },
   {
    "duration": 152,
    "start_time": "2022-12-27T07:30:50.931Z"
   },
   {
    "duration": 228,
    "start_time": "2022-12-27T07:30:57.394Z"
   },
   {
    "duration": 151,
    "start_time": "2022-12-27T07:31:01.163Z"
   },
   {
    "duration": 143,
    "start_time": "2022-12-27T07:31:04.630Z"
   },
   {
    "duration": 174,
    "start_time": "2022-12-27T07:31:23.436Z"
   },
   {
    "duration": 7,
    "start_time": "2022-12-27T07:33:07.214Z"
   },
   {
    "duration": 7,
    "start_time": "2022-12-27T07:33:17.526Z"
   },
   {
    "duration": 5,
    "start_time": "2022-12-27T07:33:26.424Z"
   },
   {
    "duration": 6,
    "start_time": "2022-12-27T07:33:30.023Z"
   },
   {
    "duration": 5,
    "start_time": "2022-12-27T07:33:36.584Z"
   },
   {
    "duration": 5,
    "start_time": "2022-12-27T07:33:40.241Z"
   },
   {
    "duration": 7,
    "start_time": "2022-12-27T07:33:47.129Z"
   },
   {
    "duration": 5,
    "start_time": "2022-12-27T07:33:55.648Z"
   },
   {
    "duration": 6,
    "start_time": "2022-12-27T07:34:03.455Z"
   },
   {
    "duration": 7,
    "start_time": "2022-12-27T07:34:07.743Z"
   },
   {
    "duration": 7,
    "start_time": "2022-12-27T07:34:11.689Z"
   },
   {
    "duration": 6,
    "start_time": "2022-12-27T07:34:19.250Z"
   },
   {
    "duration": 6,
    "start_time": "2022-12-27T07:34:26.457Z"
   },
   {
    "duration": 5,
    "start_time": "2022-12-27T07:35:03.378Z"
   },
   {
    "duration": 76,
    "start_time": "2022-12-27T07:36:16.686Z"
   },
   {
    "duration": 8,
    "start_time": "2022-12-27T07:36:20.725Z"
   },
   {
    "duration": 3,
    "start_time": "2022-12-27T07:36:35.398Z"
   },
   {
    "duration": 156,
    "start_time": "2022-12-27T07:36:35.404Z"
   },
   {
    "duration": 14,
    "start_time": "2022-12-27T07:36:35.562Z"
   },
   {
    "duration": 31,
    "start_time": "2022-12-27T07:36:35.578Z"
   },
   {
    "duration": 32,
    "start_time": "2022-12-27T07:36:35.612Z"
   },
   {
    "duration": 29,
    "start_time": "2022-12-27T07:36:35.646Z"
   },
   {
    "duration": 125,
    "start_time": "2022-12-27T07:36:35.677Z"
   },
   {
    "duration": 2837,
    "start_time": "2022-12-27T07:36:35.803Z"
   },
   {
    "duration": 21,
    "start_time": "2022-12-27T07:36:38.641Z"
   },
   {
    "duration": 9,
    "start_time": "2022-12-27T07:36:38.664Z"
   },
   {
    "duration": 32,
    "start_time": "2022-12-27T07:36:38.674Z"
   },
   {
    "duration": 29,
    "start_time": "2022-12-27T07:36:38.707Z"
   },
   {
    "duration": 33,
    "start_time": "2022-12-27T07:36:38.738Z"
   },
   {
    "duration": 46,
    "start_time": "2022-12-27T07:36:38.773Z"
   },
   {
    "duration": 65,
    "start_time": "2022-12-27T07:36:38.821Z"
   },
   {
    "duration": 35,
    "start_time": "2022-12-27T07:36:38.888Z"
   },
   {
    "duration": 28,
    "start_time": "2022-12-27T07:36:38.925Z"
   },
   {
    "duration": 49,
    "start_time": "2022-12-27T07:36:38.954Z"
   },
   {
    "duration": 371,
    "start_time": "2022-12-27T07:36:39.005Z"
   },
   {
    "duration": 38,
    "start_time": "2022-12-27T07:36:39.378Z"
   },
   {
    "duration": 21,
    "start_time": "2022-12-27T07:36:39.418Z"
   },
   {
    "duration": 44,
    "start_time": "2022-12-27T07:36:39.441Z"
   },
   {
    "duration": 38,
    "start_time": "2022-12-27T07:36:39.487Z"
   },
   {
    "duration": 60,
    "start_time": "2022-12-27T07:36:39.526Z"
   },
   {
    "duration": 14,
    "start_time": "2022-12-27T07:36:39.588Z"
   },
   {
    "duration": 39,
    "start_time": "2022-12-27T07:36:39.604Z"
   },
   {
    "duration": 277,
    "start_time": "2022-12-27T07:36:39.645Z"
   },
   {
    "duration": 6,
    "start_time": "2022-12-27T07:36:39.925Z"
   },
   {
    "duration": 45,
    "start_time": "2022-12-27T07:36:39.932Z"
   },
   {
    "duration": 23,
    "start_time": "2022-12-27T07:36:39.978Z"
   },
   {
    "duration": 231,
    "start_time": "2022-12-27T07:36:40.003Z"
   },
   {
    "duration": 5,
    "start_time": "2022-12-27T07:36:40.236Z"
   },
   {
    "duration": 12,
    "start_time": "2022-12-27T07:36:47.431Z"
   },
   {
    "duration": 14,
    "start_time": "2022-12-27T07:37:19.929Z"
   },
   {
    "duration": 9,
    "start_time": "2022-12-27T07:37:29.932Z"
   },
   {
    "duration": 3,
    "start_time": "2022-12-27T07:39:57.765Z"
   },
   {
    "duration": 8,
    "start_time": "2022-12-27T07:41:11.310Z"
   },
   {
    "duration": 4,
    "start_time": "2022-12-27T07:41:43.136Z"
   },
   {
    "duration": 4,
    "start_time": "2022-12-27T07:41:45.576Z"
   },
   {
    "duration": 8,
    "start_time": "2022-12-27T07:41:46.288Z"
   },
   {
    "duration": 8,
    "start_time": "2022-12-27T07:42:04.497Z"
   },
   {
    "duration": 7,
    "start_time": "2022-12-27T07:43:03.410Z"
   },
   {
    "duration": 130,
    "start_time": "2022-12-27T07:44:11.174Z"
   },
   {
    "duration": 123,
    "start_time": "2022-12-27T07:44:54.575Z"
   },
   {
    "duration": 173,
    "start_time": "2022-12-27T07:46:44.419Z"
   },
   {
    "duration": 6,
    "start_time": "2022-12-27T07:47:12.524Z"
   },
   {
    "duration": 6,
    "start_time": "2022-12-27T07:47:16.196Z"
   },
   {
    "duration": 159,
    "start_time": "2022-12-27T07:47:45.469Z"
   },
   {
    "duration": 152,
    "start_time": "2022-12-27T07:47:55.164Z"
   },
   {
    "duration": 5,
    "start_time": "2022-12-27T07:48:06.574Z"
   },
   {
    "duration": 110,
    "start_time": "2022-12-27T07:48:36.430Z"
   },
   {
    "duration": 5,
    "start_time": "2022-12-27T07:48:49.623Z"
   },
   {
    "duration": 6,
    "start_time": "2022-12-27T07:48:54.935Z"
   },
   {
    "duration": 7,
    "start_time": "2022-12-27T07:48:59.304Z"
   },
   {
    "duration": 7,
    "start_time": "2022-12-27T07:49:02.886Z"
   },
   {
    "duration": 116,
    "start_time": "2022-12-27T07:49:26.016Z"
   },
   {
    "duration": 107,
    "start_time": "2022-12-27T07:49:29.665Z"
   },
   {
    "duration": 104,
    "start_time": "2022-12-27T07:49:34.327Z"
   },
   {
    "duration": 108,
    "start_time": "2022-12-27T07:49:38.617Z"
   },
   {
    "duration": 5,
    "start_time": "2022-12-27T07:49:49.945Z"
   },
   {
    "duration": 108,
    "start_time": "2022-12-27T07:49:50.376Z"
   },
   {
    "duration": 128,
    "start_time": "2022-12-27T07:50:00.178Z"
   },
   {
    "duration": 113,
    "start_time": "2022-12-27T07:50:09.217Z"
   },
   {
    "duration": 4,
    "start_time": "2022-12-27T07:50:16.626Z"
   },
   {
    "duration": 182,
    "start_time": "2022-12-27T07:50:17.322Z"
   },
   {
    "duration": 125,
    "start_time": "2022-12-27T07:50:21.330Z"
   },
   {
    "duration": 5,
    "start_time": "2022-12-27T07:50:32.394Z"
   },
   {
    "duration": 5,
    "start_time": "2022-12-27T07:50:35.577Z"
   },
   {
    "duration": 1119,
    "start_time": "2022-12-27T07:51:22.144Z"
   },
   {
    "duration": 134,
    "start_time": "2022-12-27T07:51:36.588Z"
   },
   {
    "duration": 247,
    "start_time": "2022-12-27T07:52:40.479Z"
   },
   {
    "duration": 252,
    "start_time": "2022-12-27T07:52:45.439Z"
   },
   {
    "duration": 361,
    "start_time": "2022-12-27T07:53:00.399Z"
   },
   {
    "duration": 330,
    "start_time": "2022-12-27T07:53:12.264Z"
   },
   {
    "duration": 593,
    "start_time": "2022-12-27T07:53:25.465Z"
   },
   {
    "duration": 1247,
    "start_time": "2022-12-27T07:53:34.050Z"
   },
   {
    "duration": 335,
    "start_time": "2022-12-27T07:53:39.665Z"
   },
   {
    "duration": 513,
    "start_time": "2022-12-27T07:53:43.064Z"
   },
   {
    "duration": 503,
    "start_time": "2022-12-27T07:58:31.983Z"
   },
   {
    "duration": 7,
    "start_time": "2022-12-27T07:58:33.535Z"
   },
   {
    "duration": 9,
    "start_time": "2022-12-27T07:58:34.183Z"
   },
   {
    "duration": 10,
    "start_time": "2022-12-27T07:58:34.687Z"
   },
   {
    "duration": 4,
    "start_time": "2022-12-27T07:58:35.309Z"
   },
   {
    "duration": 3,
    "start_time": "2022-12-27T07:59:00.715Z"
   },
   {
    "duration": 4,
    "start_time": "2022-12-27T07:59:04.058Z"
   },
   {
    "duration": 466,
    "start_time": "2022-12-27T07:59:29.357Z"
   },
   {
    "duration": 131,
    "start_time": "2022-12-27T08:06:39.475Z"
   },
   {
    "duration": 104,
    "start_time": "2022-12-27T08:07:36.021Z"
   },
   {
    "duration": 106,
    "start_time": "2022-12-27T08:07:50.500Z"
   },
   {
    "duration": 100,
    "start_time": "2022-12-27T08:07:55.220Z"
   },
   {
    "duration": 479,
    "start_time": "2022-12-27T08:07:58.253Z"
   },
   {
    "duration": 101,
    "start_time": "2022-12-27T08:08:05.950Z"
   },
   {
    "duration": 112,
    "start_time": "2022-12-27T08:08:08.974Z"
   },
   {
    "duration": 130,
    "start_time": "2022-12-27T08:08:28.205Z"
   },
   {
    "duration": 123,
    "start_time": "2022-12-27T08:08:38.750Z"
   },
   {
    "duration": 111,
    "start_time": "2022-12-27T08:08:48.312Z"
   },
   {
    "duration": 129,
    "start_time": "2022-12-27T08:08:51.713Z"
   },
   {
    "duration": 148,
    "start_time": "2022-12-27T08:08:56.040Z"
   },
   {
    "duration": 115,
    "start_time": "2022-12-27T08:08:59.552Z"
   },
   {
    "duration": 120,
    "start_time": "2022-12-27T08:09:02.976Z"
   },
   {
    "duration": 120,
    "start_time": "2022-12-27T08:09:08.696Z"
   },
   {
    "duration": 3,
    "start_time": "2022-12-27T08:09:27.913Z"
   },
   {
    "duration": 129,
    "start_time": "2022-12-27T08:09:31.217Z"
   },
   {
    "duration": 147,
    "start_time": "2022-12-27T08:09:52.146Z"
   },
   {
    "duration": 116,
    "start_time": "2022-12-27T08:10:15.002Z"
   },
   {
    "duration": 113,
    "start_time": "2022-12-27T08:10:19.745Z"
   },
   {
    "duration": 167,
    "start_time": "2022-12-27T08:10:27.370Z"
   },
   {
    "duration": 115,
    "start_time": "2022-12-27T08:10:50.355Z"
   },
   {
    "duration": 103,
    "start_time": "2022-12-27T08:10:55.132Z"
   },
   {
    "duration": 106,
    "start_time": "2022-12-27T08:10:57.612Z"
   },
   {
    "duration": 125,
    "start_time": "2022-12-27T08:11:01.564Z"
   },
   {
    "duration": 6,
    "start_time": "2022-12-27T08:11:51.829Z"
   },
   {
    "duration": 6,
    "start_time": "2022-12-27T08:11:57.805Z"
   },
   {
    "duration": 5,
    "start_time": "2022-12-27T08:12:13.599Z"
   },
   {
    "duration": 5,
    "start_time": "2022-12-27T08:12:22.958Z"
   },
   {
    "duration": 5,
    "start_time": "2022-12-27T08:12:32.527Z"
   },
   {
    "duration": 6,
    "start_time": "2022-12-27T08:12:37.054Z"
   },
   {
    "duration": 7,
    "start_time": "2022-12-27T08:12:44.231Z"
   },
   {
    "duration": 5,
    "start_time": "2022-12-27T08:12:49.640Z"
   },
   {
    "duration": 6,
    "start_time": "2022-12-27T08:13:32.433Z"
   },
   {
    "duration": 6,
    "start_time": "2022-12-27T08:13:39.577Z"
   },
   {
    "duration": 6,
    "start_time": "2022-12-27T08:14:03.018Z"
   },
   {
    "duration": 6,
    "start_time": "2022-12-27T08:14:12.979Z"
   },
   {
    "duration": 5,
    "start_time": "2022-12-27T08:14:24.107Z"
   },
   {
    "duration": 6,
    "start_time": "2022-12-27T08:14:32.811Z"
   },
   {
    "duration": 6,
    "start_time": "2022-12-27T08:14:47.908Z"
   },
   {
    "duration": 5,
    "start_time": "2022-12-27T08:14:54.812Z"
   },
   {
    "duration": 8,
    "start_time": "2022-12-27T08:15:47.525Z"
   },
   {
    "duration": 6,
    "start_time": "2022-12-27T08:15:47.867Z"
   },
   {
    "duration": 11,
    "start_time": "2022-12-27T08:15:48.182Z"
   },
   {
    "duration": 3,
    "start_time": "2022-12-27T08:15:49.505Z"
   },
   {
    "duration": 426,
    "start_time": "2022-12-27T08:15:51.456Z"
   },
   {
    "duration": 332,
    "start_time": "2022-12-27T08:16:06.895Z"
   },
   {
    "duration": 7,
    "start_time": "2022-12-27T08:16:36.063Z"
   },
   {
    "duration": 7,
    "start_time": "2022-12-27T08:16:36.455Z"
   },
   {
    "duration": 8,
    "start_time": "2022-12-27T08:16:36.838Z"
   },
   {
    "duration": 4,
    "start_time": "2022-12-27T08:16:37.262Z"
   },
   {
    "duration": 354,
    "start_time": "2022-12-27T08:16:38.021Z"
   },
   {
    "duration": 475,
    "start_time": "2022-12-27T08:16:55.049Z"
   },
   {
    "duration": 2,
    "start_time": "2022-12-27T08:33:00.169Z"
   },
   {
    "duration": 8,
    "start_time": "2022-12-27T08:35:28.013Z"
   },
   {
    "duration": 9,
    "start_time": "2022-12-27T08:35:28.603Z"
   },
   {
    "duration": 8,
    "start_time": "2022-12-27T08:35:28.760Z"
   },
   {
    "duration": 4,
    "start_time": "2022-12-27T08:35:29.586Z"
   },
   {
    "duration": 465,
    "start_time": "2022-12-27T08:35:30.546Z"
   },
   {
    "duration": 877,
    "start_time": "2022-12-27T08:35:46.806Z"
   },
   {
    "duration": 480,
    "start_time": "2022-12-27T08:35:58.846Z"
   },
   {
    "duration": 7,
    "start_time": "2022-12-27T08:36:15.014Z"
   },
   {
    "duration": 479,
    "start_time": "2022-12-27T08:36:16.925Z"
   },
   {
    "duration": 4,
    "start_time": "2022-12-27T08:36:23.360Z"
   },
   {
    "duration": 10,
    "start_time": "2022-12-27T08:36:28.159Z"
   },
   {
    "duration": 4,
    "start_time": "2022-12-27T08:36:31.076Z"
   },
   {
    "duration": 6,
    "start_time": "2022-12-27T08:36:45.012Z"
   },
   {
    "duration": 7,
    "start_time": "2022-12-27T08:36:45.390Z"
   },
   {
    "duration": 8,
    "start_time": "2022-12-27T08:36:45.745Z"
   },
   {
    "duration": 4,
    "start_time": "2022-12-27T08:36:46.128Z"
   },
   {
    "duration": 440,
    "start_time": "2022-12-27T08:36:46.811Z"
   },
   {
    "duration": 12,
    "start_time": "2022-12-27T08:47:28.122Z"
   },
   {
    "duration": 17,
    "start_time": "2022-12-27T08:47:34.665Z"
   },
   {
    "duration": 4,
    "start_time": "2022-12-27T08:48:00.919Z"
   },
   {
    "duration": 4,
    "start_time": "2022-12-27T08:49:52.826Z"
   },
   {
    "duration": 312,
    "start_time": "2022-12-27T08:50:10.387Z"
   },
   {
    "duration": 18,
    "start_time": "2022-12-27T08:50:58.837Z"
   },
   {
    "duration": 1098,
    "start_time": "2022-12-27T08:53:58.475Z"
   },
   {
    "duration": 1537,
    "start_time": "2022-12-27T08:55:02.669Z"
   },
   {
    "duration": 1156,
    "start_time": "2022-12-27T08:55:20.149Z"
   },
   {
    "duration": 1338,
    "start_time": "2022-12-27T08:55:26.927Z"
   },
   {
    "duration": 22,
    "start_time": "2022-12-27T08:55:37.470Z"
   },
   {
    "duration": 3,
    "start_time": "2022-12-27T08:56:01.053Z"
   },
   {
    "duration": 11,
    "start_time": "2022-12-27T09:04:55.688Z"
   },
   {
    "duration": 11,
    "start_time": "2022-12-27T09:07:20.970Z"
   },
   {
    "duration": 13,
    "start_time": "2022-12-27T09:07:21.459Z"
   },
   {
    "duration": 12,
    "start_time": "2022-12-27T09:07:21.869Z"
   },
   {
    "duration": 4,
    "start_time": "2022-12-27T09:07:22.379Z"
   },
   {
    "duration": 18,
    "start_time": "2022-12-27T09:07:25.319Z"
   },
   {
    "duration": 7,
    "start_time": "2022-12-27T09:08:58.311Z"
   },
   {
    "duration": 9,
    "start_time": "2022-12-27T09:08:58.542Z"
   },
   {
    "duration": 9,
    "start_time": "2022-12-27T09:08:58.813Z"
   },
   {
    "duration": 5,
    "start_time": "2022-12-27T09:08:59.169Z"
   },
   {
    "duration": 13,
    "start_time": "2022-12-27T09:08:59.789Z"
   },
   {
    "duration": 111,
    "start_time": "2022-12-27T09:10:55.173Z"
   },
   {
    "duration": 17,
    "start_time": "2022-12-27T09:16:50.226Z"
   },
   {
    "duration": 4,
    "start_time": "2022-12-27T09:16:53.450Z"
   },
   {
    "duration": 4,
    "start_time": "2022-12-27T09:17:05.256Z"
   },
   {
    "duration": 17,
    "start_time": "2022-12-27T09:17:10.609Z"
   },
   {
    "duration": 3,
    "start_time": "2022-12-27T09:17:11.057Z"
   },
   {
    "duration": 8,
    "start_time": "2022-12-27T09:17:49.265Z"
   },
   {
    "duration": 5,
    "start_time": "2022-12-27T09:19:46.528Z"
   },
   {
    "duration": 3,
    "start_time": "2022-12-27T09:20:04.234Z"
   },
   {
    "duration": 127,
    "start_time": "2022-12-27T09:20:04.239Z"
   },
   {
    "duration": 14,
    "start_time": "2022-12-27T09:20:04.368Z"
   },
   {
    "duration": 10,
    "start_time": "2022-12-27T09:20:04.404Z"
   },
   {
    "duration": 19,
    "start_time": "2022-12-27T09:20:04.416Z"
   },
   {
    "duration": 20,
    "start_time": "2022-12-27T09:20:04.437Z"
   },
   {
    "duration": 89,
    "start_time": "2022-12-27T09:20:04.458Z"
   },
   {
    "duration": 2428,
    "start_time": "2022-12-27T09:20:04.548Z"
   },
   {
    "duration": 29,
    "start_time": "2022-12-27T09:20:06.978Z"
   },
   {
    "duration": 9,
    "start_time": "2022-12-27T09:20:07.009Z"
   },
   {
    "duration": 8,
    "start_time": "2022-12-27T09:20:07.021Z"
   },
   {
    "duration": 5,
    "start_time": "2022-12-27T09:20:07.030Z"
   },
   {
    "duration": 8,
    "start_time": "2022-12-27T09:20:07.037Z"
   },
   {
    "duration": 20,
    "start_time": "2022-12-27T09:20:07.046Z"
   },
   {
    "duration": 17,
    "start_time": "2022-12-27T09:20:07.067Z"
   },
   {
    "duration": 14,
    "start_time": "2022-12-27T09:20:07.085Z"
   },
   {
    "duration": 6,
    "start_time": "2022-12-27T09:20:07.100Z"
   },
   {
    "duration": 5,
    "start_time": "2022-12-27T09:20:07.107Z"
   },
   {
    "duration": 26,
    "start_time": "2022-12-27T09:20:07.114Z"
   },
   {
    "duration": 25,
    "start_time": "2022-12-27T09:20:07.141Z"
   },
   {
    "duration": 5,
    "start_time": "2022-12-27T09:20:07.167Z"
   },
   {
    "duration": 9,
    "start_time": "2022-12-27T09:20:07.173Z"
   },
   {
    "duration": 28,
    "start_time": "2022-12-27T09:20:07.183Z"
   },
   {
    "duration": 42,
    "start_time": "2022-12-27T09:20:07.213Z"
   },
   {
    "duration": 12,
    "start_time": "2022-12-27T09:20:07.257Z"
   },
   {
    "duration": 43,
    "start_time": "2022-12-27T09:20:07.271Z"
   },
   {
    "duration": 279,
    "start_time": "2022-12-27T09:20:07.316Z"
   },
   {
    "duration": 9,
    "start_time": "2022-12-27T09:20:07.597Z"
   },
   {
    "duration": 20,
    "start_time": "2022-12-27T09:20:07.609Z"
   },
   {
    "duration": 5,
    "start_time": "2022-12-27T09:20:07.630Z"
   },
   {
    "duration": 142,
    "start_time": "2022-12-27T09:20:07.636Z"
   },
   {
    "duration": 129,
    "start_time": "2022-12-27T09:20:07.779Z"
   },
   {
    "duration": 116,
    "start_time": "2022-12-27T09:20:07.909Z"
   },
   {
    "duration": 7,
    "start_time": "2022-12-27T09:20:08.027Z"
   },
   {
    "duration": 5,
    "start_time": "2022-12-27T09:20:08.035Z"
   },
   {
    "duration": 7,
    "start_time": "2022-12-27T09:20:08.041Z"
   },
   {
    "duration": 13,
    "start_time": "2022-12-27T09:20:08.050Z"
   },
   {
    "duration": 310,
    "start_time": "2022-12-27T09:20:08.064Z"
   },
   {
    "duration": 4,
    "start_time": "2022-12-27T09:20:08.376Z"
   },
   {
    "duration": 33,
    "start_time": "2022-12-27T09:20:08.382Z"
   },
   {
    "duration": 64,
    "start_time": "2022-12-27T09:20:08.417Z"
   },
   {
    "duration": 1447,
    "start_time": "2022-12-27T09:20:08.483Z"
   },
   {
    "duration": 0,
    "start_time": "2022-12-27T09:20:09.932Z"
   },
   {
    "duration": 0,
    "start_time": "2022-12-27T09:20:09.933Z"
   },
   {
    "duration": 0,
    "start_time": "2022-12-27T09:20:09.935Z"
   },
   {
    "duration": 0,
    "start_time": "2022-12-27T09:20:09.936Z"
   },
   {
    "duration": 0,
    "start_time": "2022-12-27T09:20:09.937Z"
   },
   {
    "duration": 0,
    "start_time": "2022-12-27T09:20:09.939Z"
   },
   {
    "duration": 0,
    "start_time": "2022-12-27T09:20:09.940Z"
   },
   {
    "duration": 0,
    "start_time": "2022-12-27T09:20:09.942Z"
   },
   {
    "duration": 0,
    "start_time": "2022-12-27T09:20:09.943Z"
   },
   {
    "duration": 0,
    "start_time": "2022-12-27T09:20:09.944Z"
   },
   {
    "duration": 0,
    "start_time": "2022-12-27T09:20:09.945Z"
   },
   {
    "duration": 0,
    "start_time": "2022-12-27T09:20:09.947Z"
   },
   {
    "duration": 0,
    "start_time": "2022-12-27T09:20:09.949Z"
   },
   {
    "duration": 0,
    "start_time": "2022-12-27T09:20:09.950Z"
   },
   {
    "duration": 0,
    "start_time": "2022-12-27T09:20:09.951Z"
   },
   {
    "duration": 0,
    "start_time": "2022-12-27T09:20:09.953Z"
   },
   {
    "duration": 0,
    "start_time": "2022-12-27T09:20:09.954Z"
   },
   {
    "duration": 0,
    "start_time": "2022-12-27T09:20:09.955Z"
   },
   {
    "duration": 0,
    "start_time": "2022-12-27T09:20:09.957Z"
   },
   {
    "duration": 0,
    "start_time": "2022-12-27T09:20:09.958Z"
   },
   {
    "duration": 0,
    "start_time": "2022-12-27T09:20:09.959Z"
   },
   {
    "duration": 3,
    "start_time": "2022-12-27T09:21:32.619Z"
   },
   {
    "duration": 5,
    "start_time": "2022-12-27T09:21:35.161Z"
   },
   {
    "duration": 15,
    "start_time": "2022-12-27T09:21:37.664Z"
   },
   {
    "duration": 3,
    "start_time": "2022-12-27T09:22:01.135Z"
   },
   {
    "duration": 5,
    "start_time": "2022-12-27T09:22:04.201Z"
   },
   {
    "duration": 33,
    "start_time": "2022-12-27T09:22:04.208Z"
   },
   {
    "duration": 271,
    "start_time": "2022-12-27T09:22:04.242Z"
   },
   {
    "duration": 5,
    "start_time": "2022-12-27T09:22:04.515Z"
   },
   {
    "duration": 28,
    "start_time": "2022-12-27T09:22:04.522Z"
   },
   {
    "duration": 79,
    "start_time": "2022-12-27T09:22:04.552Z"
   },
   {
    "duration": 1499,
    "start_time": "2022-12-27T09:22:04.633Z"
   },
   {
    "duration": 0,
    "start_time": "2022-12-27T09:22:06.135Z"
   },
   {
    "duration": 0,
    "start_time": "2022-12-27T09:22:06.136Z"
   },
   {
    "duration": 0,
    "start_time": "2022-12-27T09:22:06.137Z"
   },
   {
    "duration": 0,
    "start_time": "2022-12-27T09:22:06.138Z"
   },
   {
    "duration": 0,
    "start_time": "2022-12-27T09:22:06.139Z"
   },
   {
    "duration": 0,
    "start_time": "2022-12-27T09:22:06.141Z"
   },
   {
    "duration": 0,
    "start_time": "2022-12-27T09:22:06.143Z"
   },
   {
    "duration": 0,
    "start_time": "2022-12-27T09:22:06.144Z"
   },
   {
    "duration": 0,
    "start_time": "2022-12-27T09:22:06.146Z"
   },
   {
    "duration": 0,
    "start_time": "2022-12-27T09:22:06.147Z"
   },
   {
    "duration": 0,
    "start_time": "2022-12-27T09:22:06.148Z"
   },
   {
    "duration": 0,
    "start_time": "2022-12-27T09:22:06.150Z"
   },
   {
    "duration": 0,
    "start_time": "2022-12-27T09:22:06.151Z"
   },
   {
    "duration": 0,
    "start_time": "2022-12-27T09:22:06.152Z"
   },
   {
    "duration": 0,
    "start_time": "2022-12-27T09:22:06.153Z"
   },
   {
    "duration": 0,
    "start_time": "2022-12-27T09:22:06.154Z"
   },
   {
    "duration": 0,
    "start_time": "2022-12-27T09:22:06.155Z"
   },
   {
    "duration": 0,
    "start_time": "2022-12-27T09:22:06.156Z"
   },
   {
    "duration": 0,
    "start_time": "2022-12-27T09:22:06.157Z"
   },
   {
    "duration": 0,
    "start_time": "2022-12-27T09:22:06.159Z"
   },
   {
    "duration": 0,
    "start_time": "2022-12-27T09:22:06.160Z"
   },
   {
    "duration": 2932,
    "start_time": "2022-12-27T09:23:13.076Z"
   },
   {
    "duration": 185,
    "start_time": "2022-12-27T09:25:43.528Z"
   },
   {
    "duration": 7,
    "start_time": "2022-12-27T09:25:43.715Z"
   },
   {
    "duration": 8,
    "start_time": "2022-12-27T09:25:43.724Z"
   },
   {
    "duration": 81,
    "start_time": "2022-12-27T09:25:43.733Z"
   },
   {
    "duration": 19,
    "start_time": "2022-12-27T09:25:43.816Z"
   },
   {
    "duration": 2,
    "start_time": "2022-12-27T09:29:34.286Z"
   },
   {
    "duration": 125,
    "start_time": "2022-12-27T09:29:34.290Z"
   },
   {
    "duration": 13,
    "start_time": "2022-12-27T09:29:34.416Z"
   },
   {
    "duration": 19,
    "start_time": "2022-12-27T09:29:34.431Z"
   },
   {
    "duration": 21,
    "start_time": "2022-12-27T09:29:34.452Z"
   },
   {
    "duration": 9,
    "start_time": "2022-12-27T09:29:34.475Z"
   },
   {
    "duration": 86,
    "start_time": "2022-12-27T09:29:34.485Z"
   },
   {
    "duration": 2108,
    "start_time": "2022-12-27T09:29:34.572Z"
   },
   {
    "duration": 29,
    "start_time": "2022-12-27T09:29:36.681Z"
   },
   {
    "duration": 9,
    "start_time": "2022-12-27T09:29:36.712Z"
   },
   {
    "duration": 10,
    "start_time": "2022-12-27T09:29:36.723Z"
   },
   {
    "duration": 5,
    "start_time": "2022-12-27T09:29:36.734Z"
   },
   {
    "duration": 7,
    "start_time": "2022-12-27T09:29:36.740Z"
   },
   {
    "duration": 8,
    "start_time": "2022-12-27T09:29:36.749Z"
   },
   {
    "duration": 7,
    "start_time": "2022-12-27T09:29:36.758Z"
   },
   {
    "duration": 4,
    "start_time": "2022-12-27T09:29:36.766Z"
   },
   {
    "duration": 33,
    "start_time": "2022-12-27T09:29:36.771Z"
   },
   {
    "duration": 5,
    "start_time": "2022-12-27T09:29:36.806Z"
   },
   {
    "duration": 477,
    "start_time": "2022-12-27T09:29:36.812Z"
   },
   {
    "duration": 39,
    "start_time": "2022-12-27T09:29:37.291Z"
   },
   {
    "duration": 7,
    "start_time": "2022-12-27T09:29:37.332Z"
   },
   {
    "duration": 11,
    "start_time": "2022-12-27T09:29:37.340Z"
   },
   {
    "duration": 20,
    "start_time": "2022-12-27T09:29:37.354Z"
   },
   {
    "duration": 75,
    "start_time": "2022-12-27T09:29:37.377Z"
   },
   {
    "duration": 17,
    "start_time": "2022-12-27T09:29:37.454Z"
   },
   {
    "duration": 46,
    "start_time": "2022-12-27T09:29:37.474Z"
   },
   {
    "duration": 249,
    "start_time": "2022-12-27T09:29:37.522Z"
   },
   {
    "duration": 5,
    "start_time": "2022-12-27T09:29:37.773Z"
   },
   {
    "duration": 41,
    "start_time": "2022-12-27T09:29:37.782Z"
   },
   {
    "duration": 5,
    "start_time": "2022-12-27T09:29:37.824Z"
   },
   {
    "duration": 133,
    "start_time": "2022-12-27T09:29:37.831Z"
   },
   {
    "duration": 127,
    "start_time": "2022-12-27T09:29:37.966Z"
   },
   {
    "duration": 147,
    "start_time": "2022-12-27T09:29:38.095Z"
   },
   {
    "duration": 10,
    "start_time": "2022-12-27T09:29:38.244Z"
   },
   {
    "duration": 6,
    "start_time": "2022-12-27T09:29:38.256Z"
   },
   {
    "duration": 4,
    "start_time": "2022-12-27T09:29:38.264Z"
   },
   {
    "duration": 7,
    "start_time": "2022-12-27T09:29:38.269Z"
   },
   {
    "duration": 35,
    "start_time": "2022-12-27T09:29:38.277Z"
   },
   {
    "duration": 287,
    "start_time": "2022-12-27T09:29:38.313Z"
   },
   {
    "duration": 4,
    "start_time": "2022-12-27T09:29:38.605Z"
   },
   {
    "duration": 21,
    "start_time": "2022-12-27T09:29:38.611Z"
   },
   {
    "duration": 84,
    "start_time": "2022-12-27T09:29:38.634Z"
   },
   {
    "duration": 2364,
    "start_time": "2022-12-27T09:29:38.720Z"
   },
   {
    "duration": 2,
    "start_time": "2022-12-27T09:29:41.086Z"
   },
   {
    "duration": 193,
    "start_time": "2022-12-27T09:29:41.090Z"
   },
   {
    "duration": 9,
    "start_time": "2022-12-27T09:29:41.284Z"
   },
   {
    "duration": 16,
    "start_time": "2022-12-27T09:29:41.294Z"
   },
   {
    "duration": 224,
    "start_time": "2022-12-27T09:29:41.311Z"
   },
   {
    "duration": 206,
    "start_time": "2022-12-27T09:29:41.536Z"
   },
   {
    "duration": 208,
    "start_time": "2022-12-27T09:29:41.743Z"
   },
   {
    "duration": 201,
    "start_time": "2022-12-27T09:29:41.952Z"
   },
   {
    "duration": 9,
    "start_time": "2022-12-27T09:29:42.154Z"
   },
   {
    "duration": 42,
    "start_time": "2022-12-27T09:29:42.164Z"
   },
   {
    "duration": 1173,
    "start_time": "2022-12-27T09:29:42.208Z"
   },
   {
    "duration": 0,
    "start_time": "2022-12-27T09:29:43.383Z"
   },
   {
    "duration": 0,
    "start_time": "2022-12-27T09:29:43.384Z"
   },
   {
    "duration": 0,
    "start_time": "2022-12-27T09:29:43.385Z"
   },
   {
    "duration": 0,
    "start_time": "2022-12-27T09:29:43.387Z"
   },
   {
    "duration": 0,
    "start_time": "2022-12-27T09:29:43.388Z"
   },
   {
    "duration": 0,
    "start_time": "2022-12-27T09:29:43.389Z"
   },
   {
    "duration": 0,
    "start_time": "2022-12-27T09:29:43.390Z"
   },
   {
    "duration": 0,
    "start_time": "2022-12-27T09:29:43.391Z"
   },
   {
    "duration": 0,
    "start_time": "2022-12-27T09:29:43.391Z"
   },
   {
    "duration": 0,
    "start_time": "2022-12-27T09:29:43.392Z"
   },
   {
    "duration": 10,
    "start_time": "2022-12-27T09:34:03.086Z"
   },
   {
    "duration": 12,
    "start_time": "2022-12-27T09:34:06.675Z"
   },
   {
    "duration": 4,
    "start_time": "2022-12-27T09:34:09.753Z"
   },
   {
    "duration": 6,
    "start_time": "2022-12-27T09:34:11.983Z"
   },
   {
    "duration": 8,
    "start_time": "2022-12-27T09:34:28.157Z"
   },
   {
    "duration": 4,
    "start_time": "2022-12-27T09:34:29.012Z"
   },
   {
    "duration": 5,
    "start_time": "2022-12-27T09:34:31.796Z"
   },
   {
    "duration": 14,
    "start_time": "2022-12-27T09:34:33.357Z"
   },
   {
    "duration": 262,
    "start_time": "2022-12-27T09:34:34.668Z"
   },
   {
    "duration": 5,
    "start_time": "2022-12-27T09:34:35.853Z"
   },
   {
    "duration": 20,
    "start_time": "2022-12-27T09:34:38.395Z"
   },
   {
    "duration": 20,
    "start_time": "2022-12-27T09:34:52.590Z"
   },
   {
    "duration": 118,
    "start_time": "2022-12-27T09:35:43.471Z"
   },
   {
    "duration": 129,
    "start_time": "2022-12-27T09:36:15.641Z"
   },
   {
    "duration": 113,
    "start_time": "2022-12-27T09:37:03.842Z"
   },
   {
    "duration": 20089,
    "start_time": "2022-12-27T09:37:09.954Z"
   },
   {
    "duration": 613,
    "start_time": "2022-12-27T09:38:01.589Z"
   },
   {
    "duration": 106,
    "start_time": "2022-12-27T09:38:11.157Z"
   },
   {
    "duration": 143,
    "start_time": "2022-12-27T09:38:23.492Z"
   },
   {
    "duration": 143,
    "start_time": "2022-12-27T09:38:36.093Z"
   },
   {
    "duration": 110,
    "start_time": "2022-12-27T09:38:40.518Z"
   },
   {
    "duration": 151,
    "start_time": "2022-12-27T09:38:50.036Z"
   },
   {
    "duration": 122,
    "start_time": "2022-12-27T09:39:11.357Z"
   },
   {
    "duration": 119,
    "start_time": "2022-12-27T09:40:48.673Z"
   },
   {
    "duration": 115,
    "start_time": "2022-12-27T09:40:53.570Z"
   },
   {
    "duration": 142,
    "start_time": "2022-12-27T09:41:13.642Z"
   },
   {
    "duration": 134,
    "start_time": "2022-12-27T09:41:20.490Z"
   },
   {
    "duration": 137,
    "start_time": "2022-12-27T09:43:11.239Z"
   },
   {
    "duration": 131,
    "start_time": "2022-12-27T09:43:20.231Z"
   },
   {
    "duration": 121,
    "start_time": "2022-12-27T09:43:28.719Z"
   },
   {
    "duration": 125,
    "start_time": "2022-12-27T09:43:38.032Z"
   },
   {
    "duration": 120,
    "start_time": "2022-12-27T09:43:42.265Z"
   },
   {
    "duration": 130,
    "start_time": "2022-12-27T09:43:48.689Z"
   },
   {
    "duration": 1210,
    "start_time": "2022-12-27T09:57:44.517Z"
   },
   {
    "duration": 3,
    "start_time": "2022-12-27T09:58:27.582Z"
   },
   {
    "duration": 31,
    "start_time": "2022-12-27T09:58:29.217Z"
   },
   {
    "duration": 11,
    "start_time": "2022-12-27T09:59:20.845Z"
   },
   {
    "duration": 9,
    "start_time": "2022-12-27T09:59:26.668Z"
   },
   {
    "duration": 8,
    "start_time": "2022-12-27T09:59:31.884Z"
   },
   {
    "duration": 176,
    "start_time": "2022-12-27T09:59:58.387Z"
   },
   {
    "duration": 4,
    "start_time": "2022-12-27T09:59:59.562Z"
   },
   {
    "duration": 296,
    "start_time": "2022-12-27T10:00:00.463Z"
   },
   {
    "duration": 18,
    "start_time": "2022-12-27T10:00:04.770Z"
   },
   {
    "duration": 32,
    "start_time": "2022-12-27T10:07:34.694Z"
   },
   {
    "duration": 30,
    "start_time": "2022-12-27T10:07:47.841Z"
   },
   {
    "duration": 33,
    "start_time": "2022-12-27T10:08:03.386Z"
   },
   {
    "duration": 39,
    "start_time": "2022-12-27T10:08:07.547Z"
   },
   {
    "duration": 31,
    "start_time": "2022-12-27T10:08:34.467Z"
   },
   {
    "duration": 31,
    "start_time": "2022-12-27T10:08:45.483Z"
   },
   {
    "duration": 4,
    "start_time": "2022-12-27T10:23:42.078Z"
   },
   {
    "duration": 286,
    "start_time": "2022-12-27T10:23:43.062Z"
   },
   {
    "duration": 19,
    "start_time": "2022-12-27T10:23:44.721Z"
   },
   {
    "duration": 4,
    "start_time": "2022-12-27T10:24:18.824Z"
   },
   {
    "duration": 297,
    "start_time": "2022-12-27T10:24:19.322Z"
   },
   {
    "duration": 21,
    "start_time": "2022-12-27T10:24:19.904Z"
   },
   {
    "duration": 6,
    "start_time": "2022-12-27T10:28:24.258Z"
   },
   {
    "duration": 131,
    "start_time": "2022-12-27T10:28:27.149Z"
   },
   {
    "duration": 183,
    "start_time": "2022-12-27T10:28:28.921Z"
   },
   {
    "duration": 123,
    "start_time": "2022-12-27T10:28:30.393Z"
   },
   {
    "duration": 20,
    "start_time": "2022-12-27T10:35:31.618Z"
   },
   {
    "duration": 23,
    "start_time": "2022-12-27T10:35:39.417Z"
   },
   {
    "duration": 7,
    "start_time": "2022-12-27T10:36:49.539Z"
   },
   {
    "duration": 13,
    "start_time": "2022-12-27T10:37:04.530Z"
   },
   {
    "duration": 13,
    "start_time": "2022-12-27T10:37:24.530Z"
   },
   {
    "duration": 3,
    "start_time": "2022-12-27T10:47:42.200Z"
   },
   {
    "duration": 116,
    "start_time": "2022-12-27T10:47:42.860Z"
   },
   {
    "duration": 6,
    "start_time": "2022-12-27T10:47:48.256Z"
   },
   {
    "duration": 13,
    "start_time": "2022-12-27T10:47:49.873Z"
   },
   {
    "duration": 277,
    "start_time": "2022-12-27T10:47:50.442Z"
   },
   {
    "duration": 5,
    "start_time": "2022-12-27T10:47:51.100Z"
   },
   {
    "duration": 3,
    "start_time": "2022-12-27T10:47:57.869Z"
   },
   {
    "duration": 135,
    "start_time": "2022-12-27T10:47:57.874Z"
   },
   {
    "duration": 16,
    "start_time": "2022-12-27T10:47:58.011Z"
   },
   {
    "duration": 4,
    "start_time": "2022-12-27T10:47:58.029Z"
   },
   {
    "duration": 6,
    "start_time": "2022-12-27T10:47:58.035Z"
   },
   {
    "duration": 6,
    "start_time": "2022-12-27T10:47:58.043Z"
   },
   {
    "duration": 109,
    "start_time": "2022-12-27T10:47:58.051Z"
   },
   {
    "duration": 2661,
    "start_time": "2022-12-27T10:47:58.162Z"
   },
   {
    "duration": 23,
    "start_time": "2022-12-27T10:48:00.825Z"
   },
   {
    "duration": 38,
    "start_time": "2022-12-27T10:48:00.850Z"
   },
   {
    "duration": 17,
    "start_time": "2022-12-27T10:48:00.891Z"
   },
   {
    "duration": 18,
    "start_time": "2022-12-27T10:48:00.909Z"
   },
   {
    "duration": 12,
    "start_time": "2022-12-27T10:48:00.929Z"
   },
   {
    "duration": 15,
    "start_time": "2022-12-27T10:48:00.943Z"
   },
   {
    "duration": 30,
    "start_time": "2022-12-27T10:48:00.960Z"
   },
   {
    "duration": 37,
    "start_time": "2022-12-27T10:48:00.992Z"
   },
   {
    "duration": 34,
    "start_time": "2022-12-27T10:48:01.031Z"
   },
   {
    "duration": 44,
    "start_time": "2022-12-27T10:48:01.067Z"
   },
   {
    "duration": 59,
    "start_time": "2022-12-27T10:48:01.113Z"
   },
   {
    "duration": 26,
    "start_time": "2022-12-27T10:48:01.174Z"
   },
   {
    "duration": 5,
    "start_time": "2022-12-27T10:48:01.201Z"
   },
   {
    "duration": 28,
    "start_time": "2022-12-27T10:48:01.208Z"
   },
   {
    "duration": 15,
    "start_time": "2022-12-27T10:48:01.238Z"
   },
   {
    "duration": 42,
    "start_time": "2022-12-27T10:48:01.255Z"
   },
   {
    "duration": 16,
    "start_time": "2022-12-27T10:48:01.299Z"
   },
   {
    "duration": 19,
    "start_time": "2022-12-27T10:48:01.316Z"
   },
   {
    "duration": 241,
    "start_time": "2022-12-27T10:48:01.338Z"
   },
   {
    "duration": 6,
    "start_time": "2022-12-27T10:48:01.581Z"
   },
   {
    "duration": 35,
    "start_time": "2022-12-27T10:48:01.591Z"
   },
   {
    "duration": 6,
    "start_time": "2022-12-27T10:48:01.627Z"
   },
   {
    "duration": 146,
    "start_time": "2022-12-27T10:48:01.634Z"
   },
   {
    "duration": 139,
    "start_time": "2022-12-27T10:48:01.781Z"
   },
   {
    "duration": 155,
    "start_time": "2022-12-27T10:48:01.922Z"
   },
   {
    "duration": 9,
    "start_time": "2022-12-27T10:48:02.080Z"
   },
   {
    "duration": 16,
    "start_time": "2022-12-27T10:48:02.090Z"
   },
   {
    "duration": 5,
    "start_time": "2022-12-27T10:48:02.107Z"
   },
   {
    "duration": 21,
    "start_time": "2022-12-27T10:48:02.114Z"
   },
   {
    "duration": 305,
    "start_time": "2022-12-27T10:48:02.137Z"
   },
   {
    "duration": 5,
    "start_time": "2022-12-27T10:48:02.444Z"
   },
   {
    "duration": 32,
    "start_time": "2022-12-27T10:48:02.451Z"
   },
   {
    "duration": 73,
    "start_time": "2022-12-27T10:48:02.485Z"
   },
   {
    "duration": 2612,
    "start_time": "2022-12-27T10:48:02.559Z"
   },
   {
    "duration": 115,
    "start_time": "2022-12-27T10:48:05.173Z"
   },
   {
    "duration": 141,
    "start_time": "2022-12-27T10:48:05.289Z"
   },
   {
    "duration": 143,
    "start_time": "2022-12-27T10:48:05.432Z"
   },
   {
    "duration": 130,
    "start_time": "2022-12-27T10:48:05.577Z"
   },
   {
    "duration": 210,
    "start_time": "2022-12-27T10:48:05.709Z"
   },
   {
    "duration": 11,
    "start_time": "2022-12-27T10:48:05.921Z"
   },
   {
    "duration": 31,
    "start_time": "2022-12-27T10:48:05.934Z"
   },
   {
    "duration": 278,
    "start_time": "2022-12-27T10:48:05.967Z"
   },
   {
    "duration": 203,
    "start_time": "2022-12-27T10:48:06.247Z"
   },
   {
    "duration": 224,
    "start_time": "2022-12-27T10:48:06.452Z"
   },
   {
    "duration": 200,
    "start_time": "2022-12-27T10:48:06.678Z"
   },
   {
    "duration": 7,
    "start_time": "2022-12-27T10:48:06.880Z"
   },
   {
    "duration": 31,
    "start_time": "2022-12-27T10:48:06.888Z"
   },
   {
    "duration": 52,
    "start_time": "2022-12-27T10:48:06.921Z"
   },
   {
    "duration": 29,
    "start_time": "2022-12-27T10:48:06.975Z"
   },
   {
    "duration": 11,
    "start_time": "2022-12-27T10:48:07.006Z"
   },
   {
    "duration": 20,
    "start_time": "2022-12-27T10:48:07.018Z"
   },
   {
    "duration": 169,
    "start_time": "2022-12-27T10:48:07.040Z"
   },
   {
    "duration": 3,
    "start_time": "2022-12-27T10:48:07.211Z"
   },
   {
    "duration": 342,
    "start_time": "2022-12-27T10:48:07.216Z"
   },
   {
    "duration": 24,
    "start_time": "2022-12-27T10:48:07.560Z"
   },
   {
    "duration": 38,
    "start_time": "2022-12-27T10:48:07.586Z"
   },
   {
    "duration": 4,
    "start_time": "2022-12-27T11:43:28.053Z"
   },
   {
    "duration": 125,
    "start_time": "2022-12-27T11:43:28.058Z"
   },
   {
    "duration": 16,
    "start_time": "2022-12-27T11:43:28.204Z"
   },
   {
    "duration": 74,
    "start_time": "2022-12-27T11:43:28.222Z"
   },
   {
    "duration": 23,
    "start_time": "2022-12-27T11:43:28.298Z"
   },
   {
    "duration": 6,
    "start_time": "2022-12-27T11:43:28.323Z"
   },
   {
    "duration": 121,
    "start_time": "2022-12-27T11:43:28.331Z"
   },
   {
    "duration": 2859,
    "start_time": "2022-12-27T11:43:28.454Z"
   },
   {
    "duration": 23,
    "start_time": "2022-12-27T11:43:31.315Z"
   },
   {
    "duration": 9,
    "start_time": "2022-12-27T11:43:31.339Z"
   },
   {
    "duration": 10,
    "start_time": "2022-12-27T11:43:31.350Z"
   },
   {
    "duration": 4,
    "start_time": "2022-12-27T11:43:31.362Z"
   },
   {
    "duration": 9,
    "start_time": "2022-12-27T11:43:31.368Z"
   },
   {
    "duration": 30,
    "start_time": "2022-12-27T11:43:31.379Z"
   },
   {
    "duration": 11,
    "start_time": "2022-12-27T11:43:31.411Z"
   },
   {
    "duration": 12,
    "start_time": "2022-12-27T11:43:31.424Z"
   },
   {
    "duration": 4,
    "start_time": "2022-12-27T11:43:31.438Z"
   },
   {
    "duration": 6,
    "start_time": "2022-12-27T11:43:31.444Z"
   },
   {
    "duration": 37,
    "start_time": "2022-12-27T11:43:31.451Z"
   },
   {
    "duration": 40,
    "start_time": "2022-12-27T11:43:31.489Z"
   },
   {
    "duration": 6,
    "start_time": "2022-12-27T11:43:31.530Z"
   },
   {
    "duration": 11,
    "start_time": "2022-12-27T11:43:31.538Z"
   },
   {
    "duration": 14,
    "start_time": "2022-12-27T11:43:31.550Z"
   },
   {
    "duration": 70,
    "start_time": "2022-12-27T11:43:31.569Z"
   },
   {
    "duration": 21,
    "start_time": "2022-12-27T11:43:31.641Z"
   },
   {
    "duration": 42,
    "start_time": "2022-12-27T11:43:31.664Z"
   },
   {
    "duration": 224,
    "start_time": "2022-12-27T11:43:31.708Z"
   },
   {
    "duration": 6,
    "start_time": "2022-12-27T11:43:31.933Z"
   },
   {
    "duration": 28,
    "start_time": "2022-12-27T11:43:31.940Z"
   },
   {
    "duration": 5,
    "start_time": "2022-12-27T11:43:31.969Z"
   },
   {
    "duration": 132,
    "start_time": "2022-12-27T11:43:31.975Z"
   },
   {
    "duration": 131,
    "start_time": "2022-12-27T11:43:32.109Z"
   },
   {
    "duration": 133,
    "start_time": "2022-12-27T11:43:32.242Z"
   },
   {
    "duration": 9,
    "start_time": "2022-12-27T11:43:32.377Z"
   },
   {
    "duration": 18,
    "start_time": "2022-12-27T11:43:32.387Z"
   },
   {
    "duration": 9,
    "start_time": "2022-12-27T11:43:32.407Z"
   },
   {
    "duration": 15,
    "start_time": "2022-12-27T11:43:32.418Z"
   },
   {
    "duration": 293,
    "start_time": "2022-12-27T11:43:32.434Z"
   },
   {
    "duration": 5,
    "start_time": "2022-12-27T11:43:32.728Z"
   },
   {
    "duration": 28,
    "start_time": "2022-12-27T11:43:32.735Z"
   },
   {
    "duration": 92,
    "start_time": "2022-12-27T11:43:32.764Z"
   },
   {
    "duration": 2553,
    "start_time": "2022-12-27T11:43:32.858Z"
   },
   {
    "duration": 137,
    "start_time": "2022-12-27T11:43:35.413Z"
   },
   {
    "duration": 146,
    "start_time": "2022-12-27T11:43:35.552Z"
   },
   {
    "duration": 145,
    "start_time": "2022-12-27T11:43:35.705Z"
   },
   {
    "duration": 629,
    "start_time": "2022-12-27T11:43:35.852Z"
   },
   {
    "duration": 188,
    "start_time": "2022-12-27T11:43:36.483Z"
   },
   {
    "duration": 7,
    "start_time": "2022-12-27T11:43:36.673Z"
   },
   {
    "duration": 26,
    "start_time": "2022-12-27T11:43:36.681Z"
   },
   {
    "duration": 214,
    "start_time": "2022-12-27T11:43:36.709Z"
   },
   {
    "duration": 194,
    "start_time": "2022-12-27T11:43:36.925Z"
   },
   {
    "duration": 195,
    "start_time": "2022-12-27T11:43:37.120Z"
   },
   {
    "duration": 243,
    "start_time": "2022-12-27T11:43:37.316Z"
   },
   {
    "duration": 10,
    "start_time": "2022-12-27T11:43:37.561Z"
   },
   {
    "duration": 16,
    "start_time": "2022-12-27T11:43:37.573Z"
   },
   {
    "duration": 63,
    "start_time": "2022-12-27T11:43:37.591Z"
   },
   {
    "duration": 30,
    "start_time": "2022-12-27T11:43:37.655Z"
   },
   {
    "duration": 14,
    "start_time": "2022-12-27T11:43:37.687Z"
   },
   {
    "duration": 50,
    "start_time": "2022-12-27T11:43:37.702Z"
   },
   {
    "duration": 174,
    "start_time": "2022-12-27T11:43:37.753Z"
   },
   {
    "duration": 4,
    "start_time": "2022-12-27T11:43:37.929Z"
   },
   {
    "duration": 278,
    "start_time": "2022-12-27T11:43:37.934Z"
   },
   {
    "duration": 18,
    "start_time": "2022-12-27T11:43:38.214Z"
   },
   {
    "duration": 5,
    "start_time": "2022-12-27T11:43:38.234Z"
   },
   {
    "duration": 1224,
    "start_time": "2022-12-28T05:38:26.883Z"
   },
   {
    "duration": 150,
    "start_time": "2022-12-28T05:38:28.110Z"
   },
   {
    "duration": 28,
    "start_time": "2022-12-28T05:38:28.262Z"
   },
   {
    "duration": 30,
    "start_time": "2022-12-28T05:38:28.293Z"
   },
   {
    "duration": 20,
    "start_time": "2022-12-28T05:38:28.325Z"
   },
   {
    "duration": 21,
    "start_time": "2022-12-28T05:38:28.347Z"
   },
   {
    "duration": 121,
    "start_time": "2022-12-28T05:38:28.370Z"
   },
   {
    "duration": 2477,
    "start_time": "2022-12-28T05:38:28.493Z"
   },
   {
    "duration": 27,
    "start_time": "2022-12-28T05:38:30.972Z"
   },
   {
    "duration": 35,
    "start_time": "2022-12-28T05:38:31.002Z"
   },
   {
    "duration": 11,
    "start_time": "2022-12-28T05:38:31.039Z"
   },
   {
    "duration": 30,
    "start_time": "2022-12-28T05:38:31.052Z"
   },
   {
    "duration": 26,
    "start_time": "2022-12-28T05:38:31.084Z"
   },
   {
    "duration": 28,
    "start_time": "2022-12-28T05:38:31.112Z"
   },
   {
    "duration": 13,
    "start_time": "2022-12-28T05:38:31.142Z"
   },
   {
    "duration": 24,
    "start_time": "2022-12-28T05:38:31.157Z"
   },
   {
    "duration": 15,
    "start_time": "2022-12-28T05:38:31.183Z"
   },
   {
    "duration": 13,
    "start_time": "2022-12-28T05:38:31.200Z"
   },
   {
    "duration": 37,
    "start_time": "2022-12-28T05:38:31.215Z"
   },
   {
    "duration": 29,
    "start_time": "2022-12-28T05:38:31.253Z"
   },
   {
    "duration": 6,
    "start_time": "2022-12-28T05:38:31.284Z"
   },
   {
    "duration": 31,
    "start_time": "2022-12-28T05:38:31.292Z"
   },
   {
    "duration": 26,
    "start_time": "2022-12-28T05:38:31.325Z"
   },
   {
    "duration": 46,
    "start_time": "2022-12-28T05:38:31.353Z"
   },
   {
    "duration": 14,
    "start_time": "2022-12-28T05:38:31.401Z"
   },
   {
    "duration": 28,
    "start_time": "2022-12-28T05:38:31.416Z"
   },
   {
    "duration": 239,
    "start_time": "2022-12-28T05:38:31.445Z"
   },
   {
    "duration": 7,
    "start_time": "2022-12-28T05:38:31.688Z"
   },
   {
    "duration": 42,
    "start_time": "2022-12-28T05:38:31.696Z"
   },
   {
    "duration": 5,
    "start_time": "2022-12-28T05:38:31.740Z"
   },
   {
    "duration": 150,
    "start_time": "2022-12-28T05:38:31.747Z"
   },
   {
    "duration": 148,
    "start_time": "2022-12-28T05:38:31.899Z"
   },
   {
    "duration": 133,
    "start_time": "2022-12-28T05:38:32.049Z"
   },
   {
    "duration": 8,
    "start_time": "2022-12-28T05:38:32.184Z"
   },
   {
    "duration": 11,
    "start_time": "2022-12-28T05:38:32.193Z"
   },
   {
    "duration": 12,
    "start_time": "2022-12-28T05:38:32.206Z"
   },
   {
    "duration": 32,
    "start_time": "2022-12-28T05:38:32.220Z"
   },
   {
    "duration": 509,
    "start_time": "2022-12-28T05:38:32.253Z"
   },
   {
    "duration": 5,
    "start_time": "2022-12-28T05:38:32.764Z"
   },
   {
    "duration": 39,
    "start_time": "2022-12-28T05:38:32.771Z"
   },
   {
    "duration": 75,
    "start_time": "2022-12-28T05:38:32.812Z"
   },
   {
    "duration": 2837,
    "start_time": "2022-12-28T05:38:32.889Z"
   },
   {
    "duration": 134,
    "start_time": "2022-12-28T05:38:35.735Z"
   },
   {
    "duration": 155,
    "start_time": "2022-12-28T05:38:35.870Z"
   },
   {
    "duration": 158,
    "start_time": "2022-12-28T05:38:36.027Z"
   },
   {
    "duration": 139,
    "start_time": "2022-12-28T05:38:36.187Z"
   },
   {
    "duration": 220,
    "start_time": "2022-12-28T05:38:36.328Z"
   },
   {
    "duration": 10,
    "start_time": "2022-12-28T05:38:36.550Z"
   },
   {
    "duration": 19,
    "start_time": "2022-12-28T05:38:36.561Z"
   },
   {
    "duration": 267,
    "start_time": "2022-12-28T05:38:36.582Z"
   },
   {
    "duration": 225,
    "start_time": "2022-12-28T05:38:36.851Z"
   },
   {
    "duration": 238,
    "start_time": "2022-12-28T05:38:37.077Z"
   },
   {
    "duration": 221,
    "start_time": "2022-12-28T05:38:37.317Z"
   },
   {
    "duration": 17,
    "start_time": "2022-12-28T05:38:37.540Z"
   },
   {
    "duration": 34,
    "start_time": "2022-12-28T05:38:37.559Z"
   },
   {
    "duration": 46,
    "start_time": "2022-12-28T05:38:37.595Z"
   },
   {
    "duration": 20,
    "start_time": "2022-12-28T05:38:37.643Z"
   },
   {
    "duration": 9,
    "start_time": "2022-12-28T05:38:37.665Z"
   },
   {
    "duration": 21,
    "start_time": "2022-12-28T05:38:37.676Z"
   },
   {
    "duration": 207,
    "start_time": "2022-12-28T05:38:37.698Z"
   },
   {
    "duration": 3,
    "start_time": "2022-12-28T05:38:37.907Z"
   },
   {
    "duration": 438,
    "start_time": "2022-12-28T05:38:37.911Z"
   },
   {
    "duration": 20,
    "start_time": "2022-12-28T05:38:38.351Z"
   },
   {
    "duration": 6,
    "start_time": "2022-12-28T05:38:38.373Z"
   },
   {
    "duration": 6,
    "start_time": "2022-12-28T05:39:32.220Z"
   },
   {
    "duration": 18,
    "start_time": "2022-12-28T05:39:44.271Z"
   },
   {
    "duration": 76,
    "start_time": "2022-12-28T05:39:48.473Z"
   }
  ],
  "kernelspec": {
   "display_name": "Python 3 (ipykernel)",
   "language": "python",
   "name": "python3"
  },
  "language_info": {
   "codemirror_mode": {
    "name": "ipython",
    "version": 3
   },
   "file_extension": ".py",
   "mimetype": "text/x-python",
   "name": "python",
   "nbconvert_exporter": "python",
   "pygments_lexer": "ipython3",
   "version": "3.9.13"
  },
  "toc": {
   "base_numbering": 1,
   "nav_menu": {},
   "number_sections": true,
   "sideBar": true,
   "skip_h1_title": true,
   "title_cell": "Table of Contents",
   "title_sidebar": "Contents",
   "toc_cell": false,
   "toc_position": {},
   "toc_section_display": true,
   "toc_window_display": false
  }
 },
 "nbformat": 4,
 "nbformat_minor": 2
}
